{
 "cells": [
  {
   "cell_type": "code",
   "execution_count": 1,
   "source": [
    "import pandas as pd\n",
    "import pickle\n",
    "import numpy as np"
   ],
   "outputs": [],
   "metadata": {}
  },
  {
   "cell_type": "code",
   "execution_count": 2,
   "source": [
    "filename = str(\"opt_parameters_bo/param_lgb_r2_only_risky_events.pkl\")\n",
    "a_file = open(filename, \"rb\")\n",
    "opt_parameters1 = pickle.load(a_file)\n",
    "filename = str(\"opt_parameters_bo/param_lgb_adjusted_r2_only_risky_events.pkl\")\n",
    "a_file = open(filename, \"rb\")\n",
    "opt_parameters2 = pickle.load(a_file)\n",
    "filename = str(\"opt_parameters_bo/param_lgb_rmse_only_risky_events.pkl\")\n",
    "a_file = open(filename, \"rb\")\n",
    "opt_parameters3 = pickle.load(a_file)\n",
    "filename = str(\"opt_parameters_bo/param_lgb_mae_only_risky_events.pkl\")\n",
    "a_file = open(filename, \"rb\")\n",
    "opt_parameters4 = pickle.load(a_file)"
   ],
   "outputs": [],
   "metadata": {}
  },
  {
   "cell_type": "code",
   "execution_count": 3,
   "source": [
    "opt1_r2=0.9065216981160615\n",
    "#opt1_mse=0.05162276773487457\n",
    "opt1_rmse=0.22720644298715337\n",
    "opt1_mae=0.15151940051952298\n",
    "\n",
    "opt2_r2=0.9128162317124225\n",
    "#opt1_mse=0.048146653606830674\n",
    "opt2_rmse=0.21942345728483698\n",
    "opt2_mae=0.14351557692983558\n",
    "\n",
    "opt3_r2=0.254487801906082\n",
    "#opt1_mse=0.4117041310132178\n",
    "opt3_rmse=0.641641746625964\n",
    "opt3_mae=0.489841295923374\n",
    "\n",
    "opt4_r2=0.2807037850744043\n",
    "#opt1_mse=0.3972265294440325\n",
    "opt4_rmse=0.6302590970736023\n",
    "opt4_mae=0.48367812404495336\n",
    "\n"
   ],
   "outputs": [],
   "metadata": {}
  },
  {
   "cell_type": "code",
   "execution_count": 4,
   "source": [
    "opt_parameters1[\"r2\"]=opt1_r2\n",
    "opt_parameters1[\"rmse\"]=opt1_rmse\n",
    "opt_parameters1[\"mae\"]=opt1_mae\n",
    "opt_parameters2[\"r2\"]=opt2_r2\n",
    "opt_parameters2[\"rmse\"]=opt2_rmse\n",
    "opt_parameters2[\"mae\"]=opt2_mae\n",
    "opt_parameters3[\"r2\"]=opt3_r2\n",
    "opt_parameters3[\"rmse\"]=opt3_rmse\n",
    "opt_parameters3[\"mae\"]=opt3_mae\n",
    "opt_parameters4[\"r2\"]=opt4_r2\n",
    "opt_parameters4[\"rmse\"]=opt4_rmse\n",
    "opt_parameters4[\"mae\"]=opt4_mae"
   ],
   "outputs": [],
   "metadata": {}
  },
  {
   "cell_type": "code",
   "execution_count": 5,
   "source": [
    "opt_parameters1"
   ],
   "outputs": [
    {
     "output_type": "execute_result",
     "data": {
      "text/plain": [
       "{'bagging_fraction': 0.8693796326739299,\n",
       " 'feature_fraction': 0.8168553631386558,\n",
       " 'learning_rate': 0.0464041915708064,\n",
       " 'max_depth': 13.009239099967989,\n",
       " 'min_child_weight': 10.19191247052637,\n",
       " 'min_split_gain': 0.004793459623540061,\n",
       " 'num_leaves': 93.8608845306346,\n",
       " 'num_iterations': 300,\n",
       " 'n_estimators': 1000,\n",
       " 'r2': 0.9065216981160615,\n",
       " 'rmse': 0.22720644298715337,\n",
       " 'mae': 0.15151940051952298}"
      ]
     },
     "metadata": {},
     "execution_count": 5
    }
   ],
   "metadata": {}
  },
  {
   "cell_type": "code",
   "execution_count": 6,
   "source": [
    "my_dict={\"r2\":opt_parameters1,\n",
    "\"adj_r2\":opt_parameters2,\n",
    "\"rmse\":opt_parameters3,\n",
    "\"mae\": opt_parameters4}"
   ],
   "outputs": [],
   "metadata": {}
  },
  {
   "cell_type": "code",
   "execution_count": 7,
   "source": [
    "list(opt_parameters1.keys())"
   ],
   "outputs": [
    {
     "output_type": "execute_result",
     "data": {
      "text/plain": [
       "['bagging_fraction',\n",
       " 'feature_fraction',\n",
       " 'learning_rate',\n",
       " 'max_depth',\n",
       " 'min_child_weight',\n",
       " 'min_split_gain',\n",
       " 'num_leaves',\n",
       " 'num_iterations',\n",
       " 'n_estimators',\n",
       " 'r2',\n",
       " 'rmse',\n",
       " 'mae']"
      ]
     },
     "metadata": {},
     "execution_count": 7
    }
   ],
   "metadata": {}
  },
  {
   "cell_type": "code",
   "execution_count": 8,
   "source": [
    "pd.DataFrame.from_dict(opt_parameters1,orient=\"index\")"
   ],
   "outputs": [
    {
     "output_type": "execute_result",
     "data": {
      "text/html": [
       "<div>\n",
       "<style scoped>\n",
       "    .dataframe tbody tr th:only-of-type {\n",
       "        vertical-align: middle;\n",
       "    }\n",
       "\n",
       "    .dataframe tbody tr th {\n",
       "        vertical-align: top;\n",
       "    }\n",
       "\n",
       "    .dataframe thead th {\n",
       "        text-align: right;\n",
       "    }\n",
       "</style>\n",
       "<table border=\"1\" class=\"dataframe\">\n",
       "  <thead>\n",
       "    <tr style=\"text-align: right;\">\n",
       "      <th></th>\n",
       "      <th>0</th>\n",
       "    </tr>\n",
       "  </thead>\n",
       "  <tbody>\n",
       "    <tr>\n",
       "      <th>bagging_fraction</th>\n",
       "      <td>0.869380</td>\n",
       "    </tr>\n",
       "    <tr>\n",
       "      <th>feature_fraction</th>\n",
       "      <td>0.816855</td>\n",
       "    </tr>\n",
       "    <tr>\n",
       "      <th>learning_rate</th>\n",
       "      <td>0.046404</td>\n",
       "    </tr>\n",
       "    <tr>\n",
       "      <th>max_depth</th>\n",
       "      <td>13.009239</td>\n",
       "    </tr>\n",
       "    <tr>\n",
       "      <th>min_child_weight</th>\n",
       "      <td>10.191912</td>\n",
       "    </tr>\n",
       "    <tr>\n",
       "      <th>min_split_gain</th>\n",
       "      <td>0.004793</td>\n",
       "    </tr>\n",
       "    <tr>\n",
       "      <th>num_leaves</th>\n",
       "      <td>93.860885</td>\n",
       "    </tr>\n",
       "    <tr>\n",
       "      <th>num_iterations</th>\n",
       "      <td>300.000000</td>\n",
       "    </tr>\n",
       "    <tr>\n",
       "      <th>n_estimators</th>\n",
       "      <td>1000.000000</td>\n",
       "    </tr>\n",
       "    <tr>\n",
       "      <th>r2</th>\n",
       "      <td>0.906522</td>\n",
       "    </tr>\n",
       "    <tr>\n",
       "      <th>rmse</th>\n",
       "      <td>0.227206</td>\n",
       "    </tr>\n",
       "    <tr>\n",
       "      <th>mae</th>\n",
       "      <td>0.151519</td>\n",
       "    </tr>\n",
       "  </tbody>\n",
       "</table>\n",
       "</div>"
      ],
      "text/plain": [
       "                            0\n",
       "bagging_fraction     0.869380\n",
       "feature_fraction     0.816855\n",
       "learning_rate        0.046404\n",
       "max_depth           13.009239\n",
       "min_child_weight    10.191912\n",
       "min_split_gain       0.004793\n",
       "num_leaves          93.860885\n",
       "num_iterations     300.000000\n",
       "n_estimators      1000.000000\n",
       "r2                   0.906522\n",
       "rmse                 0.227206\n",
       "mae                  0.151519"
      ]
     },
     "metadata": {},
     "execution_count": 8
    }
   ],
   "metadata": {}
  },
  {
   "cell_type": "code",
   "execution_count": 10,
   "source": [
    "export_df=np.round(pd.DataFrame.from_dict(my_dict,orient=\"columns\"),5)\n",
    "export_df"
   ],
   "outputs": [
    {
     "output_type": "execute_result",
     "data": {
      "text/html": [
       "<div>\n",
       "<style scoped>\n",
       "    .dataframe tbody tr th:only-of-type {\n",
       "        vertical-align: middle;\n",
       "    }\n",
       "\n",
       "    .dataframe tbody tr th {\n",
       "        vertical-align: top;\n",
       "    }\n",
       "\n",
       "    .dataframe thead th {\n",
       "        text-align: right;\n",
       "    }\n",
       "</style>\n",
       "<table border=\"1\" class=\"dataframe\">\n",
       "  <thead>\n",
       "    <tr style=\"text-align: right;\">\n",
       "      <th></th>\n",
       "      <th>r2</th>\n",
       "      <th>adj_r2</th>\n",
       "      <th>rmse</th>\n",
       "      <th>mae</th>\n",
       "    </tr>\n",
       "  </thead>\n",
       "  <tbody>\n",
       "    <tr>\n",
       "      <th>bagging_fraction</th>\n",
       "      <td>0.86938</td>\n",
       "      <td>0.97478</td>\n",
       "      <td>0.73737</td>\n",
       "      <td>0.97637</td>\n",
       "    </tr>\n",
       "    <tr>\n",
       "      <th>feature_fraction</th>\n",
       "      <td>0.81686</td>\n",
       "      <td>0.89466</td>\n",
       "      <td>0.14326</td>\n",
       "      <td>0.12835</td>\n",
       "    </tr>\n",
       "    <tr>\n",
       "      <th>learning_rate</th>\n",
       "      <td>0.04640</td>\n",
       "      <td>0.04834</td>\n",
       "      <td>0.00104</td>\n",
       "      <td>0.00101</td>\n",
       "    </tr>\n",
       "    <tr>\n",
       "      <th>max_depth</th>\n",
       "      <td>13.00924</td>\n",
       "      <td>11.68591</td>\n",
       "      <td>9.98829</td>\n",
       "      <td>12.51807</td>\n",
       "    </tr>\n",
       "    <tr>\n",
       "      <th>min_child_weight</th>\n",
       "      <td>10.19191</td>\n",
       "      <td>13.35592</td>\n",
       "      <td>34.69916</td>\n",
       "      <td>34.73333</td>\n",
       "    </tr>\n",
       "    <tr>\n",
       "      <th>min_split_gain</th>\n",
       "      <td>0.00479</td>\n",
       "      <td>0.00796</td>\n",
       "      <td>0.08288</td>\n",
       "      <td>0.00620</td>\n",
       "    </tr>\n",
       "    <tr>\n",
       "      <th>num_leaves</th>\n",
       "      <td>93.86088</td>\n",
       "      <td>108.61068</td>\n",
       "      <td>107.76779</td>\n",
       "      <td>93.03441</td>\n",
       "    </tr>\n",
       "    <tr>\n",
       "      <th>num_iterations</th>\n",
       "      <td>300.00000</td>\n",
       "      <td>300.00000</td>\n",
       "      <td>300.00000</td>\n",
       "      <td>300.00000</td>\n",
       "    </tr>\n",
       "    <tr>\n",
       "      <th>n_estimators</th>\n",
       "      <td>1000.00000</td>\n",
       "      <td>1000.00000</td>\n",
       "      <td>1000.00000</td>\n",
       "      <td>1000.00000</td>\n",
       "    </tr>\n",
       "    <tr>\n",
       "      <th>r2</th>\n",
       "      <td>0.90652</td>\n",
       "      <td>0.91282</td>\n",
       "      <td>0.25449</td>\n",
       "      <td>0.28070</td>\n",
       "    </tr>\n",
       "    <tr>\n",
       "      <th>rmse</th>\n",
       "      <td>0.22721</td>\n",
       "      <td>0.21942</td>\n",
       "      <td>0.64164</td>\n",
       "      <td>0.63026</td>\n",
       "    </tr>\n",
       "    <tr>\n",
       "      <th>mae</th>\n",
       "      <td>0.15152</td>\n",
       "      <td>0.14352</td>\n",
       "      <td>0.48984</td>\n",
       "      <td>0.48368</td>\n",
       "    </tr>\n",
       "  </tbody>\n",
       "</table>\n",
       "</div>"
      ],
      "text/plain": [
       "                          r2      adj_r2        rmse         mae\n",
       "bagging_fraction     0.86938     0.97478     0.73737     0.97637\n",
       "feature_fraction     0.81686     0.89466     0.14326     0.12835\n",
       "learning_rate        0.04640     0.04834     0.00104     0.00101\n",
       "max_depth           13.00924    11.68591     9.98829    12.51807\n",
       "min_child_weight    10.19191    13.35592    34.69916    34.73333\n",
       "min_split_gain       0.00479     0.00796     0.08288     0.00620\n",
       "num_leaves          93.86088   108.61068   107.76779    93.03441\n",
       "num_iterations     300.00000   300.00000   300.00000   300.00000\n",
       "n_estimators      1000.00000  1000.00000  1000.00000  1000.00000\n",
       "r2                   0.90652     0.91282     0.25449     0.28070\n",
       "rmse                 0.22721     0.21942     0.64164     0.63026\n",
       "mae                  0.15152     0.14352     0.48984     0.48368"
      ]
     },
     "metadata": {},
     "execution_count": 10
    }
   ],
   "metadata": {}
  },
  {
   "cell_type": "code",
   "execution_count": 11,
   "source": [
    "export_df.to_csv(\"./report/opt_parameters.csv\")"
   ],
   "outputs": [],
   "metadata": {}
  },
  {
   "cell_type": "code",
   "execution_count": null,
   "source": [],
   "outputs": [],
   "metadata": {}
  }
 ],
 "metadata": {
  "orig_nbformat": 4,
  "language_info": {
   "name": "python",
   "version": "3.9.7",
   "mimetype": "text/x-python",
   "codemirror_mode": {
    "name": "ipython",
    "version": 3
   },
   "pygments_lexer": "ipython3",
   "nbconvert_exporter": "python",
   "file_extension": ".py"
  },
  "kernelspec": {
   "name": "python3",
   "display_name": "Python 3.9.7 64-bit (conda)"
  },
  "interpreter": {
   "hash": "6a229a7624aaca0bb64305d3a84f8aa11ea5a7132c8c99f127f8b64a260fdc5c"
  }
 },
 "nbformat": 4,
 "nbformat_minor": 2
}