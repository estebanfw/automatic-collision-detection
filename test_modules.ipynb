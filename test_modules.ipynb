{
 "cells": [
  {
   "cell_type": "code",
   "execution_count": 1,
   "metadata": {},
   "outputs": [],
   "source": [
    "import pandas as pd\n",
    "import numpy as np\n",
    "import matplotlib.pyplot as plt\n"
   ]
  },
  {
   "cell_type": "code",
   "execution_count": 2,
   "metadata": {},
   "outputs": [],
   "source": [
    "import cdm_etl as etl"
   ]
  },
  {
   "cell_type": "code",
   "execution_count": 3,
   "metadata": {},
   "outputs": [],
   "source": [
    "df=pd.read_csv(\"./data/train_data.csv\")"
   ]
  },
  {
   "cell_type": "code",
   "execution_count": 4,
   "metadata": {},
   "outputs": [],
   "source": [
    "#list(df.columns)"
   ]
  },
  {
   "cell_type": "code",
   "execution_count": 5,
   "metadata": {},
   "outputs": [],
   "source": [
    "fields=[\"event_id\",\n",
    " \"time_to_tca\",\n",
    " \"miss_distance\",\n",
    " \"risk\",\n",
    " \"relative_speed\",\n",
    " \"relative_position_r\",\n",
    "\"relative_position_t\",\n",
    "\"relative_position_n\",\n",
    "\"relative_velocity_r\",\n",
    "\"relative_velocity_t\",\n",
    "\"relative_velocity_n\",\n",
    "\"mahalanobis_distance\"]\n"
   ]
  },
  {
   "cell_type": "code",
   "execution_count": 6,
   "metadata": {},
   "outputs": [],
   "source": [
    "remove_fields=[]\n",
    "for column in list(df.columns):\n",
    "    if column not in fields:\n",
    "        remove_fields.append(column)\n"
   ]
  },
  {
   "cell_type": "code",
   "execution_count": 7,
   "metadata": {},
   "outputs": [],
   "source": [
    "df=df.drop(columns=remove_fields, axis=1)"
   ]
  },
  {
   "cell_type": "code",
   "execution_count": 8,
   "metadata": {},
   "outputs": [
    {
     "data": {
      "text/plain": [
       "Index(['event_id', 'time_to_tca', 'risk', 'miss_distance', 'relative_speed',\n",
       "       'relative_position_r', 'relative_position_t', 'relative_position_n',\n",
       "       'relative_velocity_r', 'relative_velocity_t', 'relative_velocity_n',\n",
       "       'mahalanobis_distance'],\n",
       "      dtype='object')"
      ]
     },
     "execution_count": 8,
     "metadata": {},
     "output_type": "execute_result"
    }
   ],
   "source": [
    "df.columns"
   ]
  },
  {
   "cell_type": "code",
   "execution_count": 9,
   "metadata": {},
   "outputs": [],
   "source": [
    "df['pc']=df['risk'].apply(lambda x: 10**x)\n"
   ]
  },
  {
   "cell_type": "code",
   "execution_count": 10,
   "metadata": {},
   "outputs": [
    {
     "data": {
      "text/plain": [
       "array([6.238e-11, 4.408e-11, 4.512e-11, ..., 8.651e-08, 7.787e-08,\n",
       "       8.586e-08])"
      ]
     },
     "execution_count": 10,
     "metadata": {},
     "output_type": "execute_result"
    }
   ],
   "source": [
    "df[\"pc\"].unique()"
   ]
  },
  {
   "cell_type": "code",
   "execution_count": 11,
   "metadata": {},
   "outputs": [],
   "source": [
    "class Event():\n",
    "    def __init__(self, event_id):\n",
    "        self.event_id = event_id\n",
    "\n",
    "class Cdm(Event):\n",
    "    def __init__(self, event_id,time_to_tca, miss_distance,pc, relative_speed,\n",
    "       relative_position_r, relative_position_t, relative_position_n,\n",
    "       relative_velocity_r, relative_velocity_t, relative_velocity_n,\n",
    "       mahalanobis_distance):\n",
    "        super().__init__(event_id)\n",
    "\n",
    "        self.time_to_tca = time_to_tca\n",
    "        self.miss_distance = miss_distance\n",
    "        self.pc = pc\n",
    "        self.relative_position_r = relative_position_r\n",
    "        self.relative_position_t = relative_position_t\n",
    "        self.relative_position_n = relative_position_n\n",
    "        self.relative_velocity_r = relative_velocity_r\n",
    "        self.relative_velocity_t = relative_velocity_t\n",
    "        self.relative_velocity_n = relative_velocity_n\n",
    "        self.relative_speed = relative_speed\n",
    "        self.mahalanobis_distance = mahalanobis_distance\n",
    "    "
   ]
  },
  {
   "cell_type": "code",
   "execution_count": 12,
   "metadata": {},
   "outputs": [],
   "source": [
    "# Create list of Event objects\n",
    "events_list=[]\n",
    "for event in  df.event_id.unique():\n",
    "    events_list.append(Event(event))"
   ]
  },
  {
   "cell_type": "code",
   "execution_count": 13,
   "metadata": {},
   "outputs": [],
   "source": [
    "# Create list of Cdm objects\n",
    "cdm_list=[]\n",
    "for row in df.index:\n",
    "    cdm_object = Cdm(event_id=df[\"event_id\"][row],\n",
    "                time_to_tca = df[\"time_to_tca\"][row],\n",
    "                miss_distance = df[\"miss_distance\"][row],\n",
    "                pc = df[\"pc\"][row],\n",
    "                relative_position_r = df[\"relative_position_r\"][row],\n",
    "                relative_position_t = df[\"relative_position_t\"][row],\n",
    "                relative_position_n = df[\"relative_position_n\"][row],\n",
    "                relative_velocity_r = df[\"relative_velocity_r\"][row],\n",
    "                relative_velocity_t = df[\"relative_velocity_t\"][row],\n",
    "                relative_velocity_n = df[\"relative_velocity_n\"][row],\n",
    "                relative_speed = df[\"relative_speed\"][row],\n",
    "                mahalanobis_distance = df[\"mahalanobis_distance\"][row]\n",
    "              )\n",
    "    cdm_list.append(cdm_object)\n"
   ]
  },
  {
   "cell_type": "code",
   "execution_count": 14,
   "metadata": {},
   "outputs": [
    {
     "name": "stdout",
     "output_type": "stream",
     "text": [
      "{'event_id': 0, 'time_to_tca': 1.566798229166667, 'miss_distance': 14923.0, 'pc': 6.238e-11, 'relative_position_r': 453.8, 'relative_position_t': 5976.6, 'relative_position_n': -13666.8, 'relative_velocity_r': -7.2, 'relative_velocity_t': -12637.0, 'relative_velocity_n': -5525.9, 'relative_speed': 13792.0, 'mahalanobis_distance': 129.4309510080351}\n",
      "{'event_id': 0, 'time_to_tca': 1.2074935069444446, 'miss_distance': 14544.0, 'pc': 4.4079999999999785e-11, 'relative_position_r': 474.3, 'relative_position_t': 5821.2, 'relative_position_n': -13319.8, 'relative_velocity_r': -7.0, 'relative_velocity_t': -12637.0, 'relative_velocity_n': -5525.9, 'relative_speed': 13792.0, 'mahalanobis_distance': 271.54042407269867}\n",
      "{'event_id': 0, 'time_to_tca': 0.9521927430555556, 'miss_distance': 14475.0, 'pc': 4.511999999999973e-11, 'relative_position_r': 474.6, 'relative_position_t': 5796.2, 'relative_position_n': -13256.1, 'relative_velocity_r': -7.0, 'relative_velocity_t': -12637.0, 'relative_velocity_n': -5525.9, 'relative_speed': 13792.0, 'mahalanobis_distance': 347.89929171725373}\n",
      "{'event_id': 0, 'time_to_tca': 0.579669363425926, 'miss_distance': 14579.0, 'pc': 4.5940000000000076e-11, 'relative_position_r': 472.7, 'relative_position_t': 5838.9, 'relative_position_n': -13350.7, 'relative_velocity_r': -7.0, 'relative_velocity_t': -12637.0, 'relative_velocity_n': -5525.9, 'relative_speed': 13792.0, 'mahalanobis_distance': 435.37662634146017}\n",
      "{'event_id': 0, 'time_to_tca': 0.2578060416666667, 'miss_distance': 14510.0, 'pc': 4.061999999999993e-11, 'relative_position_r': 478.7, 'relative_position_t': 5811.1, 'relative_position_n': -13288.0, 'relative_velocity_r': -7.0, 'relative_velocity_t': -12637.0, 'relative_velocity_n': -5525.9, 'relative_speed': 13792.0, 'mahalanobis_distance': 469.1788021120601}\n"
     ]
    }
   ],
   "source": [
    "x=[]\n",
    "y=[]\n",
    "z=[]\n",
    "for report in cdm_list:\n",
    "    if report.event_id == 0:\n",
    "        print(report.__dict__)\n",
    "        x.append(-report.time_to_tca)\n",
    "        y.append(report.miss_distance)\n",
    "        z.append(report.relative_position_t)"
   ]
  },
  {
   "cell_type": "code",
   "execution_count": 15,
   "metadata": {},
   "outputs": [
    {
     "data": {
      "image/png": "[encoded data removed]",
      "text/plain": [
       "<Figure size 640x480 with 1 Axes>"
      ]
     },
     "metadata": {},
     "output_type": "display_data"
    }
   ],
   "source": [
    "plt.scatter(x,y)\n",
    "plt.plot(x, y, linewidth=2.0)\n",
    "plt.grid(True)\n",
    "plt.xlabel(\"Time to TCA [days]\")\n",
    "plt.ylabel(\"Miss distance [m]\")\n",
    "plt.title(\"Miss distance vs time to TCA\")\n",
    "\n",
    "plt.show()"
   ]
  },
  {
   "cell_type": "code",
   "execution_count": 16,
   "metadata": {},
   "outputs": [
    {
     "data": {
      "text/plain": [
       "Text(0.5, 1.0, 'Relative distance vs time to TCA')"
      ]
     },
     "execution_count": 16,
     "metadata": {},
     "output_type": "execute_result"
    },
    {
     "data": {
      "image/png": "[encoded data removed]",
      "text/plain": [
       "<Figure size 640x480 with 1 Axes>"
      ]
     },
     "metadata": {},
     "output_type": "display_data"
    }
   ],
   "source": [
    "plt.scatter(x,z)\n",
    "plt.plot(x, z, linewidth=2.0)\n",
    "plt.grid(True)\n",
    "plt.xlabel(\"Time to TCA [days]\")\n",
    "plt.ylabel(\"Relative distance [m]\")\n",
    "plt.title(\"Relative distance vs time to TCA\")"
   ]
  },
  {
   "cell_type": "code",
   "execution_count": 17,
   "metadata": {},
   "outputs": [],
   "source": [
    "def get_cdm_from_event_id(event):\n",
    "    \"\"\"Get cdm based on event_id\n",
    "\n",
    "    Args:\n",
    "        event (int): event_id\n",
    "    \"\"\"\n",
    "    x1=[]\n",
    "    #print(f\"CDMs for event_id:{event}\")\n",
    "    for report in cdm_list:\n",
    "        if report.event_id == event:\n",
    "            #print(report.__dict__)\n",
    "            x1.append(report.__dict__)\n",
    "    return x1"
   ]
  },
  {
   "cell_type": "code",
   "execution_count": 18,
   "metadata": {},
   "outputs": [],
   "source": [
    "output=get_cdm_from_event_id(1)"
   ]
  },
  {
   "cell_type": "code",
   "execution_count": 19,
   "metadata": {},
   "outputs": [
    {
     "data": {
      "text/plain": [
       "[{'event_id': 1,\n",
       "  'time_to_tca': 6.530455104166666,\n",
       "  'miss_distance': 2392.0,\n",
       "  'pc': 2.7460000000000085e-08,\n",
       "  'relative_position_r': 74.3,\n",
       "  'relative_position_t': 2317.1,\n",
       "  'relative_position_n': -589.4,\n",
       "  'relative_velocity_r': 25.9,\n",
       "  'relative_velocity_t': -847.8,\n",
       "  'relative_velocity_n': -3328.2,\n",
       "  'relative_speed': 3434.0,\n",
       "  'mahalanobis_distance': 4.183398475973807},\n",
       " {'event_id': 1,\n",
       "  'time_to_tca': 5.561646087962963,\n",
       "  'miss_distance': 3587.0,\n",
       "  'pc': 4.833999999999996e-10,\n",
       "  'relative_position_r': 99.0,\n",
       "  'relative_position_t': 3475.4,\n",
       "  'relative_position_n': -885.1,\n",
       "  'relative_velocity_r': 24.7,\n",
       "  'relative_velocity_t': -847.8,\n",
       "  'relative_velocity_n': -3328.2,\n",
       "  'relative_speed': 3434.0,\n",
       "  'mahalanobis_distance': 7.26771861745376},\n",
       " {'event_id': 1,\n",
       "  'time_to_tca': 5.226503738425926,\n",
       "  'miss_distance': 7882.0,\n",
       "  'pc': 3.77999999999999e-08,\n",
       "  'relative_position_r': -50.0,\n",
       "  'relative_position_t': -7638.3,\n",
       "  'relative_position_n': 1945.7,\n",
       "  'relative_velocity_r': 36.8,\n",
       "  'relative_velocity_t': -847.7,\n",
       "  'relative_velocity_n': -3328.2,\n",
       "  'relative_speed': 3434.0,\n",
       "  'mahalanobis_distance': 11.197928282955704},\n",
       " {'event_id': 1,\n",
       "  'time_to_tca': 3.570013078703704,\n",
       "  'miss_distance': 26899.0,\n",
       "  'pc': 5.647999999999989e-10,\n",
       "  'relative_position_r': -82.0,\n",
       "  'relative_position_t': -26067.0,\n",
       "  'relative_position_n': 6638.2,\n",
       "  'relative_velocity_r': 56.8,\n",
       "  'relative_velocity_t': -847.8,\n",
       "  'relative_velocity_n': -3328.2,\n",
       "  'relative_speed': 3434.0,\n",
       "  'mahalanobis_distance': 62.058087054076864}]"
      ]
     },
     "execution_count": 19,
     "metadata": {},
     "output_type": "execute_result"
    }
   ],
   "source": [
    "output"
   ]
  },
  {
   "cell_type": "code",
   "execution_count": 20,
   "metadata": {},
   "outputs": [],
   "source": [
    "cdm_sorted=sorted(output, key=lambda x: x['time_to_tca'],reverse=True)\n",
    "# last element is the closest to the TCA"
   ]
  },
  {
   "cell_type": "code",
   "execution_count": 21,
   "metadata": {},
   "outputs": [
    {
     "data": {
      "text/plain": [
       "[{'event_id': 1,\n",
       "  'time_to_tca': 6.530455104166666,\n",
       "  'miss_distance': 2392.0,\n",
       "  'pc': 2.7460000000000085e-08,\n",
       "  'relative_position_r': 74.3,\n",
       "  'relative_position_t': 2317.1,\n",
       "  'relative_position_n': -589.4,\n",
       "  'relative_velocity_r': 25.9,\n",
       "  'relative_velocity_t': -847.8,\n",
       "  'relative_velocity_n': -3328.2,\n",
       "  'relative_speed': 3434.0,\n",
       "  'mahalanobis_distance': 4.183398475973807},\n",
       " {'event_id': 1,\n",
       "  'time_to_tca': 5.561646087962963,\n",
       "  'miss_distance': 3587.0,\n",
       "  'pc': 4.833999999999996e-10,\n",
       "  'relative_position_r': 99.0,\n",
       "  'relative_position_t': 3475.4,\n",
       "  'relative_position_n': -885.1,\n",
       "  'relative_velocity_r': 24.7,\n",
       "  'relative_velocity_t': -847.8,\n",
       "  'relative_velocity_n': -3328.2,\n",
       "  'relative_speed': 3434.0,\n",
       "  'mahalanobis_distance': 7.26771861745376},\n",
       " {'event_id': 1,\n",
       "  'time_to_tca': 5.226503738425926,\n",
       "  'miss_distance': 7882.0,\n",
       "  'pc': 3.77999999999999e-08,\n",
       "  'relative_position_r': -50.0,\n",
       "  'relative_position_t': -7638.3,\n",
       "  'relative_position_n': 1945.7,\n",
       "  'relative_velocity_r': 36.8,\n",
       "  'relative_velocity_t': -847.7,\n",
       "  'relative_velocity_n': -3328.2,\n",
       "  'relative_speed': 3434.0,\n",
       "  'mahalanobis_distance': 11.197928282955704},\n",
       " {'event_id': 1,\n",
       "  'time_to_tca': 3.570013078703704,\n",
       "  'miss_distance': 26899.0,\n",
       "  'pc': 5.647999999999989e-10,\n",
       "  'relative_position_r': -82.0,\n",
       "  'relative_position_t': -26067.0,\n",
       "  'relative_position_n': 6638.2,\n",
       "  'relative_velocity_r': 56.8,\n",
       "  'relative_velocity_t': -847.8,\n",
       "  'relative_velocity_n': -3328.2,\n",
       "  'relative_speed': 3434.0,\n",
       "  'mahalanobis_distance': 62.058087054076864}]"
      ]
     },
     "execution_count": 21,
     "metadata": {},
     "output_type": "execute_result"
    }
   ],
   "source": [
    "cdm_sorted"
   ]
  },
  {
   "cell_type": "code",
   "execution_count": 22,
   "metadata": {},
   "outputs": [
    {
     "data": {
      "text/plain": [
       "[{'event_id': 1,\n",
       "  'time_to_tca': 6.530455104166666,\n",
       "  'miss_distance': 2392.0,\n",
       "  'pc': 2.7460000000000085e-08,\n",
       "  'relative_position_r': 74.3,\n",
       "  'relative_position_t': 2317.1,\n",
       "  'relative_position_n': -589.4,\n",
       "  'relative_velocity_r': 25.9,\n",
       "  'relative_velocity_t': -847.8,\n",
       "  'relative_velocity_n': -3328.2,\n",
       "  'relative_speed': 3434.0,\n",
       "  'mahalanobis_distance': 4.183398475973807},\n",
       " {'event_id': 1,\n",
       "  'time_to_tca': 5.561646087962963,\n",
       "  'miss_distance': 3587.0,\n",
       "  'pc': 4.833999999999996e-10,\n",
       "  'relative_position_r': 99.0,\n",
       "  'relative_position_t': 3475.4,\n",
       "  'relative_position_n': -885.1,\n",
       "  'relative_velocity_r': 24.7,\n",
       "  'relative_velocity_t': -847.8,\n",
       "  'relative_velocity_n': -3328.2,\n",
       "  'relative_speed': 3434.0,\n",
       "  'mahalanobis_distance': 7.26771861745376},\n",
       " {'event_id': 1,\n",
       "  'time_to_tca': 5.226503738425926,\n",
       "  'miss_distance': 7882.0,\n",
       "  'pc': 3.77999999999999e-08,\n",
       "  'relative_position_r': -50.0,\n",
       "  'relative_position_t': -7638.3,\n",
       "  'relative_position_n': 1945.7,\n",
       "  'relative_velocity_r': 36.8,\n",
       "  'relative_velocity_t': -847.7,\n",
       "  'relative_velocity_n': -3328.2,\n",
       "  'relative_speed': 3434.0,\n",
       "  'mahalanobis_distance': 11.197928282955704},\n",
       " {'event_id': 1,\n",
       "  'time_to_tca': 3.570013078703704,\n",
       "  'miss_distance': 26899.0,\n",
       "  'pc': 5.647999999999989e-10,\n",
       "  'relative_position_r': -82.0,\n",
       "  'relative_position_t': -26067.0,\n",
       "  'relative_position_n': 6638.2,\n",
       "  'relative_velocity_r': 56.8,\n",
       "  'relative_velocity_t': -847.8,\n",
       "  'relative_velocity_n': -3328.2,\n",
       "  'relative_speed': 3434.0,\n",
       "  'mahalanobis_distance': 62.058087054076864}]"
      ]
     },
     "execution_count": 22,
     "metadata": {},
     "output_type": "execute_result"
    }
   ],
   "source": [
    "cdm_sorted"
   ]
  },
  {
   "cell_type": "code",
   "execution_count": 23,
   "metadata": {},
   "outputs": [
    {
     "data": {
      "text/plain": [
       "{'event_id': 1,\n",
       " 'time_to_tca': 3.570013078703704,\n",
       " 'miss_distance': 26899.0,\n",
       " 'pc': 5.647999999999989e-10,\n",
       " 'relative_position_r': -82.0,\n",
       " 'relative_position_t': -26067.0,\n",
       " 'relative_position_n': 6638.2,\n",
       " 'relative_velocity_r': 56.8,\n",
       " 'relative_velocity_t': -847.8,\n",
       " 'relative_velocity_n': -3328.2,\n",
       " 'relative_speed': 3434.0,\n",
       " 'mahalanobis_distance': 62.058087054076864}"
      ]
     },
     "execution_count": 23,
     "metadata": {},
     "output_type": "execute_result"
    }
   ],
   "source": [
    "cdm_sorted.pop()"
   ]
  },
  {
   "cell_type": "code",
   "execution_count": 24,
   "metadata": {},
   "outputs": [],
   "source": [
    "def get_closest_cdm_to_tca_by_event_id(event):    \n",
    "    list_of_cdm_of_event=get_cdm_from_event_id(event)\n",
    "    cdm_sorted=sorted(list_of_cdm_of_event, key=lambda x: x['time_to_tca'],reverse=True)\n",
    "    closest_cdm_to_tca=cdm_sorted.pop()\n",
    "    #print(f\"CDM closest to TCA for event_id: {event}\")\n",
    "    #print(closest_cdm_to_tca)\n",
    "    return closest_cdm_to_tca"
   ]
  },
  {
   "cell_type": "code",
   "execution_count": 25,
   "metadata": {},
   "outputs": [
    {
     "data": {
      "text/plain": [
       "{'event_id': 1,\n",
       " 'time_to_tca': 3.570013078703704,\n",
       " 'miss_distance': 26899.0,\n",
       " 'pc': 5.647999999999989e-10,\n",
       " 'relative_position_r': -82.0,\n",
       " 'relative_position_t': -26067.0,\n",
       " 'relative_position_n': 6638.2,\n",
       " 'relative_velocity_r': 56.8,\n",
       " 'relative_velocity_t': -847.8,\n",
       " 'relative_velocity_n': -3328.2,\n",
       " 'relative_speed': 3434.0,\n",
       " 'mahalanobis_distance': 62.058087054076864}"
      ]
     },
     "execution_count": 25,
     "metadata": {},
     "output_type": "execute_result"
    }
   ],
   "source": [
    "get_closest_cdm_to_tca_by_event_id(1)"
   ]
  },
  {
   "cell_type": "code",
   "execution_count": 26,
   "metadata": {},
   "outputs": [],
   "source": [
    "events_list_dict=[]\n",
    "for event in events_list:\n",
    "    events_list_dict.append(event.__dict__)"
   ]
  },
  {
   "cell_type": "code",
   "execution_count": 27,
   "metadata": {},
   "outputs": [],
   "source": [
    "def classify_with_last_available_cdm(event:int,pc:float=0.00001,md:float=400):\n",
    "    cdm=get_closest_cdm_to_tca_by_event_id(event)\n",
    "    if  cdm.get(\"pc\") > pc and cdm.get(\"miss_distance\") < md:\n",
    "        events_list_dict[event][\"maneuver_required\"]=True\n",
    "    else:\n",
    "        events_list_dict[event][\"maneuver_required\"]=False\n",
    "    return events_list_dict[event]\n"
   ]
  },
  {
   "cell_type": "code",
   "execution_count": 28,
   "metadata": {},
   "outputs": [
    {
     "data": {
      "text/plain": [
       "{'event_id': 2, 'maneuver_required': False}"
      ]
     },
     "execution_count": 28,
     "metadata": {},
     "output_type": "execute_result"
    }
   ],
   "source": [
    "classify_with_last_available_cdm(2)"
   ]
  },
  {
   "cell_type": "code",
   "execution_count": 29,
   "metadata": {},
   "outputs": [
    {
     "data": {
      "text/plain": [
       "13154"
      ]
     },
     "execution_count": 29,
     "metadata": {},
     "output_type": "execute_result"
    }
   ],
   "source": [
    "len(events_list)"
   ]
  },
  {
   "cell_type": "code",
   "execution_count": 30,
   "metadata": {},
   "outputs": [
    {
     "data": {
      "text/plain": [
       "162634"
      ]
     },
     "execution_count": 30,
     "metadata": {},
     "output_type": "execute_result"
    }
   ],
   "source": [
    "len(cdm_list)"
   ]
  },
  {
   "cell_type": "code",
   "execution_count": 31,
   "metadata": {},
   "outputs": [],
   "source": [
    "for event in range(len(events_list)):\n",
    "    classify_with_last_available_cdm(event)\n"
   ]
  },
  {
   "cell_type": "code",
   "execution_count": 32,
   "metadata": {},
   "outputs": [],
   "source": [
    "list_of_events_that_requires_maneuver=[]\n",
    "for event in range(len(events_list)):\n",
    "    if events_list_dict[event].get(\"maneuver_required\"):\n",
    "        list_of_events_that_requires_maneuver.append(events_list_dict[event])"
   ]
  },
  {
   "cell_type": "code",
   "execution_count": 33,
   "metadata": {},
   "outputs": [
    {
     "data": {
      "text/plain": [
       "[{'event_id': 283, 'maneuver_required': True},\n",
       " {'event_id': 1148, 'maneuver_required': True},\n",
       " {'event_id': 2563, 'maneuver_required': True},\n",
       " {'event_id': 2958, 'maneuver_required': True},\n",
       " {'event_id': 3555, 'maneuver_required': True},\n",
       " {'event_id': 5185, 'maneuver_required': True},\n",
       " {'event_id': 6341, 'maneuver_required': True},\n",
       " {'event_id': 6561, 'maneuver_required': True},\n",
       " {'event_id': 7629, 'maneuver_required': True},\n",
       " {'event_id': 8664, 'maneuver_required': True},\n",
       " {'event_id': 8767, 'maneuver_required': True},\n",
       " {'event_id': 8863, 'maneuver_required': True},\n",
       " {'event_id': 9383, 'maneuver_required': True},\n",
       " {'event_id': 9411, 'maneuver_required': True},\n",
       " {'event_id': 10510, 'maneuver_required': True},\n",
       " {'event_id': 11953, 'maneuver_required': True},\n",
       " {'event_id': 12638, 'maneuver_required': True}]"
      ]
     },
     "execution_count": 33,
     "metadata": {},
     "output_type": "execute_result"
    }
   ],
   "source": [
    "list_of_events_that_requires_maneuver"
   ]
  },
  {
   "cell_type": "code",
   "execution_count": 34,
   "metadata": {},
   "outputs": [
    {
     "data": {
      "text/plain": [
       "[{'event_id': 1148,\n",
       "  'time_to_tca': 6.624041608796297,\n",
       "  'miss_distance': 210.0,\n",
       "  'pc': 0.0052949999999999985,\n",
       "  'relative_position_r': -1.8,\n",
       "  'relative_position_t': -28.8,\n",
       "  'relative_position_n': 208.7,\n",
       "  'relative_velocity_r': -35.9,\n",
       "  'relative_velocity_t': -14847.1,\n",
       "  'relative_velocity_n': -2032.8,\n",
       "  'relative_speed': 14985.0,\n",
       "  'mahalanobis_distance': 2.761335853117751},\n",
       " {'event_id': 1148,\n",
       "  'time_to_tca': 6.190766087962964,\n",
       "  'miss_distance': 206.0,\n",
       "  'pc': 0.002857999999999999,\n",
       "  'relative_position_r': 6.8,\n",
       "  'relative_position_t': -26.5,\n",
       "  'relative_position_n': 204.5,\n",
       "  'relative_velocity_r': -35.9,\n",
       "  'relative_velocity_t': -14847.2,\n",
       "  'relative_velocity_n': -2032.8,\n",
       "  'relative_speed': 14985.0,\n",
       "  'mahalanobis_distance': 3.04703911117885},\n",
       " {'event_id': 1148,\n",
       "  'time_to_tca': 5.876899803240741,\n",
       "  'miss_distance': 166.0,\n",
       "  'pc': 0.015579999999999997,\n",
       "  'relative_position_r': 4.4,\n",
       "  'relative_position_t': -23.5,\n",
       "  'relative_position_n': 164.5,\n",
       "  'relative_velocity_r': -35.9,\n",
       "  'relative_velocity_t': -14847.2,\n",
       "  'relative_velocity_n': -2032.8,\n",
       "  'relative_speed': 14985.0,\n",
       "  'mahalanobis_distance': 2.2182888278933173},\n",
       " {'event_id': 1148,\n",
       "  'time_to_tca': 5.602802476851852,\n",
       "  'miss_distance': 148.0,\n",
       "  'pc': 0.014759999999999999,\n",
       "  'relative_position_r': 0.8,\n",
       "  'relative_position_t': -22.7,\n",
       "  'relative_position_n': 147.2,\n",
       "  'relative_velocity_r': -35.9,\n",
       "  'relative_velocity_t': -14847.2,\n",
       "  'relative_velocity_n': -2032.8,\n",
       "  'relative_speed': 14985.0,\n",
       "  'mahalanobis_distance': 2.2322743665913207},\n",
       " {'event_id': 1148,\n",
       "  'time_to_tca': 5.24016337962963,\n",
       "  'miss_distance': 123.0,\n",
       "  'pc': 0.028450000000000007,\n",
       "  'relative_position_r': 3.9,\n",
       "  'relative_position_t': -14.1,\n",
       "  'relative_position_n': 122.4,\n",
       "  'relative_velocity_r': -35.9,\n",
       "  'relative_velocity_t': -14847.2,\n",
       "  'relative_velocity_n': -2032.8,\n",
       "  'relative_speed': 14985.0,\n",
       "  'mahalanobis_distance': 1.928293660329504},\n",
       " {'event_id': 1148,\n",
       "  'time_to_tca': 4.773357847222221,\n",
       "  'miss_distance': 119.0,\n",
       "  'pc': 0.02067000000000001,\n",
       "  'relative_position_r': -5.1,\n",
       "  'relative_position_t': -19.5,\n",
       "  'relative_position_n': 117.7,\n",
       "  'relative_velocity_r': -35.9,\n",
       "  'relative_velocity_t': -14847.2,\n",
       "  'relative_velocity_n': -2032.8,\n",
       "  'relative_speed': 14985.0,\n",
       "  'mahalanobis_distance': 2.2505643782766263}]"
      ]
     },
     "execution_count": 34,
     "metadata": {},
     "output_type": "execute_result"
    }
   ],
   "source": [
    "get_cdm_from_event_id(1148)"
   ]
  },
  {
   "cell_type": "code",
   "execution_count": null,
   "metadata": {},
   "outputs": [],
   "source": []
  }
 ],
 "metadata": {
  "kernelspec": {
   "display_name": "venv",
   "language": "python",
   "name": "python3"
  },
  "language_info": {
   "codemirror_mode": {
    "name": "ipython",
    "version": 3
   },
   "file_extension": ".py",
   "mimetype": "text/x-python",
   "name": "python",
   "nbconvert_exporter": "python",
   "pygments_lexer": "ipython3",
   "version": "3.11.6"
  }
 },
 "nbformat": 4,
 "nbformat_minor": 2
}
