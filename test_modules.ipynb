{
 "cells": [
  {
   "cell_type": "code",
   "execution_count": 1,
   "metadata": {},
   "outputs": [],
   "source": [
    "import pandas as pd\n"
   ]
  },
  {
   "cell_type": "code",
   "execution_count": 2,
   "metadata": {},
   "outputs": [],
   "source": [
    "import cdm_etl as etl"
   ]
  },
  {
   "cell_type": "code",
   "execution_count": 3,
   "metadata": {},
   "outputs": [],
   "source": [
    "df=pd.read_csv(\"./data/train_data.csv\")"
   ]
  },
  {
   "cell_type": "code",
   "execution_count": 4,
   "metadata": {},
   "outputs": [
    {
     "data": {
      "text/plain": [
       "['event_id',\n",
       " 'time_to_tca',\n",
       " 'mission_id',\n",
       " 'risk',\n",
       " 'max_risk_estimate',\n",
       " 'max_risk_scaling',\n",
       " 'miss_distance',\n",
       " 'relative_speed',\n",
       " 'relative_position_r',\n",
       " 'relative_position_t',\n",
       " 'relative_position_n',\n",
       " 'relative_velocity_r',\n",
       " 'relative_velocity_t',\n",
       " 'relative_velocity_n',\n",
       " 't_time_lastob_start',\n",
       " 't_time_lastob_end',\n",
       " 't_recommended_od_span',\n",
       " 't_actual_od_span',\n",
       " 't_obs_available',\n",
       " 't_obs_used',\n",
       " 't_residuals_accepted',\n",
       " 't_weighted_rms',\n",
       " 't_rcs_estimate',\n",
       " 't_cd_area_over_mass',\n",
       " 't_cr_area_over_mass',\n",
       " 't_sedr',\n",
       " 't_j2k_sma',\n",
       " 't_j2k_ecc',\n",
       " 't_j2k_inc',\n",
       " 't_ct_r',\n",
       " 't_cn_r',\n",
       " 't_cn_t',\n",
       " 't_crdot_r',\n",
       " 't_crdot_t',\n",
       " 't_crdot_n',\n",
       " 't_ctdot_r',\n",
       " 't_ctdot_t',\n",
       " 't_ctdot_n',\n",
       " 't_ctdot_rdot',\n",
       " 't_cndot_r',\n",
       " 't_cndot_t',\n",
       " 't_cndot_n',\n",
       " 't_cndot_rdot',\n",
       " 't_cndot_tdot',\n",
       " 'c_object_type',\n",
       " 'c_time_lastob_start',\n",
       " 'c_time_lastob_end',\n",
       " 'c_recommended_od_span',\n",
       " 'c_actual_od_span',\n",
       " 'c_obs_available',\n",
       " 'c_obs_used',\n",
       " 'c_residuals_accepted',\n",
       " 'c_weighted_rms',\n",
       " 'c_rcs_estimate',\n",
       " 'c_cd_area_over_mass',\n",
       " 'c_cr_area_over_mass',\n",
       " 'c_sedr',\n",
       " 'c_j2k_sma',\n",
       " 'c_j2k_ecc',\n",
       " 'c_j2k_inc',\n",
       " 'c_ct_r',\n",
       " 'c_cn_r',\n",
       " 'c_cn_t',\n",
       " 'c_crdot_r',\n",
       " 'c_crdot_t',\n",
       " 'c_crdot_n',\n",
       " 'c_ctdot_r',\n",
       " 'c_ctdot_t',\n",
       " 'c_ctdot_n',\n",
       " 'c_ctdot_rdot',\n",
       " 'c_cndot_r',\n",
       " 'c_cndot_t',\n",
       " 'c_cndot_n',\n",
       " 'c_cndot_rdot',\n",
       " 'c_cndot_tdot',\n",
       " 't_span',\n",
       " 'c_span',\n",
       " 't_h_apo',\n",
       " 't_h_per',\n",
       " 'c_h_apo',\n",
       " 'c_h_per',\n",
       " 'geocentric_latitude',\n",
       " 'azimuth',\n",
       " 'elevation',\n",
       " 'mahalanobis_distance',\n",
       " 't_position_covariance_det',\n",
       " 'c_position_covariance_det',\n",
       " 't_sigma_r',\n",
       " 'c_sigma_r',\n",
       " 't_sigma_t',\n",
       " 'c_sigma_t',\n",
       " 't_sigma_n',\n",
       " 'c_sigma_n',\n",
       " 't_sigma_rdot',\n",
       " 'c_sigma_rdot',\n",
       " 't_sigma_tdot',\n",
       " 'c_sigma_tdot',\n",
       " 't_sigma_ndot',\n",
       " 'c_sigma_ndot',\n",
       " 'F10',\n",
       " 'F3M',\n",
       " 'SSN',\n",
       " 'AP']"
      ]
     },
     "execution_count": 4,
     "metadata": {},
     "output_type": "execute_result"
    }
   ],
   "source": [
    "list(df.columns)"
   ]
  },
  {
   "cell_type": "code",
   "execution_count": 5,
   "metadata": {},
   "outputs": [],
   "source": [
    "fields=[\"event_id\",\n",
    " \"time_to_tca\",\n",
    " \"miss_distance\",\n",
    " \"relative_speed\",\n",
    " \"relative_position_r\",\n",
    "\"relative_position_t\",\n",
    "\"relative_position_n\",\n",
    "\"relative_velocity_r\",\n",
    "\"relative_velocity_t\",\n",
    "\"relative_velocity_n\",\n",
    "\"mahalanobis_distance\"]\n"
   ]
  },
  {
   "cell_type": "code",
   "execution_count": 6,
   "metadata": {},
   "outputs": [],
   "source": [
    "remove_fields=[]\n",
    "for column in list(df.columns):\n",
    "    if column not in fields:\n",
    "        remove_fields.append(column)\n"
   ]
  },
  {
   "cell_type": "code",
   "execution_count": 7,
   "metadata": {},
   "outputs": [],
   "source": [
    "df=df.drop(columns=remove_fields, axis=1)"
   ]
  },
  {
   "cell_type": "code",
   "execution_count": 8,
   "metadata": {},
   "outputs": [
    {
     "data": {
      "text/plain": [
       "Index(['event_id', 'time_to_tca', 'miss_distance', 'relative_speed',\n",
       "       'relative_position_r', 'relative_position_t', 'relative_position_n',\n",
       "       'relative_velocity_r', 'relative_velocity_t', 'relative_velocity_n',\n",
       "       'mahalanobis_distance'],\n",
       "      dtype='object')"
      ]
     },
     "execution_count": 8,
     "metadata": {},
     "output_type": "execute_result"
    }
   ],
   "source": [
    "df.columns"
   ]
  },
  {
   "cell_type": "code",
   "execution_count": 9,
   "metadata": {},
   "outputs": [],
   "source": [
    "class Event():\n",
    "    def __init__(self, event_id):\n",
    "        self.event_id = event_id\n",
    "\n",
    "class Cdm(Event):\n",
    "    def __init__(self, event_id,time_to_tca, miss_distance, relative_speed,\n",
    "       relative_position_r, relative_position_t, relative_position_n,\n",
    "       relative_velocity_r, relative_velocity_t, relative_velocity_n,\n",
    "       mahalanobis_distance):\n",
    "        super().__init__(event_id)\n",
    "\n",
    "        self.time_to_tca = time_to_tca\n",
    "        self.miss_distance = miss_distance\n",
    "        self.relative_position_r = relative_position_r\n",
    "        self.relative_position_t = relative_position_t\n",
    "        self.relative_position_n = relative_position_n\n",
    "        self.relative_velocity_r = relative_velocity_r\n",
    "        self.relative_velocity_t = relative_velocity_t\n",
    "        self.relative_velocity_n = relative_velocity_n\n",
    "        self.relative_speed = relative_speed\n",
    "        self.mahalanobis_distance = mahalanobis_distance\n",
    "    "
   ]
  },
  {
   "cell_type": "code",
   "execution_count": 10,
   "metadata": {},
   "outputs": [],
   "source": [
    "# Create list of Event objects\n",
    "events_list=[]\n",
    "for event in  df.event_id.unique():\n",
    "    events_list.append(Event(event))"
   ]
  },
  {
   "cell_type": "code",
   "execution_count": 11,
   "metadata": {},
   "outputs": [],
   "source": [
    "# Create list of Cdm objects\n",
    "cdm_list=[]\n",
    "for row in df.index:\n",
    "    cdm_object = Cdm(event_id=df[\"event_id\"][row],\n",
    "                time_to_tca = df[\"time_to_tca\"][row],\n",
    "                miss_distance = df[\"miss_distance\"][row],\n",
    "                relative_position_r = df[\"relative_position_r\"][row],\n",
    "                relative_position_t = df[\"relative_position_t\"][row],\n",
    "                relative_position_n = df[\"relative_position_n\"][row],\n",
    "                relative_velocity_r = df[\"relative_velocity_r\"][row],\n",
    "                relative_velocity_t = df[\"relative_velocity_t\"][row],\n",
    "                relative_velocity_n = df[\"relative_velocity_n\"][row],\n",
    "                relative_speed = df[\"relative_speed\"][row],\n",
    "                mahalanobis_distance = df[\"mahalanobis_distance\"][row]\n",
    "              )\n",
    "    cdm_list.append(cdm_object)\n"
   ]
  },
  {
   "cell_type": "code",
   "execution_count": 12,
   "metadata": {},
   "outputs": [
    {
     "data": {
      "text/plain": [
       "{'event_id': 0,\n",
       " 'time_to_tca': 1.2074935069444446,\n",
       " 'miss_distance': 14544.0,\n",
       " 'relative_position_r': 474.3,\n",
       " 'relative_position_t': 5821.2,\n",
       " 'relative_position_n': -13319.8,\n",
       " 'relative_velocity_r': -7.0,\n",
       " 'relative_velocity_t': -12637.0,\n",
       " 'relative_velocity_n': -5525.9,\n",
       " 'relative_speed': 13792.0,\n",
       " 'mahalanobis_distance': 271.54042407269867}"
      ]
     },
     "execution_count": 12,
     "metadata": {},
     "output_type": "execute_result"
    }
   ],
   "source": [
    "cdm_list[1].__dict__"
   ]
  },
  {
   "cell_type": "code",
   "execution_count": 13,
   "metadata": {},
   "outputs": [
    {
     "data": {
      "text/plain": [
       "{'event_id': 2,\n",
       " 'time_to_tca': 6.691610520833335,\n",
       " 'miss_distance': 22966.0,\n",
       " 'relative_position_r': -1161.1,\n",
       " 'relative_position_t': -6330.2,\n",
       " 'relative_position_n': 22046.3,\n",
       " 'relative_velocity_r': 15.8,\n",
       " 'relative_velocity_t': -13792.0,\n",
       " 'relative_velocity_n': -3957.1,\n",
       " 'relative_speed': 14348.0,\n",
       " 'mahalanobis_distance': 101.4294740739912}"
      ]
     },
     "execution_count": 13,
     "metadata": {},
     "output_type": "execute_result"
    }
   ],
   "source": [
    "cdm_list[10].__dict__"
   ]
  },
  {
   "cell_type": "code",
   "execution_count": null,
   "metadata": {},
   "outputs": [],
   "source": []
  }
 ],
 "metadata": {
  "kernelspec": {
   "display_name": "venv",
   "language": "python",
   "name": "python3"
  },
  "language_info": {
   "codemirror_mode": {
    "name": "ipython",
    "version": 3
   },
   "file_extension": ".py",
   "mimetype": "text/x-python",
   "name": "python",
   "nbconvert_exporter": "python",
   "pygments_lexer": "ipython3",
   "version": "3.11.6"
  }
 },
 "nbformat": 4,
 "nbformat_minor": 2
}
