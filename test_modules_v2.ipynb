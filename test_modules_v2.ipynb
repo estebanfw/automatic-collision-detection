{
 "cells": [
  {
   "cell_type": "code",
   "execution_count": 1,
   "metadata": {},
   "outputs": [],
   "source": [
    "import pandas as pd\n",
    "import numpy as np\n",
    "import matplotlib.pyplot as plt\n"
   ]
  },
  {
   "cell_type": "code",
   "execution_count": 2,
   "metadata": {},
   "outputs": [],
   "source": [
    "import data_handling as dh"
   ]
  },
  {
   "cell_type": "code",
   "execution_count": 3,
   "metadata": {},
   "outputs": [],
   "source": [
    "fields=[\"event_id\",\n",
    " \"time_to_tca\",\n",
    " \"miss_distance\",\n",
    " \"risk\",\n",
    " \"relative_speed\",\n",
    " \"relative_position_r\",\n",
    "\"relative_position_t\",\n",
    "\"relative_position_n\",\n",
    "\"relative_velocity_r\",\n",
    "\"relative_velocity_t\",\n",
    "\"relative_velocity_n\",\n",
    "\"mahalanobis_distance\"]\n",
    "path=\"./data/train_data.csv\""
   ]
  },
  {
   "cell_type": "code",
   "execution_count": 4,
   "metadata": {},
   "outputs": [],
   "source": [
    "# Load dataframe\n",
    "df=dh.load_data(path,fields)"
   ]
  },
  {
   "cell_type": "code",
   "execution_count": 5,
   "metadata": {},
   "outputs": [],
   "source": [
    "# Convert risk to decimals\n",
    "df=dh.convert_pc_from_log_to_dec(df)"
   ]
  },
  {
   "cell_type": "code",
   "execution_count": 6,
   "metadata": {},
   "outputs": [
    {
     "data": {
      "text/html": [
       "<div>\n",
       "<style scoped>\n",
       "    .dataframe tbody tr th:only-of-type {\n",
       "        vertical-align: middle;\n",
       "    }\n",
       "\n",
       "    .dataframe tbody tr th {\n",
       "        vertical-align: top;\n",
       "    }\n",
       "\n",
       "    .dataframe thead th {\n",
       "        text-align: right;\n",
       "    }\n",
       "</style>\n",
       "<table border=\"1\" class=\"dataframe\">\n",
       "  <thead>\n",
       "    <tr style=\"text-align: right;\">\n",
       "      <th></th>\n",
       "      <th>event_id</th>\n",
       "      <th>time_to_tca</th>\n",
       "      <th>miss_distance</th>\n",
       "      <th>relative_speed</th>\n",
       "      <th>relative_position_r</th>\n",
       "      <th>relative_position_t</th>\n",
       "      <th>relative_position_n</th>\n",
       "      <th>relative_velocity_r</th>\n",
       "      <th>relative_velocity_t</th>\n",
       "      <th>relative_velocity_n</th>\n",
       "      <th>mahalanobis_distance</th>\n",
       "      <th>pc</th>\n",
       "    </tr>\n",
       "  </thead>\n",
       "  <tbody>\n",
       "    <tr>\n",
       "      <th>0</th>\n",
       "      <td>0</td>\n",
       "      <td>1.566798</td>\n",
       "      <td>14923.0</td>\n",
       "      <td>13792.0</td>\n",
       "      <td>453.8</td>\n",
       "      <td>5976.6</td>\n",
       "      <td>-13666.8</td>\n",
       "      <td>-7.2</td>\n",
       "      <td>-12637.0</td>\n",
       "      <td>-5525.9</td>\n",
       "      <td>129.430951</td>\n",
       "      <td>6.238000e-11</td>\n",
       "    </tr>\n",
       "    <tr>\n",
       "      <th>1</th>\n",
       "      <td>0</td>\n",
       "      <td>1.207494</td>\n",
       "      <td>14544.0</td>\n",
       "      <td>13792.0</td>\n",
       "      <td>474.3</td>\n",
       "      <td>5821.2</td>\n",
       "      <td>-13319.8</td>\n",
       "      <td>-7.0</td>\n",
       "      <td>-12637.0</td>\n",
       "      <td>-5525.9</td>\n",
       "      <td>271.540424</td>\n",
       "      <td>4.408000e-11</td>\n",
       "    </tr>\n",
       "    <tr>\n",
       "      <th>2</th>\n",
       "      <td>0</td>\n",
       "      <td>0.952193</td>\n",
       "      <td>14475.0</td>\n",
       "      <td>13792.0</td>\n",
       "      <td>474.6</td>\n",
       "      <td>5796.2</td>\n",
       "      <td>-13256.1</td>\n",
       "      <td>-7.0</td>\n",
       "      <td>-12637.0</td>\n",
       "      <td>-5525.9</td>\n",
       "      <td>347.899292</td>\n",
       "      <td>4.512000e-11</td>\n",
       "    </tr>\n",
       "    <tr>\n",
       "      <th>3</th>\n",
       "      <td>0</td>\n",
       "      <td>0.579669</td>\n",
       "      <td>14579.0</td>\n",
       "      <td>13792.0</td>\n",
       "      <td>472.7</td>\n",
       "      <td>5838.9</td>\n",
       "      <td>-13350.7</td>\n",
       "      <td>-7.0</td>\n",
       "      <td>-12637.0</td>\n",
       "      <td>-5525.9</td>\n",
       "      <td>435.376626</td>\n",
       "      <td>4.594000e-11</td>\n",
       "    </tr>\n",
       "    <tr>\n",
       "      <th>4</th>\n",
       "      <td>0</td>\n",
       "      <td>0.257806</td>\n",
       "      <td>14510.0</td>\n",
       "      <td>13792.0</td>\n",
       "      <td>478.7</td>\n",
       "      <td>5811.1</td>\n",
       "      <td>-13288.0</td>\n",
       "      <td>-7.0</td>\n",
       "      <td>-12637.0</td>\n",
       "      <td>-5525.9</td>\n",
       "      <td>469.178802</td>\n",
       "      <td>4.062000e-11</td>\n",
       "    </tr>\n",
       "  </tbody>\n",
       "</table>\n",
       "</div>"
      ],
      "text/plain": [
       "   event_id  time_to_tca  miss_distance  relative_speed  relative_position_r  \\\n",
       "0         0     1.566798        14923.0         13792.0                453.8   \n",
       "1         0     1.207494        14544.0         13792.0                474.3   \n",
       "2         0     0.952193        14475.0         13792.0                474.6   \n",
       "3         0     0.579669        14579.0         13792.0                472.7   \n",
       "4         0     0.257806        14510.0         13792.0                478.7   \n",
       "\n",
       "   relative_position_t  relative_position_n  relative_velocity_r  \\\n",
       "0               5976.6             -13666.8                 -7.2   \n",
       "1               5821.2             -13319.8                 -7.0   \n",
       "2               5796.2             -13256.1                 -7.0   \n",
       "3               5838.9             -13350.7                 -7.0   \n",
       "4               5811.1             -13288.0                 -7.0   \n",
       "\n",
       "   relative_velocity_t  relative_velocity_n  mahalanobis_distance  \\\n",
       "0             -12637.0              -5525.9            129.430951   \n",
       "1             -12637.0              -5525.9            271.540424   \n",
       "2             -12637.0              -5525.9            347.899292   \n",
       "3             -12637.0              -5525.9            435.376626   \n",
       "4             -12637.0              -5525.9            469.178802   \n",
       "\n",
       "             pc  \n",
       "0  6.238000e-11  \n",
       "1  4.408000e-11  \n",
       "2  4.512000e-11  \n",
       "3  4.594000e-11  \n",
       "4  4.062000e-11  "
      ]
     },
     "execution_count": 6,
     "metadata": {},
     "output_type": "execute_result"
    }
   ],
   "source": [
    "df.head()"
   ]
  },
  {
   "cell_type": "code",
   "execution_count": 7,
   "metadata": {},
   "outputs": [],
   "source": [
    "from cdm import Event, Cdm\n",
    "    "
   ]
  },
  {
   "cell_type": "code",
   "execution_count": 8,
   "metadata": {},
   "outputs": [],
   "source": [
    "# Create list of Event objects\n",
    "events_list=[]\n",
    "for event in  df.event_id.unique():\n",
    "    events_list.append(Event(event))"
   ]
  },
  {
   "cell_type": "code",
   "execution_count": null,
   "metadata": {},
   "outputs": [],
   "source": [
    "# Create list of Cdm objects\n",
    "cdm_list=[]\n",
    "for row in df.index:\n",
    "    cdm_object = Cdm(event_id=df[\"event_id\"][row],\n",
    "                time_to_tca = df[\"time_to_tca\"][row],\n",
    "                miss_distance = df[\"miss_distance\"][row],\n",
    "                pc = df[\"pc\"][row],\n",
    "                relative_position_r = df[\"relative_position_r\"][row],\n",
    "                relative_position_t = df[\"relative_position_t\"][row],\n",
    "                relative_position_n = df[\"relative_position_n\"][row],\n",
    "                relative_velocity_r = df[\"relative_velocity_r\"][row],\n",
    "                relative_velocity_t = df[\"relative_velocity_t\"][row],\n",
    "                relative_velocity_n = df[\"relative_velocity_n\"][row],\n",
    "                relative_speed = df[\"relative_speed\"][row],\n",
    "                mahalanobis_distance = df[\"mahalanobis_distance\"][row]\n",
    "              )\n",
    "    cdm_list.append(cdm_object)\n"
   ]
  },
  {
   "cell_type": "code",
   "execution_count": null,
   "metadata": {},
   "outputs": [],
   "source": [
    "def get_cdm_from_event_id(event):\n",
    "    \"\"\"Get cdm based on event_id\n",
    "\n",
    "    Args:\n",
    "        event (int): event_id\n",
    "    \"\"\"\n",
    "    x1=[]\n",
    "    #print(f\"CDMs for event_id:{event}\")\n",
    "    for report in cdm_list:\n",
    "        if report.event_id == event:\n",
    "            #print(report.__dict__)\n",
    "            x1.append(report.__dict__)\n",
    "    return x1"
   ]
  },
  {
   "cell_type": "code",
   "execution_count": null,
   "metadata": {},
   "outputs": [],
   "source": [
    "def get_closest_cdm_to_tca_by_event_id(event):    \n",
    "    list_of_cdm_of_event=get_cdm_from_event_id(event)\n",
    "    cdm_sorted=sorted(list_of_cdm_of_event, key=lambda x: x['time_to_tca'],reverse=True)\n",
    "    closest_cdm_to_tca=cdm_sorted.pop()\n",
    "    #print(f\"CDM closest to TCA for event_id: {event}\")\n",
    "    #print(closest_cdm_to_tca)\n",
    "    return closest_cdm_to_tca"
   ]
  },
  {
   "cell_type": "code",
   "execution_count": null,
   "metadata": {},
   "outputs": [],
   "source": [
    "events_list_dict=[]\n",
    "for event in events_list:\n",
    "    events_list_dict.append(event.__dict__)"
   ]
  },
  {
   "cell_type": "code",
   "execution_count": null,
   "metadata": {},
   "outputs": [],
   "source": [
    "def classify_with_last_available_cdm(event:int,pc:float=0.00001,md:float=400):\n",
    "    cdm=get_closest_cdm_to_tca_by_event_id(event)\n",
    "    if  cdm.get(\"pc\") > pc and cdm.get(\"miss_distance\") < md:\n",
    "        events_list_dict[event][\"maneuver_required\"]=True\n",
    "    else:\n",
    "        events_list_dict[event][\"maneuver_required\"]=False\n",
    "    return events_list_dict[event]\n"
   ]
  },
  {
   "cell_type": "code",
   "execution_count": null,
   "metadata": {},
   "outputs": [],
   "source": [
    "list_of_dataframes=[]\n",
    "for event in range(len(events_list)):\n",
    "    event_df=pd.DataFrame(get_cdm_from_event_id(event)).iloc[:-1,:]\n",
    "    event_df[\"TARGET_MD\"]=get_closest_cdm_to_tca_by_event_id(event).get(\"miss_distance\")\n",
    "    list_of_dataframes.append(event_df)\n"
   ]
  },
  {
   "cell_type": "code",
   "execution_count": null,
   "metadata": {},
   "outputs": [],
   "source": [
    "result = pd.concat(list_of_dataframes)\n"
   ]
  },
  {
   "cell_type": "code",
   "execution_count": null,
   "metadata": {},
   "outputs": [],
   "source": [
    "result.head()"
   ]
  },
  {
   "cell_type": "code",
   "execution_count": null,
   "metadata": {},
   "outputs": [],
   "source": [
    "result.tail()"
   ]
  },
  {
   "cell_type": "code",
   "execution_count": null,
   "metadata": {},
   "outputs": [],
   "source": [
    "result.to_pickle(\"./dataframe.pkl\")"
   ]
  },
  {
   "cell_type": "code",
   "execution_count": 9,
   "metadata": {},
   "outputs": [],
   "source": [
    "hola=pd.read_pickle(\"./dataframe_prueba.pkl\") "
   ]
  },
  {
   "cell_type": "code",
   "execution_count": 13,
   "metadata": {},
   "outputs": [
    {
     "data": {
      "text/html": [
       "<div>\n",
       "<style scoped>\n",
       "    .dataframe tbody tr th:only-of-type {\n",
       "        vertical-align: middle;\n",
       "    }\n",
       "\n",
       "    .dataframe tbody tr th {\n",
       "        vertical-align: top;\n",
       "    }\n",
       "\n",
       "    .dataframe thead th {\n",
       "        text-align: right;\n",
       "    }\n",
       "</style>\n",
       "<table border=\"1\" class=\"dataframe\">\n",
       "  <thead>\n",
       "    <tr style=\"text-align: right;\">\n",
       "      <th></th>\n",
       "      <th>event_id</th>\n",
       "      <th>time_to_tca</th>\n",
       "      <th>miss_distance</th>\n",
       "      <th>pc</th>\n",
       "      <th>relative_position_r</th>\n",
       "      <th>relative_position_t</th>\n",
       "      <th>relative_position_n</th>\n",
       "      <th>relative_velocity_r</th>\n",
       "      <th>relative_velocity_t</th>\n",
       "      <th>relative_velocity_n</th>\n",
       "      <th>relative_speed</th>\n",
       "      <th>mahalanobis_distance</th>\n",
       "      <th>TARGET_MD</th>\n",
       "    </tr>\n",
       "  </thead>\n",
       "  <tbody>\n",
       "    <tr>\n",
       "      <th>7</th>\n",
       "      <td>13153</td>\n",
       "      <td>3.408859</td>\n",
       "      <td>2205.0</td>\n",
       "      <td>8.309000e-08</td>\n",
       "      <td>-472.5</td>\n",
       "      <td>-159.4</td>\n",
       "      <td>-2148.3</td>\n",
       "      <td>-5.6</td>\n",
       "      <td>-14937.0</td>\n",
       "      <td>1082.7</td>\n",
       "      <td>14976.0</td>\n",
       "      <td>43.161322</td>\n",
       "      <td>2185.0</td>\n",
       "    </tr>\n",
       "    <tr>\n",
       "      <th>8</th>\n",
       "      <td>13153</td>\n",
       "      <td>3.029751</td>\n",
       "      <td>2307.0</td>\n",
       "      <td>7.787000e-08</td>\n",
       "      <td>-472.1</td>\n",
       "      <td>-159.9</td>\n",
       "      <td>-2253.1</td>\n",
       "      <td>-5.6</td>\n",
       "      <td>-14937.0</td>\n",
       "      <td>1082.7</td>\n",
       "      <td>14976.0</td>\n",
       "      <td>45.789081</td>\n",
       "      <td>2185.0</td>\n",
       "    </tr>\n",
       "    <tr>\n",
       "      <th>9</th>\n",
       "      <td>13153</td>\n",
       "      <td>2.799253</td>\n",
       "      <td>2254.0</td>\n",
       "      <td>8.510000e-08</td>\n",
       "      <td>-469.7</td>\n",
       "      <td>-163.3</td>\n",
       "      <td>-2199.4</td>\n",
       "      <td>-5.6</td>\n",
       "      <td>-14937.0</td>\n",
       "      <td>1082.7</td>\n",
       "      <td>14976.0</td>\n",
       "      <td>44.748673</td>\n",
       "      <td>2185.0</td>\n",
       "    </tr>\n",
       "    <tr>\n",
       "      <th>10</th>\n",
       "      <td>13153</td>\n",
       "      <td>2.385399</td>\n",
       "      <td>2259.0</td>\n",
       "      <td>8.586000e-08</td>\n",
       "      <td>-469.3</td>\n",
       "      <td>-158.8</td>\n",
       "      <td>-2204.7</td>\n",
       "      <td>-5.6</td>\n",
       "      <td>-14937.0</td>\n",
       "      <td>1082.7</td>\n",
       "      <td>14976.0</td>\n",
       "      <td>45.020671</td>\n",
       "      <td>2185.0</td>\n",
       "    </tr>\n",
       "    <tr>\n",
       "      <th>11</th>\n",
       "      <td>13153</td>\n",
       "      <td>2.043339</td>\n",
       "      <td>2257.0</td>\n",
       "      <td>9.369000e-08</td>\n",
       "      <td>-465.2</td>\n",
       "      <td>-160.3</td>\n",
       "      <td>-2203.0</td>\n",
       "      <td>-5.6</td>\n",
       "      <td>-14937.0</td>\n",
       "      <td>1082.7</td>\n",
       "      <td>14976.0</td>\n",
       "      <td>45.262300</td>\n",
       "      <td>2185.0</td>\n",
       "    </tr>\n",
       "  </tbody>\n",
       "</table>\n",
       "</div>"
      ],
      "text/plain": [
       "    event_id  time_to_tca  miss_distance            pc  relative_position_r  \\\n",
       "7      13153     3.408859         2205.0  8.309000e-08               -472.5   \n",
       "8      13153     3.029751         2307.0  7.787000e-08               -472.1   \n",
       "9      13153     2.799253         2254.0  8.510000e-08               -469.7   \n",
       "10     13153     2.385399         2259.0  8.586000e-08               -469.3   \n",
       "11     13153     2.043339         2257.0  9.369000e-08               -465.2   \n",
       "\n",
       "    relative_position_t  relative_position_n  relative_velocity_r  \\\n",
       "7                -159.4              -2148.3                 -5.6   \n",
       "8                -159.9              -2253.1                 -5.6   \n",
       "9                -163.3              -2199.4                 -5.6   \n",
       "10               -158.8              -2204.7                 -5.6   \n",
       "11               -160.3              -2203.0                 -5.6   \n",
       "\n",
       "    relative_velocity_t  relative_velocity_n  relative_speed  \\\n",
       "7              -14937.0               1082.7         14976.0   \n",
       "8              -14937.0               1082.7         14976.0   \n",
       "9              -14937.0               1082.7         14976.0   \n",
       "10             -14937.0               1082.7         14976.0   \n",
       "11             -14937.0               1082.7         14976.0   \n",
       "\n",
       "    mahalanobis_distance  TARGET_MD  \n",
       "7              43.161322     2185.0  \n",
       "8              45.789081     2185.0  \n",
       "9              44.748673     2185.0  \n",
       "10             45.020671     2185.0  \n",
       "11             45.262300     2185.0  "
      ]
     },
     "execution_count": 13,
     "metadata": {},
     "output_type": "execute_result"
    }
   ],
   "source": [
    "hola.tail()"
   ]
  },
  {
   "cell_type": "code",
   "execution_count": null,
   "metadata": {},
   "outputs": [],
   "source": [
    "from sklearn.linear_model import LinearRegression\n",
    "from sklearn.metrics import r2_score, mean_squared_error, mean_absolute_error,root_mean_squared_error\n",
    "from sklearn.model_selection import train_test_split"
   ]
  },
  {
   "cell_type": "code",
   "execution_count": null,
   "metadata": {},
   "outputs": [],
   "source": [
    "train, test = train_test_split(result, test_size=0.30, random_state=42)\n",
    "df=train\n",
    "print(\"Train dataframe dimension {} x {}\".format(train.shape[0],train.shape[1]))\n",
    "print(\"Test dataframe dimension {} x {}\".format(test.shape[0],test.shape[1]))"
   ]
  },
  {
   "cell_type": "code",
   "execution_count": null,
   "metadata": {},
   "outputs": [],
   "source": [
    "columnt_to_predict_name=\"TARGET_MD\"\n",
    "Y_df = df[columnt_to_predict_name]\n",
    "X_df= df.drop([columnt_to_predict_name], axis=1)"
   ]
  },
  {
   "cell_type": "code",
   "execution_count": null,
   "metadata": {},
   "outputs": [],
   "source": [
    "x, y = np.array(X_df), np.array(Y_df)"
   ]
  },
  {
   "cell_type": "code",
   "execution_count": null,
   "metadata": {},
   "outputs": [],
   "source": [
    "model = LinearRegression().fit(x, y)\n"
   ]
  },
  {
   "cell_type": "code",
   "execution_count": null,
   "metadata": {},
   "outputs": [],
   "source": [
    "r_sq = model.score(x, y)\n",
    "print('coefficient of determination:', r_sq)\n",
    "print('intercept:', model.intercept_)\n",
    "print('slope:', model.coef_)"
   ]
  },
  {
   "cell_type": "code",
   "execution_count": null,
   "metadata": {},
   "outputs": [],
   "source": [
    "y_test = test[columnt_to_predict_name]\n",
    "x_test= test.drop([columnt_to_predict_name], axis=1)"
   ]
  },
  {
   "cell_type": "code",
   "execution_count": null,
   "metadata": {},
   "outputs": [],
   "source": [
    "x_test.shape\n"
   ]
  },
  {
   "cell_type": "code",
   "execution_count": null,
   "metadata": {},
   "outputs": [],
   "source": [
    "model.predict(x_test)\n"
   ]
  },
  {
   "cell_type": "code",
   "execution_count": null,
   "metadata": {},
   "outputs": [],
   "source": [
    "pred=model.predict(x_test)\n"
   ]
  },
  {
   "cell_type": "code",
   "execution_count": null,
   "metadata": {},
   "outputs": [],
   "source": [
    "# REGRESION MODEL METRICS\n",
    "print(\"The r2 of prediction is:\", r2_score(y_test, pred))\n",
    "print(\"The MSE of prediction is:\", root_mean_squared_error(y_test, pred)**2)\n",
    "print(\"The RMSE of prediction is:\", root_mean_squared_error(y_test, pred))\n",
    "print(\"The MAE of prediction is:\", mean_absolute_error(y_test, pred))"
   ]
  },
  {
   "cell_type": "code",
   "execution_count": null,
   "metadata": {},
   "outputs": [],
   "source": []
  }
 ],
 "metadata": {
  "kernelspec": {
   "display_name": "venv",
   "language": "python",
   "name": "python3"
  },
  "language_info": {
   "codemirror_mode": {
    "name": "ipython",
    "version": 3
   },
   "file_extension": ".py",
   "mimetype": "text/x-python",
   "name": "python",
   "nbconvert_exporter": "python",
   "pygments_lexer": "ipython3",
   "version": "3.11.6"
  }
 },
 "nbformat": 4,
 "nbformat_minor": 2
}
