{
 "cells": [
  {
   "cell_type": "code",
   "execution_count": 14,
   "metadata": {},
   "outputs": [],
   "source": [
    "import pandas as pd\n",
    "import numpy as np\n",
    "from sklearn.linear_model import LinearRegression\n",
    "from sklearn.metrics import r2_score, mean_squared_error, mean_absolute_error\n",
    "from sklearn.model_selection import train_test_split\n"
   ]
  },
  {
   "cell_type": "code",
   "execution_count": 15,
   "metadata": {},
   "outputs": [
    {
     "name": "stdout",
     "output_type": "stream",
     "text": [
      "(110337, 85)\n"
     ]
    },
    {
     "data": {
      "text/html": [
       "<div>\n",
       "<style scoped>\n",
       "    .dataframe tbody tr th:only-of-type {\n",
       "        vertical-align: middle;\n",
       "    }\n",
       "\n",
       "    .dataframe tbody tr th {\n",
       "        vertical-align: top;\n",
       "    }\n",
       "\n",
       "    .dataframe thead th {\n",
       "        text-align: right;\n",
       "    }\n",
       "</style>\n",
       "<table border=\"1\" class=\"dataframe\">\n",
       "  <thead>\n",
       "    <tr style=\"text-align: right;\">\n",
       "      <th></th>\n",
       "      <th>__time_to_tca</th>\n",
       "      <th>MISS_DISTANCE</th>\n",
       "      <th>RELATIVE_SPEED</th>\n",
       "      <th>RELATIVE_POSITION_R</th>\n",
       "      <th>RELATIVE_POSITION_T</th>\n",
       "      <th>RELATIVE_POSITION_N</th>\n",
       "      <th>RELATIVE_VELOCITY_R</th>\n",
       "      <th>RELATIVE_VELOCITY_T</th>\n",
       "      <th>RELATIVE_VELOCITY_N</th>\n",
       "      <th>COLLISSION_PROBABILITY</th>\n",
       "      <th>...</th>\n",
       "      <th>OBJECT2_CORR_CNDOT_TDOT</th>\n",
       "      <th>PC_trend_1</th>\n",
       "      <th>PC_trend_3</th>\n",
       "      <th>PC_gradient_1</th>\n",
       "      <th>PC_gradient_3</th>\n",
       "      <th>MD_trend_1</th>\n",
       "      <th>MD_trend_3</th>\n",
       "      <th>MD_gradient_1</th>\n",
       "      <th>MD_gradient_3</th>\n",
       "      <th>TARGET_PC</th>\n",
       "    </tr>\n",
       "  </thead>\n",
       "  <tbody>\n",
       "    <tr>\n",
       "      <th>0</th>\n",
       "      <td>0.579669</td>\n",
       "      <td>14579.0</td>\n",
       "      <td>13792.0</td>\n",
       "      <td>472.7</td>\n",
       "      <td>5838.9</td>\n",
       "      <td>-13350.7</td>\n",
       "      <td>-7.0</td>\n",
       "      <td>-12637.0</td>\n",
       "      <td>-5525.9</td>\n",
       "      <td>-10.337809</td>\n",
       "      <td>...</td>\n",
       "      <td>-0.675656</td>\n",
       "      <td>0.007822</td>\n",
       "      <td>-0.132854</td>\n",
       "      <td>0.020997</td>\n",
       "      <td>-0.134587</td>\n",
       "      <td>104.0</td>\n",
       "      <td>-344.0</td>\n",
       "      <td>279.177108</td>\n",
       "      <td>-348.485402</td>\n",
       "      <td>-10.39126</td>\n",
       "    </tr>\n",
       "    <tr>\n",
       "      <th>1</th>\n",
       "      <td>6.042352</td>\n",
       "      <td>18842.0</td>\n",
       "      <td>14347.0</td>\n",
       "      <td>-700.0</td>\n",
       "      <td>-5192.1</td>\n",
       "      <td>18099.4</td>\n",
       "      <td>14.4</td>\n",
       "      <td>-13791.4</td>\n",
       "      <td>-3957.2</td>\n",
       "      <td>-30.000000</td>\n",
       "      <td>...</td>\n",
       "      <td>-0.699265</td>\n",
       "      <td>0.000000</td>\n",
       "      <td>-19.183839</td>\n",
       "      <td>0.000000</td>\n",
       "      <td>-20.384022</td>\n",
       "      <td>57.0</td>\n",
       "      <td>-4060.0</td>\n",
       "      <td>250.409557</td>\n",
       "      <td>-4314.002473</td>\n",
       "      <td>-30.00000</td>\n",
       "    </tr>\n",
       "    <tr>\n",
       "      <th>2</th>\n",
       "      <td>5.711716</td>\n",
       "      <td>19015.0</td>\n",
       "      <td>14347.0</td>\n",
       "      <td>-709.9</td>\n",
       "      <td>-5242.1</td>\n",
       "      <td>18264.8</td>\n",
       "      <td>14.5</td>\n",
       "      <td>-13791.4</td>\n",
       "      <td>-3957.2</td>\n",
       "      <td>-30.000000</td>\n",
       "      <td>...</td>\n",
       "      <td>-0.699780</td>\n",
       "      <td>0.000000</td>\n",
       "      <td>-19.149527</td>\n",
       "      <td>0.000000</td>\n",
       "      <td>-19.542437</td>\n",
       "      <td>173.0</td>\n",
       "      <td>-3951.0</td>\n",
       "      <td>523.233760</td>\n",
       "      <td>-4032.066516</td>\n",
       "      <td>-30.00000</td>\n",
       "    </tr>\n",
       "    <tr>\n",
       "      <th>3</th>\n",
       "      <td>5.377642</td>\n",
       "      <td>19137.0</td>\n",
       "      <td>14347.0</td>\n",
       "      <td>-710.3</td>\n",
       "      <td>-5273.6</td>\n",
       "      <td>18382.8</td>\n",
       "      <td>14.5</td>\n",
       "      <td>-13791.4</td>\n",
       "      <td>-3957.2</td>\n",
       "      <td>-30.000000</td>\n",
       "      <td>...</td>\n",
       "      <td>-0.699793</td>\n",
       "      <td>0.000000</td>\n",
       "      <td>0.000000</td>\n",
       "      <td>0.000000</td>\n",
       "      <td>0.000000</td>\n",
       "      <td>122.0</td>\n",
       "      <td>352.0</td>\n",
       "      <td>365.188863</td>\n",
       "      <td>394.469816</td>\n",
       "      <td>-30.00000</td>\n",
       "    </tr>\n",
       "    <tr>\n",
       "      <th>4</th>\n",
       "      <td>5.028915</td>\n",
       "      <td>18918.0</td>\n",
       "      <td>14347.0</td>\n",
       "      <td>-714.8</td>\n",
       "      <td>-5213.9</td>\n",
       "      <td>18172.0</td>\n",
       "      <td>14.5</td>\n",
       "      <td>-13791.4</td>\n",
       "      <td>-3957.2</td>\n",
       "      <td>-30.000000</td>\n",
       "      <td>...</td>\n",
       "      <td>-0.699527</td>\n",
       "      <td>0.000000</td>\n",
       "      <td>0.000000</td>\n",
       "      <td>0.000000</td>\n",
       "      <td>0.000000</td>\n",
       "      <td>-219.0</td>\n",
       "      <td>76.0</td>\n",
       "      <td>-627.997277</td>\n",
       "      <td>74.992291</td>\n",
       "      <td>-30.00000</td>\n",
       "    </tr>\n",
       "  </tbody>\n",
       "</table>\n",
       "<p>5 rows × 85 columns</p>\n",
       "</div>"
      ],
      "text/plain": [
       "   __time_to_tca  MISS_DISTANCE  RELATIVE_SPEED  RELATIVE_POSITION_R  \\\n",
       "0       0.579669        14579.0         13792.0                472.7   \n",
       "1       6.042352        18842.0         14347.0               -700.0   \n",
       "2       5.711716        19015.0         14347.0               -709.9   \n",
       "3       5.377642        19137.0         14347.0               -710.3   \n",
       "4       5.028915        18918.0         14347.0               -714.8   \n",
       "\n",
       "   RELATIVE_POSITION_T  RELATIVE_POSITION_N  RELATIVE_VELOCITY_R  \\\n",
       "0               5838.9             -13350.7                 -7.0   \n",
       "1              -5192.1              18099.4                 14.4   \n",
       "2              -5242.1              18264.8                 14.5   \n",
       "3              -5273.6              18382.8                 14.5   \n",
       "4              -5213.9              18172.0                 14.5   \n",
       "\n",
       "   RELATIVE_VELOCITY_T  RELATIVE_VELOCITY_N  COLLISSION_PROBABILITY  ...  \\\n",
       "0             -12637.0              -5525.9              -10.337809  ...   \n",
       "1             -13791.4              -3957.2              -30.000000  ...   \n",
       "2             -13791.4              -3957.2              -30.000000  ...   \n",
       "3             -13791.4              -3957.2              -30.000000  ...   \n",
       "4             -13791.4              -3957.2              -30.000000  ...   \n",
       "\n",
       "   OBJECT2_CORR_CNDOT_TDOT  PC_trend_1  PC_trend_3  PC_gradient_1  \\\n",
       "0                -0.675656    0.007822   -0.132854       0.020997   \n",
       "1                -0.699265    0.000000  -19.183839       0.000000   \n",
       "2                -0.699780    0.000000  -19.149527       0.000000   \n",
       "3                -0.699793    0.000000    0.000000       0.000000   \n",
       "4                -0.699527    0.000000    0.000000       0.000000   \n",
       "\n",
       "   PC_gradient_3  MD_trend_1  MD_trend_3  MD_gradient_1  MD_gradient_3  \\\n",
       "0      -0.134587       104.0      -344.0     279.177108    -348.485402   \n",
       "1     -20.384022        57.0     -4060.0     250.409557   -4314.002473   \n",
       "2     -19.542437       173.0     -3951.0     523.233760   -4032.066516   \n",
       "3       0.000000       122.0       352.0     365.188863     394.469816   \n",
       "4       0.000000      -219.0        76.0    -627.997277      74.992291   \n",
       "\n",
       "   TARGET_PC  \n",
       "0  -10.39126  \n",
       "1  -30.00000  \n",
       "2  -30.00000  \n",
       "3  -30.00000  \n",
       "4  -30.00000  \n",
       "\n",
       "[5 rows x 85 columns]"
      ]
     },
     "execution_count": 15,
     "metadata": {},
     "output_type": "execute_result"
    }
   ],
   "source": [
    "data=pd.read_pickle(\"dataframe/_PRUEBA_df_20211225_143242.pkl\")\n",
    "data.reset_index(inplace=True)\n",
    "data.drop(['index'], inplace=True, axis=1)\n",
    "print(data.shape)\n",
    "data.head()"
   ]
  },
  {
   "cell_type": "code",
   "execution_count": 16,
   "metadata": {},
   "outputs": [
    {
     "name": "stdout",
     "output_type": "stream",
     "text": [
      "Train dataframe dimension 77235 x 85\n",
      "Test dataframe dimension 33102 x 85\n"
     ]
    }
   ],
   "source": [
    "train, test = train_test_split(data, test_size=0.30, random_state=42)\n",
    "df=train\n",
    "print(\"Train dataframe dimension {} x {}\".format(train.shape[0],train.shape[1]))\n",
    "print(\"Test dataframe dimension {} x {}\".format(test.shape[0],test.shape[1]))"
   ]
  },
  {
   "cell_type": "code",
   "execution_count": 17,
   "metadata": {},
   "outputs": [],
   "source": [
    "columnt_to_predict_name=\"TARGET_PC\"\n",
    "Y_df = df[columnt_to_predict_name]\n",
    "X_df= df.drop([columnt_to_predict_name], axis=1)"
   ]
  },
  {
   "cell_type": "code",
   "execution_count": 18,
   "metadata": {},
   "outputs": [],
   "source": [
    "x, y = np.array(X_df), np.array(Y_df)"
   ]
  },
  {
   "cell_type": "code",
   "execution_count": 19,
   "metadata": {},
   "outputs": [],
   "source": [
    "model = LinearRegression().fit(x, y)"
   ]
  },
  {
   "cell_type": "code",
   "execution_count": 7,
   "metadata": {},
   "outputs": [
    {
     "name": "stdout",
     "output_type": "stream",
     "text": [
      "coefficient of determination: 0.6997032047958129\n",
      "intercept: -9.807337806180318\n",
      "slope: [ 1.38614063e+00 -6.09367686e-05  6.71907841e-05  1.08827030e-04\n",
      "  8.54783784e-06 -3.92714006e-06  5.58618068e-04  1.38466528e-04\n",
      "  4.47941851e-07  4.85449867e-01 -4.28666570e-05 -5.71793055e-08\n",
      "  4.31275204e-05  4.18873695e-02 -8.72734078e-02 -8.72009253e-02\n",
      "  1.29017650e-01 -9.44738849e-02 -1.66344091e-04  1.17478095e-04\n",
      "  2.19028171e-02  5.34976859e-03  5.30266218e-05 -6.38158530e-06\n",
      " -1.19604804e-03  1.89562077e-02 -2.04312511e-02 -3.23141889e-02\n",
      "  1.20212521e-09 -7.08828829e-13  1.06509096e-08  6.79756249e-07\n",
      " -9.32026560e-03  1.60438570e-03  1.10063733e-01  9.84867269e-02\n",
      " -4.90277373e-03  1.67966463e-03 -1.07028176e-02  1.31485757e-02\n",
      "  1.25465701e-03 -5.11044643e-02  4.21948626e-02 -2.27362736e-05\n",
      " -3.38558293e-03 -1.85212683e-02 -2.90244569e-02  2.02167334e-02\n",
      " -1.22741597e-02  2.52653345e-02 -4.21001651e-03  8.79620116e-03\n",
      "  6.83108933e-03  3.15405712e-02 -1.88764461e-02 -2.76391677e-02\n",
      " -4.34707977e-02 -2.22364666e-03 -1.30944479e-02  1.10775696e-03\n",
      "  4.30511843e-02  3.05781432e-02 -9.97506888e-03  2.61926525e-02\n",
      " -2.66549574e-02 -2.12681840e-03 -2.76916398e-02  2.39621484e-01\n",
      " -3.72370283e-02 -1.97522387e-02  3.33805720e-02 -7.63360425e-03\n",
      " -6.63545325e-02  5.21382961e-02  6.72343839e-02 -6.74599824e-03\n",
      "  9.20984942e-03  2.77938539e-02  8.30492146e-02  7.91650784e-02\n",
      "  5.68656794e-05  1.12555974e-05 -3.48839978e-06 -7.46638959e-06]\n"
     ]
    }
   ],
   "source": [
    "r_sq = model.score(x, y)\n",
    "print('coefficient of determination:', r_sq)\n",
    "print('intercept:', model.intercept_)\n",
    "print('slope:', model.coef_)"
   ]
  },
  {
   "cell_type": "code",
   "execution_count": 8,
   "metadata": {},
   "outputs": [],
   "source": [
    "y_test = test[columnt_to_predict_name]\n",
    "x_test= test.drop([columnt_to_predict_name], axis=1)\n"
   ]
  },
  {
   "cell_type": "code",
   "execution_count": 9,
   "metadata": {},
   "outputs": [
    {
     "data": {
      "text/plain": [
       "(33102, 84)"
      ]
     },
     "execution_count": 9,
     "metadata": {},
     "output_type": "execute_result"
    }
   ],
   "source": [
    "x_test.shape"
   ]
  },
  {
   "cell_type": "code",
   "execution_count": 10,
   "metadata": {},
   "outputs": [
    {
     "data": {
      "text/plain": [
       "array([-25.53234048, -23.3567042 , -31.9114516 , ..., -24.99664202,\n",
       "       -23.36116751, -30.92463712])"
      ]
     },
     "execution_count": 10,
     "metadata": {},
     "output_type": "execute_result"
    }
   ],
   "source": [
    "model.predict(x_test)"
   ]
  },
  {
   "cell_type": "code",
   "execution_count": 11,
   "metadata": {},
   "outputs": [
    {
     "data": {
      "text/plain": [
       "88049    -15.656591\n",
       "71157    -30.000000\n",
       "572      -30.000000\n",
       "38254    -18.884722\n",
       "67329    -30.000000\n",
       "            ...    \n",
       "72636    -17.569925\n",
       "107366   -14.923360\n",
       "13330    -22.531357\n",
       "94791    -30.000000\n",
       "81043    -30.000000\n",
       "Name: TARGET_PC, Length: 33102, dtype: float64"
      ]
     },
     "execution_count": 11,
     "metadata": {},
     "output_type": "execute_result"
    }
   ],
   "source": [
    "y_test"
   ]
  },
  {
   "cell_type": "code",
   "execution_count": 12,
   "metadata": {},
   "outputs": [],
   "source": [
    "pred=model.predict(x_test)"
   ]
  },
  {
   "cell_type": "code",
   "execution_count": 13,
   "metadata": {},
   "outputs": [
    {
     "name": "stdout",
     "output_type": "stream",
     "text": [
      "The r2 of prediction is: 0.699009214895721\n",
      "The MSE of prediction is: 28.64098549648408\n",
      "The RMSE of prediction is: 5.351727337643808\n",
      "The MAE of prediction is: 4.065493628792995\n"
     ]
    }
   ],
   "source": [
    "# REGRESION MODEL METRICS\n",
    "print(\"The r2 of prediction is:\", r2_score(y_test, pred))\n",
    "print(\"The MSE of prediction is:\", mean_squared_error(y_test, pred, squared=True))\n",
    "print(\"The RMSE of prediction is:\", mean_squared_error(y_test, pred, squared=False))\n",
    "print(\"The MAE of prediction is:\", mean_absolute_error(y_test, pred))"
   ]
  },
  {
   "cell_type": "code",
   "execution_count": null,
   "metadata": {},
   "outputs": [],
   "source": []
  }
 ],
 "metadata": {
  "interpreter": {
   "hash": "6a229a7624aaca0bb64305d3a84f8aa11ea5a7132c8c99f127f8b64a260fdc5c"
  },
  "kernelspec": {
   "display_name": "Python 3.9.7 64-bit (conda)",
   "name": "python3"
  },
  "language_info": {
   "codemirror_mode": {
    "name": "ipython",
    "version": 3
   },
   "file_extension": ".py",
   "mimetype": "text/x-python",
   "name": "python",
   "nbconvert_exporter": "python",
   "pygments_lexer": "ipython3",
   "version": "3.9.7"
  },
  "orig_nbformat": 4
 },
 "nbformat": 4,
 "nbformat_minor": 2
}
