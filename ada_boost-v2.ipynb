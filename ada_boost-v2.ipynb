{
    "cells": [
        {
            "cell_type": "code",
            "execution_count": null,
            "metadata": {},
            "outputs": [],
            "source": [
                "import pandas as pd\n",
                "import numpy as np\n",
                "\n",
                "from sklearn.model_selection import train_test_split"
            ]
        },
        {
            "cell_type": "code",
            "execution_count": null,
            "metadata": {},
            "outputs": [],
            "source": [
                "data=pd.read_pickle(\"./dataframe/df_only_risky_events.pkl\")\n",
                "data.reset_index(inplace=True)\n",
                "data.drop(['index'], inplace=True, axis=1)\n",
                "print(data.shape)\n",
                "data.head()"
            ]
        },
        {
            "cell_type": "code",
            "execution_count": null,
            "metadata": {},
            "outputs": [],
            "source": [
                "train, test = train_test_split(data, test_size=0.30, random_state=42)"
            ]
        },
        {
            "cell_type": "code",
            "execution_count": null,
            "metadata": {},
            "outputs": [],
            "source": [
                "print(\"Train dataframe dimension {} x {}\".format(train.shape[0],train.shape[1]))\n",
                "print(\"Test dataframe dimension {} x {}\".format(test.shape[0],test.shape[1]))"
            ]
        },
        {
            "cell_type": "code",
            "execution_count": null,
            "metadata": {},
            "outputs": [],
            "source": [
                "Y_train = train[\"COLLISSION_PROBABILITY\"]\n",
                "X_train= train.drop([\"COLLISSION_PROBABILITY\"], axis=1)\n",
                "Y_test = test[\"COLLISSION_PROBABILITY\"]\n",
                "X_test= test.drop([\"COLLISSION_PROBABILITY\"], axis=1)\n"
            ]
        },
        {
            "cell_type": "code",
            "execution_count": null,
            "metadata": {},
            "outputs": [],
            "source": [
                "X = X_train\n",
                "y = Y_train"
            ]
        },
        {
            "cell_type": "code",
            "execution_count": null,
            "metadata": {},
            "outputs": [],
            "source": [
                "# model = AdaBoostRegressor()"
            ]
        },
        {
            "cell_type": "code",
            "execution_count": null,
            "metadata": {},
            "outputs": [],
            "source": [
                "# # evaluate the model\n",
                "# cv = RepeatedKFold(n_splits=10, n_repeats=3, random_state=1)\n",
                "# n_scores = cross_val_score(model, X, y, scoring='neg_mean_absolute_error', cv=cv, n_jobs=-1, error_score='raise')\n",
                "# # report performance\n",
                "# print('MAE: %.3f (%.3f)' % (np.mean(n_scores), np.std(n_scores)))"
            ]
        },
        {
            "cell_type": "code",
            "execution_count": null,
            "metadata": {},
            "outputs": [],
            "source": [
                "# def ada_boost_regression(n_estimators, learning_rate):\n",
                "#     params = {\"n_estimators\": int(n_estimators),\n",
                "#               \"learning_rate\" : learning_rate,\n",
                "#               \"verbosity\" : 0,\n",
                "#               }\n",
                "    \n",
                "#     model = AdaBoostRegressor(int(n_estimators), learning_rate,random_state=12)\n",
                "#     cv = RepeatedKFold(n_splits=3, n_repeats=3, random_state=12)\n",
                "#     n_scores = cross_val_score(model, X, y, scoring='neg_mean_absolute_error', cv=cv, n_jobs=-1, error_score='raise')\n",
                "\n",
                "#     return np.mean(n_scores)"
            ]
        },
        {
            "cell_type": "code",
            "execution_count": null,
            "metadata": {},
            "outputs": [],
            "source": [
                "# adaboost_BO = BayesianOptimization(ada_boost_regression, {  \"n_estimators\": (10, 100),\n",
                "#                                                     \"learning_rate\": (0.001,0.05),\n",
                "#                                                     })"
            ]
        },
        {
            "cell_type": "code",
            "execution_count": null,
            "metadata": {},
            "outputs": [],
            "source": [
                "from sklearn.model_selection import RepeatedKFold\n",
                "from sklearn.model_selection import GridSearchCV\n",
                "from sklearn.ensemble import AdaBoostRegressor\n",
                "# define dataset\n",
                "# define the model with default hyperparameters\n",
                "model = AdaBoostRegressor()\n",
                "# define the grid of values to search\n",
                "grid = dict()\n",
                "grid['n_estimators'] = [10, 50, 100, 500,1000,1500,2000,3000]\n",
                "grid['learning_rate'] = [0.0001, 0.001, 0.01, 0.1, 1.0]\n",
                "# define the evaluation procedure\n",
                "cv = RepeatedKFold(n_splits=10, n_repeats=3, random_state=1)\n",
                "# define the grid search procedure\n",
                "grid_search = GridSearchCV(estimator=model, param_grid=grid, n_jobs=-1, cv=cv, scoring='r2')\n",
                "\n",
                "# execute the grid search\n",
                "grid_result = grid_search.fit(X, y)\n",
                "\n",
                "# summarize the best score and configuration\n",
                "print(\"Best: %f using %s\" % (grid_result.best_score_, grid_result.best_params_))\n",
                "# summarize all scores that were evaluated\n",
                "means = grid_result.cv_results_['mean_test_score']\n",
                "stds = grid_result.cv_results_['std_test_score']\n",
                "params = grid_result.cv_results_['params']\n",
                "for mean, stdev, param in zip(means, stds, params):\n",
                "    print(\"%f (%f) with: %r\" % (mean, stdev, param))"
            ]
        }
    ],
    "metadata": {
        "interpreter": {
            "hash": "6a229a7624aaca0bb64305d3a84f8aa11ea5a7132c8c99f127f8b64a260fdc5c"
        },
        "kernelspec": {
            "display_name": "Python 3.9.7 64-bit (conda)",
            "name": "python3"
        },
        "language_info": {
            "codemirror_mode": {
                "name": "ipython",
                "version": 3
            },
            "file_extension": ".py",
            "mimetype": "text/x-python",
            "name": "python",
            "nbconvert_exporter": "python",
            "pygments_lexer": "ipython3",
            "version": "3.9.7"
        },
        "orig_nbformat": 4
    },
    "nbformat": 4,
    "nbformat_minor": 2
}
