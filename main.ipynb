{
 "cells": [
  {
   "cell_type": "code",
   "execution_count": 1,
   "metadata": {},
   "outputs": [],
   "source": [
    "import create_dataframe"
   ]
  },
  {
   "cell_type": "code",
   "execution_count": 2,
   "metadata": {},
   "outputs": [
    {
     "name": "stderr",
     "output_type": "stream",
     "text": [
      "[2024-05-01 12:12:26] INFO: Start the execution of the script\n",
      "[2024-05-01 12:12:26] INFO: Loading raw data\n",
      "[2024-05-01 12:12:33] INFO: Building curated Dataframe\n",
      "[2024-05-01 12:18:22] INFO: Dataframe built\n",
      "[2024-05-01 12:18:22] INFO: Dataframe saved to file.\n"
     ]
    }
   ],
   "source": [
    "df=create_dataframe.main()"
   ]
  },
  {
   "cell_type": "code",
   "execution_count": 11,
   "metadata": {},
   "outputs": [],
   "source": [
    "import linear_regression"
   ]
  },
  {
   "cell_type": "code",
   "execution_count": 13,
   "metadata": {},
   "outputs": [
    {
     "name": "stderr",
     "output_type": "stream",
     "text": [
      "[2024-05-01 12:54:14] INFO: Splitting input datrafame in train and test samples\n",
      "[2024-05-01 12:54:14] INFO: Test size 0.3 with randon_state=42\n",
      "[2024-05-01 12:54:14] INFO: Train dataframe dimension 104636 x 13\n",
      "[2024-05-01 12:54:14] INFO: Test dataframe dimension 44844 x 13\n",
      "[2024-05-01 12:54:14] INFO: Field to predict TARGET_MD\n",
      "[2024-05-01 12:54:14] INFO: Starting fitting of Linear Regression Model\n",
      "[2024-05-01 12:54:14] INFO: Linear Regression model has been built!\n",
      "[2024-05-01 12:54:14] INFO: Printing metrics of the model\n"
     ]
    },
    {
     "name": "stdout",
     "output_type": "stream",
     "text": [
      "coefficient of determination: 0.8253308368920165\n",
      "intercept: 829.4875198429472\n",
      "slope: [-2.26136843e-02  1.44088149e+02  9.13704004e-01 -4.00320285e+05\n",
      "  1.83764887e-01  3.96727768e-03  3.84528489e-03 -2.38543404e-01\n",
      "  2.17152299e-01  5.75379661e-03  2.12561835e-01  5.36747967e-01]\n"
     ]
    }
   ],
   "source": [
    "lr=linear_regression.training(df)"
   ]
  },
  {
   "cell_type": "code",
   "execution_count": 17,
   "metadata": {},
   "outputs": [],
   "source": [
    "test=lr[1]"
   ]
  },
  {
   "cell_type": "code",
   "execution_count": 18,
   "metadata": {},
   "outputs": [],
   "source": [
    "model=lr[2]"
   ]
  },
  {
   "cell_type": "code",
   "execution_count": 21,
   "metadata": {},
   "outputs": [
    {
     "name": "stderr",
     "output_type": "stream",
     "text": [
      "[2024-05-01 12:56:02] INFO: Running prediction\n",
      "/home/esteban/projects/automatic-collision-detection/venv/lib/python3.11/site-packages/sklearn/base.py:486: UserWarning: X has feature names, but LinearRegression was fitted without feature names\n",
      "  warnings.warn(\n",
      "[2024-05-01 12:56:02] INFO: Computing prediction metrics\n",
      "[2024-05-01 12:56:02] INFO: Run finished!\n"
     ]
    },
    {
     "name": "stdout",
     "output_type": "stream",
     "text": [
      "The r2 of prediction is: 0.8269949940857064\n",
      "The MSE of prediction is: 35293791.37726168\n",
      "The RMSE of prediction is: 5940.857798101355\n",
      "The MAE of prediction is: 2966.281497852465\n"
     ]
    }
   ],
   "source": [
    "prediction=linear_regression.testing(model,test)"
   ]
  },
  {
   "cell_type": "code",
   "execution_count": null,
   "metadata": {},
   "outputs": [],
   "source": []
  }
 ],
 "metadata": {
  "kernelspec": {
   "display_name": "venv",
   "language": "python",
   "name": "python3"
  },
  "language_info": {
   "codemirror_mode": {
    "name": "ipython",
    "version": 3
   },
   "file_extension": ".py",
   "mimetype": "text/x-python",
   "name": "python",
   "nbconvert_exporter": "python",
   "pygments_lexer": "ipython3",
   "version": "3.11.6"
  }
 },
 "nbformat": 4,
 "nbformat_minor": 2
}
