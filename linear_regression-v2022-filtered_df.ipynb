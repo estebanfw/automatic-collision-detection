{
 "cells": [
  {
   "cell_type": "code",
   "execution_count": 1,
   "metadata": {},
   "outputs": [],
   "source": [
    "import pandas as pd\n",
    "import numpy as np\n",
    "from sklearn.linear_model import LinearRegression\n",
    "from sklearn.metrics import r2_score, mean_squared_error, mean_absolute_error\n",
    "from sklearn.model_selection import train_test_split\n"
   ]
  },
  {
   "cell_type": "code",
   "execution_count": 2,
   "metadata": {},
   "outputs": [
    {
     "name": "stdout",
     "output_type": "stream",
     "text": [
      "(5394, 85)\n"
     ]
    },
    {
     "data": {
      "text/html": [
       "<div>\n",
       "<style scoped>\n",
       "    .dataframe tbody tr th:only-of-type {\n",
       "        vertical-align: middle;\n",
       "    }\n",
       "\n",
       "    .dataframe tbody tr th {\n",
       "        vertical-align: top;\n",
       "    }\n",
       "\n",
       "    .dataframe thead th {\n",
       "        text-align: right;\n",
       "    }\n",
       "</style>\n",
       "<table border=\"1\" class=\"dataframe\">\n",
       "  <thead>\n",
       "    <tr style=\"text-align: right;\">\n",
       "      <th></th>\n",
       "      <th>__time_to_tca</th>\n",
       "      <th>MISS_DISTANCE</th>\n",
       "      <th>RELATIVE_SPEED</th>\n",
       "      <th>RELATIVE_POSITION_R</th>\n",
       "      <th>RELATIVE_POSITION_T</th>\n",
       "      <th>RELATIVE_POSITION_N</th>\n",
       "      <th>RELATIVE_VELOCITY_R</th>\n",
       "      <th>RELATIVE_VELOCITY_T</th>\n",
       "      <th>RELATIVE_VELOCITY_N</th>\n",
       "      <th>COLLISSION_PROBABILITY</th>\n",
       "      <th>...</th>\n",
       "      <th>OBJECT2_CORR_CNDOT_TDOT</th>\n",
       "      <th>PC_trend_1</th>\n",
       "      <th>PC_trend_3</th>\n",
       "      <th>PC_gradient_1</th>\n",
       "      <th>PC_gradient_3</th>\n",
       "      <th>MD_trend_1</th>\n",
       "      <th>MD_trend_3</th>\n",
       "      <th>MD_gradient_1</th>\n",
       "      <th>MD_gradient_3</th>\n",
       "      <th>TARGET_PC</th>\n",
       "    </tr>\n",
       "  </thead>\n",
       "  <tbody>\n",
       "    <tr>\n",
       "      <th>0</th>\n",
       "      <td>5.775947</td>\n",
       "      <td>568.0</td>\n",
       "      <td>2001.0</td>\n",
       "      <td>-20.9</td>\n",
       "      <td>-562.8</td>\n",
       "      <td>-75.9</td>\n",
       "      <td>0.8</td>\n",
       "      <td>-268.6</td>\n",
       "      <td>1983.8</td>\n",
       "      <td>-5.415895</td>\n",
       "      <td>...</td>\n",
       "      <td>-0.054742</td>\n",
       "      <td>0.226170</td>\n",
       "      <td>0.773872</td>\n",
       "      <td>0.652610</td>\n",
       "      <td>0.763062</td>\n",
       "      <td>-123.0</td>\n",
       "      <td>144.0</td>\n",
       "      <td>-354.914301</td>\n",
       "      <td>141.988456</td>\n",
       "      <td>-5.345246</td>\n",
       "    </tr>\n",
       "    <tr>\n",
       "      <th>1</th>\n",
       "      <td>5.420762</td>\n",
       "      <td>611.0</td>\n",
       "      <td>2001.0</td>\n",
       "      <td>-19.9</td>\n",
       "      <td>-605.4</td>\n",
       "      <td>-81.8</td>\n",
       "      <td>0.8</td>\n",
       "      <td>-268.6</td>\n",
       "      <td>1983.8</td>\n",
       "      <td>-5.345246</td>\n",
       "      <td>...</td>\n",
       "      <td>0.029148</td>\n",
       "      <td>0.070649</td>\n",
       "      <td>0.237282</td>\n",
       "      <td>0.198907</td>\n",
       "      <td>0.234313</td>\n",
       "      <td>43.0</td>\n",
       "      <td>50.0</td>\n",
       "      <td>121.063636</td>\n",
       "      <td>49.374243</td>\n",
       "      <td>-4.792366</td>\n",
       "    </tr>\n",
       "    <tr>\n",
       "      <th>2</th>\n",
       "      <td>5.119489</td>\n",
       "      <td>576.0</td>\n",
       "      <td>2001.0</td>\n",
       "      <td>-9.6</td>\n",
       "      <td>-571.2</td>\n",
       "      <td>-77.4</td>\n",
       "      <td>0.8</td>\n",
       "      <td>-268.6</td>\n",
       "      <td>1983.8</td>\n",
       "      <td>-4.792366</td>\n",
       "      <td>...</td>\n",
       "      <td>-0.030920</td>\n",
       "      <td>0.552880</td>\n",
       "      <td>0.849700</td>\n",
       "      <td>1.835148</td>\n",
       "      <td>0.847141</td>\n",
       "      <td>-35.0</td>\n",
       "      <td>-115.0</td>\n",
       "      <td>-116.173757</td>\n",
       "      <td>-114.653689</td>\n",
       "      <td>-4.208450</td>\n",
       "    </tr>\n",
       "    <tr>\n",
       "      <th>3</th>\n",
       "      <td>4.750068</td>\n",
       "      <td>328.0</td>\n",
       "      <td>2001.0</td>\n",
       "      <td>2.7</td>\n",
       "      <td>-325.3</td>\n",
       "      <td>-43.7</td>\n",
       "      <td>0.5</td>\n",
       "      <td>-268.6</td>\n",
       "      <td>1983.8</td>\n",
       "      <td>-4.208450</td>\n",
       "      <td>...</td>\n",
       "      <td>-0.104064</td>\n",
       "      <td>0.583916</td>\n",
       "      <td>1.207445</td>\n",
       "      <td>1.580622</td>\n",
       "      <td>1.176985</td>\n",
       "      <td>-248.0</td>\n",
       "      <td>-240.0</td>\n",
       "      <td>-671.319754</td>\n",
       "      <td>-233.945596</td>\n",
       "      <td>-4.049879</td>\n",
       "    </tr>\n",
       "    <tr>\n",
       "      <th>4</th>\n",
       "      <td>4.087221</td>\n",
       "      <td>56.0</td>\n",
       "      <td>2001.0</td>\n",
       "      <td>9.2</td>\n",
       "      <td>-55.1</td>\n",
       "      <td>-7.3</td>\n",
       "      <td>0.2</td>\n",
       "      <td>-268.6</td>\n",
       "      <td>1983.8</td>\n",
       "      <td>-4.049879</td>\n",
       "      <td>...</td>\n",
       "      <td>-0.117181</td>\n",
       "      <td>0.158571</td>\n",
       "      <td>1.295367</td>\n",
       "      <td>0.239227</td>\n",
       "      <td>0.971374</td>\n",
       "      <td>-272.0</td>\n",
       "      <td>-555.0</td>\n",
       "      <td>-410.351242</td>\n",
       "      <td>-416.185112</td>\n",
       "      <td>-5.289798</td>\n",
       "    </tr>\n",
       "  </tbody>\n",
       "</table>\n",
       "<p>5 rows × 85 columns</p>\n",
       "</div>"
      ],
      "text/plain": [
       "   __time_to_tca  MISS_DISTANCE  RELATIVE_SPEED  RELATIVE_POSITION_R  \\\n",
       "0       5.775947          568.0          2001.0                -20.9   \n",
       "1       5.420762          611.0          2001.0                -19.9   \n",
       "2       5.119489          576.0          2001.0                 -9.6   \n",
       "3       4.750068          328.0          2001.0                  2.7   \n",
       "4       4.087221           56.0          2001.0                  9.2   \n",
       "\n",
       "   RELATIVE_POSITION_T  RELATIVE_POSITION_N  RELATIVE_VELOCITY_R  \\\n",
       "0               -562.8                -75.9                  0.8   \n",
       "1               -605.4                -81.8                  0.8   \n",
       "2               -571.2                -77.4                  0.8   \n",
       "3               -325.3                -43.7                  0.5   \n",
       "4                -55.1                 -7.3                  0.2   \n",
       "\n",
       "   RELATIVE_VELOCITY_T  RELATIVE_VELOCITY_N  COLLISSION_PROBABILITY  ...  \\\n",
       "0               -268.6               1983.8               -5.415895  ...   \n",
       "1               -268.6               1983.8               -5.345246  ...   \n",
       "2               -268.6               1983.8               -4.792366  ...   \n",
       "3               -268.6               1983.8               -4.208450  ...   \n",
       "4               -268.6               1983.8               -4.049879  ...   \n",
       "\n",
       "   OBJECT2_CORR_CNDOT_TDOT  PC_trend_1  PC_trend_3  PC_gradient_1  \\\n",
       "0                -0.054742    0.226170    0.773872       0.652610   \n",
       "1                 0.029148    0.070649    0.237282       0.198907   \n",
       "2                -0.030920    0.552880    0.849700       1.835148   \n",
       "3                -0.104064    0.583916    1.207445       1.580622   \n",
       "4                -0.117181    0.158571    1.295367       0.239227   \n",
       "\n",
       "   PC_gradient_3  MD_trend_1  MD_trend_3  MD_gradient_1  MD_gradient_3  \\\n",
       "0       0.763062      -123.0       144.0    -354.914301     141.988456   \n",
       "1       0.234313        43.0        50.0     121.063636      49.374243   \n",
       "2       0.847141       -35.0      -115.0    -116.173757    -114.653689   \n",
       "3       1.176985      -248.0      -240.0    -671.319754    -233.945596   \n",
       "4       0.971374      -272.0      -555.0    -410.351242    -416.185112   \n",
       "\n",
       "   TARGET_PC  \n",
       "0  -5.345246  \n",
       "1  -4.792366  \n",
       "2  -4.208450  \n",
       "3  -4.049879  \n",
       "4  -5.289798  \n",
       "\n",
       "[5 rows x 85 columns]"
      ]
     },
     "execution_count": 2,
     "metadata": {},
     "output_type": "execute_result"
    }
   ],
   "source": [
    "data=pd.read_pickle(\"dataframe/_PRUEBA_df_filtered_20220115_112153.pkl\")\n",
    "data.reset_index(inplace=True)\n",
    "data.drop(['index'], inplace=True, axis=1)\n",
    "print(data.shape)\n",
    "data.head()"
   ]
  },
  {
   "cell_type": "code",
   "execution_count": 3,
   "metadata": {},
   "outputs": [
    {
     "name": "stdout",
     "output_type": "stream",
     "text": [
      "Train dataframe dimension 3775 x 85\n",
      "Test dataframe dimension 1619 x 85\n"
     ]
    }
   ],
   "source": [
    "train, test = train_test_split(data, test_size=0.30, random_state=42)\n",
    "df=train\n",
    "print(\"Train dataframe dimension {} x {}\".format(train.shape[0],train.shape[1]))\n",
    "print(\"Test dataframe dimension {} x {}\".format(test.shape[0],test.shape[1]))"
   ]
  },
  {
   "cell_type": "code",
   "execution_count": 4,
   "metadata": {},
   "outputs": [],
   "source": [
    "columnt_to_predict_name=\"TARGET_PC\"\n",
    "Y_df = df[columnt_to_predict_name]\n",
    "X_df= df.drop([columnt_to_predict_name], axis=1)"
   ]
  },
  {
   "cell_type": "code",
   "execution_count": 5,
   "metadata": {},
   "outputs": [],
   "source": [
    "x, y = np.array(X_df), np.array(Y_df)"
   ]
  },
  {
   "cell_type": "code",
   "execution_count": 6,
   "metadata": {},
   "outputs": [],
   "source": [
    "model = LinearRegression().fit(x, y)"
   ]
  },
  {
   "cell_type": "code",
   "execution_count": 7,
   "metadata": {},
   "outputs": [
    {
     "name": "stdout",
     "output_type": "stream",
     "text": [
      "coefficient of determination: 0.238055710925685\n",
      "intercept: -6.691519910046921\n",
      "slope: [-3.09807240e-02 -2.40573478e-05  2.21683144e-05 -1.27823011e-04\n",
      " -9.04643425e-07  1.09994147e-06 -7.81919511e-05  2.07537346e-05\n",
      "  7.41529079e-06  6.95000870e-02 -1.13900275e-05  5.24349733e-08\n",
      "  1.13990724e-05 -3.93768153e-02  5.81538045e-04 -1.22469205e-03\n",
      " -1.95866318e-03 -4.86581015e-02  5.25653218e-05 -1.80809871e-04\n",
      "  5.70890674e-02 -4.49226534e-01 -1.42906931e-04  5.65960245e-03\n",
      "  1.17844494e-02 -2.39975738e-03  2.91106941e-03 -2.29866319e-03\n",
      " -2.76644279e-10 -7.36342237e-12 -1.18791883e-08  8.25713592e-06\n",
      "  7.53419317e-02 -6.74326295e-02 -5.75477192e-03  3.93084932e-03\n",
      "  1.88957973e-03  2.79901236e-05 -2.21388914e-02 -4.60738601e-02\n",
      " -1.31411562e-02  2.99400396e-03 -5.69729333e-02 -3.01783591e-05\n",
      " -1.87855482e-04 -1.04128432e-03 -5.31053780e-03 -2.42122739e-02\n",
      " -1.60499823e-01  3.25797933e-02 -1.12223948e-03  1.79476159e-01\n",
      "  1.33810208e-01 -5.50937628e-02  5.29296979e-02  2.46568234e-02\n",
      "  1.07937822e-02 -1.28809130e-01 -5.13881986e-02  1.36411232e-01\n",
      " -1.38606719e-02 -4.49306422e-02 -1.11806294e-01 -2.77724554e-02\n",
      "  5.72852118e-02  2.52199518e-03  1.04411174e-02  8.69113366e-02\n",
      " -1.69761030e-02 -1.19658832e-01  4.41380420e-03  7.28581749e-02\n",
      "  1.65064124e-03 -3.64844231e-02 -1.77654122e-02  5.09788818e-02\n",
      "  1.05788694e-02 -2.25683353e-02 -9.23092652e-03  1.56282570e-02\n",
      "  2.75127641e-05 -4.61405853e-06 -6.17996966e-06  7.66374556e-06]\n"
     ]
    }
   ],
   "source": [
    "r_sq = model.score(x, y)\n",
    "print('coefficient of determination:', r_sq)\n",
    "print('intercept:', model.intercept_)\n",
    "print('slope:', model.coef_)"
   ]
  },
  {
   "cell_type": "code",
   "execution_count": 8,
   "metadata": {},
   "outputs": [],
   "source": [
    "y_test = test[columnt_to_predict_name]\n",
    "x_test= test.drop([columnt_to_predict_name], axis=1)\n"
   ]
  },
  {
   "cell_type": "code",
   "execution_count": 9,
   "metadata": {},
   "outputs": [
    {
     "data": {
      "text/plain": [
       "(1619, 84)"
      ]
     },
     "execution_count": 9,
     "metadata": {},
     "output_type": "execute_result"
    }
   ],
   "source": [
    "x_test.shape"
   ]
  },
  {
   "cell_type": "code",
   "execution_count": 10,
   "metadata": {},
   "outputs": [
    {
     "data": {
      "text/plain": [
       "array([-5.16840192, -4.77890231, -4.7584742 , ..., -5.4986875 ,\n",
       "       -4.74082803, -5.97955231])"
      ]
     },
     "execution_count": 10,
     "metadata": {},
     "output_type": "execute_result"
    }
   ],
   "source": [
    "model.predict(x_test)"
   ]
  },
  {
   "cell_type": "code",
   "execution_count": 11,
   "metadata": {},
   "outputs": [
    {
     "data": {
      "text/plain": [
       "2780   -5.599980\n",
       "1047   -4.292515\n",
       "3614   -4.460548\n",
       "4476   -5.813609\n",
       "4320   -5.048128\n",
       "          ...   \n",
       "4786   -5.015023\n",
       "1451   -5.991400\n",
       "2572   -5.852633\n",
       "1116   -1.442854\n",
       "1541   -5.505011\n",
       "Name: TARGET_PC, Length: 1619, dtype: float64"
      ]
     },
     "execution_count": 11,
     "metadata": {},
     "output_type": "execute_result"
    }
   ],
   "source": [
    "y_test"
   ]
  },
  {
   "cell_type": "code",
   "execution_count": 12,
   "metadata": {},
   "outputs": [],
   "source": [
    "pred=model.predict(x_test)"
   ]
  },
  {
   "cell_type": "code",
   "execution_count": 13,
   "metadata": {},
   "outputs": [
    {
     "name": "stdout",
     "output_type": "stream",
     "text": [
      "The r2 of prediction is: 0.206800408631583\n",
      "The MSE of prediction is: 0.3700152927563675\n",
      "The RMSE of prediction is: 0.6082888234682333\n",
      "The MAE of prediction is: 0.4753867331527964\n"
     ]
    }
   ],
   "source": [
    "# REGRESION MODEL METRICS\n",
    "print(\"The r2 of prediction is:\", r2_score(y_test, pred))\n",
    "print(\"The MSE of prediction is:\", mean_squared_error(y_test, pred, squared=True))\n",
    "print(\"The RMSE of prediction is:\", mean_squared_error(y_test, pred, squared=False))\n",
    "print(\"The MAE of prediction is:\", mean_absolute_error(y_test, pred))"
   ]
  },
  {
   "cell_type": "code",
   "execution_count": null,
   "metadata": {},
   "outputs": [],
   "source": []
  }
 ],
 "metadata": {
  "interpreter": {
   "hash": "6a229a7624aaca0bb64305d3a84f8aa11ea5a7132c8c99f127f8b64a260fdc5c"
  },
  "kernelspec": {
   "display_name": "Python 3.9.7 64-bit (conda)",
   "name": "python3"
  },
  "language_info": {
   "codemirror_mode": {
    "name": "ipython",
    "version": 3
   },
   "file_extension": ".py",
   "mimetype": "text/x-python",
   "name": "python",
   "nbconvert_exporter": "python",
   "pygments_lexer": "ipython3",
   "version": "3.9.7"
  },
  "orig_nbformat": 4
 },
 "nbformat": 4,
 "nbformat_minor": 2
}
