{
    "cells": [
        {
            "cell_type": "code",
            "execution_count": 1,
            "source": [
                "import pandas as pd\n",
                "import numpy as np\n",
                "import lightgbm as lgb\n",
                "from bayes_opt import BayesianOptimization\n",
                "from sklearn.datasets import load_boston\n",
                "from sklearn.metrics import r2_score, mean_squared_log_error, mean_squared_error\n",
                "import datetime as dt\n",
                "import pickle\n",
                "import warnings\n",
                "warnings.filterwarnings('ignore')\n",
                "from sklearn.model_selection import train_test_split"
            ],
            "outputs": [],
            "metadata": {}
        },
        {
            "cell_type": "code",
            "execution_count": 2,
            "source": [
                "data=pd.read_pickle(\"full_dataframe_20210803_150443.pkl\")\n",
                "data.reset_index(inplace=True)\n",
                "data.drop(['index','event_id'], inplace=True, axis=1)\n",
                "print(data.shape)\n",
                "data.head()"
            ],
            "outputs": [
                {
                    "output_type": "stream",
                    "name": "stdout",
                    "text": [
                        "(7680, 531)\n"
                    ]
                },
                {
                    "output_type": "execute_result",
                    "data": {
                        "text/plain": [
                            "   MISS_DISTANCE  RELATIVE_SPEED  RELATIVE_POSITION_R  RELATIVE_POSITION_T  \\\n",
                            "0        18753.0         14347.0               -700.1              -5172.4   \n",
                            "1        23982.0         13574.0                 22.3              10104.3   \n",
                            "2        23709.0         12093.0                188.2             -13921.3   \n",
                            "3          314.0          2001.0                -18.4               -311.4   \n",
                            "4        10978.0         10027.0                132.6              -8226.7   \n",
                            "\n",
                            "   RELATIVE_POSITION_N  RELATIVE_VELOCITY_R  RELATIVE_VELOCITY_T  \\\n",
                            "0              18012.1                 14.4             -13791.4   \n",
                            "1              21749.5                -39.7             -12310.9   \n",
                            "2              19191.2                 19.7              -9788.5   \n",
                            "3                -42.7                  0.5               -268.6   \n",
                            "4              -7268.6                  8.8              -6638.6   \n",
                            "\n",
                            "   RELATIVE_VELOCITY_N  COLLISSION_PROBABILITY  OBJECT1_CR_R  ...  \\\n",
                            "0              -3957.2              -30.000000     22.474480  ...   \n",
                            "1               5718.9              -30.000000     78.188040  ...   \n",
                            "2              -7101.8              -30.000000     31.349310  ...   \n",
                            "3               1983.8              -16.843451     24.527640  ...   \n",
                            "4               7515.2              -30.000000      1.362408  ...   \n",
                            "\n",
                            "   OBJECT2_CORR_CTDOT_R_4  OBJECT2_CORR_CTDOT_T_4  OBJECT2_CORR_CTDOT_N_4  \\\n",
                            "0               -0.999926                0.378319               -0.845081   \n",
                            "1               -0.999511               -0.675979               -0.776708   \n",
                            "2               -0.999995               -0.973987                0.792263   \n",
                            "3               -0.999942               -0.121330               -0.007675   \n",
                            "4               -0.999340                0.352616               -0.301764   \n",
                            "\n",
                            "   OBJECT2_CORR_CTDOT_RDOT_4  OBJECT2_CORR_CNDOT_R_4  OBJECT2_CORR_CNDOT_T_4  \\\n",
                            "0                  -0.301615                0.901438               -0.372185   \n",
                            "1                   0.667410                0.911423                0.652982   \n",
                            "2                   0.961697               -0.517752               -0.543370   \n",
                            "3                   0.161742                0.087987                0.034350   \n",
                            "4                  -0.332939                0.229495               -0.077586   \n",
                            "\n",
                            "   OBJECT2_CORR_CNDOT_N_4  OBJECT2_CORR_CNDOT_RDOT_4  \\\n",
                            "0                0.971804                   0.258500   \n",
                            "1                0.860347                  -0.641016   \n",
                            "2                0.926369                   0.531127   \n",
                            "3                0.360326                  -0.070074   \n",
                            "4                0.700588                   0.085000   \n",
                            "\n",
                            "   OBJECT2_CORR_CNDOT_TDOT_4  COLLISSION_PROBABILITY_TARGET  \n",
                            "0                  -0.901937                     -30.000000  \n",
                            "1                  -0.911900                     -30.000000  \n",
                            "2                   0.517949                     -27.650917  \n",
                            "3                  -0.088322                     -30.000000  \n",
                            "4                  -0.229904                     -30.000000  \n",
                            "\n",
                            "[5 rows x 531 columns]"
                        ],
                        "text/html": [
                            "<div>\n",
                            "<style scoped>\n",
                            "    .dataframe tbody tr th:only-of-type {\n",
                            "        vertical-align: middle;\n",
                            "    }\n",
                            "\n",
                            "    .dataframe tbody tr th {\n",
                            "        vertical-align: top;\n",
                            "    }\n",
                            "\n",
                            "    .dataframe thead th {\n",
                            "        text-align: right;\n",
                            "    }\n",
                            "</style>\n",
                            "<table border=\"1\" class=\"dataframe\">\n",
                            "  <thead>\n",
                            "    <tr style=\"text-align: right;\">\n",
                            "      <th></th>\n",
                            "      <th>MISS_DISTANCE</th>\n",
                            "      <th>RELATIVE_SPEED</th>\n",
                            "      <th>RELATIVE_POSITION_R</th>\n",
                            "      <th>RELATIVE_POSITION_T</th>\n",
                            "      <th>RELATIVE_POSITION_N</th>\n",
                            "      <th>RELATIVE_VELOCITY_R</th>\n",
                            "      <th>RELATIVE_VELOCITY_T</th>\n",
                            "      <th>RELATIVE_VELOCITY_N</th>\n",
                            "      <th>COLLISSION_PROBABILITY</th>\n",
                            "      <th>OBJECT1_CR_R</th>\n",
                            "      <th>...</th>\n",
                            "      <th>OBJECT2_CORR_CTDOT_R_4</th>\n",
                            "      <th>OBJECT2_CORR_CTDOT_T_4</th>\n",
                            "      <th>OBJECT2_CORR_CTDOT_N_4</th>\n",
                            "      <th>OBJECT2_CORR_CTDOT_RDOT_4</th>\n",
                            "      <th>OBJECT2_CORR_CNDOT_R_4</th>\n",
                            "      <th>OBJECT2_CORR_CNDOT_T_4</th>\n",
                            "      <th>OBJECT2_CORR_CNDOT_N_4</th>\n",
                            "      <th>OBJECT2_CORR_CNDOT_RDOT_4</th>\n",
                            "      <th>OBJECT2_CORR_CNDOT_TDOT_4</th>\n",
                            "      <th>COLLISSION_PROBABILITY_TARGET</th>\n",
                            "    </tr>\n",
                            "  </thead>\n",
                            "  <tbody>\n",
                            "    <tr>\n",
                            "      <th>0</th>\n",
                            "      <td>18753.0</td>\n",
                            "      <td>14347.0</td>\n",
                            "      <td>-700.1</td>\n",
                            "      <td>-5172.4</td>\n",
                            "      <td>18012.1</td>\n",
                            "      <td>14.4</td>\n",
                            "      <td>-13791.4</td>\n",
                            "      <td>-3957.2</td>\n",
                            "      <td>-30.000000</td>\n",
                            "      <td>22.474480</td>\n",
                            "      <td>...</td>\n",
                            "      <td>-0.999926</td>\n",
                            "      <td>0.378319</td>\n",
                            "      <td>-0.845081</td>\n",
                            "      <td>-0.301615</td>\n",
                            "      <td>0.901438</td>\n",
                            "      <td>-0.372185</td>\n",
                            "      <td>0.971804</td>\n",
                            "      <td>0.258500</td>\n",
                            "      <td>-0.901937</td>\n",
                            "      <td>-30.000000</td>\n",
                            "    </tr>\n",
                            "    <tr>\n",
                            "      <th>1</th>\n",
                            "      <td>23982.0</td>\n",
                            "      <td>13574.0</td>\n",
                            "      <td>22.3</td>\n",
                            "      <td>10104.3</td>\n",
                            "      <td>21749.5</td>\n",
                            "      <td>-39.7</td>\n",
                            "      <td>-12310.9</td>\n",
                            "      <td>5718.9</td>\n",
                            "      <td>-30.000000</td>\n",
                            "      <td>78.188040</td>\n",
                            "      <td>...</td>\n",
                            "      <td>-0.999511</td>\n",
                            "      <td>-0.675979</td>\n",
                            "      <td>-0.776708</td>\n",
                            "      <td>0.667410</td>\n",
                            "      <td>0.911423</td>\n",
                            "      <td>0.652982</td>\n",
                            "      <td>0.860347</td>\n",
                            "      <td>-0.641016</td>\n",
                            "      <td>-0.911900</td>\n",
                            "      <td>-30.000000</td>\n",
                            "    </tr>\n",
                            "    <tr>\n",
                            "      <th>2</th>\n",
                            "      <td>23709.0</td>\n",
                            "      <td>12093.0</td>\n",
                            "      <td>188.2</td>\n",
                            "      <td>-13921.3</td>\n",
                            "      <td>19191.2</td>\n",
                            "      <td>19.7</td>\n",
                            "      <td>-9788.5</td>\n",
                            "      <td>-7101.8</td>\n",
                            "      <td>-30.000000</td>\n",
                            "      <td>31.349310</td>\n",
                            "      <td>...</td>\n",
                            "      <td>-0.999995</td>\n",
                            "      <td>-0.973987</td>\n",
                            "      <td>0.792263</td>\n",
                            "      <td>0.961697</td>\n",
                            "      <td>-0.517752</td>\n",
                            "      <td>-0.543370</td>\n",
                            "      <td>0.926369</td>\n",
                            "      <td>0.531127</td>\n",
                            "      <td>0.517949</td>\n",
                            "      <td>-27.650917</td>\n",
                            "    </tr>\n",
                            "    <tr>\n",
                            "      <th>3</th>\n",
                            "      <td>314.0</td>\n",
                            "      <td>2001.0</td>\n",
                            "      <td>-18.4</td>\n",
                            "      <td>-311.4</td>\n",
                            "      <td>-42.7</td>\n",
                            "      <td>0.5</td>\n",
                            "      <td>-268.6</td>\n",
                            "      <td>1983.8</td>\n",
                            "      <td>-16.843451</td>\n",
                            "      <td>24.527640</td>\n",
                            "      <td>...</td>\n",
                            "      <td>-0.999942</td>\n",
                            "      <td>-0.121330</td>\n",
                            "      <td>-0.007675</td>\n",
                            "      <td>0.161742</td>\n",
                            "      <td>0.087987</td>\n",
                            "      <td>0.034350</td>\n",
                            "      <td>0.360326</td>\n",
                            "      <td>-0.070074</td>\n",
                            "      <td>-0.088322</td>\n",
                            "      <td>-30.000000</td>\n",
                            "    </tr>\n",
                            "    <tr>\n",
                            "      <th>4</th>\n",
                            "      <td>10978.0</td>\n",
                            "      <td>10027.0</td>\n",
                            "      <td>132.6</td>\n",
                            "      <td>-8226.7</td>\n",
                            "      <td>-7268.6</td>\n",
                            "      <td>8.8</td>\n",
                            "      <td>-6638.6</td>\n",
                            "      <td>7515.2</td>\n",
                            "      <td>-30.000000</td>\n",
                            "      <td>1.362408</td>\n",
                            "      <td>...</td>\n",
                            "      <td>-0.999340</td>\n",
                            "      <td>0.352616</td>\n",
                            "      <td>-0.301764</td>\n",
                            "      <td>-0.332939</td>\n",
                            "      <td>0.229495</td>\n",
                            "      <td>-0.077586</td>\n",
                            "      <td>0.700588</td>\n",
                            "      <td>0.085000</td>\n",
                            "      <td>-0.229904</td>\n",
                            "      <td>-30.000000</td>\n",
                            "    </tr>\n",
                            "  </tbody>\n",
                            "</table>\n",
                            "<p>5 rows × 531 columns</p>\n",
                            "</div>"
                        ]
                    },
                    "metadata": {},
                    "execution_count": 2
                }
            ],
            "metadata": {}
        },
        {
            "cell_type": "code",
            "execution_count": 3,
            "source": [
                "data=data.head(200)"
            ],
            "outputs": [],
            "metadata": {}
        },
        {
            "cell_type": "code",
            "execution_count": 4,
            "source": [
                "data.shape"
            ],
            "outputs": [
                {
                    "output_type": "execute_result",
                    "data": {
                        "text/plain": [
                            "(200, 531)"
                        ]
                    },
                    "metadata": {},
                    "execution_count": 4
                }
            ],
            "metadata": {}
        },
        {
            "cell_type": "code",
            "execution_count": 5,
            "source": [
                "train, test = train_test_split(data, test_size=0.20, random_state=42)"
            ],
            "outputs": [],
            "metadata": {}
        },
        {
            "cell_type": "code",
            "execution_count": 6,
            "source": [
                "Y_train = train[\"COLLISSION_PROBABILITY_TARGET\"]\n",
                "X_train= train.drop([\"COLLISSION_PROBABILITY_TARGET\"], axis=1)\n",
                "Y_test = test[\"COLLISSION_PROBABILITY_TARGET\"]\n",
                "X_test= test.drop([\"COLLISSION_PROBABILITY_TARGET\"], axis=1)\n"
            ],
            "outputs": [],
            "metadata": {}
        },
        {
            "cell_type": "code",
            "execution_count": 7,
            "source": [
                "X = X_train\n",
                "y = Y_train"
            ],
            "outputs": [],
            "metadata": {}
        },
        {
            "cell_type": "code",
            "execution_count": 8,
            "source": [
                "def bayesian_opt_lgbm(X, y, init_iter=3, n_iters=7, random_state=11, seed = 101, num_iterations = 100):\n",
                "      dtrain = lgb.Dataset(data=X, label=y)\n",
                "      def lgb_r2_score(preds, dtrain):\n",
                "            labels = dtrain.get_label()\n",
                "            return 'r2', r2_score(labels, preds), True\n",
                "      # Objective Function\n",
                "      def hyp_lgbm(num_leaves, feature_fraction, learning_rate, bagging_fraction, max_depth, min_split_gain, min_child_weight):\n",
                "              params = {      'application':'regression',\n",
                "                              'num_iterations': num_iterations,\n",
                "                              'early_stopping_round':50,\n",
                "                              'verbose':-1,\n",
                "                              'metric':'lgb_r2_score'} # Default parameters\n",
                "              params[\"num_leaves\"] = int(round(num_leaves))\n",
                "              params[\"learning_rate\"] = learning_rate\n",
                "              params['feature_fraction'] = max(min(feature_fraction, 1), 0)\n",
                "              params['bagging_fraction'] = max(min(bagging_fraction, 1), 0)\n",
                "              params['max_depth'] = int(round(max_depth))\n",
                "              params['min_split_gain'] = min_split_gain\n",
                "              params['min_child_weight'] = min_child_weight\n",
                "              cv_results = lgb.cv(params, dtrain, nfold=5, seed=seed,categorical_feature=[], stratified=False,\n",
                "                                  verbose_eval =None, feval=lgb_r2_score)\n",
                "              #print(cv_results)\n",
                "              return np.max(cv_results['r2-mean'])\n",
                "    \n",
                "              # Domain space-- Range of hyperparameters \n",
                "      pds = {     'num_leaves': (80, 120),\n",
                "                  'feature_fraction': (0.1, 0.9),\n",
                "                  'bagging_fraction': (0.8, 1),\n",
                "                  'max_depth': (8, 15),\n",
                "                  'learning_rate':(0.001,0.05), \n",
                "                  'min_split_gain': (0.001, 0.1),\n",
                "                  'min_child_weight': (10, 25)\n",
                "                  }\n",
                "      # Surrogate model\n",
                "      optimizer = BayesianOptimization(hyp_lgbm, pds, random_state=random_state)\n",
                "                                          \n",
                "      # Optimize\n",
                "      optimizer.maximize(init_points=init_iter, n_iter=n_iters)\n",
                "\n",
                "      return optimizer\n",
                "\n",
                "bayesian_ouput=bayesian_opt_lgbm(X, y, init_iter=5, n_iters=10, random_state=77, seed = 101, num_iterations = 200)"
            ],
            "outputs": [
                {
                    "output_type": "stream",
                    "name": "stdout",
                    "text": [
                        "|   iter    |  target   | baggin... | featur... | learni... | max_depth | min_ch... | min_sp... | num_le... |\n",
                        "-------------------------------------------------------------------------------------------------------------\n",
                        "| \u001b[0m 1       \u001b[0m | \u001b[0m 0.8145  \u001b[0m | \u001b[0m 0.9838  \u001b[0m | \u001b[0m 0.6138  \u001b[0m | \u001b[0m 0.03793 \u001b[0m | \u001b[0m 8.975   \u001b[0m | \u001b[0m 11.31   \u001b[0m | \u001b[0m 0.07901 \u001b[0m | \u001b[0m 93.05   \u001b[0m |\n",
                        "| \u001b[0m 2       \u001b[0m | \u001b[0m 0.7647  \u001b[0m | \u001b[0m 0.9082  \u001b[0m | \u001b[0m 0.2922  \u001b[0m | \u001b[0m 0.02773 \u001b[0m | \u001b[0m 10.8    \u001b[0m | \u001b[0m 20.73   \u001b[0m | \u001b[0m 0.08383 \u001b[0m | \u001b[0m 103.5   \u001b[0m |\n",
                        "| \u001b[0m 3       \u001b[0m | \u001b[0m 0.7775  \u001b[0m | \u001b[0m 0.8592  \u001b[0m | \u001b[0m 0.3248  \u001b[0m | \u001b[0m 0.03557 \u001b[0m | \u001b[0m 10.96   \u001b[0m | \u001b[0m 10.86   \u001b[0m | \u001b[0m 0.07496 \u001b[0m | \u001b[0m 98.09   \u001b[0m |\n",
                        "| \u001b[0m 4       \u001b[0m | \u001b[0m 0.627   \u001b[0m | \u001b[0m 0.8352  \u001b[0m | \u001b[0m 0.1395  \u001b[0m | \u001b[0m 0.01533 \u001b[0m | \u001b[0m 8.468   \u001b[0m | \u001b[0m 21.27   \u001b[0m | \u001b[0m 0.007313\u001b[0m | \u001b[0m 97.28   \u001b[0m |\n",
                        "| \u001b[0m 5       \u001b[0m | \u001b[0m 0.7362  \u001b[0m | \u001b[0m 0.8728  \u001b[0m | \u001b[0m 0.2216  \u001b[0m | \u001b[0m 0.02779 \u001b[0m | \u001b[0m 11.1    \u001b[0m | \u001b[0m 10.54   \u001b[0m | \u001b[0m 0.08247 \u001b[0m | \u001b[0m 90.93   \u001b[0m |\n",
                        "| \u001b[95m 6       \u001b[0m | \u001b[95m 0.8154  \u001b[0m | \u001b[95m 1.0     \u001b[0m | \u001b[95m 0.9     \u001b[0m | \u001b[95m 0.05    \u001b[0m | \u001b[95m 8.0     \u001b[0m | \u001b[95m 10.0    \u001b[0m | \u001b[95m 0.1     \u001b[0m | \u001b[95m 120.0   \u001b[0m |\n",
                        "| \u001b[0m 7       \u001b[0m | \u001b[0m 0.7363  \u001b[0m | \u001b[0m 1.0     \u001b[0m | \u001b[0m 0.9     \u001b[0m | \u001b[0m 0.05    \u001b[0m | \u001b[0m 15.0    \u001b[0m | \u001b[0m 25.0    \u001b[0m | \u001b[0m 0.001   \u001b[0m | \u001b[0m 120.0   \u001b[0m |\n",
                        "| \u001b[0m 8       \u001b[0m | \u001b[0m 0.8154  \u001b[0m | \u001b[0m 1.0     \u001b[0m | \u001b[0m 0.9     \u001b[0m | \u001b[0m 0.05    \u001b[0m | \u001b[0m 8.0     \u001b[0m | \u001b[0m 10.0    \u001b[0m | \u001b[0m 0.1     \u001b[0m | \u001b[0m 80.0    \u001b[0m |\n",
                        "| \u001b[0m 9       \u001b[0m | \u001b[0m 0.1314  \u001b[0m | \u001b[0m 1.0     \u001b[0m | \u001b[0m 0.1     \u001b[0m | \u001b[0m 0.001   \u001b[0m | \u001b[0m 8.0     \u001b[0m | \u001b[0m 25.0    \u001b[0m | \u001b[0m 0.1     \u001b[0m | \u001b[0m 120.0   \u001b[0m |\n",
                        "| \u001b[0m 10      \u001b[0m | \u001b[0m 0.7367  \u001b[0m | \u001b[0m 1.0     \u001b[0m | \u001b[0m 0.9     \u001b[0m | \u001b[0m 0.05    \u001b[0m | \u001b[0m 15.0    \u001b[0m | \u001b[0m 25.0    \u001b[0m | \u001b[0m 0.1     \u001b[0m | \u001b[0m 80.0    \u001b[0m |\n",
                        "| \u001b[95m 11      \u001b[0m | \u001b[95m 0.8167  \u001b[0m | \u001b[95m 1.0     \u001b[0m | \u001b[95m 0.9     \u001b[0m | \u001b[95m 0.05    \u001b[0m | \u001b[95m 15.0    \u001b[0m | \u001b[95m 10.0    \u001b[0m | \u001b[95m 0.001   \u001b[0m | \u001b[95m 115.8   \u001b[0m |\n",
                        "| \u001b[0m 12      \u001b[0m | \u001b[0m 0.7367  \u001b[0m | \u001b[0m 1.0     \u001b[0m | \u001b[0m 0.9     \u001b[0m | \u001b[0m 0.05    \u001b[0m | \u001b[0m 15.0    \u001b[0m | \u001b[0m 25.0    \u001b[0m | \u001b[0m 0.1     \u001b[0m | \u001b[0m 102.7   \u001b[0m |\n",
                        "| \u001b[0m 13      \u001b[0m | \u001b[0m 0.7363  \u001b[0m | \u001b[0m 1.0     \u001b[0m | \u001b[0m 0.9     \u001b[0m | \u001b[0m 0.05    \u001b[0m | \u001b[0m 8.0     \u001b[0m | \u001b[0m 25.0    \u001b[0m | \u001b[0m 0.001   \u001b[0m | \u001b[0m 80.0    \u001b[0m |\n",
                        "| \u001b[0m 14      \u001b[0m | \u001b[0m 0.8167  \u001b[0m | \u001b[0m 1.0     \u001b[0m | \u001b[0m 0.9     \u001b[0m | \u001b[0m 0.05    \u001b[0m | \u001b[0m 8.0     \u001b[0m | \u001b[0m 10.0    \u001b[0m | \u001b[0m 0.001   \u001b[0m | \u001b[0m 108.8   \u001b[0m |\n",
                        "| \u001b[0m 15      \u001b[0m | \u001b[0m 0.8167  \u001b[0m | \u001b[0m 1.0     \u001b[0m | \u001b[0m 0.9     \u001b[0m | \u001b[0m 0.05    \u001b[0m | \u001b[0m 15.0    \u001b[0m | \u001b[0m 18.4    \u001b[0m | \u001b[0m 0.001   \u001b[0m | \u001b[0m 112.0   \u001b[0m |\n",
                        "=============================================================================================================\n"
                    ]
                }
            ],
            "metadata": {}
        },
        {
            "cell_type": "code",
            "execution_count": 9,
            "source": [
                "opt_parameters=bayesian_ouput.max['params']\n",
                "opt_parameters"
            ],
            "outputs": [
                {
                    "output_type": "execute_result",
                    "data": {
                        "text/plain": [
                            "{'bagging_fraction': 1.0,\n",
                            " 'feature_fraction': 0.9,\n",
                            " 'learning_rate': 0.05,\n",
                            " 'max_depth': 15.0,\n",
                            " 'min_child_weight': 10.0,\n",
                            " 'min_split_gain': 0.001,\n",
                            " 'num_leaves': 115.77094520211915}"
                        ]
                    },
                    "metadata": {},
                    "execution_count": 9
                }
            ],
            "metadata": {}
        },
        {
            "cell_type": "code",
            "execution_count": null,
            "source": [
                "filename=\"opt_parameters_{}.pkl\".format(dt.datetime.now().strftime(\"%Y%m%d_%H%M%S\"))\n",
                "a_file = open(filename, \"wb\")\n",
                "\n",
                "pickle.dump(opt_parameters, a_file)\n",
                "\n",
                "a_file.close()"
            ],
            "outputs": [],
            "metadata": {}
        },
        {
            "cell_type": "code",
            "execution_count": null,
            "source": [
                "a_file = open(filename,\"rb\")\n",
                "output = pickle.load(a_file)\n",
                "output"
            ],
            "outputs": [],
            "metadata": {}
        },
        {
            "cell_type": "code",
            "execution_count": null,
            "source": [
                "#optimizer.max['params']"
            ],
            "outputs": [],
            "metadata": {}
        },
        {
            "cell_type": "code",
            "execution_count": null,
            "source": [
                "#'bagging_fraction': 1.0, 'feature_fraction': 0.9, 'max_depth': 8.0, 'min_child_weight': 25.0, 'min_split_gain': 0.013771321931506838, 'num_leaves': 88.93816438820497}"
            ],
            "outputs": [],
            "metadata": {}
        },
        {
            "cell_type": "code",
            "execution_count": 10,
            "source": [
                "hyper_params = {\n",
                "    'task': 'train',\n",
                "    'boosting_type': 'gbdt',\n",
                "    'objective': 'regression',\n",
                "    'metric': 'l2',\n",
                "    'learning_rate': opt_parameters.get(\"learning_rate\"),\n",
                "    'feature_fraction': opt_parameters.get(\"feature_fraction\"),\n",
                "    'bagging_fraction': opt_parameters.get(\"bagging_fraction\"),\n",
                "    #'bagging_freq': 10,\n",
                "    'verbose': -1,\n",
                "    \"max_depth\": int(round(opt_parameters.get(\"max_depth\"))),\n",
                "    \"num_leaves\": int(round(opt_parameters.get(\"num_leaves\"))),  \n",
                "    #\"max_bin\": 512,\n",
                "    'min_split_gain' : opt_parameters.get(\"min_split_gain\"),\n",
                "    \"num_iterations\": 200,\n",
                "    \"n_estimators\": 10,\n",
                "    'min_child_weight' : opt_parameters.get(\"min_child_weight\")\n",
                "}"
            ],
            "outputs": [],
            "metadata": {}
        },
        {
            "cell_type": "code",
            "execution_count": 11,
            "source": [
                "#Construct a gradient boosting model.\n",
                "gbm = lgb.LGBMRegressor(**hyper_params)"
            ],
            "outputs": [],
            "metadata": {}
        },
        {
            "cell_type": "code",
            "execution_count": 12,
            "source": [
                "lgbm_train = lgb.Dataset(X, label=y)\n",
                "lgbm_eval = lgb.Dataset(X_test, label=Y_test,reference=lgbm_train)"
            ],
            "outputs": [],
            "metadata": {}
        },
        {
            "cell_type": "code",
            "execution_count": 13,
            "source": [
                "gbm = lgb.train(params=hyper_params,\n",
                "                train_set=lgbm_train,\n",
                "                valid_sets=lgbm_eval,\n",
                "                verbose_eval=20,\n",
                "                #eval_metric='lgb_r2_score',\n",
                "                early_stopping_rounds=100)"
            ],
            "outputs": [
                {
                    "output_type": "stream",
                    "name": "stdout",
                    "text": [
                        "Training until validation scores don't improve for 100 rounds\n",
                        "Did not meet early stopping. Best iteration is:\n",
                        "[10]\tvalid_0's l2: 32.6997\n"
                    ]
                }
            ],
            "metadata": {}
        },
        {
            "cell_type": "code",
            "execution_count": 14,
            "source": [
                "#Build a gradient boosting model from the training set (X, y)\n",
                "\"\"\" gbm.fit(X, y,\n",
                "        eval_set=[(X_test, Y_test)],\n",
                "        eval_metric='l1',\n",
                "        early_stopping_rounds=50) \"\"\"\n"
            ],
            "outputs": [
                {
                    "output_type": "execute_result",
                    "data": {
                        "text/plain": [
                            "\" gbm.fit(X, y,\\n        eval_set=[(X_test, Y_test)],\\n        eval_metric='l1',\\n        early_stopping_rounds=50) \""
                        ]
                    },
                    "metadata": {},
                    "execution_count": 14
                }
            ],
            "metadata": {}
        },
        {
            "cell_type": "code",
            "execution_count": 15,
            "source": [
                "Y_pred = gbm.predict(X_train, num_iteration=gbm.best_iteration)"
            ],
            "outputs": [],
            "metadata": {}
        },
        {
            "cell_type": "code",
            "execution_count": 16,
            "source": [
                "print('The r2 of prediction is:', r2_score(y, Y_pred))\n",
                "print('The MSE of prediction is:', mean_squared_error(y, Y_pred, squared=True))\n",
                "print('The RMSE of prediction is:', mean_squared_error(y, Y_pred, squared=False))"
            ],
            "outputs": [
                {
                    "output_type": "stream",
                    "name": "stdout",
                    "text": [
                        "The r2 of prediction is: 0.571129009601562\n",
                        "The MSE of prediction is: 29.122449334979812\n",
                        "The RMSE of prediction is: 5.3965219665058175\n"
                    ]
                }
            ],
            "metadata": {}
        },
        {
            "cell_type": "code",
            "execution_count": 17,
            "source": [
                "aux_y=pd.DataFrame(y)\n",
                "aux_y.reset_index(inplace=True)\n",
                "aux_y.drop(['index'], inplace=True, axis=1)\n",
                "aux_y_pred=pd.DataFrame(Y_pred)\n",
                "aux_y_pred.reset_index(inplace=True)\n",
                "aux_y_pred.drop(['index'], inplace=True, axis=1)\n",
                "frames=[aux_y,aux_y_pred]\n",
                "result=pd.concat(frames,axis=1)\n",
                "result"
            ],
            "outputs": [
                {
                    "output_type": "execute_result",
                    "data": {
                        "text/plain": [
                            "     COLLISSION_PROBABILITY_TARGET          0\n",
                            "0                       -14.245728 -25.232460\n",
                            "1                       -10.863279 -18.606522\n",
                            "2                       -23.480697 -25.583255\n",
                            "3                       -11.818728 -18.606522\n",
                            "4                       -30.000000 -27.393545\n",
                            "..                             ...        ...\n",
                            "155                     -30.000000 -27.440501\n",
                            "156                     -30.000000 -27.473499\n",
                            "157                     -30.000000 -27.487137\n",
                            "158                      -7.299383 -18.606522\n",
                            "159                     -30.000000 -27.300847\n",
                            "\n",
                            "[160 rows x 2 columns]"
                        ],
                        "text/html": [
                            "<div>\n",
                            "<style scoped>\n",
                            "    .dataframe tbody tr th:only-of-type {\n",
                            "        vertical-align: middle;\n",
                            "    }\n",
                            "\n",
                            "    .dataframe tbody tr th {\n",
                            "        vertical-align: top;\n",
                            "    }\n",
                            "\n",
                            "    .dataframe thead th {\n",
                            "        text-align: right;\n",
                            "    }\n",
                            "</style>\n",
                            "<table border=\"1\" class=\"dataframe\">\n",
                            "  <thead>\n",
                            "    <tr style=\"text-align: right;\">\n",
                            "      <th></th>\n",
                            "      <th>COLLISSION_PROBABILITY_TARGET</th>\n",
                            "      <th>0</th>\n",
                            "    </tr>\n",
                            "  </thead>\n",
                            "  <tbody>\n",
                            "    <tr>\n",
                            "      <th>0</th>\n",
                            "      <td>-14.245728</td>\n",
                            "      <td>-25.232460</td>\n",
                            "    </tr>\n",
                            "    <tr>\n",
                            "      <th>1</th>\n",
                            "      <td>-10.863279</td>\n",
                            "      <td>-18.606522</td>\n",
                            "    </tr>\n",
                            "    <tr>\n",
                            "      <th>2</th>\n",
                            "      <td>-23.480697</td>\n",
                            "      <td>-25.583255</td>\n",
                            "    </tr>\n",
                            "    <tr>\n",
                            "      <th>3</th>\n",
                            "      <td>-11.818728</td>\n",
                            "      <td>-18.606522</td>\n",
                            "    </tr>\n",
                            "    <tr>\n",
                            "      <th>4</th>\n",
                            "      <td>-30.000000</td>\n",
                            "      <td>-27.393545</td>\n",
                            "    </tr>\n",
                            "    <tr>\n",
                            "      <th>...</th>\n",
                            "      <td>...</td>\n",
                            "      <td>...</td>\n",
                            "    </tr>\n",
                            "    <tr>\n",
                            "      <th>155</th>\n",
                            "      <td>-30.000000</td>\n",
                            "      <td>-27.440501</td>\n",
                            "    </tr>\n",
                            "    <tr>\n",
                            "      <th>156</th>\n",
                            "      <td>-30.000000</td>\n",
                            "      <td>-27.473499</td>\n",
                            "    </tr>\n",
                            "    <tr>\n",
                            "      <th>157</th>\n",
                            "      <td>-30.000000</td>\n",
                            "      <td>-27.487137</td>\n",
                            "    </tr>\n",
                            "    <tr>\n",
                            "      <th>158</th>\n",
                            "      <td>-7.299383</td>\n",
                            "      <td>-18.606522</td>\n",
                            "    </tr>\n",
                            "    <tr>\n",
                            "      <th>159</th>\n",
                            "      <td>-30.000000</td>\n",
                            "      <td>-27.300847</td>\n",
                            "    </tr>\n",
                            "  </tbody>\n",
                            "</table>\n",
                            "<p>160 rows × 2 columns</p>\n",
                            "</div>"
                        ]
                    },
                    "metadata": {},
                    "execution_count": 17
                }
            ],
            "metadata": {}
        },
        {
            "cell_type": "code",
            "execution_count": null,
            "source": [],
            "outputs": [],
            "metadata": {}
        }
    ],
    "metadata": {
        "orig_nbformat": 4,
        "language_info": {
            "name": "python",
            "version": "3.7.6",
            "mimetype": "text/x-python",
            "codemirror_mode": {
                "name": "ipython",
                "version": 3
            },
            "pygments_lexer": "ipython3",
            "nbconvert_exporter": "python",
            "file_extension": ".py"
        },
        "kernelspec": {
            "name": "python3",
            "display_name": "Python 3.7.6 64-bit ('base': conda)"
        },
        "interpreter": {
            "hash": "2e85db0d6cccfdde710fbbd04098e00f256a22b321d8c0df509f8fabaad6d9ac"
        }
    },
    "nbformat": 4,
    "nbformat_minor": 2
}