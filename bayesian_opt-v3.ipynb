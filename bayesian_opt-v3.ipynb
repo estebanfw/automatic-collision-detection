{
    "cells": [
        {
            "cell_type": "code",
            "execution_count": 1,
            "source": [
                "import pandas as pd\n",
                "import numpy as np\n",
                "import lightgbm as lgb\n",
                "from bayes_opt import BayesianOptimization\n",
                "from sklearn.datasets import load_boston\n",
                "from sklearn.metrics import r2_score, mean_squared_log_error, mean_squared_error,mean_absolute_error\n",
                "import datetime as dt\n",
                "import pickle\n",
                "import warnings\n",
                "warnings.filterwarnings('ignore')\n",
                "from sklearn.model_selection import train_test_split"
            ],
            "outputs": [],
            "metadata": {}
        },
        {
            "cell_type": "code",
            "execution_count": 2,
            "source": [
                "data=pd.read_pickle(\"full_dataframe_20210803_150443.pkl\")\n",
                "data.reset_index(inplace=True)\n",
                "data.drop(['index','event_id'], inplace=True, axis=1)\n",
                "print(data.shape)\n",
                "data.head()"
            ],
            "outputs": [
                {
                    "output_type": "stream",
                    "name": "stdout",
                    "text": [
                        "(7680, 531)\n"
                    ]
                },
                {
                    "output_type": "execute_result",
                    "data": {
                        "text/plain": [
                            "   MISS_DISTANCE  RELATIVE_SPEED  RELATIVE_POSITION_R  RELATIVE_POSITION_T  \\\n",
                            "0        18753.0         14347.0               -700.1              -5172.4   \n",
                            "1        23982.0         13574.0                 22.3              10104.3   \n",
                            "2        23709.0         12093.0                188.2             -13921.3   \n",
                            "3          314.0          2001.0                -18.4               -311.4   \n",
                            "4        10978.0         10027.0                132.6              -8226.7   \n",
                            "\n",
                            "   RELATIVE_POSITION_N  RELATIVE_VELOCITY_R  RELATIVE_VELOCITY_T  \\\n",
                            "0              18012.1                 14.4             -13791.4   \n",
                            "1              21749.5                -39.7             -12310.9   \n",
                            "2              19191.2                 19.7              -9788.5   \n",
                            "3                -42.7                  0.5               -268.6   \n",
                            "4              -7268.6                  8.8              -6638.6   \n",
                            "\n",
                            "   RELATIVE_VELOCITY_N  COLLISSION_PROBABILITY  OBJECT1_CR_R  ...  \\\n",
                            "0              -3957.2              -30.000000     22.474480  ...   \n",
                            "1               5718.9              -30.000000     78.188040  ...   \n",
                            "2              -7101.8              -30.000000     31.349310  ...   \n",
                            "3               1983.8              -16.843451     24.527640  ...   \n",
                            "4               7515.2              -30.000000      1.362408  ...   \n",
                            "\n",
                            "   OBJECT2_CORR_CTDOT_R_4  OBJECT2_CORR_CTDOT_T_4  OBJECT2_CORR_CTDOT_N_4  \\\n",
                            "0               -0.999926                0.378319               -0.845081   \n",
                            "1               -0.999511               -0.675979               -0.776708   \n",
                            "2               -0.999995               -0.973987                0.792263   \n",
                            "3               -0.999942               -0.121330               -0.007675   \n",
                            "4               -0.999340                0.352616               -0.301764   \n",
                            "\n",
                            "   OBJECT2_CORR_CTDOT_RDOT_4  OBJECT2_CORR_CNDOT_R_4  OBJECT2_CORR_CNDOT_T_4  \\\n",
                            "0                  -0.301615                0.901438               -0.372185   \n",
                            "1                   0.667410                0.911423                0.652982   \n",
                            "2                   0.961697               -0.517752               -0.543370   \n",
                            "3                   0.161742                0.087987                0.034350   \n",
                            "4                  -0.332939                0.229495               -0.077586   \n",
                            "\n",
                            "   OBJECT2_CORR_CNDOT_N_4  OBJECT2_CORR_CNDOT_RDOT_4  \\\n",
                            "0                0.971804                   0.258500   \n",
                            "1                0.860347                  -0.641016   \n",
                            "2                0.926369                   0.531127   \n",
                            "3                0.360326                  -0.070074   \n",
                            "4                0.700588                   0.085000   \n",
                            "\n",
                            "   OBJECT2_CORR_CNDOT_TDOT_4  COLLISSION_PROBABILITY_TARGET  \n",
                            "0                  -0.901937                     -30.000000  \n",
                            "1                  -0.911900                     -30.000000  \n",
                            "2                   0.517949                     -27.650917  \n",
                            "3                  -0.088322                     -30.000000  \n",
                            "4                  -0.229904                     -30.000000  \n",
                            "\n",
                            "[5 rows x 531 columns]"
                        ],
                        "text/html": [
                            "<div>\n",
                            "<style scoped>\n",
                            "    .dataframe tbody tr th:only-of-type {\n",
                            "        vertical-align: middle;\n",
                            "    }\n",
                            "\n",
                            "    .dataframe tbody tr th {\n",
                            "        vertical-align: top;\n",
                            "    }\n",
                            "\n",
                            "    .dataframe thead th {\n",
                            "        text-align: right;\n",
                            "    }\n",
                            "</style>\n",
                            "<table border=\"1\" class=\"dataframe\">\n",
                            "  <thead>\n",
                            "    <tr style=\"text-align: right;\">\n",
                            "      <th></th>\n",
                            "      <th>MISS_DISTANCE</th>\n",
                            "      <th>RELATIVE_SPEED</th>\n",
                            "      <th>RELATIVE_POSITION_R</th>\n",
                            "      <th>RELATIVE_POSITION_T</th>\n",
                            "      <th>RELATIVE_POSITION_N</th>\n",
                            "      <th>RELATIVE_VELOCITY_R</th>\n",
                            "      <th>RELATIVE_VELOCITY_T</th>\n",
                            "      <th>RELATIVE_VELOCITY_N</th>\n",
                            "      <th>COLLISSION_PROBABILITY</th>\n",
                            "      <th>OBJECT1_CR_R</th>\n",
                            "      <th>...</th>\n",
                            "      <th>OBJECT2_CORR_CTDOT_R_4</th>\n",
                            "      <th>OBJECT2_CORR_CTDOT_T_4</th>\n",
                            "      <th>OBJECT2_CORR_CTDOT_N_4</th>\n",
                            "      <th>OBJECT2_CORR_CTDOT_RDOT_4</th>\n",
                            "      <th>OBJECT2_CORR_CNDOT_R_4</th>\n",
                            "      <th>OBJECT2_CORR_CNDOT_T_4</th>\n",
                            "      <th>OBJECT2_CORR_CNDOT_N_4</th>\n",
                            "      <th>OBJECT2_CORR_CNDOT_RDOT_4</th>\n",
                            "      <th>OBJECT2_CORR_CNDOT_TDOT_4</th>\n",
                            "      <th>COLLISSION_PROBABILITY_TARGET</th>\n",
                            "    </tr>\n",
                            "  </thead>\n",
                            "  <tbody>\n",
                            "    <tr>\n",
                            "      <th>0</th>\n",
                            "      <td>18753.0</td>\n",
                            "      <td>14347.0</td>\n",
                            "      <td>-700.1</td>\n",
                            "      <td>-5172.4</td>\n",
                            "      <td>18012.1</td>\n",
                            "      <td>14.4</td>\n",
                            "      <td>-13791.4</td>\n",
                            "      <td>-3957.2</td>\n",
                            "      <td>-30.000000</td>\n",
                            "      <td>22.474480</td>\n",
                            "      <td>...</td>\n",
                            "      <td>-0.999926</td>\n",
                            "      <td>0.378319</td>\n",
                            "      <td>-0.845081</td>\n",
                            "      <td>-0.301615</td>\n",
                            "      <td>0.901438</td>\n",
                            "      <td>-0.372185</td>\n",
                            "      <td>0.971804</td>\n",
                            "      <td>0.258500</td>\n",
                            "      <td>-0.901937</td>\n",
                            "      <td>-30.000000</td>\n",
                            "    </tr>\n",
                            "    <tr>\n",
                            "      <th>1</th>\n",
                            "      <td>23982.0</td>\n",
                            "      <td>13574.0</td>\n",
                            "      <td>22.3</td>\n",
                            "      <td>10104.3</td>\n",
                            "      <td>21749.5</td>\n",
                            "      <td>-39.7</td>\n",
                            "      <td>-12310.9</td>\n",
                            "      <td>5718.9</td>\n",
                            "      <td>-30.000000</td>\n",
                            "      <td>78.188040</td>\n",
                            "      <td>...</td>\n",
                            "      <td>-0.999511</td>\n",
                            "      <td>-0.675979</td>\n",
                            "      <td>-0.776708</td>\n",
                            "      <td>0.667410</td>\n",
                            "      <td>0.911423</td>\n",
                            "      <td>0.652982</td>\n",
                            "      <td>0.860347</td>\n",
                            "      <td>-0.641016</td>\n",
                            "      <td>-0.911900</td>\n",
                            "      <td>-30.000000</td>\n",
                            "    </tr>\n",
                            "    <tr>\n",
                            "      <th>2</th>\n",
                            "      <td>23709.0</td>\n",
                            "      <td>12093.0</td>\n",
                            "      <td>188.2</td>\n",
                            "      <td>-13921.3</td>\n",
                            "      <td>19191.2</td>\n",
                            "      <td>19.7</td>\n",
                            "      <td>-9788.5</td>\n",
                            "      <td>-7101.8</td>\n",
                            "      <td>-30.000000</td>\n",
                            "      <td>31.349310</td>\n",
                            "      <td>...</td>\n",
                            "      <td>-0.999995</td>\n",
                            "      <td>-0.973987</td>\n",
                            "      <td>0.792263</td>\n",
                            "      <td>0.961697</td>\n",
                            "      <td>-0.517752</td>\n",
                            "      <td>-0.543370</td>\n",
                            "      <td>0.926369</td>\n",
                            "      <td>0.531127</td>\n",
                            "      <td>0.517949</td>\n",
                            "      <td>-27.650917</td>\n",
                            "    </tr>\n",
                            "    <tr>\n",
                            "      <th>3</th>\n",
                            "      <td>314.0</td>\n",
                            "      <td>2001.0</td>\n",
                            "      <td>-18.4</td>\n",
                            "      <td>-311.4</td>\n",
                            "      <td>-42.7</td>\n",
                            "      <td>0.5</td>\n",
                            "      <td>-268.6</td>\n",
                            "      <td>1983.8</td>\n",
                            "      <td>-16.843451</td>\n",
                            "      <td>24.527640</td>\n",
                            "      <td>...</td>\n",
                            "      <td>-0.999942</td>\n",
                            "      <td>-0.121330</td>\n",
                            "      <td>-0.007675</td>\n",
                            "      <td>0.161742</td>\n",
                            "      <td>0.087987</td>\n",
                            "      <td>0.034350</td>\n",
                            "      <td>0.360326</td>\n",
                            "      <td>-0.070074</td>\n",
                            "      <td>-0.088322</td>\n",
                            "      <td>-30.000000</td>\n",
                            "    </tr>\n",
                            "    <tr>\n",
                            "      <th>4</th>\n",
                            "      <td>10978.0</td>\n",
                            "      <td>10027.0</td>\n",
                            "      <td>132.6</td>\n",
                            "      <td>-8226.7</td>\n",
                            "      <td>-7268.6</td>\n",
                            "      <td>8.8</td>\n",
                            "      <td>-6638.6</td>\n",
                            "      <td>7515.2</td>\n",
                            "      <td>-30.000000</td>\n",
                            "      <td>1.362408</td>\n",
                            "      <td>...</td>\n",
                            "      <td>-0.999340</td>\n",
                            "      <td>0.352616</td>\n",
                            "      <td>-0.301764</td>\n",
                            "      <td>-0.332939</td>\n",
                            "      <td>0.229495</td>\n",
                            "      <td>-0.077586</td>\n",
                            "      <td>0.700588</td>\n",
                            "      <td>0.085000</td>\n",
                            "      <td>-0.229904</td>\n",
                            "      <td>-30.000000</td>\n",
                            "    </tr>\n",
                            "  </tbody>\n",
                            "</table>\n",
                            "<p>5 rows × 531 columns</p>\n",
                            "</div>"
                        ]
                    },
                    "metadata": {},
                    "execution_count": 2
                }
            ],
            "metadata": {}
        },
        {
            "cell_type": "code",
            "execution_count": 3,
            "source": [
                "data=data.head(100)"
            ],
            "outputs": [],
            "metadata": {}
        },
        {
            "cell_type": "code",
            "execution_count": 4,
            "source": [
                "data.shape"
            ],
            "outputs": [
                {
                    "output_type": "execute_result",
                    "data": {
                        "text/plain": [
                            "(100, 531)"
                        ]
                    },
                    "metadata": {},
                    "execution_count": 4
                }
            ],
            "metadata": {}
        },
        {
            "cell_type": "code",
            "execution_count": 5,
            "source": [
                "train, test = train_test_split(data, test_size=0.25, random_state=42)"
            ],
            "outputs": [],
            "metadata": {}
        },
        {
            "cell_type": "code",
            "execution_count": 6,
            "source": [
                "print(\"Train dataframe dimension {} x {}\".format(train.shape[0],train.shape[1]))\n",
                "print(\"Test dataframe dimension {} x {}\".format(test.shape[0],test.shape[1]))"
            ],
            "outputs": [
                {
                    "output_type": "stream",
                    "name": "stdout",
                    "text": [
                        "Train dataframe dimension 75 x 531\n",
                        "Test dataframe dimension 25 x 531\n"
                    ]
                }
            ],
            "metadata": {}
        },
        {
            "cell_type": "code",
            "execution_count": 7,
            "source": [
                "Y_train = train[\"COLLISSION_PROBABILITY_TARGET\"]\n",
                "X_train= train.drop([\"COLLISSION_PROBABILITY_TARGET\"], axis=1)\n",
                "Y_test = test[\"COLLISSION_PROBABILITY_TARGET\"]\n",
                "X_test= test.drop([\"COLLISSION_PROBABILITY_TARGET\"], axis=1)\n"
            ],
            "outputs": [],
            "metadata": {}
        },
        {
            "cell_type": "code",
            "execution_count": 8,
            "source": [
                "X = X_train\n",
                "y = Y_train"
            ],
            "outputs": [],
            "metadata": {}
        },
        {
            "cell_type": "code",
            "execution_count": 9,
            "source": [
                "def bayesian_opt_lgbm(X, y, init_iter=3, n_iters=7, random_state=11, seed = 101, num_iterations = 100):\n",
                "      dtrain = lgb.Dataset(data=X, label=y)\n",
                "      #Metric evaluation functions\n",
                "      def lgb_r2_score(preds, dtrain):\n",
                "            labels = dtrain.get_label()\n",
                "            return 'metric', r2_score(labels, preds), True\n",
                "      def lgb_mean_absolute_error(preds, dtrain):\n",
                "            labels = dtrain.get_label()\n",
                "            return 'metric', mean_absolute_error(labels, preds), True\n",
                "      def lgb_adjusted_r2_score(preds, dtrain):\n",
                "            labels = dtrain.get_label()\n",
                "            n=dtrain.num_data()\n",
                "            k=dtrain.num_feature()\n",
                "            return 'metric', ((1-r2_score(labels, preds))*(n-1))/(n-k-1), True\n",
                "            \n",
                "      # Select metric\n",
                "      metric='lgb_adjusted_r2_score'\n",
                "      metric_feval=lgb_adjusted_r2_score\n",
                "\n",
                "      # Objective Function\n",
                "      def hyp_lgbm(num_leaves, feature_fraction, learning_rate, bagging_fraction, max_depth, min_split_gain, min_child_weight):\n",
                "              params = {      'application':'regression',\n",
                "                              'num_iterations': num_iterations,\n",
                "                              'early_stopping_round':50,\n",
                "                              'verbose':-1,\n",
                "                              'metric':metric} # Default parameters\n",
                "              params[\"num_leaves\"] = int(round(num_leaves))\n",
                "              params[\"learning_rate\"] = learning_rate\n",
                "              params['feature_fraction'] = max(min(feature_fraction, 1), 0)\n",
                "              params['bagging_fraction'] = max(min(bagging_fraction, 1), 0)\n",
                "              params['max_depth'] = int(round(max_depth))\n",
                "              params['min_split_gain'] = min_split_gain\n",
                "              params['min_child_weight'] = min_child_weight\n",
                "              cv_results = lgb.cv(params, dtrain, nfold=5, seed=seed,categorical_feature=[], stratified=False,\n",
                "                                  verbose_eval =None, feval=metric_feval)\n",
                "              #print(cv_results)\n",
                "              return np.max(cv_results['metric-mean'])\n",
                "    \n",
                "              # Domain space-- Range of hyperparameters \n",
                "      pds = {     'num_leaves': (80, 120),\n",
                "                  'feature_fraction': (0.1, 0.9),\n",
                "                  'bagging_fraction': (0.7, 1),\n",
                "                  'max_depth': (7, 15),\n",
                "                  'learning_rate':(0.001,0.05), \n",
                "                  'min_split_gain': (0.001, 0.1),\n",
                "                  'min_child_weight': (10, 25)\n",
                "                  }\n",
                "      # Surrogate model\n",
                "      optimizer = BayesianOptimization(hyp_lgbm, pds, random_state=random_state)\n",
                "                                          \n",
                "      # Optimize\n",
                "      optimizer.maximize(init_points=init_iter, n_iter=n_iters)\n",
                "\n",
                "      return optimizer\n",
                "\n",
                "bayesian_ouput=bayesian_opt_lgbm(X, y, init_iter=5, n_iters=15, random_state=77, seed = 101,num_iterations=100)"
            ],
            "outputs": [
                {
                    "output_type": "stream",
                    "name": "stdout",
                    "text": [
                        "|   iter    |  target   | baggin... | featur... | learni... | max_depth | min_ch... | min_sp... | num_le... |\n",
                        "-------------------------------------------------------------------------------------------------------------\n",
                        "| \u001b[0m 1       \u001b[0m | \u001b[0m-0.02011 \u001b[0m | \u001b[0m 0.9757  \u001b[0m | \u001b[0m 0.6138  \u001b[0m | \u001b[0m 0.03793 \u001b[0m | \u001b[0m 8.115   \u001b[0m | \u001b[0m 11.31   \u001b[0m | \u001b[0m 0.07901 \u001b[0m | \u001b[0m 93.05   \u001b[0m |\n",
                        "| \u001b[0m 2       \u001b[0m | \u001b[0m-0.02189 \u001b[0m | \u001b[0m 0.8623  \u001b[0m | \u001b[0m 0.2922  \u001b[0m | \u001b[0m 0.02773 \u001b[0m | \u001b[0m 10.2    \u001b[0m | \u001b[0m 20.73   \u001b[0m | \u001b[0m 0.08383 \u001b[0m | \u001b[0m 103.5   \u001b[0m |\n",
                        "| \u001b[95m 3       \u001b[0m | \u001b[95m-0.02008 \u001b[0m | \u001b[95m 0.7888  \u001b[0m | \u001b[95m 0.3248  \u001b[0m | \u001b[95m 0.03557 \u001b[0m | \u001b[95m 10.38   \u001b[0m | \u001b[95m 10.86   \u001b[0m | \u001b[95m 0.07496 \u001b[0m | \u001b[95m 98.09   \u001b[0m |\n",
                        "| \u001b[0m 4       \u001b[0m | \u001b[0m-0.02348 \u001b[0m | \u001b[0m 0.7527  \u001b[0m | \u001b[0m 0.1395  \u001b[0m | \u001b[0m 0.01533 \u001b[0m | \u001b[0m 7.534   \u001b[0m | \u001b[0m 21.27   \u001b[0m | \u001b[0m 0.007313\u001b[0m | \u001b[0m 97.28   \u001b[0m |\n",
                        "| \u001b[0m 5       \u001b[0m | \u001b[0m-0.02019 \u001b[0m | \u001b[0m 0.8093  \u001b[0m | \u001b[0m 0.2216  \u001b[0m | \u001b[0m 0.02779 \u001b[0m | \u001b[0m 10.55   \u001b[0m | \u001b[0m 10.54   \u001b[0m | \u001b[0m 0.08247 \u001b[0m | \u001b[0m 90.93   \u001b[0m |\n",
                        "| \u001b[0m 6       \u001b[0m | \u001b[0m-0.02152 \u001b[0m | \u001b[0m 0.8714  \u001b[0m | \u001b[0m 0.4619  \u001b[0m | \u001b[0m 0.009418\u001b[0m | \u001b[0m 7.446   \u001b[0m | \u001b[0m 10.23   \u001b[0m | \u001b[0m 0.05503 \u001b[0m | \u001b[0m 119.8   \u001b[0m |\n",
                        "| \u001b[95m 7       \u001b[0m | \u001b[95m-0.02002 \u001b[0m | \u001b[95m 0.8732  \u001b[0m | \u001b[95m 0.5574  \u001b[0m | \u001b[95m 0.02964 \u001b[0m | \u001b[95m 14.99   \u001b[0m | \u001b[95m 10.23   \u001b[0m | \u001b[95m 0.05953 \u001b[0m | \u001b[95m 80.43   \u001b[0m |\n",
                        "| \u001b[0m 8       \u001b[0m | \u001b[0m-0.02011 \u001b[0m | \u001b[0m 0.9609  \u001b[0m | \u001b[0m 0.5391  \u001b[0m | \u001b[0m 0.01982 \u001b[0m | \u001b[0m 7.181   \u001b[0m | \u001b[0m 10.2    \u001b[0m | \u001b[0m 0.0589  \u001b[0m | \u001b[0m 81.34   \u001b[0m |\n",
                        "| \u001b[95m 9       \u001b[0m | \u001b[95m-0.01992 \u001b[0m | \u001b[95m 0.793   \u001b[0m | \u001b[95m 0.7935  \u001b[0m | \u001b[95m 0.04388 \u001b[0m | \u001b[95m 14.68   \u001b[0m | \u001b[95m 11.02   \u001b[0m | \u001b[95m 0.068   \u001b[0m | \u001b[95m 80.81   \u001b[0m |\n",
                        "| \u001b[0m 10      \u001b[0m | \u001b[0m-0.02047 \u001b[0m | \u001b[0m 0.9445  \u001b[0m | \u001b[0m 0.1498  \u001b[0m | \u001b[0m 0.04019 \u001b[0m | \u001b[0m 13.92   \u001b[0m | \u001b[0m 10.31   \u001b[0m | \u001b[0m 0.03201 \u001b[0m | \u001b[0m 80.12   \u001b[0m |\n",
                        "| \u001b[0m 11      \u001b[0m | \u001b[0m-0.02029 \u001b[0m | \u001b[0m 0.9479  \u001b[0m | \u001b[0m 0.5966  \u001b[0m | \u001b[0m 0.01617 \u001b[0m | \u001b[0m 7.148   \u001b[0m | \u001b[0m 10.46   \u001b[0m | \u001b[0m 0.07763 \u001b[0m | \u001b[0m 80.32   \u001b[0m |\n",
                        "| \u001b[0m 12      \u001b[0m | \u001b[0m-0.02091 \u001b[0m | \u001b[0m 0.7261  \u001b[0m | \u001b[0m 0.799   \u001b[0m | \u001b[0m 0.0114  \u001b[0m | \u001b[0m 14.97   \u001b[0m | \u001b[0m 10.04   \u001b[0m | \u001b[0m 0.04741 \u001b[0m | \u001b[0m 81.03   \u001b[0m |\n",
                        "| \u001b[95m 13      \u001b[0m | \u001b[95m-0.01986 \u001b[0m | \u001b[95m 0.7382  \u001b[0m | \u001b[95m 0.6089  \u001b[0m | \u001b[95m 0.02952 \u001b[0m | \u001b[95m 14.93   \u001b[0m | \u001b[95m 10.61   \u001b[0m | \u001b[95m 0.0326  \u001b[0m | \u001b[95m 119.0   \u001b[0m |\n",
                        "| \u001b[0m 14      \u001b[0m | \u001b[0m-0.02513 \u001b[0m | \u001b[0m 0.7286  \u001b[0m | \u001b[0m 0.4073  \u001b[0m | \u001b[0m 0.003186\u001b[0m | \u001b[0m 14.23   \u001b[0m | \u001b[0m 10.13   \u001b[0m | \u001b[0m 0.04455 \u001b[0m | \u001b[0m 119.9   \u001b[0m |\n",
                        "| \u001b[0m 15      \u001b[0m | \u001b[0m-0.02284 \u001b[0m | \u001b[0m 0.8871  \u001b[0m | \u001b[0m 0.1953  \u001b[0m | \u001b[0m 0.02609 \u001b[0m | \u001b[0m 14.96   \u001b[0m | \u001b[0m 24.87   \u001b[0m | \u001b[0m 0.01672 \u001b[0m | \u001b[0m 80.34   \u001b[0m |\n",
                        "| \u001b[0m 16      \u001b[0m | \u001b[0m-0.02077 \u001b[0m | \u001b[0m 0.8259  \u001b[0m | \u001b[0m 0.4663  \u001b[0m | \u001b[0m 0.01212 \u001b[0m | \u001b[0m 7.273   \u001b[0m | \u001b[0m 10.17   \u001b[0m | \u001b[0m 0.0637  \u001b[0m | \u001b[0m 80.19   \u001b[0m |\n",
                        "| \u001b[0m 17      \u001b[0m | \u001b[0m-0.02326 \u001b[0m | \u001b[0m 0.7896  \u001b[0m | \u001b[0m 0.6715  \u001b[0m | \u001b[0m 0.005567\u001b[0m | \u001b[0m 8.06    \u001b[0m | \u001b[0m 10.33   \u001b[0m | \u001b[0m 0.01311 \u001b[0m | \u001b[0m 80.44   \u001b[0m |\n",
                        "| \u001b[0m 18      \u001b[0m | \u001b[0m-0.02109 \u001b[0m | \u001b[0m 0.7547  \u001b[0m | \u001b[0m 0.1769  \u001b[0m | \u001b[0m 0.01795 \u001b[0m | \u001b[0m 14.47   \u001b[0m | \u001b[0m 10.01   \u001b[0m | \u001b[0m 0.03445 \u001b[0m | \u001b[0m 80.39   \u001b[0m |\n",
                        "| \u001b[0m 19      \u001b[0m | \u001b[0m-0.01995 \u001b[0m | \u001b[0m 0.7912  \u001b[0m | \u001b[0m 0.4749  \u001b[0m | \u001b[0m 0.02617 \u001b[0m | \u001b[0m 7.173   \u001b[0m | \u001b[0m 10.07   \u001b[0m | \u001b[0m 0.03488 \u001b[0m | \u001b[0m 80.48   \u001b[0m |\n",
                        "| \u001b[0m 20      \u001b[0m | \u001b[0m-0.01998 \u001b[0m | \u001b[0m 0.8814  \u001b[0m | \u001b[0m 0.8542  \u001b[0m | \u001b[0m 0.04902 \u001b[0m | \u001b[0m 14.69   \u001b[0m | \u001b[0m 10.27   \u001b[0m | \u001b[0m 0.07073 \u001b[0m | \u001b[0m 80.79   \u001b[0m |\n",
                        "=============================================================================================================\n"
                    ]
                }
            ],
            "metadata": {}
        },
        {
            "cell_type": "code",
            "execution_count": 10,
            "source": [
                "''' #with other optimization metric: MAE\n",
                "def bayesian_opt_lgbm(X, y, init_iter=3, n_iters=7, random_state=11, seed = 101, num_iterations = 100):\n",
                "      dtrain = lgb.Dataset(data=X, label=y)\n",
                "      def lgb_mean_absolute_error(preds, dtrain):\n",
                "            labels = dtrain.get_label()\n",
                "            return 'MAE', mean_absolute_error(labels, preds), True\n",
                "      # Objective Function\n",
                "      def hyp_lgbm(num_leaves, feature_fraction, learning_rate, bagging_fraction, max_depth, min_split_gain, min_child_weight):\n",
                "              params = {      'application':'regression',\n",
                "                              'num_iterations': num_iterations,\n",
                "                              'early_stopping_round':50,\n",
                "                              'verbose':-1,\n",
                "                              'metric':'lgb_mean_absolute_error'} # Default parameters\n",
                "              params[\"num_leaves\"] = int(round(num_leaves))\n",
                "              params[\"learning_rate\"] = learning_rate\n",
                "              params['feature_fraction'] = max(min(feature_fraction, 1), 0)\n",
                "              params['bagging_fraction'] = max(min(bagging_fraction, 1), 0)\n",
                "              params['max_depth'] = int(round(max_depth))\n",
                "              params['min_split_gain'] = min_split_gain\n",
                "              params['min_child_weight'] = min_child_weight\n",
                "              cv_results = lgb.cv(params, dtrain, nfold=5, seed=seed,categorical_feature=[], stratified=False,\n",
                "                                  verbose_eval =None, feval=lgb_mean_absolute_error)\n",
                "              #print(cv_results)\n",
                "              return np.max(cv_results['MAE-mean'])\n",
                "    \n",
                "              # Domain space-- Range of hyperparameters \n",
                "      pds = {     'num_leaves': (80, 120),\n",
                "                  'feature_fraction': (0.1, 0.9),\n",
                "                  'bagging_fraction': (0.7, 1),\n",
                "                  'max_depth': (7, 15),\n",
                "                  'learning_rate':(0.001,0.05), \n",
                "                  'min_split_gain': (0.001, 0.1),\n",
                "                  'min_child_weight': (10, 25)\n",
                "                  }\n",
                "      # Surrogate model\n",
                "      optimizer = BayesianOptimization(hyp_lgbm, pds, random_state=random_state)\n",
                "                                          \n",
                "      # Optimize\n",
                "      optimizer.maximize(init_points=init_iter, n_iter=n_iters)\n",
                "\n",
                "      return optimizer\n",
                "\n",
                "bayesian_ouput=bayesian_opt_lgbm(X, y, init_iter=5, n_iters=300, random_state=77, seed = 101,num_iterations=200) '''"
            ],
            "outputs": [
                {
                    "output_type": "execute_result",
                    "data": {
                        "text/plain": [
                            "' #with other optimization metric: MAE\\ndef bayesian_opt_lgbm(X, y, init_iter=3, n_iters=7, random_state=11, seed = 101, num_iterations = 100):\\n      dtrain = lgb.Dataset(data=X, label=y)\\n      def lgb_mean_absolute_error(preds, dtrain):\\n            labels = dtrain.get_label()\\n            return \\'MAE\\', mean_absolute_error(labels, preds), True\\n      # Objective Function\\n      def hyp_lgbm(num_leaves, feature_fraction, learning_rate, bagging_fraction, max_depth, min_split_gain, min_child_weight):\\n              params = {      \\'application\\':\\'regression\\',\\n                              \\'num_iterations\\': num_iterations,\\n                              \\'early_stopping_round\\':50,\\n                              \\'verbose\\':-1,\\n                              \\'metric\\':\\'lgb_mean_absolute_error\\'} # Default parameters\\n              params[\"num_leaves\"] = int(round(num_leaves))\\n              params[\"learning_rate\"] = learning_rate\\n              params[\\'feature_fraction\\'] = max(min(feature_fraction, 1), 0)\\n              params[\\'bagging_fraction\\'] = max(min(bagging_fraction, 1), 0)\\n              params[\\'max_depth\\'] = int(round(max_depth))\\n              params[\\'min_split_gain\\'] = min_split_gain\\n              params[\\'min_child_weight\\'] = min_child_weight\\n              cv_results = lgb.cv(params, dtrain, nfold=5, seed=seed,categorical_feature=[], stratified=False,\\n                                  verbose_eval =None, feval=lgb_mean_absolute_error)\\n              #print(cv_results)\\n              return np.max(cv_results[\\'MAE-mean\\'])\\n    \\n              # Domain space-- Range of hyperparameters \\n      pds = {     \\'num_leaves\\': (80, 120),\\n                  \\'feature_fraction\\': (0.1, 0.9),\\n                  \\'bagging_fraction\\': (0.7, 1),\\n                  \\'max_depth\\': (7, 15),\\n                  \\'learning_rate\\':(0.001,0.05), \\n                  \\'min_split_gain\\': (0.001, 0.1),\\n                  \\'min_child_weight\\': (10, 25)\\n                  }\\n      # Surrogate model\\n      optimizer = BayesianOptimization(hyp_lgbm, pds, random_state=random_state)\\n                                          \\n      # Optimize\\n      optimizer.maximize(init_points=init_iter, n_iter=n_iters)\\n\\n      return optimizer\\n\\nbayesian_ouput=bayesian_opt_lgbm(X, y, init_iter=5, n_iters=300, random_state=77, seed = 101,num_iterations=200) '"
                        ]
                    },
                    "metadata": {},
                    "execution_count": 10
                }
            ],
            "metadata": {}
        },
        {
            "cell_type": "code",
            "execution_count": 11,
            "source": [
                "opt_parameters=bayesian_ouput.max['params']\n",
                "opt_parameters"
            ],
            "outputs": [
                {
                    "output_type": "execute_result",
                    "data": {
                        "text/plain": [
                            "{'bagging_fraction': 0.7381976080829555,\n",
                            " 'feature_fraction': 0.6089408104979862,\n",
                            " 'learning_rate': 0.029524490037090158,\n",
                            " 'max_depth': 14.928056267581557,\n",
                            " 'min_child_weight': 10.606487236132702,\n",
                            " 'min_split_gain': 0.03259774136545973,\n",
                            " 'num_leaves': 119.04922083909936}"
                        ]
                    },
                    "metadata": {},
                    "execution_count": 11
                }
            ],
            "metadata": {}
        },
        {
            "cell_type": "code",
            "execution_count": 12,
            "source": [
                "filename=\"opt_parameters_{}.pkl\".format(dt.datetime.now().strftime(\"%Y%m%d_%H%M%S\"))\n",
                "a_file = open(filename, \"wb\")\n",
                "\n",
                "pickle.dump(opt_parameters, a_file)\n",
                "\n",
                "a_file.close()"
            ],
            "outputs": [],
            "metadata": {}
        },
        {
            "cell_type": "code",
            "execution_count": 13,
            "source": [
                "a_file = open(filename,\"rb\")\n",
                "output = pickle.load(a_file)\n",
                "output"
            ],
            "outputs": [
                {
                    "output_type": "execute_result",
                    "data": {
                        "text/plain": [
                            "{'bagging_fraction': 0.7381976080829555,\n",
                            " 'feature_fraction': 0.6089408104979862,\n",
                            " 'learning_rate': 0.029524490037090158,\n",
                            " 'max_depth': 14.928056267581557,\n",
                            " 'min_child_weight': 10.606487236132702,\n",
                            " 'min_split_gain': 0.03259774136545973,\n",
                            " 'num_leaves': 119.04922083909936}"
                        ]
                    },
                    "metadata": {},
                    "execution_count": 13
                }
            ],
            "metadata": {}
        },
        {
            "cell_type": "code",
            "execution_count": 14,
            "source": [
                "#optimizer.max['params']"
            ],
            "outputs": [],
            "metadata": {}
        },
        {
            "cell_type": "code",
            "execution_count": 15,
            "source": [
                "#'bagging_fraction': 1.0, 'feature_fraction': 0.9, 'max_depth': 8.0, 'min_child_weight': 25.0, 'min_split_gain': 0.013771321931506838, 'num_leaves': 88.93816438820497}"
            ],
            "outputs": [],
            "metadata": {}
        },
        {
            "cell_type": "code",
            "execution_count": 16,
            "source": [
                "hyper_params = {\n",
                "    'task': 'train',\n",
                "    'boosting_type': 'gbdt',\n",
                "    'objective': 'regression',\n",
                "    'metric': 'l2',\n",
                "    'learning_rate': opt_parameters.get(\"learning_rate\"),\n",
                "    'feature_fraction': opt_parameters.get(\"feature_fraction\"),\n",
                "    'bagging_fraction': opt_parameters.get(\"bagging_fraction\"),\n",
                "    #'bagging_freq': 10,\n",
                "    'verbose': -1,\n",
                "    \"max_depth\": int(round(opt_parameters.get(\"max_depth\"))),\n",
                "    \"num_leaves\": int(round(opt_parameters.get(\"num_leaves\"))),  \n",
                "    #\"max_bin\": 512,\n",
                "    'min_split_gain' : opt_parameters.get(\"min_split_gain\"),\n",
                "    \"num_iterations\": 500,\n",
                "    \"n_estimators\": 10,\n",
                "    'min_child_weight' : opt_parameters.get(\"min_child_weight\")\n",
                "}"
            ],
            "outputs": [],
            "metadata": {}
        },
        {
            "cell_type": "code",
            "execution_count": 17,
            "source": [
                "#Construct a gradient boosting model.\n",
                "gbm = lgb.LGBMRegressor(**hyper_params)"
            ],
            "outputs": [],
            "metadata": {}
        },
        {
            "cell_type": "code",
            "execution_count": 18,
            "source": [
                "lgbm_train = lgb.Dataset(X, label=y)\n",
                "lgbm_eval = lgb.Dataset(X_test, label=Y_test,reference=lgbm_train)"
            ],
            "outputs": [],
            "metadata": {}
        },
        {
            "cell_type": "code",
            "execution_count": 19,
            "source": [
                "gbm = lgb.train(params=hyper_params,\n",
                "                train_set=lgbm_train,\n",
                "                valid_sets=lgbm_eval,\n",
                "                verbose_eval=20,\n",
                "                #eval_metric='lgb_r2_score',\n",
                "                early_stopping_rounds=100)"
            ],
            "outputs": [
                {
                    "output_type": "stream",
                    "name": "stdout",
                    "text": [
                        "Training until validation scores don't improve for 100 rounds\n",
                        "Did not meet early stopping. Best iteration is:\n",
                        "[10]\tvalid_0's l2: 50.3436\n"
                    ]
                }
            ],
            "metadata": {}
        },
        {
            "cell_type": "code",
            "execution_count": 20,
            "source": [
                "#Build a gradient boosting model from the training set (X, y)\n",
                "\"\"\" gbm.fit(X, y,\n",
                "        eval_set=[(X_test, Y_test)],\n",
                "        eval_metric='l1',\n",
                "        early_stopping_rounds=50) \"\"\"\n"
            ],
            "outputs": [
                {
                    "output_type": "execute_result",
                    "data": {
                        "text/plain": [
                            "\" gbm.fit(X, y,\\n        eval_set=[(X_test, Y_test)],\\n        eval_metric='l1',\\n        early_stopping_rounds=50) \""
                        ]
                    },
                    "metadata": {},
                    "execution_count": 20
                }
            ],
            "metadata": {}
        },
        {
            "cell_type": "code",
            "execution_count": 21,
            "source": [
                "Y_pred = gbm.predict(X_train, num_iteration=gbm.best_iteration)"
            ],
            "outputs": [],
            "metadata": {}
        },
        {
            "cell_type": "code",
            "execution_count": 22,
            "source": [
                "print('The r2 of prediction is:', r2_score(y, Y_pred))\n",
                "print('The MSE of prediction is:', mean_squared_error(y, Y_pred, squared=True))\n",
                "print('The RMSE of prediction is:', mean_squared_error(y, Y_pred, squared=False))"
            ],
            "outputs": [
                {
                    "output_type": "stream",
                    "name": "stdout",
                    "text": [
                        "The r2 of prediction is: 0.19601226582362552\n",
                        "The MSE of prediction is: 37.5269483373594\n",
                        "The RMSE of prediction is: 6.125924284331255\n"
                    ]
                }
            ],
            "metadata": {}
        },
        {
            "cell_type": "code",
            "execution_count": 23,
            "source": [
                "aux_y=pd.DataFrame(y)\n",
                "aux_y.reset_index(inplace=True)\n",
                "aux_y.drop(['index'], inplace=True, axis=1)\n",
                "aux_y_pred=pd.DataFrame(Y_pred)\n",
                "aux_y_pred.reset_index(inplace=True)\n",
                "aux_y_pred.drop(['index'], inplace=True, axis=1)\n",
                "frames=[aux_y,aux_y_pred]\n",
                "result=pd.concat(frames,axis=1)\n",
                "result.columns=[\"y_true\",\"y_predicted\"]\n",
                "result"
            ],
            "outputs": [
                {
                    "output_type": "execute_result",
                    "data": {
                        "text/plain": [
                            "    y_true  y_predicted\n",
                            "0    -30.0   -27.631225\n",
                            "1    -30.0   -27.607603\n",
                            "2    -30.0   -27.620931\n",
                            "3    -30.0   -27.625700\n",
                            "4    -30.0   -27.549668\n",
                            "..     ...          ...\n",
                            "70   -30.0   -27.661609\n",
                            "71   -30.0   -27.626457\n",
                            "72   -30.0   -26.603934\n",
                            "73   -30.0   -27.621954\n",
                            "74   -30.0   -26.562964\n",
                            "\n",
                            "[75 rows x 2 columns]"
                        ],
                        "text/html": [
                            "<div>\n",
                            "<style scoped>\n",
                            "    .dataframe tbody tr th:only-of-type {\n",
                            "        vertical-align: middle;\n",
                            "    }\n",
                            "\n",
                            "    .dataframe tbody tr th {\n",
                            "        vertical-align: top;\n",
                            "    }\n",
                            "\n",
                            "    .dataframe thead th {\n",
                            "        text-align: right;\n",
                            "    }\n",
                            "</style>\n",
                            "<table border=\"1\" class=\"dataframe\">\n",
                            "  <thead>\n",
                            "    <tr style=\"text-align: right;\">\n",
                            "      <th></th>\n",
                            "      <th>y_true</th>\n",
                            "      <th>y_predicted</th>\n",
                            "    </tr>\n",
                            "  </thead>\n",
                            "  <tbody>\n",
                            "    <tr>\n",
                            "      <th>0</th>\n",
                            "      <td>-30.0</td>\n",
                            "      <td>-27.631225</td>\n",
                            "    </tr>\n",
                            "    <tr>\n",
                            "      <th>1</th>\n",
                            "      <td>-30.0</td>\n",
                            "      <td>-27.607603</td>\n",
                            "    </tr>\n",
                            "    <tr>\n",
                            "      <th>2</th>\n",
                            "      <td>-30.0</td>\n",
                            "      <td>-27.620931</td>\n",
                            "    </tr>\n",
                            "    <tr>\n",
                            "      <th>3</th>\n",
                            "      <td>-30.0</td>\n",
                            "      <td>-27.625700</td>\n",
                            "    </tr>\n",
                            "    <tr>\n",
                            "      <th>4</th>\n",
                            "      <td>-30.0</td>\n",
                            "      <td>-27.549668</td>\n",
                            "    </tr>\n",
                            "    <tr>\n",
                            "      <th>...</th>\n",
                            "      <td>...</td>\n",
                            "      <td>...</td>\n",
                            "    </tr>\n",
                            "    <tr>\n",
                            "      <th>70</th>\n",
                            "      <td>-30.0</td>\n",
                            "      <td>-27.661609</td>\n",
                            "    </tr>\n",
                            "    <tr>\n",
                            "      <th>71</th>\n",
                            "      <td>-30.0</td>\n",
                            "      <td>-27.626457</td>\n",
                            "    </tr>\n",
                            "    <tr>\n",
                            "      <th>72</th>\n",
                            "      <td>-30.0</td>\n",
                            "      <td>-26.603934</td>\n",
                            "    </tr>\n",
                            "    <tr>\n",
                            "      <th>73</th>\n",
                            "      <td>-30.0</td>\n",
                            "      <td>-27.621954</td>\n",
                            "    </tr>\n",
                            "    <tr>\n",
                            "      <th>74</th>\n",
                            "      <td>-30.0</td>\n",
                            "      <td>-26.562964</td>\n",
                            "    </tr>\n",
                            "  </tbody>\n",
                            "</table>\n",
                            "<p>75 rows × 2 columns</p>\n",
                            "</div>"
                        ]
                    },
                    "metadata": {},
                    "execution_count": 23
                }
            ],
            "metadata": {}
        },
        {
            "cell_type": "code",
            "execution_count": 24,
            "source": [
                "result.y_predicted.idxmax()"
            ],
            "outputs": [
                {
                    "output_type": "execute_result",
                    "data": {
                        "text/plain": [
                            "12"
                        ]
                    },
                    "metadata": {},
                    "execution_count": 24
                }
            ],
            "metadata": {}
        },
        {
            "cell_type": "code",
            "execution_count": 25,
            "source": [
                "10**result.y_predicted[result.y_predicted.idxmax()]"
            ],
            "outputs": [
                {
                    "output_type": "execute_result",
                    "data": {
                        "text/plain": [
                            "1.0267633945005606e-25"
                        ]
                    },
                    "metadata": {},
                    "execution_count": 25
                }
            ],
            "metadata": {}
        },
        {
            "cell_type": "code",
            "execution_count": 26,
            "source": [
                "10**result.y_true[result.y_predicted.idxmax()]"
            ],
            "outputs": [
                {
                    "output_type": "execute_result",
                    "data": {
                        "text/plain": [
                            "4.773000000000008e-13"
                        ]
                    },
                    "metadata": {},
                    "execution_count": 26
                }
            ],
            "metadata": {}
        },
        {
            "cell_type": "code",
            "execution_count": 27,
            "source": [
                "10**result.y_true.max()"
            ],
            "outputs": [
                {
                    "output_type": "execute_result",
                    "data": {
                        "text/plain": [
                            "1.0200000000000009e-07"
                        ]
                    },
                    "metadata": {},
                    "execution_count": 27
                }
            ],
            "metadata": {}
        },
        {
            "cell_type": "code",
            "execution_count": 28,
            "source": [
                "10**result.y_predicted[result.y_true.idxmax()]"
            ],
            "outputs": [
                {
                    "output_type": "execute_result",
                    "data": {
                        "text/plain": [
                            "1.0267633945005606e-25"
                        ]
                    },
                    "metadata": {},
                    "execution_count": 28
                }
            ],
            "metadata": {}
        },
        {
            "cell_type": "code",
            "execution_count": 29,
            "source": [
                "result.y_true.idxmax()"
            ],
            "outputs": [
                {
                    "output_type": "execute_result",
                    "data": {
                        "text/plain": [
                            "33"
                        ]
                    },
                    "metadata": {},
                    "execution_count": 29
                }
            ],
            "metadata": {}
        },
        {
            "cell_type": "code",
            "execution_count": 30,
            "source": [
                "10**result.y_predicted[4711]"
            ],
            "outputs": [
                {
                    "output_type": "error",
                    "ename": "KeyError",
                    "evalue": "4711",
                    "traceback": [
                        "\u001b[0;31m---------------------------------------------------------------------------\u001b[0m",
                        "\u001b[0;31mKeyError\u001b[0m                                  Traceback (most recent call last)",
                        "\u001b[0;32m<ipython-input-30-40168e049b5f>\u001b[0m in \u001b[0;36m<module>\u001b[0;34m\u001b[0m\n\u001b[0;32m----> 1\u001b[0;31m \u001b[0;36m10\u001b[0m\u001b[0;34m**\u001b[0m\u001b[0mresult\u001b[0m\u001b[0;34m.\u001b[0m\u001b[0my_predicted\u001b[0m\u001b[0;34m[\u001b[0m\u001b[0;36m4711\u001b[0m\u001b[0;34m]\u001b[0m\u001b[0;34m\u001b[0m\u001b[0;34m\u001b[0m\u001b[0m\n\u001b[0m",
                        "\u001b[0;32m~/anaconda3/lib/python3.7/site-packages/pandas/core/series.py\u001b[0m in \u001b[0;36m__getitem__\u001b[0;34m(self, key)\u001b[0m\n\u001b[1;32m    869\u001b[0m         \u001b[0mkey\u001b[0m \u001b[0;34m=\u001b[0m \u001b[0mcom\u001b[0m\u001b[0;34m.\u001b[0m\u001b[0mapply_if_callable\u001b[0m\u001b[0;34m(\u001b[0m\u001b[0mkey\u001b[0m\u001b[0;34m,\u001b[0m \u001b[0mself\u001b[0m\u001b[0;34m)\u001b[0m\u001b[0;34m\u001b[0m\u001b[0;34m\u001b[0m\u001b[0m\n\u001b[1;32m    870\u001b[0m         \u001b[0;32mtry\u001b[0m\u001b[0;34m:\u001b[0m\u001b[0;34m\u001b[0m\u001b[0;34m\u001b[0m\u001b[0m\n\u001b[0;32m--> 871\u001b[0;31m             \u001b[0mresult\u001b[0m \u001b[0;34m=\u001b[0m \u001b[0mself\u001b[0m\u001b[0;34m.\u001b[0m\u001b[0mindex\u001b[0m\u001b[0;34m.\u001b[0m\u001b[0mget_value\u001b[0m\u001b[0;34m(\u001b[0m\u001b[0mself\u001b[0m\u001b[0;34m,\u001b[0m \u001b[0mkey\u001b[0m\u001b[0;34m)\u001b[0m\u001b[0;34m\u001b[0m\u001b[0;34m\u001b[0m\u001b[0m\n\u001b[0m\u001b[1;32m    872\u001b[0m \u001b[0;34m\u001b[0m\u001b[0m\n\u001b[1;32m    873\u001b[0m             \u001b[0;32mif\u001b[0m \u001b[0;32mnot\u001b[0m \u001b[0mis_scalar\u001b[0m\u001b[0;34m(\u001b[0m\u001b[0mresult\u001b[0m\u001b[0;34m)\u001b[0m\u001b[0;34m:\u001b[0m\u001b[0;34m\u001b[0m\u001b[0;34m\u001b[0m\u001b[0m\n",
                        "\u001b[0;32m~/anaconda3/lib/python3.7/site-packages/pandas/core/indexes/base.py\u001b[0m in \u001b[0;36mget_value\u001b[0;34m(self, series, key)\u001b[0m\n\u001b[1;32m   4403\u001b[0m         \u001b[0mk\u001b[0m \u001b[0;34m=\u001b[0m \u001b[0mself\u001b[0m\u001b[0;34m.\u001b[0m\u001b[0m_convert_scalar_indexer\u001b[0m\u001b[0;34m(\u001b[0m\u001b[0mk\u001b[0m\u001b[0;34m,\u001b[0m \u001b[0mkind\u001b[0m\u001b[0;34m=\u001b[0m\u001b[0;34m\"getitem\"\u001b[0m\u001b[0;34m)\u001b[0m\u001b[0;34m\u001b[0m\u001b[0;34m\u001b[0m\u001b[0m\n\u001b[1;32m   4404\u001b[0m         \u001b[0;32mtry\u001b[0m\u001b[0;34m:\u001b[0m\u001b[0;34m\u001b[0m\u001b[0;34m\u001b[0m\u001b[0m\n\u001b[0;32m-> 4405\u001b[0;31m             \u001b[0;32mreturn\u001b[0m \u001b[0mself\u001b[0m\u001b[0;34m.\u001b[0m\u001b[0m_engine\u001b[0m\u001b[0;34m.\u001b[0m\u001b[0mget_value\u001b[0m\u001b[0;34m(\u001b[0m\u001b[0ms\u001b[0m\u001b[0;34m,\u001b[0m \u001b[0mk\u001b[0m\u001b[0;34m,\u001b[0m \u001b[0mtz\u001b[0m\u001b[0;34m=\u001b[0m\u001b[0mgetattr\u001b[0m\u001b[0;34m(\u001b[0m\u001b[0mseries\u001b[0m\u001b[0;34m.\u001b[0m\u001b[0mdtype\u001b[0m\u001b[0;34m,\u001b[0m \u001b[0;34m\"tz\"\u001b[0m\u001b[0;34m,\u001b[0m \u001b[0;32mNone\u001b[0m\u001b[0;34m)\u001b[0m\u001b[0;34m)\u001b[0m\u001b[0;34m\u001b[0m\u001b[0;34m\u001b[0m\u001b[0m\n\u001b[0m\u001b[1;32m   4406\u001b[0m         \u001b[0;32mexcept\u001b[0m \u001b[0mKeyError\u001b[0m \u001b[0;32mas\u001b[0m \u001b[0me1\u001b[0m\u001b[0;34m:\u001b[0m\u001b[0;34m\u001b[0m\u001b[0;34m\u001b[0m\u001b[0m\n\u001b[1;32m   4407\u001b[0m             \u001b[0;32mif\u001b[0m \u001b[0mlen\u001b[0m\u001b[0;34m(\u001b[0m\u001b[0mself\u001b[0m\u001b[0;34m)\u001b[0m \u001b[0;34m>\u001b[0m \u001b[0;36m0\u001b[0m \u001b[0;32mand\u001b[0m \u001b[0;34m(\u001b[0m\u001b[0mself\u001b[0m\u001b[0;34m.\u001b[0m\u001b[0mholds_integer\u001b[0m\u001b[0;34m(\u001b[0m\u001b[0;34m)\u001b[0m \u001b[0;32mor\u001b[0m \u001b[0mself\u001b[0m\u001b[0;34m.\u001b[0m\u001b[0mis_boolean\u001b[0m\u001b[0;34m(\u001b[0m\u001b[0;34m)\u001b[0m\u001b[0;34m)\u001b[0m\u001b[0;34m:\u001b[0m\u001b[0;34m\u001b[0m\u001b[0;34m\u001b[0m\u001b[0m\n",
                        "\u001b[0;32mpandas/_libs/index.pyx\u001b[0m in \u001b[0;36mpandas._libs.index.IndexEngine.get_value\u001b[0;34m()\u001b[0m\n",
                        "\u001b[0;32mpandas/_libs/index.pyx\u001b[0m in \u001b[0;36mpandas._libs.index.IndexEngine.get_value\u001b[0;34m()\u001b[0m\n",
                        "\u001b[0;32mpandas/_libs/index.pyx\u001b[0m in \u001b[0;36mpandas._libs.index.IndexEngine.get_loc\u001b[0;34m()\u001b[0m\n",
                        "\u001b[0;32mpandas/_libs/hashtable_class_helper.pxi\u001b[0m in \u001b[0;36mpandas._libs.hashtable.Int64HashTable.get_item\u001b[0;34m()\u001b[0m\n",
                        "\u001b[0;32mpandas/_libs/hashtable_class_helper.pxi\u001b[0m in \u001b[0;36mpandas._libs.hashtable.Int64HashTable.get_item\u001b[0;34m()\u001b[0m\n",
                        "\u001b[0;31mKeyError\u001b[0m: 4711"
                    ]
                }
            ],
            "metadata": {}
        },
        {
            "cell_type": "code",
            "execution_count": null,
            "source": [],
            "outputs": [],
            "metadata": {}
        }
    ],
    "metadata": {
        "orig_nbformat": 4,
        "language_info": {
            "name": "python",
            "version": "3.7.6",
            "mimetype": "text/x-python",
            "codemirror_mode": {
                "name": "ipython",
                "version": 3
            },
            "pygments_lexer": "ipython3",
            "nbconvert_exporter": "python",
            "file_extension": ".py"
        },
        "kernelspec": {
            "name": "python3",
            "display_name": "Python 3.7.6 64-bit ('base': conda)"
        },
        "interpreter": {
            "hash": "2e85db0d6cccfdde710fbbd04098e00f256a22b321d8c0df509f8fabaad6d9ac"
        }
    },
    "nbformat": 4,
    "nbformat_minor": 2
}