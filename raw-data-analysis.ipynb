{
 "cells": [
  {
   "cell_type": "code",
   "execution_count": 1,
   "source": [
    "#############################################################################################################\n",
    "# SCRIPT TO CREATE DATASET INPUT FOR THE LIGHT GBM MODEL\n",
    "# IT SAMPLES AN EQUALLY DISTRIBUTED DATAFRAME CONDISERING ONLY RISKY EVENTS \n",
    "# RISKY EVENTS ARE THOSE THAT COLLISSION_PROBABILITY IS GREATER THAN 10 E-6\n",
    "##############################################################################################################\n",
    "import pandas as pd\n",
    "import datetime as dt\n",
    "import numpy as np\n",
    "import os\n",
    "\n",
    "from preparing_data import *\n",
    "\n",
    "\n",
    "\n",
    "df=pd.read_csv(\"./data/train_data.csv\")\n",
    "\n",
    "# CONVERT KELVIN DATASET TO CDM FORMAT TO SIMULATE ACTUAL INPUT\n",
    "cdm=convertKelvinDatasetToCDMFormat(df)\n",
    "\n",
    "# DELETE NULLS FROM ONE COLUMN NEEDED TO RUN FOLLOWING TIME CONVERSIONS\n",
    "cdm.dropna(subset = [\"OBJECT2_TIME_LASTOB_START\"], inplace=True)\n",
    "\n",
    "# CONVERT TIME STRING TO TIMEDATE\n",
    "cdm=convertTimestringToTimedate(cdm)\n",
    "# CONVERT TIMEDATE TO RANGE IN DAYS\n",
    "cdm=convertTimedateToDaysRange(cdm)\n",
    "# CONVERT RISK IN LOGARITHMIC SCALE TO NATURAL SCALE THE SAME THAT COLLISSION PROBABILITY USES IN THE CDMs\n",
    "cdm=convertPCto10logaritmicscale(cdm)\n",
    "\n",
    "#DELETE NULS FROM ALL THER OTHER ROWS\n",
    "cdm.dropna(inplace=True)\n",
    "\n",
    "# DROP NON NUMERIC COLUMNS\n",
    "numeric_cols=cdm.select_dtypes(exclude='number')\n",
    "cdm.drop(numeric_cols, axis=1, inplace=True)\n",
    "\n",
    "print(\"Adding correlation matrix elements to the dataframe \\n\")\n",
    "\n",
    "# CALCULATE AND ADD CORRELATION COLUMNS TO IMPROVE MACHINE LEARNING MODEL\n",
    "cdm=addCorrelationColumns(cdm)\n",
    "\n",
    "#DELETE COVARIANCE MATRIX NON DIAGONAL ELEMENTS\n",
    "print(\"Deleting covariance matrix elements from the dataframe \\n\")\n",
    "\n",
    "cdm=deleteCovarianceNonDiagonalElements(cdm)\n",
    "print(\"Dataframe size without feature engineering {} x {}\".format(cdm.shape[0],cdm.shape[1]))\n",
    "cdm.head()\n",
    "\n",
    "\n",
    "#DELETING OBSERVATION COLUMNS NO NEEDED IN THE MODEL\n",
    "cdm.drop([     'OBJECT1_TIME_LASTOB_START',\n",
    "                'OBJECT1_TIME_LASTOB_END',\n",
    "                'OBJECT2_TIME_LASTOB_START',\n",
    "                'OBJECT2_TIME_LASTOB_END'\n",
    "                ], inplace=True, axis=1)\n",
    "\n",
    "\n",
    "# REORDERING COLUMNS BRING __time_to_tca TO FRONT\n",
    "cdm=cdm[ ['__time_to_tca'] + [ col for col in cdm.columns if col != '__time_to_tca' ] ]\n",
    "\n",
    "\n",
    "#SORT DATAFRAME BY event_id AND THEN BY __time_to_tca DESCENDING\n",
    "cdm.sort_values(by=['event_id', '__time_to_tca'],ascending=[True, False],inplace=True)"
   ],
   "outputs": [
    {
     "output_type": "stream",
     "name": "stdout",
     "text": [
      "Adding correlation matrix elements to the dataframe \n",
      "\n",
      "Deleting covariance matrix elements from the dataframe \n",
      "\n",
      "Dataframe size without feature engineering 153393 x 81\n"
     ]
    }
   ],
   "metadata": {}
  },
  {
   "cell_type": "code",
   "execution_count": 2,
   "source": [
    "PC_data=cdm.COLLISSION_PROBABILITY"
   ],
   "outputs": [],
   "metadata": {}
  },
  {
   "cell_type": "code",
   "execution_count": 3,
   "source": [
    "PC_data.shape"
   ],
   "outputs": [
    {
     "output_type": "execute_result",
     "data": {
      "text/plain": [
       "(153393,)"
      ]
     },
     "metadata": {},
     "execution_count": 3
    }
   ],
   "metadata": {}
  },
  {
   "cell_type": "code",
   "execution_count": 4,
   "source": [
    "PC_data=PC_data.astype(int)"
   ],
   "outputs": [],
   "metadata": {}
  },
  {
   "cell_type": "code",
   "execution_count": 5,
   "source": [
    "type(PC_data)"
   ],
   "outputs": [
    {
     "output_type": "execute_result",
     "data": {
      "text/plain": [
       "pandas.core.series.Series"
      ]
     },
     "metadata": {},
     "execution_count": 5
    }
   ],
   "metadata": {}
  },
  {
   "cell_type": "code",
   "execution_count": 6,
   "source": [
    "PC_data=PC_data.to_frame(name=\"PC\")"
   ],
   "outputs": [],
   "metadata": {}
  },
  {
   "cell_type": "code",
   "execution_count": 7,
   "source": [
    "df = PC_data\n",
    "df15 = PC_data[PC_data.PC >= -15]\n",
    "df6 = PC_data[PC_data.PC >= -6]"
   ],
   "outputs": [],
   "metadata": {}
  },
  {
   "cell_type": "code",
   "execution_count": 8,
   "source": [
    "# import plotly.express as px\n",
    "# df = PC_data\n",
    "# fig = px.histogram(df, x=\"PC\",template=\"presentation\",\n",
    "#     labels={\"PC\":\"PC\"})\n",
    "# fig.update_layout(yaxis_title=\"Cantidad\")\n",
    "# fig.show()"
   ],
   "outputs": [],
   "metadata": {}
  },
  {
   "cell_type": "code",
   "execution_count": 9,
   "source": [
    "# from plotly.subplots import make_subplots\n",
    "# import plotly.graph_objects as go\n",
    "\n",
    "# fig = go.Figure(data=[go.Histogram(x=df.PC)])\n",
    "# fig.show()"
   ],
   "outputs": [],
   "metadata": {}
  },
  {
   "cell_type": "code",
   "execution_count": 10,
   "source": [
    "# from plotly.subplots import make_subplots\n",
    "# import plotly.graph_objects as go\n",
    "# df = PC_data\n",
    "# df15 = PC_data[PC_data.PC >= -15]\n",
    "# df6 = PC_data[PC_data.PC >= -6]\n",
    "\n",
    "# fig = make_subplots(rows=3, cols=1)\n",
    "\n",
    "# fig.append_trace(go.Histogram(x=df.PC), row=1, col=1)\n",
    "\n",
    "# fig.append_trace(go.Histogram(x=df15.PC), row=2, col=1)\n",
    "\n",
    "# fig.append_trace(go.Histogram(x=df6.PC), row=3, col=1)\n",
    "\n",
    "\n",
    "# fig.update_layout(height=800, width=700)#, title_text=\"Stacked Subplots\")\n",
    "\n",
    "# fig.show()\n"
   ],
   "outputs": [],
   "metadata": {}
  },
  {
   "cell_type": "code",
   "execution_count": 11,
   "source": [
    "# from plotly.subplots import make_subplots\n",
    "# import plotly.graph_objects as go\n",
    "# df = PC_data\n",
    "\n",
    "# fig = make_subplots(rows=3, cols=1)\n",
    "\n",
    "# fig.append_trace(go.Histogram(x=df.PC,line=dict(color=\"grey\")), row=1, col=1)\n",
    "\n",
    "# fig.append_trace(go.Histogram(x=df.PC,line=dict(color=\"grey\")), row=2, col=1)\n",
    "\n",
    "# fig.append_trace(go.Histogram(x=df.PC), row=3, col=1)\n",
    "\n",
    "\n",
    "# fig.update_layout(height=600, width=600)#, title_text=\"Stacked Subplots\")\n",
    "#fig.show()"
   ],
   "outputs": [],
   "metadata": {}
  },
  {
   "cell_type": "code",
   "execution_count": 12,
   "source": [
    "import numpy as np\n",
    "\n",
    "from bokeh.layouts import gridplot\n",
    "from bokeh.plotting import figure, show"
   ],
   "outputs": [],
   "metadata": {}
  },
  {
   "cell_type": "code",
   "execution_count": 13,
   "source": [
    "def make_plot(title, hist, edges):\n",
    "    p = figure(title=title, tools='', background_fill_color=\"#fafafa\")\n",
    "    p.quad(top=hist, bottom=0, left=edges[:-1], right=edges[1:],\n",
    "           fill_color=\"navy\", line_color=\"white\", alpha=0.5)\n",
    "\n",
    "    p.y_range.start = 0\n",
    "    # p.legend.location = \"center_right\"\n",
    "    # p.legend.background_fill_color = \"#fefefe\"\n",
    "    p.xaxis.axis_label = 'Probabilidad de Colisión'\n",
    "    p.yaxis.axis_label = 'Cantidad'\n",
    "    p.grid.grid_line_color=\"white\"\n",
    "    return p\n"
   ],
   "outputs": [],
   "metadata": {}
  },
  {
   "cell_type": "code",
   "execution_count": 14,
   "source": [
    "measured = df.to_numpy()\n",
    "hist, edges = np.histogram(measured, density=False,bins=30)\n",
    "p1 = make_plot(\"Rango PC ε [-30, 0)\", hist, edges)\n",
    "\n",
    "measured = df15.to_numpy()\n",
    "hist, edges = np.histogram(measured, density=False,bins=15)\n",
    "p2 = make_plot(\"Rango PC ε [-15, 0)\", hist, edges)\n",
    "\n",
    "measured = df6.to_numpy()\n",
    "hist, edges = np.histogram(measured, density=False,bins=4)\n",
    "p3 = make_plot(\"Rango PC ε [-6, 0)\", hist, edges)\n",
    "\n",
    "show(gridplot([p1,p2,p3], ncols=1, width=800, height=400, toolbar_location=None))"
   ],
   "outputs": [],
   "metadata": {}
  },
  {
   "cell_type": "code",
   "execution_count": 15,
   "source": [
    "from bokeh.io import export_png\n",
    "\n",
    "#export_png(p1, filename=\"plot.png\")"
   ],
   "outputs": [],
   "metadata": {}
  },
  {
   "cell_type": "code",
   "execution_count": 16,
   "source": [
    "full_grid=gridplot([p1,p2,p3], ncols=1, width=800, height=300, toolbar_location=None)\n",
    "export_png(full_grid, filename=\"/home/esteban/Documents/ITBA/Collision-avoidance/images/plot-grid.png\")\n"
   ],
   "outputs": [
    {
     "output_type": "execute_result",
     "data": {
      "text/plain": [
       "'/home/esteban/Documents/ITBA/Collision-avoidance/images/plot-grid.png'"
      ]
     },
     "metadata": {},
     "execution_count": 16
    }
   ],
   "metadata": {}
  },
  {
   "cell_type": "code",
   "execution_count": 17,
   "source": [
    "# # SELECTING DATA TO BUILD MODEL\n",
    "\n",
    "# print(\"Building dataframe... \\n\")\n",
    "# aux1=cdm[(cdm[\"COLLISSION_PROBABILITY\"]>-4)& (cdm[\"__time_to_tca\"]<1)]\n",
    "# aux2=cdm[(cdm[\"COLLISSION_PROBABILITY\"]<-4) & (cdm[\"COLLISSION_PROBABILITY\"]>-5)& (cdm[\"__time_to_tca\"]<1)]\n",
    "# aux3=cdm[(cdm[\"COLLISSION_PROBABILITY\"]<-5) & (cdm[\"COLLISSION_PROBABILITY\"]>-6)& (cdm[\"__time_to_tca\"]<1)]\n",
    "\n",
    "\n",
    "# # APPEND SUBPART OF DATAFRAMES EVENTS WITH PROBABILITIES LOWER THAN 10-6 TO CREATE AN EQUALLY DISTRIBUITED PROBABILITY DATAFRAME\n",
    "\n"
   ],
   "outputs": [],
   "metadata": {}
  },
  {
   "cell_type": "code",
   "execution_count": 18,
   "source": [
    "countdf=(df.PC.value_counts()).to_frame(name=\"cant\")"
   ],
   "outputs": [],
   "metadata": {}
  },
  {
   "cell_type": "code",
   "execution_count": 19,
   "source": [
    "countdf[\"PC\"]=countdf.index"
   ],
   "outputs": [],
   "metadata": {}
  },
  {
   "cell_type": "code",
   "execution_count": 21,
   "source": [
    "countdf.sort_values(by=\"PC\",ascending=False,inplace=True)"
   ],
   "outputs": [],
   "metadata": {}
  },
  {
   "cell_type": "code",
   "execution_count": 22,
   "source": [
    "countdf.head()"
   ],
   "outputs": [
    {
     "output_type": "execute_result",
     "data": {
      "text/html": [
       "<div>\n",
       "<style scoped>\n",
       "    .dataframe tbody tr th:only-of-type {\n",
       "        vertical-align: middle;\n",
       "    }\n",
       "\n",
       "    .dataframe tbody tr th {\n",
       "        vertical-align: top;\n",
       "    }\n",
       "\n",
       "    .dataframe thead th {\n",
       "        text-align: right;\n",
       "    }\n",
       "</style>\n",
       "<table border=\"1\" class=\"dataframe\">\n",
       "  <thead>\n",
       "    <tr style=\"text-align: right;\">\n",
       "      <th></th>\n",
       "      <th>cant</th>\n",
       "      <th>PC</th>\n",
       "    </tr>\n",
       "  </thead>\n",
       "  <tbody>\n",
       "    <tr>\n",
       "      <th>-1</th>\n",
       "      <td>8</td>\n",
       "      <td>-1</td>\n",
       "    </tr>\n",
       "    <tr>\n",
       "      <th>-2</th>\n",
       "      <td>42</td>\n",
       "      <td>-2</td>\n",
       "    </tr>\n",
       "    <tr>\n",
       "      <th>-3</th>\n",
       "      <td>647</td>\n",
       "      <td>-3</td>\n",
       "    </tr>\n",
       "    <tr>\n",
       "      <th>-4</th>\n",
       "      <td>2525</td>\n",
       "      <td>-4</td>\n",
       "    </tr>\n",
       "    <tr>\n",
       "      <th>-5</th>\n",
       "      <td>6450</td>\n",
       "      <td>-5</td>\n",
       "    </tr>\n",
       "  </tbody>\n",
       "</table>\n",
       "</div>"
      ],
      "text/plain": [
       "    cant  PC\n",
       "-1     8  -1\n",
       "-2    42  -2\n",
       "-3   647  -3\n",
       "-4  2525  -4\n",
       "-5  6450  -5"
      ]
     },
     "metadata": {},
     "execution_count": 22
    }
   ],
   "metadata": {}
  },
  {
   "cell_type": "code",
   "execution_count": 24,
   "source": [
    "sum(countdf.cant)"
   ],
   "outputs": [
    {
     "output_type": "execute_result",
     "data": {
      "text/plain": [
       "153393"
      ]
     },
     "metadata": {},
     "execution_count": 24
    }
   ],
   "metadata": {}
  },
  {
   "cell_type": "code",
   "execution_count": 25,
   "source": [
    "countdf[\"p\"]=countdf.cant/sum(countdf.cant)"
   ],
   "outputs": [],
   "metadata": {}
  },
  {
   "cell_type": "code",
   "execution_count": 29,
   "source": [
    "countdf[\"cumsum1\"]=countdf.p.cumsum()"
   ],
   "outputs": [],
   "metadata": {}
  },
  {
   "cell_type": "code",
   "execution_count": 31,
   "source": [
    "countdf[\"cumsumR\"]=1-countdf.cumsum1"
   ],
   "outputs": [],
   "metadata": {}
  },
  {
   "cell_type": "code",
   "execution_count": 32,
   "source": [
    "countdf"
   ],
   "outputs": [
    {
     "output_type": "execute_result",
     "data": {
      "text/html": [
       "<div>\n",
       "<style scoped>\n",
       "    .dataframe tbody tr th:only-of-type {\n",
       "        vertical-align: middle;\n",
       "    }\n",
       "\n",
       "    .dataframe tbody tr th {\n",
       "        vertical-align: top;\n",
       "    }\n",
       "\n",
       "    .dataframe thead th {\n",
       "        text-align: right;\n",
       "    }\n",
       "</style>\n",
       "<table border=\"1\" class=\"dataframe\">\n",
       "  <thead>\n",
       "    <tr style=\"text-align: right;\">\n",
       "      <th></th>\n",
       "      <th>cant</th>\n",
       "      <th>PC</th>\n",
       "      <th>p</th>\n",
       "      <th>cumsum1</th>\n",
       "      <th>cumsumR</th>\n",
       "    </tr>\n",
       "  </thead>\n",
       "  <tbody>\n",
       "    <tr>\n",
       "      <th>-1</th>\n",
       "      <td>8</td>\n",
       "      <td>-1</td>\n",
       "      <td>0.000052</td>\n",
       "      <td>0.000052</td>\n",
       "      <td>0.999948</td>\n",
       "    </tr>\n",
       "    <tr>\n",
       "      <th>-2</th>\n",
       "      <td>42</td>\n",
       "      <td>-2</td>\n",
       "      <td>0.000274</td>\n",
       "      <td>0.000326</td>\n",
       "      <td>0.999674</td>\n",
       "    </tr>\n",
       "    <tr>\n",
       "      <th>-3</th>\n",
       "      <td>647</td>\n",
       "      <td>-3</td>\n",
       "      <td>0.004218</td>\n",
       "      <td>0.004544</td>\n",
       "      <td>0.995456</td>\n",
       "    </tr>\n",
       "    <tr>\n",
       "      <th>-4</th>\n",
       "      <td>2525</td>\n",
       "      <td>-4</td>\n",
       "      <td>0.016461</td>\n",
       "      <td>0.021005</td>\n",
       "      <td>0.978995</td>\n",
       "    </tr>\n",
       "    <tr>\n",
       "      <th>-5</th>\n",
       "      <td>6450</td>\n",
       "      <td>-5</td>\n",
       "      <td>0.042049</td>\n",
       "      <td>0.063054</td>\n",
       "      <td>0.936946</td>\n",
       "    </tr>\n",
       "    <tr>\n",
       "      <th>-6</th>\n",
       "      <td>10380</td>\n",
       "      <td>-6</td>\n",
       "      <td>0.067669</td>\n",
       "      <td>0.130723</td>\n",
       "      <td>0.869277</td>\n",
       "    </tr>\n",
       "    <tr>\n",
       "      <th>-7</th>\n",
       "      <td>10065</td>\n",
       "      <td>-7</td>\n",
       "      <td>0.065616</td>\n",
       "      <td>0.196339</td>\n",
       "      <td>0.803661</td>\n",
       "    </tr>\n",
       "    <tr>\n",
       "      <th>-8</th>\n",
       "      <td>7517</td>\n",
       "      <td>-8</td>\n",
       "      <td>0.049005</td>\n",
       "      <td>0.245344</td>\n",
       "      <td>0.754656</td>\n",
       "    </tr>\n",
       "    <tr>\n",
       "      <th>-9</th>\n",
       "      <td>5971</td>\n",
       "      <td>-9</td>\n",
       "      <td>0.038926</td>\n",
       "      <td>0.284270</td>\n",
       "      <td>0.715730</td>\n",
       "    </tr>\n",
       "    <tr>\n",
       "      <th>-10</th>\n",
       "      <td>5251</td>\n",
       "      <td>-10</td>\n",
       "      <td>0.034232</td>\n",
       "      <td>0.318502</td>\n",
       "      <td>0.681498</td>\n",
       "    </tr>\n",
       "    <tr>\n",
       "      <th>-11</th>\n",
       "      <td>4765</td>\n",
       "      <td>-11</td>\n",
       "      <td>0.031064</td>\n",
       "      <td>0.349566</td>\n",
       "      <td>0.650434</td>\n",
       "    </tr>\n",
       "    <tr>\n",
       "      <th>-12</th>\n",
       "      <td>4497</td>\n",
       "      <td>-12</td>\n",
       "      <td>0.029317</td>\n",
       "      <td>0.378883</td>\n",
       "      <td>0.621117</td>\n",
       "    </tr>\n",
       "    <tr>\n",
       "      <th>-13</th>\n",
       "      <td>5391</td>\n",
       "      <td>-13</td>\n",
       "      <td>0.035145</td>\n",
       "      <td>0.414028</td>\n",
       "      <td>0.585972</td>\n",
       "    </tr>\n",
       "    <tr>\n",
       "      <th>-14</th>\n",
       "      <td>7250</td>\n",
       "      <td>-14</td>\n",
       "      <td>0.047264</td>\n",
       "      <td>0.461292</td>\n",
       "      <td>0.538708</td>\n",
       "    </tr>\n",
       "    <tr>\n",
       "      <th>-15</th>\n",
       "      <td>2712</td>\n",
       "      <td>-15</td>\n",
       "      <td>0.017680</td>\n",
       "      <td>0.478972</td>\n",
       "      <td>0.521028</td>\n",
       "    </tr>\n",
       "    <tr>\n",
       "      <th>-16</th>\n",
       "      <td>2005</td>\n",
       "      <td>-16</td>\n",
       "      <td>0.013071</td>\n",
       "      <td>0.492043</td>\n",
       "      <td>0.507957</td>\n",
       "    </tr>\n",
       "    <tr>\n",
       "      <th>-17</th>\n",
       "      <td>1743</td>\n",
       "      <td>-17</td>\n",
       "      <td>0.011363</td>\n",
       "      <td>0.503406</td>\n",
       "      <td>0.496594</td>\n",
       "    </tr>\n",
       "    <tr>\n",
       "      <th>-18</th>\n",
       "      <td>1683</td>\n",
       "      <td>-18</td>\n",
       "      <td>0.010972</td>\n",
       "      <td>0.514378</td>\n",
       "      <td>0.485622</td>\n",
       "    </tr>\n",
       "    <tr>\n",
       "      <th>-19</th>\n",
       "      <td>1421</td>\n",
       "      <td>-19</td>\n",
       "      <td>0.009264</td>\n",
       "      <td>0.523642</td>\n",
       "      <td>0.476358</td>\n",
       "    </tr>\n",
       "    <tr>\n",
       "      <th>-20</th>\n",
       "      <td>1297</td>\n",
       "      <td>-20</td>\n",
       "      <td>0.008455</td>\n",
       "      <td>0.532097</td>\n",
       "      <td>0.467903</td>\n",
       "    </tr>\n",
       "    <tr>\n",
       "      <th>-21</th>\n",
       "      <td>1285</td>\n",
       "      <td>-21</td>\n",
       "      <td>0.008377</td>\n",
       "      <td>0.540474</td>\n",
       "      <td>0.459526</td>\n",
       "    </tr>\n",
       "    <tr>\n",
       "      <th>-22</th>\n",
       "      <td>1195</td>\n",
       "      <td>-22</td>\n",
       "      <td>0.007790</td>\n",
       "      <td>0.548265</td>\n",
       "      <td>0.451735</td>\n",
       "    </tr>\n",
       "    <tr>\n",
       "      <th>-23</th>\n",
       "      <td>1066</td>\n",
       "      <td>-23</td>\n",
       "      <td>0.006949</td>\n",
       "      <td>0.555214</td>\n",
       "      <td>0.444786</td>\n",
       "    </tr>\n",
       "    <tr>\n",
       "      <th>-24</th>\n",
       "      <td>983</td>\n",
       "      <td>-24</td>\n",
       "      <td>0.006408</td>\n",
       "      <td>0.561623</td>\n",
       "      <td>0.438377</td>\n",
       "    </tr>\n",
       "    <tr>\n",
       "      <th>-25</th>\n",
       "      <td>927</td>\n",
       "      <td>-25</td>\n",
       "      <td>0.006043</td>\n",
       "      <td>0.567666</td>\n",
       "      <td>0.432334</td>\n",
       "    </tr>\n",
       "    <tr>\n",
       "      <th>-26</th>\n",
       "      <td>857</td>\n",
       "      <td>-26</td>\n",
       "      <td>0.005587</td>\n",
       "      <td>0.573253</td>\n",
       "      <td>0.426747</td>\n",
       "    </tr>\n",
       "    <tr>\n",
       "      <th>-27</th>\n",
       "      <td>813</td>\n",
       "      <td>-27</td>\n",
       "      <td>0.005300</td>\n",
       "      <td>0.578553</td>\n",
       "      <td>0.421447</td>\n",
       "    </tr>\n",
       "    <tr>\n",
       "      <th>-28</th>\n",
       "      <td>802</td>\n",
       "      <td>-28</td>\n",
       "      <td>0.005228</td>\n",
       "      <td>0.583782</td>\n",
       "      <td>0.416218</td>\n",
       "    </tr>\n",
       "    <tr>\n",
       "      <th>-29</th>\n",
       "      <td>786</td>\n",
       "      <td>-29</td>\n",
       "      <td>0.005124</td>\n",
       "      <td>0.588906</td>\n",
       "      <td>0.411094</td>\n",
       "    </tr>\n",
       "    <tr>\n",
       "      <th>-30</th>\n",
       "      <td>63059</td>\n",
       "      <td>-30</td>\n",
       "      <td>0.411094</td>\n",
       "      <td>1.000000</td>\n",
       "      <td>0.000000</td>\n",
       "    </tr>\n",
       "  </tbody>\n",
       "</table>\n",
       "</div>"
      ],
      "text/plain": [
       "      cant  PC         p   cumsum1   cumsumR\n",
       "-1       8  -1  0.000052  0.000052  0.999948\n",
       "-2      42  -2  0.000274  0.000326  0.999674\n",
       "-3     647  -3  0.004218  0.004544  0.995456\n",
       "-4    2525  -4  0.016461  0.021005  0.978995\n",
       "-5    6450  -5  0.042049  0.063054  0.936946\n",
       "-6   10380  -6  0.067669  0.130723  0.869277\n",
       "-7   10065  -7  0.065616  0.196339  0.803661\n",
       "-8    7517  -8  0.049005  0.245344  0.754656\n",
       "-9    5971  -9  0.038926  0.284270  0.715730\n",
       "-10   5251 -10  0.034232  0.318502  0.681498\n",
       "-11   4765 -11  0.031064  0.349566  0.650434\n",
       "-12   4497 -12  0.029317  0.378883  0.621117\n",
       "-13   5391 -13  0.035145  0.414028  0.585972\n",
       "-14   7250 -14  0.047264  0.461292  0.538708\n",
       "-15   2712 -15  0.017680  0.478972  0.521028\n",
       "-16   2005 -16  0.013071  0.492043  0.507957\n",
       "-17   1743 -17  0.011363  0.503406  0.496594\n",
       "-18   1683 -18  0.010972  0.514378  0.485622\n",
       "-19   1421 -19  0.009264  0.523642  0.476358\n",
       "-20   1297 -20  0.008455  0.532097  0.467903\n",
       "-21   1285 -21  0.008377  0.540474  0.459526\n",
       "-22   1195 -22  0.007790  0.548265  0.451735\n",
       "-23   1066 -23  0.006949  0.555214  0.444786\n",
       "-24    983 -24  0.006408  0.561623  0.438377\n",
       "-25    927 -25  0.006043  0.567666  0.432334\n",
       "-26    857 -26  0.005587  0.573253  0.426747\n",
       "-27    813 -27  0.005300  0.578553  0.421447\n",
       "-28    802 -28  0.005228  0.583782  0.416218\n",
       "-29    786 -29  0.005124  0.588906  0.411094\n",
       "-30  63059 -30  0.411094  1.000000  0.000000"
      ]
     },
     "metadata": {},
     "execution_count": 32
    }
   ],
   "metadata": {}
  },
  {
   "cell_type": "code",
   "execution_count": null,
   "source": [],
   "outputs": [],
   "metadata": {}
  }
 ],
 "metadata": {
  "orig_nbformat": 4,
  "language_info": {
   "name": "python",
   "version": "3.9.7",
   "mimetype": "text/x-python",
   "codemirror_mode": {
    "name": "ipython",
    "version": 3
   },
   "pygments_lexer": "ipython3",
   "nbconvert_exporter": "python",
   "file_extension": ".py"
  },
  "kernelspec": {
   "name": "python3",
   "display_name": "Python 3.9.7 64-bit (conda)"
  },
  "interpreter": {
   "hash": "6a229a7624aaca0bb64305d3a84f8aa11ea5a7132c8c99f127f8b64a260fdc5c"
  }
 },
 "nbformat": 4,
 "nbformat_minor": 2
}