{
 "cells": [
  {
   "cell_type": "code",
   "execution_count": 1,
   "source": [
    "#############################################################################################################\n",
    "# SCRIPT TO CREATE DATASET INPUT FOR THE LIGHT GBM MODEL\n",
    "# IT SAMPLES AN EQUALLY DISTRIBUTED DATAFRAME CONDISERING ONLY RISKY EVENTS \n",
    "# RISKY EVENTS ARE THOSE THAT COLLISSION_PROBABILITY IS GREATER THAN 10 E-6\n",
    "##############################################################################################################\n",
    "import pandas as pd\n",
    "import datetime as dt\n",
    "import numpy as np\n",
    "import os\n",
    "\n",
    "from preparing_data import *\n",
    "\n",
    "\n",
    "\n",
    "df=pd.read_csv(\"./data/train_data.csv\")\n",
    "\n",
    "# CONVERT KELVIN DATASET TO CDM FORMAT TO SIMULATE ACTUAL INPUT\n",
    "cdm=convertKelvinDatasetToCDMFormat(df)\n",
    "\n",
    "# DELETE NULLS FROM ONE COLUMN NEEDED TO RUN FOLLOWING TIME CONVERSIONS\n",
    "cdm.dropna(subset = [\"OBJECT2_TIME_LASTOB_START\"], inplace=True)\n",
    "\n",
    "# CONVERT TIME STRING TO TIMEDATE\n",
    "cdm=convertTimestringToTimedate(cdm)\n",
    "# CONVERT TIMEDATE TO RANGE IN DAYS\n",
    "cdm=convertTimedateToDaysRange(cdm)\n",
    "# CONVERT RISK IN LOGARITHMIC SCALE TO NATURAL SCALE THE SAME THAT COLLISSION PROBABILITY USES IN THE CDMs\n",
    "cdm=convertPCto10logaritmicscale(cdm)\n",
    "\n",
    "#DELETE NULS FROM ALL THER OTHER ROWS\n",
    "cdm.dropna(inplace=True)\n",
    "\n",
    "# DROP NON NUMERIC COLUMNS\n",
    "numeric_cols=cdm.select_dtypes(exclude='number')\n",
    "cdm.drop(numeric_cols, axis=1, inplace=True)\n",
    "\n",
    "print(\"Adding correlation matrix elements to the dataframe \\n\")\n",
    "\n",
    "# CALCULATE AND ADD CORRELATION COLUMNS TO IMPROVE MACHINE LEARNING MODEL\n",
    "cdm=addCorrelationColumns(cdm)\n",
    "\n",
    "#DELETE COVARIANCE MATRIX NON DIAGONAL ELEMENTS\n",
    "print(\"Deleting covariance matrix elements from the dataframe \\n\")\n",
    "\n",
    "cdm=deleteCovarianceNonDiagonalElements(cdm)\n",
    "print(\"Dataframe size without feature engineering {} x {}\".format(cdm.shape[0],cdm.shape[1]))\n",
    "cdm.head()\n",
    "\n",
    "\n",
    "#DELETING OBSERVATION COLUMNS NO NEEDED IN THE MODEL\n",
    "cdm.drop([     'OBJECT1_TIME_LASTOB_START',\n",
    "                'OBJECT1_TIME_LASTOB_END',\n",
    "                'OBJECT2_TIME_LASTOB_START',\n",
    "                'OBJECT2_TIME_LASTOB_END'\n",
    "                ], inplace=True, axis=1)\n",
    "\n",
    "\n",
    "# REORDERING COLUMNS BRING __time_to_tca TO FRONT\n",
    "cdm=cdm[ ['__time_to_tca'] + [ col for col in cdm.columns if col != '__time_to_tca' ] ]\n",
    "\n",
    "\n",
    "#SORT DATAFRAME BY event_id AND THEN BY __time_to_tca DESCENDING\n",
    "cdm.sort_values(by=['event_id', '__time_to_tca'],ascending=[True, False],inplace=True)"
   ],
   "outputs": [
    {
     "output_type": "stream",
     "name": "stdout",
     "text": [
      "Adding correlation matrix elements to the dataframe \n",
      "\n",
      "Deleting covariance matrix elements from the dataframe \n",
      "\n",
      "Dataframe size without feature engineering 153393 x 81\n"
     ]
    }
   ],
   "metadata": {}
  },
  {
   "cell_type": "code",
   "execution_count": 2,
   "source": [
    "PC_data=cdm.COLLISSION_PROBABILITY"
   ],
   "outputs": [],
   "metadata": {}
  },
  {
   "cell_type": "code",
   "execution_count": 3,
   "source": [
    "PC_data.shape"
   ],
   "outputs": [
    {
     "output_type": "execute_result",
     "data": {
      "text/plain": [
       "(153393,)"
      ]
     },
     "metadata": {},
     "execution_count": 3
    }
   ],
   "metadata": {}
  },
  {
   "cell_type": "code",
   "execution_count": 4,
   "source": [
    "PC_data=PC_data.astype(int)"
   ],
   "outputs": [],
   "metadata": {}
  },
  {
   "cell_type": "code",
   "execution_count": 5,
   "source": [
    "type(PC_data)"
   ],
   "outputs": [
    {
     "output_type": "execute_result",
     "data": {
      "text/plain": [
       "pandas.core.series.Series"
      ]
     },
     "metadata": {},
     "execution_count": 5
    }
   ],
   "metadata": {}
  },
  {
   "cell_type": "code",
   "execution_count": 6,
   "source": [
    "PC_data=PC_data.to_frame(name=\"PC\")"
   ],
   "outputs": [],
   "metadata": {}
  },
  {
   "cell_type": "code",
   "execution_count": 7,
   "source": [
    "df = PC_data\n",
    "df15 = PC_data[PC_data.PC >= -15]\n",
    "df6 = PC_data[PC_data.PC >= -6]"
   ],
   "outputs": [],
   "metadata": {}
  },
  {
   "cell_type": "code",
   "execution_count": 8,
   "source": [
    "# import plotly.express as px\n",
    "# df = PC_data\n",
    "# fig = px.histogram(df, x=\"PC\",template=\"presentation\",\n",
    "#     labels={\"PC\":\"PC\"})\n",
    "# fig.update_layout(yaxis_title=\"Cantidad\")\n",
    "# fig.show()"
   ],
   "outputs": [],
   "metadata": {}
  },
  {
   "cell_type": "code",
   "execution_count": 9,
   "source": [
    "# from plotly.subplots import make_subplots\n",
    "# import plotly.graph_objects as go\n",
    "\n",
    "# fig = go.Figure(data=[go.Histogram(x=df.PC)])\n",
    "# fig.show()"
   ],
   "outputs": [],
   "metadata": {}
  },
  {
   "cell_type": "code",
   "execution_count": 10,
   "source": [
    "# from plotly.subplots import make_subplots\n",
    "# import plotly.graph_objects as go\n",
    "# df = PC_data\n",
    "# df15 = PC_data[PC_data.PC >= -15]\n",
    "# df6 = PC_data[PC_data.PC >= -6]\n",
    "\n",
    "# fig = make_subplots(rows=3, cols=1)\n",
    "\n",
    "# fig.append_trace(go.Histogram(x=df.PC), row=1, col=1)\n",
    "\n",
    "# fig.append_trace(go.Histogram(x=df15.PC), row=2, col=1)\n",
    "\n",
    "# fig.append_trace(go.Histogram(x=df6.PC), row=3, col=1)\n",
    "\n",
    "\n",
    "# fig.update_layout(height=800, width=700)#, title_text=\"Stacked Subplots\")\n",
    "\n",
    "# fig.show()\n"
   ],
   "outputs": [],
   "metadata": {}
  },
  {
   "cell_type": "code",
   "execution_count": 11,
   "source": [
    "# from plotly.subplots import make_subplots\n",
    "# import plotly.graph_objects as go\n",
    "# df = PC_data\n",
    "\n",
    "# fig = make_subplots(rows=3, cols=1)\n",
    "\n",
    "# fig.append_trace(go.Histogram(x=df.PC,line=dict(color=\"grey\")), row=1, col=1)\n",
    "\n",
    "# fig.append_trace(go.Histogram(x=df.PC,line=dict(color=\"grey\")), row=2, col=1)\n",
    "\n",
    "# fig.append_trace(go.Histogram(x=df.PC), row=3, col=1)\n",
    "\n",
    "\n",
    "# fig.update_layout(height=600, width=600)#, title_text=\"Stacked Subplots\")\n",
    "#fig.show()"
   ],
   "outputs": [],
   "metadata": {}
  },
  {
   "cell_type": "code",
   "execution_count": 12,
   "source": [
    "import numpy as np\n",
    "\n",
    "from bokeh.layouts import gridplot\n",
    "from bokeh.plotting import figure, show"
   ],
   "outputs": [],
   "metadata": {}
  },
  {
   "cell_type": "code",
   "execution_count": 13,
   "source": [
    "def make_plot(title, hist, edges):\n",
    "    p = figure(title=title, tools='', background_fill_color=\"#fafafa\")\n",
    "    p.quad(top=hist, bottom=0, left=edges[:-1], right=edges[1:],\n",
    "           fill_color=\"navy\", line_color=\"white\", alpha=0.5)\n",
    "\n",
    "    p.y_range.start = 0\n",
    "    # p.legend.location = \"center_right\"\n",
    "    # p.legend.background_fill_color = \"#fefefe\"\n",
    "    p.xaxis.axis_label = 'Probabilidad de Colisión'\n",
    "    p.yaxis.axis_label = 'Cantidad'\n",
    "    p.grid.grid_line_color=\"white\"\n",
    "    return p\n"
   ],
   "outputs": [],
   "metadata": {}
  },
  {
   "cell_type": "code",
   "execution_count": 14,
   "source": [
    "measured = df.to_numpy()\n",
    "hist, edges = np.histogram(measured, density=False,bins=30)\n",
    "p1 = make_plot(\"Rango PC ε [-30, 0)\", hist, edges)\n",
    "\n",
    "measured = df15.to_numpy()\n",
    "hist, edges = np.histogram(measured, density=False,bins=15)\n",
    "p2 = make_plot(\"Rango PC ε [-15, 0)\", hist, edges)\n",
    "\n",
    "measured = df6.to_numpy()\n",
    "hist, edges = np.histogram(measured, density=False,bins=4)\n",
    "p3 = make_plot(\"Rango PC ε [-6, 0)\", hist, edges)\n",
    "\n",
    "show(gridplot([p1,p2,p3], ncols=1, width=800, height=400, toolbar_location=None))"
   ],
   "outputs": [],
   "metadata": {}
  },
  {
   "cell_type": "code",
   "execution_count": 15,
   "source": [
    "from bokeh.io import export_png\n",
    "\n",
    "export_png(p1, filename=\"plot.png\")"
   ],
   "outputs": [
    {
     "output_type": "execute_result",
     "data": {
      "text/plain": [
       "'/home/esteban/automatic-collision-avoidance/automatic-collision-detection/plot.png'"
      ]
     },
     "metadata": {},
     "execution_count": 15
    }
   ],
   "metadata": {}
  },
  {
   "cell_type": "code",
   "execution_count": 16,
   "source": [
    "full_grid=gridplot([p1,p2,p3], ncols=1, width=800, height=300, toolbar_location=None)\n",
    "export_png(full_grid, filename=\"/home/esteban/Documents/ITBA/Collision-avoidance/images/plot-grid.png\")\n"
   ],
   "outputs": [
    {
     "output_type": "execute_result",
     "data": {
      "text/plain": [
       "'/home/esteban/Documents/ITBA/Collision-avoidance/images/plot-grid.png'"
      ]
     },
     "metadata": {},
     "execution_count": 16
    }
   ],
   "metadata": {}
  },
  {
   "cell_type": "code",
   "execution_count": 17,
   "source": [
    "# # SELECTING DATA TO BUILD MODEL\n",
    "\n",
    "# print(\"Building dataframe... \\n\")\n",
    "# aux1=cdm[(cdm[\"COLLISSION_PROBABILITY\"]>-4)& (cdm[\"__time_to_tca\"]<1)]\n",
    "# aux2=cdm[(cdm[\"COLLISSION_PROBABILITY\"]<-4) & (cdm[\"COLLISSION_PROBABILITY\"]>-5)& (cdm[\"__time_to_tca\"]<1)]\n",
    "# aux3=cdm[(cdm[\"COLLISSION_PROBABILITY\"]<-5) & (cdm[\"COLLISSION_PROBABILITY\"]>-6)& (cdm[\"__time_to_tca\"]<1)]\n",
    "\n",
    "\n",
    "# # APPEND SUBPART OF DATAFRAMES EVENTS WITH PROBABILITIES LOWER THAN 10-6 TO CREATE AN EQUALLY DISTRIBUITED PROBABILITY DATAFRAME\n",
    "\n"
   ],
   "outputs": [],
   "metadata": {}
  }
 ],
 "metadata": {
  "orig_nbformat": 4,
  "language_info": {
   "name": "python",
   "version": "3.9.7",
   "mimetype": "text/x-python",
   "codemirror_mode": {
    "name": "ipython",
    "version": 3
   },
   "pygments_lexer": "ipython3",
   "nbconvert_exporter": "python",
   "file_extension": ".py"
  },
  "kernelspec": {
   "name": "python3",
   "display_name": "Python 3.9.7 64-bit (conda)"
  },
  "interpreter": {
   "hash": "6a229a7624aaca0bb64305d3a84f8aa11ea5a7132c8c99f127f8b64a260fdc5c"
  }
 },
 "nbformat": 4,
 "nbformat_minor": 2
}