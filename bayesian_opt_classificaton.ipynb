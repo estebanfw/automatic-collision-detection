{
    "cells": [
        {
            "cell_type": "code",
            "execution_count": 1,
            "source": [
                "import pandas as pd\n",
                "import numpy as np\n",
                "import lightgbm as lgb\n",
                "from bayes_opt import BayesianOptimization\n",
                "from sklearn.datasets import load_boston\n",
                "from sklearn.metrics import r2_score, mean_squared_log_error, mean_squared_error,mean_absolute_error\n",
                "import datetime as dt\n",
                "import pickle\n",
                "import warnings\n",
                "warnings.filterwarnings('ignore')\n",
                "from sklearn.model_selection import train_test_split\n",
                "import preparing_data as F"
            ],
            "outputs": [],
            "metadata": {}
        },
        {
            "cell_type": "code",
            "execution_count": 2,
            "source": [
                "data=pd.read_pickle(\"balanced_df_20210908_142648_corr.pkl\")\n",
                "data.reset_index(inplace=True)\n",
                "data.drop(['index'], inplace=True, axis=1)\n",
                "print(data.shape)\n",
                "data.head()"
            ],
            "outputs": [
                {
                    "output_type": "stream",
                    "name": "stdout",
                    "text": [
                        "(216, 382)\n"
                    ]
                },
                {
                    "output_type": "execute_result",
                    "data": {
                        "text/plain": [
                            "   event_id  MISS_DISTANCE  RELATIVE_SPEED  RELATIVE_POSITION_R  \\\n",
                            "0      37.0         2227.0         11172.0                101.7   \n",
                            "1      69.0         2851.0          5277.0                150.9   \n",
                            "2     168.0         2949.0         11029.0                -63.2   \n",
                            "3     332.0         1047.0          9804.0                  7.9   \n",
                            "4     454.0         7164.0         15276.0               -300.8   \n",
                            "\n",
                            "   RELATIVE_POSITION_T  RELATIVE_POSITION_N  RELATIVE_VELOCITY_R  \\\n",
                            "0              -1463.6               1676.3               -201.4   \n",
                            "1               2661.9              -1011.4                 16.2   \n",
                            "2               1995.1              -2170.9                 79.0   \n",
                            "3               -790.9               -686.9                  5.6   \n",
                            "4                998.1               7088.5                 21.5   \n",
                            "\n",
                            "   RELATIVE_VELOCITY_T  RELATIVE_VELOCITY_N  COLLISSION_PROBABILITY  ...  \\\n",
                            "0              -8424.3              -7336.0               -4.009306  ...   \n",
                            "1              -1873.6              -4933.5               -4.920819  ...   \n",
                            "2              -8116.4              -7467.5               -4.981716  ...   \n",
                            "3              -6439.2               7394.2               -3.335640  ...   \n",
                            "4             -15127.4               2127.7               -4.848937  ...   \n",
                            "\n",
                            "   OBJECT2_CORR_CTDOT_R_4  OBJECT2_CORR_CTDOT_T_4  OBJECT2_CORR_CTDOT_N_4  \\\n",
                            "0               -0.965613                0.515422               -0.135461   \n",
                            "1               -0.999617                0.232796                0.082441   \n",
                            "2               -0.088350                0.181810               -0.703869   \n",
                            "3               -0.999819                0.179695               -0.677245   \n",
                            "4               -0.991382                0.727569               -0.365051   \n",
                            "\n",
                            "   OBJECT2_CORR_CTDOT_RDOT_4  OBJECT2_CORR_CNDOT_R_4  OBJECT2_CORR_CNDOT_T_4  \\\n",
                            "0                  -0.477611               -0.227886                0.075571   \n",
                            "1                  -0.237460                0.021630               -0.148656   \n",
                            "2                  -0.183976                0.048107               -0.198570   \n",
                            "3                  -0.140373                0.549097               -0.571499   \n",
                            "4                  -0.728437               -0.565750                0.215300   \n",
                            "\n",
                            "   OBJECT2_CORR_CNDOT_N_4  OBJECT2_CORR_CNDOT_RDOT_4  \\\n",
                            "0                0.510505                  -0.068810   \n",
                            "1                0.796492                   0.154916   \n",
                            "2                0.842794                   0.201411   \n",
                            "3                0.758658                   0.397017   \n",
                            "4                0.172800                  -0.219876   \n",
                            "\n",
                            "   OBJECT2_CORR_CNDOT_TDOT_4  COLLISSION_PROBABILITY_TARGET  \n",
                            "0                   0.250754                     -30.000000  \n",
                            "1                  -0.018924                     -30.000000  \n",
                            "2                  -0.917799                      -5.019997  \n",
                            "3                  -0.548321                     -30.000000  \n",
                            "4                   0.624348                     -30.000000  \n",
                            "\n",
                            "[5 rows x 382 columns]"
                        ],
                        "text/html": [
                            "<div>\n",
                            "<style scoped>\n",
                            "    .dataframe tbody tr th:only-of-type {\n",
                            "        vertical-align: middle;\n",
                            "    }\n",
                            "\n",
                            "    .dataframe tbody tr th {\n",
                            "        vertical-align: top;\n",
                            "    }\n",
                            "\n",
                            "    .dataframe thead th {\n",
                            "        text-align: right;\n",
                            "    }\n",
                            "</style>\n",
                            "<table border=\"1\" class=\"dataframe\">\n",
                            "  <thead>\n",
                            "    <tr style=\"text-align: right;\">\n",
                            "      <th></th>\n",
                            "      <th>event_id</th>\n",
                            "      <th>MISS_DISTANCE</th>\n",
                            "      <th>RELATIVE_SPEED</th>\n",
                            "      <th>RELATIVE_POSITION_R</th>\n",
                            "      <th>RELATIVE_POSITION_T</th>\n",
                            "      <th>RELATIVE_POSITION_N</th>\n",
                            "      <th>RELATIVE_VELOCITY_R</th>\n",
                            "      <th>RELATIVE_VELOCITY_T</th>\n",
                            "      <th>RELATIVE_VELOCITY_N</th>\n",
                            "      <th>COLLISSION_PROBABILITY</th>\n",
                            "      <th>...</th>\n",
                            "      <th>OBJECT2_CORR_CTDOT_R_4</th>\n",
                            "      <th>OBJECT2_CORR_CTDOT_T_4</th>\n",
                            "      <th>OBJECT2_CORR_CTDOT_N_4</th>\n",
                            "      <th>OBJECT2_CORR_CTDOT_RDOT_4</th>\n",
                            "      <th>OBJECT2_CORR_CNDOT_R_4</th>\n",
                            "      <th>OBJECT2_CORR_CNDOT_T_4</th>\n",
                            "      <th>OBJECT2_CORR_CNDOT_N_4</th>\n",
                            "      <th>OBJECT2_CORR_CNDOT_RDOT_4</th>\n",
                            "      <th>OBJECT2_CORR_CNDOT_TDOT_4</th>\n",
                            "      <th>COLLISSION_PROBABILITY_TARGET</th>\n",
                            "    </tr>\n",
                            "  </thead>\n",
                            "  <tbody>\n",
                            "    <tr>\n",
                            "      <th>0</th>\n",
                            "      <td>37.0</td>\n",
                            "      <td>2227.0</td>\n",
                            "      <td>11172.0</td>\n",
                            "      <td>101.7</td>\n",
                            "      <td>-1463.6</td>\n",
                            "      <td>1676.3</td>\n",
                            "      <td>-201.4</td>\n",
                            "      <td>-8424.3</td>\n",
                            "      <td>-7336.0</td>\n",
                            "      <td>-4.009306</td>\n",
                            "      <td>...</td>\n",
                            "      <td>-0.965613</td>\n",
                            "      <td>0.515422</td>\n",
                            "      <td>-0.135461</td>\n",
                            "      <td>-0.477611</td>\n",
                            "      <td>-0.227886</td>\n",
                            "      <td>0.075571</td>\n",
                            "      <td>0.510505</td>\n",
                            "      <td>-0.068810</td>\n",
                            "      <td>0.250754</td>\n",
                            "      <td>-30.000000</td>\n",
                            "    </tr>\n",
                            "    <tr>\n",
                            "      <th>1</th>\n",
                            "      <td>69.0</td>\n",
                            "      <td>2851.0</td>\n",
                            "      <td>5277.0</td>\n",
                            "      <td>150.9</td>\n",
                            "      <td>2661.9</td>\n",
                            "      <td>-1011.4</td>\n",
                            "      <td>16.2</td>\n",
                            "      <td>-1873.6</td>\n",
                            "      <td>-4933.5</td>\n",
                            "      <td>-4.920819</td>\n",
                            "      <td>...</td>\n",
                            "      <td>-0.999617</td>\n",
                            "      <td>0.232796</td>\n",
                            "      <td>0.082441</td>\n",
                            "      <td>-0.237460</td>\n",
                            "      <td>0.021630</td>\n",
                            "      <td>-0.148656</td>\n",
                            "      <td>0.796492</td>\n",
                            "      <td>0.154916</td>\n",
                            "      <td>-0.018924</td>\n",
                            "      <td>-30.000000</td>\n",
                            "    </tr>\n",
                            "    <tr>\n",
                            "      <th>2</th>\n",
                            "      <td>168.0</td>\n",
                            "      <td>2949.0</td>\n",
                            "      <td>11029.0</td>\n",
                            "      <td>-63.2</td>\n",
                            "      <td>1995.1</td>\n",
                            "      <td>-2170.9</td>\n",
                            "      <td>79.0</td>\n",
                            "      <td>-8116.4</td>\n",
                            "      <td>-7467.5</td>\n",
                            "      <td>-4.981716</td>\n",
                            "      <td>...</td>\n",
                            "      <td>-0.088350</td>\n",
                            "      <td>0.181810</td>\n",
                            "      <td>-0.703869</td>\n",
                            "      <td>-0.183976</td>\n",
                            "      <td>0.048107</td>\n",
                            "      <td>-0.198570</td>\n",
                            "      <td>0.842794</td>\n",
                            "      <td>0.201411</td>\n",
                            "      <td>-0.917799</td>\n",
                            "      <td>-5.019997</td>\n",
                            "    </tr>\n",
                            "    <tr>\n",
                            "      <th>3</th>\n",
                            "      <td>332.0</td>\n",
                            "      <td>1047.0</td>\n",
                            "      <td>9804.0</td>\n",
                            "      <td>7.9</td>\n",
                            "      <td>-790.9</td>\n",
                            "      <td>-686.9</td>\n",
                            "      <td>5.6</td>\n",
                            "      <td>-6439.2</td>\n",
                            "      <td>7394.2</td>\n",
                            "      <td>-3.335640</td>\n",
                            "      <td>...</td>\n",
                            "      <td>-0.999819</td>\n",
                            "      <td>0.179695</td>\n",
                            "      <td>-0.677245</td>\n",
                            "      <td>-0.140373</td>\n",
                            "      <td>0.549097</td>\n",
                            "      <td>-0.571499</td>\n",
                            "      <td>0.758658</td>\n",
                            "      <td>0.397017</td>\n",
                            "      <td>-0.548321</td>\n",
                            "      <td>-30.000000</td>\n",
                            "    </tr>\n",
                            "    <tr>\n",
                            "      <th>4</th>\n",
                            "      <td>454.0</td>\n",
                            "      <td>7164.0</td>\n",
                            "      <td>15276.0</td>\n",
                            "      <td>-300.8</td>\n",
                            "      <td>998.1</td>\n",
                            "      <td>7088.5</td>\n",
                            "      <td>21.5</td>\n",
                            "      <td>-15127.4</td>\n",
                            "      <td>2127.7</td>\n",
                            "      <td>-4.848937</td>\n",
                            "      <td>...</td>\n",
                            "      <td>-0.991382</td>\n",
                            "      <td>0.727569</td>\n",
                            "      <td>-0.365051</td>\n",
                            "      <td>-0.728437</td>\n",
                            "      <td>-0.565750</td>\n",
                            "      <td>0.215300</td>\n",
                            "      <td>0.172800</td>\n",
                            "      <td>-0.219876</td>\n",
                            "      <td>0.624348</td>\n",
                            "      <td>-30.000000</td>\n",
                            "    </tr>\n",
                            "  </tbody>\n",
                            "</table>\n",
                            "<p>5 rows × 382 columns</p>\n",
                            "</div>"
                        ]
                    },
                    "metadata": {},
                    "execution_count": 2
                }
            ],
            "metadata": {}
        },
        {
            "cell_type": "code",
            "execution_count": 3,
            "source": [
                "#data=data.head(100)"
            ],
            "outputs": [],
            "metadata": {}
        },
        {
            "cell_type": "code",
            "execution_count": null,
            "source": [
                "data.shape"
            ],
            "outputs": [],
            "metadata": {}
        },
        {
            "cell_type": "code",
            "execution_count": null,
            "source": [
                "############################### FEATURE ENGINEERING ##########################################\n",
                "# Gradient: Miss distance two last CDM\n",
                "data[\"_GRADIENT_MISS_DISTANCE_34\"]=(-data.MISS_DISTANCE_3+data.MISS_DISTANCE_4)/abs(data.__time_to_tca_4-data.__time_to_tca_3)\n",
                "# Gradient: Miss distance first and last CDM\n",
                "data[\"_GRADIENT_MISS_DISTANCE_14\"]=(-data.MISS_DISTANCE+data.MISS_DISTANCE_4)/abs(data.__time_to_tca_4-data.__time_to_tca)\n",
                "#Gradient: COLLISSION PROBABILITY two last CDM\n",
                "data[\"_GRADIENT_PC_34\"]=(-data.COLLISSION_PROBABILITY_3+data.COLLISSION_PROBABILITY_4)/abs(data.__time_to_tca_4-data.__time_to_tca_3)\n",
                "#Gradient: COLLISSION PROBABILITY first and last CDM\n",
                "data[\"_GRADIENT_PC_14\"]=(-data.COLLISSION_PROBABILITY+data.COLLISSION_PROBABILITY_4)/abs(data.__time_to_tca_4-data.__time_to_tca)"
            ],
            "outputs": [],
            "metadata": {}
        },
        {
            "cell_type": "code",
            "execution_count": null,
            "source": [
                "data.shape"
            ],
            "outputs": [],
            "metadata": {}
        },
        {
            "cell_type": "code",
            "execution_count": null,
            "source": [
                "train, test = train_test_split(data, test_size=0.30, random_state=42)"
            ],
            "outputs": [],
            "metadata": {}
        },
        {
            "cell_type": "code",
            "execution_count": null,
            "source": [
                "print(\"Train dataframe dimension {} x {}\".format(train.shape[0],train.shape[1]))\n",
                "print(\"Test dataframe dimension {} x {}\".format(test.shape[0],test.shape[1]))"
            ],
            "outputs": [],
            "metadata": {}
        },
        {
            "cell_type": "code",
            "execution_count": null,
            "source": [
                "Y_train = train[\"COLLISSION_PROBABILITY_TARGET\"]\n",
                "X_train= train.drop([\"COLLISSION_PROBABILITY_TARGET\"], axis=1)\n",
                "Y_test = test[\"COLLISSION_PROBABILITY_TARGET\"]\n",
                "X_test= test.drop([\"COLLISSION_PROBABILITY_TARGET\"], axis=1)\n"
            ],
            "outputs": [],
            "metadata": {}
        },
        {
            "cell_type": "code",
            "execution_count": null,
            "source": [
                "X = X_train\n",
                "y = Y_train"
            ],
            "outputs": [],
            "metadata": {}
        },
        {
            "cell_type": "code",
            "execution_count": null,
            "source": [
                "def bayesian_opt_lgbm(X, y, init_iter=3, n_iters=7, random_state=11, seed = 101, num_iterations = 100):\n",
                "      dtrain = lgb.Dataset(data=X, label=y)\n",
                "      #Metric evaluation functions\n",
                "      def lgb_r2_score(preds, dtrain):                #R2\n",
                "            labels = dtrain.get_label()\n",
                "            return 'metric', r2_score(labels, preds), True\n",
                "      def lgb_root_squared_error(preds, dtrain):      #RMSE\n",
                "            labels = dtrain.get_label()\n",
                "            return 'metric', mean_squared_error(labels, preds,squared=False), True\n",
                "      def lgb_mean_absolute_error(preds, dtrain):     #MAE\n",
                "            labels = dtrain.get_label()\n",
                "            return 'metric', mean_absolute_error(labels, preds), True\n",
                "      def lgb_adjusted_r2_score(preds, dtrain):       #ADJUSTED R2\n",
                "            labels = dtrain.get_label()\n",
                "            n=dtrain.num_data()\n",
                "            k=dtrain.num_feature()\n",
                "            return 'metric', ((1-r2_score(labels, preds))*(n-1))/(n-k-1), True\n",
                "            \n",
                "      # Select metric\n",
                "      metric='lgb_root_squared_error'\n",
                "      metric_feval=lgb_root_squared_error\n",
                "\n",
                "      # Objective Function\n",
                "      def hyp_lgbm(num_leaves, feature_fraction, learning_rate, bagging_fraction, max_depth, min_split_gain, min_child_weight):\n",
                "              params = {      'application':'regression',\n",
                "                              'num_iterations': num_iterations,\n",
                "                              'early_stopping_round':50,\n",
                "                              'verbose':-1,\n",
                "                              'metric':metric} # Default parameters\n",
                "              params[\"num_leaves\"] = int(round(num_leaves))\n",
                "              params[\"learning_rate\"] = learning_rate\n",
                "              params['feature_fraction'] = max(min(feature_fraction, 1), 0)\n",
                "              params['bagging_fraction'] = max(min(bagging_fraction, 1), 0)\n",
                "              params['max_depth'] = int(round(max_depth))\n",
                "              params['min_split_gain'] = min_split_gain\n",
                "              params['min_child_weight'] = min_child_weight\n",
                "              cv_results = lgb.cv(params, dtrain, nfold=5, seed=seed,categorical_feature=[], stratified=False,\n",
                "                                  verbose_eval =None, feval=metric_feval)\n",
                "              #print(cv_results)\n",
                "              return np.max(cv_results['metric-mean'])\n",
                "    \n",
                "              # Domain space-- Range of hyperparameters \n",
                "      pds = {     'num_leaves': (80, 120),\n",
                "                  'feature_fraction': (0.1, 0.9),\n",
                "                  'bagging_fraction': (0.7, 1),\n",
                "                  'max_depth': (7, 15),\n",
                "                  'learning_rate':(0.001,0.05), \n",
                "                  'min_split_gain': (0.001, 0.1),\n",
                "                  'min_child_weight': (10, 25)\n",
                "                  }\n",
                "      # Surrogate model\n",
                "      optimizer = BayesianOptimization(hyp_lgbm, pds, random_state=random_state)\n",
                "                                          \n",
                "      # Optimize\n",
                "      optimizer.maximize(init_points=init_iter, n_iter=n_iters)\n",
                "\n",
                "      return optimizer\n",
                "\n",
                "bayesian_ouput=bayesian_opt_lgbm(X, y, init_iter=5, n_iters=500, random_state=77, seed = 101,num_iterations=300)"
            ],
            "outputs": [],
            "metadata": {}
        },
        {
            "cell_type": "code",
            "execution_count": null,
            "source": [
                "opt_parameters=bayesian_ouput.max['params']\n",
                "opt_parameters"
            ],
            "outputs": [],
            "metadata": {}
        },
        {
            "cell_type": "code",
            "execution_count": null,
            "source": [
                "filename=\"opt_parameters_balanced_df_adjusted_{}_corr_RMSE.pkl\".format(dt.datetime.now().strftime(\"%Y%m%d_%H%M%S\"))\n",
                "a_file = open(filename, \"wb\")\n",
                "\n",
                "pickle.dump(opt_parameters, a_file)\n",
                "\n",
                "a_file.close()"
            ],
            "outputs": [],
            "metadata": {}
        },
        {
            "cell_type": "code",
            "execution_count": null,
            "source": [
                "# filename=\"opt_parameters_balanced_df_20210907_212730.pkl\"\n",
                "# a_file = open(filename,\"rb\")\n",
                "# output = pickle.load(a_file)\n",
                "# opt_parameters=output\n",
                "# output"
            ],
            "outputs": [],
            "metadata": {}
        },
        {
            "cell_type": "code",
            "execution_count": null,
            "source": [
                "#optimizer.max['params']"
            ],
            "outputs": [],
            "metadata": {}
        },
        {
            "cell_type": "code",
            "execution_count": null,
            "source": [
                "#'bagging_fraction': 1.0, 'feature_fraction': 0.9, 'max_depth': 8.0, 'min_child_weight': 25.0, 'min_split_gain': 0.013771321931506838, 'num_leaves': 88.93816438820497}"
            ],
            "outputs": [],
            "metadata": {}
        },
        {
            "cell_type": "code",
            "execution_count": null,
            "source": [
                "hyper_params = {\n",
                "    'task': 'train',\n",
                "    'boosting_type': 'gbdt',\n",
                "    'objective': 'regression',\n",
                "    'metric': 'rmse',\n",
                "    'learning_rate': opt_parameters.get(\"learning_rate\"),\n",
                "    'feature_fraction': opt_parameters.get(\"feature_fraction\"),\n",
                "    'bagging_fraction': opt_parameters.get(\"bagging_fraction\"),\n",
                "    #'bagging_freq': 10,\n",
                "    'verbose': -1,\n",
                "    \"max_depth\": int(round(opt_parameters.get(\"max_depth\"))),\n",
                "    \"num_leaves\": int(round(opt_parameters.get(\"num_leaves\"))),  \n",
                "    #\"max_bin\": 512,\n",
                "    'min_split_gain' : opt_parameters.get(\"min_split_gain\"),\n",
                "    \"num_iterations\": 300,\n",
                "    \"n_estimators\": 500,\n",
                "    'min_child_weight' : opt_parameters.get(\"min_child_weight\")\n",
                "}"
            ],
            "outputs": [],
            "metadata": {}
        },
        {
            "cell_type": "code",
            "execution_count": null,
            "source": [
                "#Construct a gradient boosting model.\n",
                "#gbm = lgb.LGBMRegressor(**hyper_params)"
            ],
            "outputs": [],
            "metadata": {}
        },
        {
            "cell_type": "code",
            "execution_count": null,
            "source": [
                "lgbm_train = lgb.Dataset(X, label=y)\n",
                "#lgbm_eval = lgb.Dataset(X_test, label=Y_test,reference=lgbm_train)"
            ],
            "outputs": [],
            "metadata": {}
        },
        {
            "cell_type": "code",
            "execution_count": null,
            "source": [
                "gbm = lgb.train(params=hyper_params,\n",
                "                train_set=lgbm_train,\n",
                "                #valid_sets=lgbm_eval,\n",
                "                #verbose_eval=20,\n",
                "                #eval_metric='lgb_r2_score',\n",
                "                #early_stopping_rounds=100\n",
                "                )"
            ],
            "outputs": [],
            "metadata": {}
        },
        {
            "cell_type": "code",
            "execution_count": null,
            "source": [
                "#Build a gradient boosting model from the training set (X, y)\n",
                "\"\"\" gbm.fit(X, y,\n",
                "        eval_set=[(X_test, Y_test)],\n",
                "        eval_metric='l1',\n",
                "        early_stopping_rounds=50) \"\"\"\n"
            ],
            "outputs": [],
            "metadata": {}
        },
        {
            "cell_type": "code",
            "execution_count": null,
            "source": [
                "Y_pred = gbm.predict(X_test, num_iteration=gbm.best_iteration)"
            ],
            "outputs": [],
            "metadata": {}
        },
        {
            "cell_type": "code",
            "execution_count": null,
            "source": [
                "# print('The r2 of prediction is:', r2_score(y, Y_pred))\n",
                "# print('The MSE of prediction is:', mean_squared_error(y, Y_pred, squared=True))\n",
                "# print('The RMSE of prediction is:', mean_squared_error(y, Y_pred, squared=False))"
            ],
            "outputs": [],
            "metadata": {}
        },
        {
            "cell_type": "code",
            "execution_count": null,
            "source": [
                "print('The r2 of prediction is:', r2_score(Y_test, Y_pred))\n",
                "print('The MSE of prediction is:', mean_squared_error(Y_test, Y_pred, squared=True))\n",
                "print('The RMSE of prediction is:', mean_squared_error(Y_test, Y_pred, squared=False))\n",
                "print('The MAE of prediction is:', mean_absolute_error(Y_test, Y_pred))"
            ],
            "outputs": [],
            "metadata": {}
        },
        {
            "cell_type": "code",
            "execution_count": null,
            "source": [
                "# df_train = lgb.Dataset(data=X_test, label=Y_test)\n",
                "# def lgb_adjusted_r2_score(preds, dtrain):\n",
                "#     labels = dtrain.get_label()\n",
                "#     n=dtrain.num_data()\n",
                "#     k=dtrain.num_feature()\n",
                "#     return 'metric', ((1-r2_score(labels, preds))*(n-1))/(n-k-1), True"
            ],
            "outputs": [],
            "metadata": {}
        },
        {
            "cell_type": "code",
            "execution_count": null,
            "source": [
                "#lgb_adjusted_r2_score(Y_pred, df_train)"
            ],
            "outputs": [],
            "metadata": {}
        },
        {
            "cell_type": "markdown",
            "source": [
                "### Validating model"
            ],
            "metadata": {}
        },
        {
            "cell_type": "code",
            "execution_count": null,
            "source": [
                "aux_y=pd.DataFrame(Y_test)\n",
                "aux_y.reset_index(inplace=True)\n",
                "aux_y.drop(['index'], inplace=True, axis=1)\n",
                "aux_y_pred=pd.DataFrame(Y_pred)\n",
                "aux_y_pred.reset_index(inplace=True)\n",
                "aux_y_pred.drop(['index'], inplace=True, axis=1)\n",
                "frames=[aux_y,aux_y_pred]\n",
                "result=pd.concat(frames,axis=1)\n",
                "result.columns=[\"y_true\",\"y_predicted\"]\n",
                "result[\"y_true_10\"]=10**result.y_true\n",
                "result[\"y_predicted_10\"]=10**result.y_predicted\n",
                "result"
            ],
            "outputs": [],
            "metadata": {}
        },
        {
            "cell_type": "code",
            "execution_count": null,
            "source": [
                "result[result[\"y_true_10\"]>0.00001]"
            ],
            "outputs": [],
            "metadata": {}
        },
        {
            "cell_type": "code",
            "execution_count": null,
            "source": [
                "result[result[\"y_true_10\"]>0.0001]"
            ],
            "outputs": [],
            "metadata": {}
        },
        {
            "cell_type": "code",
            "execution_count": null,
            "source": [],
            "outputs": [],
            "metadata": {}
        }
    ],
    "metadata": {
        "orig_nbformat": 4,
        "language_info": {
            "name": "python",
            "version": "3.7.6",
            "mimetype": "text/x-python",
            "codemirror_mode": {
                "name": "ipython",
                "version": 3
            },
            "pygments_lexer": "ipython3",
            "nbconvert_exporter": "python",
            "file_extension": ".py"
        },
        "kernelspec": {
            "name": "python3",
            "display_name": "Python 3.7.6 64-bit ('base': conda)"
        },
        "interpreter": {
            "hash": "2e85db0d6cccfdde710fbbd04098e00f256a22b321d8c0df509f8fabaad6d9ac"
        }
    },
    "nbformat": 4,
    "nbformat_minor": 2
}