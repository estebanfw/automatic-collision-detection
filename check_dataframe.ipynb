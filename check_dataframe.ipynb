{
 "cells": [
  {
   "cell_type": "code",
   "execution_count": 1,
   "metadata": {},
   "outputs": [
    {
     "name": "stdout",
     "output_type": "stream",
     "text": [
      "------------------------------------------------------\n",
      "This script creates the dataframe needed as input for the computation of the Machine Learning Model\n",
      "----------------------------------------------------- \n",
      "\n",
      "Loading full Kelvin's Challenge dataframe...............\n",
      "............................................\n"
     ]
    }
   ],
   "source": [
    "############################################################################\n",
    "# SCRIPT TO CREATE DATASET INPUT FOR THE LIGHT GBM MODEL\n",
    "# IT SAMPLES AN EQUALLY DISTRIBUTED DATAFRAME CONDISERING ONLY RISKY EVENTS \n",
    "# RISKY EVENTS ARE THOSE THAT COLLISSION_PROBABILITY IS GREATER THAN 10 E-6\n",
    "#############################################################################\n",
    "import pandas as pd\n",
    "import datetime as dt\n",
    "import numpy as np\n",
    "import os\n",
    "\n",
    "from preparing_data import *\n",
    "\n",
    "print(\"------------------------------------------------------\")\n",
    "print(\"This script creates the dataframe needed as input for the computation of the Machine Learning Model\")\n",
    "print(\"----------------------------------------------------- \\n\")\n",
    "print(\"Loading full Kelvin's Challenge dataframe...............\")\n",
    "print(\"............................................\")\n",
    "df=pd.read_csv(\"./data/train_data.csv\")\n",
    "\n",
    "# CONVERT KELVIN DATASET TO CDM FORMAT TO SIMULATE ACTUAL INPUT\n",
    "cdm=convertKelvinDatasetToCDMFormat(df)\n",
    "\n",
    "standard_df=convertKelvinDatasetToCDMFormat(df)\n",
    "\n"
   ]
  },
  {
   "cell_type": "code",
   "execution_count": 2,
   "metadata": {},
   "outputs": [
    {
     "data": {
      "text/plain": [
       "103"
      ]
     },
     "execution_count": 2,
     "metadata": {},
     "output_type": "execute_result"
    }
   ],
   "source": [
    "len(df.columns)"
   ]
  },
  {
   "cell_type": "code",
   "execution_count": 3,
   "metadata": {},
   "outputs": [
    {
     "name": "stdout",
     "output_type": "stream",
     "text": [
      "['event_id', 'time_to_tca', 'mission_id', 'risk', 'max_risk_estimate', 'max_risk_scaling', 'miss_distance', 'relative_speed', 'relative_position_r', 'relative_position_t', 'relative_position_n', 'relative_velocity_r', 'relative_velocity_t', 'relative_velocity_n', 't_time_lastob_start', 't_time_lastob_end', 't_recommended_od_span', 't_actual_od_span', 't_obs_available', 't_obs_used', 't_residuals_accepted', 't_weighted_rms', 't_rcs_estimate', 't_cd_area_over_mass', 't_cr_area_over_mass', 't_sedr', 't_j2k_sma', 't_j2k_ecc', 't_j2k_inc', 't_ct_r', 't_cn_r', 't_cn_t', 't_crdot_r', 't_crdot_t', 't_crdot_n', 't_ctdot_r', 't_ctdot_t', 't_ctdot_n', 't_ctdot_rdot', 't_cndot_r', 't_cndot_t', 't_cndot_n', 't_cndot_rdot', 't_cndot_tdot', 'c_object_type', 'c_time_lastob_start', 'c_time_lastob_end', 'c_recommended_od_span', 'c_actual_od_span', 'c_obs_available', 'c_obs_used', 'c_residuals_accepted', 'c_weighted_rms', 'c_rcs_estimate', 'c_cd_area_over_mass', 'c_cr_area_over_mass', 'c_sedr', 'c_j2k_sma', 'c_j2k_ecc', 'c_j2k_inc', 'c_ct_r', 'c_cn_r', 'c_cn_t', 'c_crdot_r', 'c_crdot_t', 'c_crdot_n', 'c_ctdot_r', 'c_ctdot_t', 'c_ctdot_n', 'c_ctdot_rdot', 'c_cndot_r', 'c_cndot_t', 'c_cndot_n', 'c_cndot_rdot', 'c_cndot_tdot', 't_span', 'c_span', 't_h_apo', 't_h_per', 'c_h_apo', 'c_h_per', 'geocentric_latitude', 'azimuth', 'elevation', 'mahalanobis_distance', 't_position_covariance_det', 'c_position_covariance_det', 't_sigma_r', 'c_sigma_r', 't_sigma_t', 'c_sigma_t', 't_sigma_n', 'c_sigma_n', 't_sigma_rdot', 'c_sigma_rdot', 't_sigma_tdot', 'c_sigma_tdot', 't_sigma_ndot', 'c_sigma_ndot', 'F10', 'F3M', 'SSN', 'AP']\n"
     ]
    }
   ],
   "source": [
    "print(list(df.columns))"
   ]
  },
  {
   "cell_type": "code",
   "execution_count": 4,
   "metadata": {},
   "outputs": [
    {
     "data": {
      "text/plain": [
       "(162634, 103)"
      ]
     },
     "execution_count": 4,
     "metadata": {},
     "output_type": "execute_result"
    }
   ],
   "source": [
    "df.shape"
   ]
  },
  {
   "cell_type": "code",
   "execution_count": 5,
   "metadata": {},
   "outputs": [
    {
     "name": "stdout",
     "output_type": "stream",
     "text": [
      "['event_id', 'TCA', 'CREATION_DATE', 'MISS_DISTANCE', 'RELATIVE_SPEED', 'RELATIVE_POSITION_R', 'RELATIVE_POSITION_T', 'RELATIVE_POSITION_N', 'RELATIVE_VELOCITY_R', 'RELATIVE_VELOCITY_T', 'RELATIVE_VELOCITY_N', 'COLLISSION_PROBABILITY', 'OBJECT1_CR_R', 'OBJECT1_CT_R', 'OBJECT1_CT_T', 'OBJECT1_CN_R', 'OBJECT1_CN_T', 'OBJECT1_CN_N', 'OBJECT1_CRDOT_R', 'OBJECT1_CRDOT_T', 'OBJECT1_CRDOT_N', 'OBJECT1_CRDOT_RDOT', 'OBJECT1_CTDOT_R', 'OBJECT1_CTDOT_T', 'OBJECT1_CTDOT_N', 'OBJECT1_CTDOT_RDOT', 'OBJECT1_CTDOT_TDOT', 'OBJECT1_CNDOT_R', 'OBJECT1_CNDOT_T', 'OBJECT1_CNDOT_N', 'OBJECT1_CNDOT_RDOT', 'OBJECT1_CNDOT_TDOT', 'OBJECT1_CNDOT_NDOT', 'OBJECT1_RECOMMENDED_OD_SPAN', 'OBJECT1_ACTUAL_OD_SPAN', 'OBJECT1_OBS_AVAILABLE', 'OBJECT1_OBS_USED', 'OBJECT1_RESIDUALS_ACCEPTED', 'OBJECT1_WEIGHTED_RMS', 'OBJECT1_SEDR', 'OBJECT1_TIME_LASTOB_START', 'OBJECT1_TIME_LASTOB_END', 'OBJECT1_CD_AREA_OVER_MASS', 'OBJECT1_CR_AREA_OVER_MASS', 'OBJECT1_APOGEE_ALTITUDE', 'OBJECT1_PERIGEE_ALTITUDE', 'OBJECT1_INCLINATION', 'OBJECT2_CR_R', 'OBJECT2_CT_R', 'OBJECT2_CT_T', 'OBJECT2_CN_R', 'OBJECT2_CN_T', 'OBJECT2_CN_N', 'OBJECT2_CRDOT_R', 'OBJECT2_CRDOT_T', 'OBJECT2_CRDOT_N', 'OBJECT2_CRDOT_RDOT', 'OBJECT2_CTDOT_R', 'OBJECT2_CTDOT_T', 'OBJECT2_CTDOT_N', 'OBJECT2_CTDOT_RDOT', 'OBJECT2_CTDOT_TDOT', 'OBJECT2_CNDOT_R', 'OBJECT2_CNDOT_T', 'OBJECT2_CNDOT_N', 'OBJECT2_CNDOT_RDOT', 'OBJECT2_CNDOT_TDOT', 'OBJECT2_CNDOT_NDOT', 'OBJECT2_OBJECT_TYPE', 'OBJECT2_RECOMMENDED_OD_SPAN', 'OBJECT2_ACTUAL_OD_SPAN', 'OBJECT2_OBS_AVAILABLE', 'OBJECT2_OBS_USED', 'OBJECT2_RESIDUALS_ACCEPTED', 'OBJECT2_WEIGHTED_RMS', 'OBJECT2_SEDR', 'OBJECT2_TIME_LASTOB_START', 'OBJECT2_TIME_LASTOB_END', 'OBJECT2_CD_AREA_OVER_MASS', 'OBJECT2_CR_AREA_OVER_MASS', 'OBJECT2_APOGEE_ALTITUDE', 'OBJECT2_PERIGEE_ALTITUDE', 'OBJECT2_INCLINATION']\n"
     ]
    }
   ],
   "source": [
    "print(list(cdm.columns))"
   ]
  },
  {
   "cell_type": "code",
   "execution_count": 6,
   "metadata": {},
   "outputs": [
    {
     "data": {
      "text/plain": [
       "(162634, 83)"
      ]
     },
     "execution_count": 6,
     "metadata": {},
     "output_type": "execute_result"
    }
   ],
   "source": [
    "cdm.shape"
   ]
  },
  {
   "cell_type": "code",
   "execution_count": 7,
   "metadata": {},
   "outputs": [
    {
     "name": "stdout",
     "output_type": "stream",
     "text": [
      "Adding correlation matrix elements to the dataframe \n",
      "\n",
      "Deleting covariance matrix elements from the dataframe \n",
      "\n",
      "Dataframe size without feature engineering 153393 x 81\n"
     ]
    }
   ],
   "source": [
    "# DELETE NULLS FROM ONE COLUMN NEEDED TO RUN FOLLOWING TIME CONVERSIONS\n",
    "cdm.dropna(subset = [\"OBJECT2_TIME_LASTOB_START\"], inplace=True)\n",
    "\n",
    "# CONVERT TIME STRING TO TIMEDATE\n",
    "cdm=convertTimestringToTimedate(cdm)\n",
    "# CONVERT TIMEDATE TO RANGE IN DAYS\n",
    "cdm=convertTimedateToDaysRange(cdm)\n",
    "# CONVERT RISK IN LOGARITHMIC SCALE TO NATURAL SCALE THE SAME THAT COLLISSION PROBABILITY USES IN THE CDMs\n",
    "cdm=convertPCto10logaritmicscale(cdm)\n",
    "\n",
    "#DELETE NULS FROM ALL THER OTHER ROWS\n",
    "cdm.dropna(inplace=True)\n",
    "\n",
    "# DROP NON NUMERIC COLUMNS\n",
    "numeric_cols=cdm.select_dtypes(exclude='number')\n",
    "cdm.drop(numeric_cols, axis=1, inplace=True)\n",
    "\n",
    "print(\"Adding correlation matrix elements to the dataframe \\n\")\n",
    "\n",
    "# CALCULATE AND ADD CORRELATION COLUMNS TO IMPROVE MACHINE LEARNING MODEL\n",
    "cdm=addCorrelationColumns(cdm)\n",
    "\n",
    "#DELETE COVARIANCE MATRIX NON DIAGONAL ELEMENTS\n",
    "print(\"Deleting covariance matrix elements from the dataframe \\n\")\n",
    "\n",
    "cdm=deleteCovarianceNonDiagonalElements(cdm)\n",
    "print(\"Dataframe size without feature engineering {} x {}\".format(cdm.shape[0],cdm.shape[1]))\n",
    "cdm.head()\n",
    "\n",
    "\n",
    "#DELETING OBSERVATION COLUMNS NO NEEDED IN THE MODEL\n",
    "cdm.drop([     'OBJECT1_TIME_LASTOB_START',\n",
    "                'OBJECT1_TIME_LASTOB_END',\n",
    "                'OBJECT2_TIME_LASTOB_START',\n",
    "                'OBJECT2_TIME_LASTOB_END'\n",
    "                ], inplace=True, axis=1)\n",
    "\n",
    "\n",
    "# REORDERING COLUMNS BRING __time_to_tca TO FRONT\n",
    "cdm=cdm[ ['__time_to_tca'] + [ col for col in cdm.columns if col != '__time_to_tca' ] ]"
   ]
  },
  {
   "cell_type": "code",
   "execution_count": 8,
   "metadata": {},
   "outputs": [],
   "source": [
    "antes_de_FE=cdm.copy()"
   ]
  },
  {
   "cell_type": "code",
   "execution_count": 9,
   "metadata": {},
   "outputs": [
    {
     "name": "stdout",
     "output_type": "stream",
     "text": [
      "-----------------------------------------------------------\n",
      "------------- FEATURE ENGINEERING -------------------------\n",
      "-----------------------------------------------------------\n",
      "FROM MAIN VARIABLES MISS_DISTANCE and COLLISSION_PROBABILITY...\n",
      "Computing...\n",
      "trends...\n",
      "gradients...\n",
      "............................................................\n"
     ]
    }
   ],
   "source": [
    "#SORT DATAFRAME BY event_id AND THEN BY __time_to_tca DESCENDING\n",
    "cdm.sort_values(by=['event_id', '__time_to_tca'],ascending=[True, False],inplace=True)\n",
    "\n",
    "# COLUMN TO PREDICT\n",
    "cdm[\"TARGET_PC\"] = cdm[\"COLLISSION_PROBABILITY\"].shift(-1)\n",
    "\n",
    "#AUXILIAR ROW TO DELETE THE LAST CDM BECAUSE IT IS THE ONE WE WANT TO PREDICT\n",
    "cdm[\"LAST_CDM\"]=cdm[\"event_id\"]==cdm[\"event_id\"].shift(-1)\n",
    "cdm=cdm[cdm[\"LAST_CDM\"]==True]\n",
    "#cdm.reset_index(inplace=True)\n",
    "cdm.drop([\"LAST_CDM\"], inplace=True, axis=1)\n",
    "\n",
    "# FEATURE ENGINEERING\n",
    "print(\"-----------------------------------------------------------\")\n",
    "print(\"------------- FEATURE ENGINEERING -------------------------\")\n",
    "print(\"-----------------------------------------------------------\")\n",
    "print(\"FROM MAIN VARIABLES MISS_DISTANCE and COLLISSION_PROBABILITY...\")\n",
    "print(\"Computing...\")\n",
    "print(\"trends...\")\n",
    "print(\"gradients...\")\n",
    "print(\"............................................................\")\n",
    "################## COLLISSION_PROBABILITY ##################\n",
    "# (PC_i + PC_i-1 + PC_i-2) / 3 (MOVING AVERAGE WINDOW 3)\n",
    "#cdm[\"PC_mavg_1\"]=(cdm[\"COLLISSION_PROBABILITY\"]+cdm[\"COLLISSION_PROBABILITY\"].shift(1)+cdm[\"COLLISSION_PROBABILITY\"].shift(2))/3\n",
    "# PC_i - P_i-1 (TREND)\n",
    "cdm[\"PC_trend_1\"]=cdm[\"COLLISSION_PROBABILITY\"]-cdm[\"COLLISSION_PROBABILITY\"].shift(1)\n",
    "# PC_i - P_i-3 (TREND)\n",
    "cdm[\"PC_trend_3\"]=cdm[\"COLLISSION_PROBABILITY\"]-cdm[\"COLLISSION_PROBABILITY\"].shift(3)\n",
    "# ( PC_i - PC_i-1 ) / time_delta  (GRADIENT)\n",
    "cdm[\"PC_gradient_1\"]=(cdm[\"COLLISSION_PROBABILITY\"]-cdm[\"COLLISSION_PROBABILITY\"].shift(1))/(abs(cdm[\"__time_to_tca\"]-cdm[\"__time_to_tca\"].shift(1)))\n",
    "# ( PC_i - PC_i-3 ) / time_delta  (GRADIENT)\n",
    "cdm[\"PC_gradient_3\"]=(cdm[\"COLLISSION_PROBABILITY\"]-cdm[\"COLLISSION_PROBABILITY\"].shift(3))/(abs(cdm[\"__time_to_tca\"]-cdm[\"__time_to_tca\"].shift(3)))\n",
    "\n",
    "################## MISS_DISTANCE ##################\n",
    "# ( _i + _i-1 + _i-2) / 3 (MOVING AVERAGE WINDOW 3)\n",
    "#cdm[\"MD_mavg_1\"]=(cdm[\"MISS_DISTANCE\"]+cdm[\"MISS_DISTANCE\"].shift(1)+cdm[\"MISS_DISTANCE\"].shift(2))/3\n",
    "# _i - _i-1 (TREND)\n",
    "cdm[\"MD_trend_1\"]=cdm[\"MISS_DISTANCE\"]-cdm[\"MISS_DISTANCE\"].shift(1)\n",
    "# _i -  _i-3 (TREND)\n",
    "cdm[\"MD_trend_3\"]=cdm[\"MISS_DISTANCE\"]-cdm[\"MISS_DISTANCE\"].shift(3)\n",
    "#( _i - _i-1 ) / time_delta  (GRADIENT)\n",
    "cdm[\"MD_gradient_1\"]=(cdm[\"MISS_DISTANCE\"]-cdm[\"MISS_DISTANCE\"].shift(1))/(abs(cdm[\"__time_to_tca\"]-cdm[\"__time_to_tca\"].shift(1)))\n",
    "#( _i - _i-3 ) / time_delta  (GRADIENT)\n",
    "cdm[\"MD_gradient_3\"]=(cdm[\"MISS_DISTANCE\"]-cdm[\"MISS_DISTANCE\"].shift(3))/(abs(cdm[\"__time_to_tca\"]-cdm[\"__time_to_tca\"].shift(3)))\n",
    "\n",
    "\n",
    "\n",
    "#AUXILIAR COLUMN TO DELETE VALUES MIXING CDMs OF DIFFERENT event_id\n",
    "cdm[\"VALID_ROW\"]=cdm[\"event_id\"]==cdm[\"event_id\"].shift(3)\n",
    "cdm=cdm[cdm[\"VALID_ROW\"]==True]\n",
    "cdm.reset_index(inplace=True)\n",
    "\n",
    "# REORDERING COLUMNS TARGET_PC to end\n",
    "cdm=cdm[ [ col for col in cdm.columns if col != 'TARGET_PC' ] + ['TARGET_PC'] ]\n",
    "\n",
    "# DELETING COLUMNS\n",
    "cdm.drop([\"index\",\"VALID_ROW\",\"event_id\"], inplace=True, axis=1)"
   ]
  },
  {
   "cell_type": "code",
   "execution_count": 10,
   "metadata": {},
   "outputs": [
    {
     "data": {
      "text/plain": [
       "(110337, 85)"
      ]
     },
     "execution_count": 10,
     "metadata": {},
     "output_type": "execute_result"
    }
   ],
   "source": [
    "cdm.shape"
   ]
  },
  {
   "cell_type": "code",
   "execution_count": null,
   "metadata": {},
   "outputs": [],
   "source": []
  },
  {
   "cell_type": "code",
   "execution_count": 11,
   "metadata": {},
   "outputs": [
    {
     "name": "stdout",
     "output_type": "stream",
     "text": [
      "(5394, 85)\n"
     ]
    },
    {
     "data": {
      "text/html": [
       "<div>\n",
       "<style scoped>\n",
       "    .dataframe tbody tr th:only-of-type {\n",
       "        vertical-align: middle;\n",
       "    }\n",
       "\n",
       "    .dataframe tbody tr th {\n",
       "        vertical-align: top;\n",
       "    }\n",
       "\n",
       "    .dataframe thead th {\n",
       "        text-align: right;\n",
       "    }\n",
       "</style>\n",
       "<table border=\"1\" class=\"dataframe\">\n",
       "  <thead>\n",
       "    <tr style=\"text-align: right;\">\n",
       "      <th></th>\n",
       "      <th>__time_to_tca</th>\n",
       "      <th>MISS_DISTANCE</th>\n",
       "      <th>RELATIVE_SPEED</th>\n",
       "      <th>RELATIVE_POSITION_R</th>\n",
       "      <th>RELATIVE_POSITION_T</th>\n",
       "      <th>RELATIVE_POSITION_N</th>\n",
       "      <th>RELATIVE_VELOCITY_R</th>\n",
       "      <th>RELATIVE_VELOCITY_T</th>\n",
       "      <th>RELATIVE_VELOCITY_N</th>\n",
       "      <th>COLLISSION_PROBABILITY</th>\n",
       "      <th>...</th>\n",
       "      <th>OBJECT2_CORR_CNDOT_TDOT</th>\n",
       "      <th>PC_trend_1</th>\n",
       "      <th>PC_trend_3</th>\n",
       "      <th>PC_gradient_1</th>\n",
       "      <th>PC_gradient_3</th>\n",
       "      <th>MD_trend_1</th>\n",
       "      <th>MD_trend_3</th>\n",
       "      <th>MD_gradient_1</th>\n",
       "      <th>MD_gradient_3</th>\n",
       "      <th>TARGET_PC</th>\n",
       "    </tr>\n",
       "  </thead>\n",
       "  <tbody>\n",
       "    <tr>\n",
       "      <th>0</th>\n",
       "      <td>5.775947</td>\n",
       "      <td>568.0</td>\n",
       "      <td>2001.0</td>\n",
       "      <td>-20.9</td>\n",
       "      <td>-562.8</td>\n",
       "      <td>-75.9</td>\n",
       "      <td>0.8</td>\n",
       "      <td>-268.6</td>\n",
       "      <td>1983.8</td>\n",
       "      <td>-5.415895</td>\n",
       "      <td>...</td>\n",
       "      <td>-0.054742</td>\n",
       "      <td>0.226170</td>\n",
       "      <td>0.773872</td>\n",
       "      <td>0.652610</td>\n",
       "      <td>0.763062</td>\n",
       "      <td>-123.0</td>\n",
       "      <td>144.0</td>\n",
       "      <td>-354.914301</td>\n",
       "      <td>141.988456</td>\n",
       "      <td>-5.345246</td>\n",
       "    </tr>\n",
       "    <tr>\n",
       "      <th>1</th>\n",
       "      <td>5.420762</td>\n",
       "      <td>611.0</td>\n",
       "      <td>2001.0</td>\n",
       "      <td>-19.9</td>\n",
       "      <td>-605.4</td>\n",
       "      <td>-81.8</td>\n",
       "      <td>0.8</td>\n",
       "      <td>-268.6</td>\n",
       "      <td>1983.8</td>\n",
       "      <td>-5.345246</td>\n",
       "      <td>...</td>\n",
       "      <td>0.029148</td>\n",
       "      <td>0.070649</td>\n",
       "      <td>0.237282</td>\n",
       "      <td>0.198907</td>\n",
       "      <td>0.234313</td>\n",
       "      <td>43.0</td>\n",
       "      <td>50.0</td>\n",
       "      <td>121.063636</td>\n",
       "      <td>49.374243</td>\n",
       "      <td>-4.792366</td>\n",
       "    </tr>\n",
       "    <tr>\n",
       "      <th>2</th>\n",
       "      <td>5.119489</td>\n",
       "      <td>576.0</td>\n",
       "      <td>2001.0</td>\n",
       "      <td>-9.6</td>\n",
       "      <td>-571.2</td>\n",
       "      <td>-77.4</td>\n",
       "      <td>0.8</td>\n",
       "      <td>-268.6</td>\n",
       "      <td>1983.8</td>\n",
       "      <td>-4.792366</td>\n",
       "      <td>...</td>\n",
       "      <td>-0.030920</td>\n",
       "      <td>0.552880</td>\n",
       "      <td>0.849700</td>\n",
       "      <td>1.835148</td>\n",
       "      <td>0.847141</td>\n",
       "      <td>-35.0</td>\n",
       "      <td>-115.0</td>\n",
       "      <td>-116.173757</td>\n",
       "      <td>-114.653689</td>\n",
       "      <td>-4.208450</td>\n",
       "    </tr>\n",
       "    <tr>\n",
       "      <th>3</th>\n",
       "      <td>4.750068</td>\n",
       "      <td>328.0</td>\n",
       "      <td>2001.0</td>\n",
       "      <td>2.7</td>\n",
       "      <td>-325.3</td>\n",
       "      <td>-43.7</td>\n",
       "      <td>0.5</td>\n",
       "      <td>-268.6</td>\n",
       "      <td>1983.8</td>\n",
       "      <td>-4.208450</td>\n",
       "      <td>...</td>\n",
       "      <td>-0.104064</td>\n",
       "      <td>0.583916</td>\n",
       "      <td>1.207445</td>\n",
       "      <td>1.580622</td>\n",
       "      <td>1.176985</td>\n",
       "      <td>-248.0</td>\n",
       "      <td>-240.0</td>\n",
       "      <td>-671.319754</td>\n",
       "      <td>-233.945596</td>\n",
       "      <td>-4.049879</td>\n",
       "    </tr>\n",
       "    <tr>\n",
       "      <th>4</th>\n",
       "      <td>4.087221</td>\n",
       "      <td>56.0</td>\n",
       "      <td>2001.0</td>\n",
       "      <td>9.2</td>\n",
       "      <td>-55.1</td>\n",
       "      <td>-7.3</td>\n",
       "      <td>0.2</td>\n",
       "      <td>-268.6</td>\n",
       "      <td>1983.8</td>\n",
       "      <td>-4.049879</td>\n",
       "      <td>...</td>\n",
       "      <td>-0.117181</td>\n",
       "      <td>0.158571</td>\n",
       "      <td>1.295367</td>\n",
       "      <td>0.239227</td>\n",
       "      <td>0.971374</td>\n",
       "      <td>-272.0</td>\n",
       "      <td>-555.0</td>\n",
       "      <td>-410.351242</td>\n",
       "      <td>-416.185112</td>\n",
       "      <td>-5.289798</td>\n",
       "    </tr>\n",
       "  </tbody>\n",
       "</table>\n",
       "<p>5 rows × 85 columns</p>\n",
       "</div>"
      ],
      "text/plain": [
       "   __time_to_tca  MISS_DISTANCE  RELATIVE_SPEED  RELATIVE_POSITION_R  \\\n",
       "0       5.775947          568.0          2001.0                -20.9   \n",
       "1       5.420762          611.0          2001.0                -19.9   \n",
       "2       5.119489          576.0          2001.0                 -9.6   \n",
       "3       4.750068          328.0          2001.0                  2.7   \n",
       "4       4.087221           56.0          2001.0                  9.2   \n",
       "\n",
       "   RELATIVE_POSITION_T  RELATIVE_POSITION_N  RELATIVE_VELOCITY_R  \\\n",
       "0               -562.8                -75.9                  0.8   \n",
       "1               -605.4                -81.8                  0.8   \n",
       "2               -571.2                -77.4                  0.8   \n",
       "3               -325.3                -43.7                  0.5   \n",
       "4                -55.1                 -7.3                  0.2   \n",
       "\n",
       "   RELATIVE_VELOCITY_T  RELATIVE_VELOCITY_N  COLLISSION_PROBABILITY  ...  \\\n",
       "0               -268.6               1983.8               -5.415895  ...   \n",
       "1               -268.6               1983.8               -5.345246  ...   \n",
       "2               -268.6               1983.8               -4.792366  ...   \n",
       "3               -268.6               1983.8               -4.208450  ...   \n",
       "4               -268.6               1983.8               -4.049879  ...   \n",
       "\n",
       "   OBJECT2_CORR_CNDOT_TDOT  PC_trend_1  PC_trend_3  PC_gradient_1  \\\n",
       "0                -0.054742    0.226170    0.773872       0.652610   \n",
       "1                 0.029148    0.070649    0.237282       0.198907   \n",
       "2                -0.030920    0.552880    0.849700       1.835148   \n",
       "3                -0.104064    0.583916    1.207445       1.580622   \n",
       "4                -0.117181    0.158571    1.295367       0.239227   \n",
       "\n",
       "   PC_gradient_3  MD_trend_1  MD_trend_3  MD_gradient_1  MD_gradient_3  \\\n",
       "0       0.763062      -123.0       144.0    -354.914301     141.988456   \n",
       "1       0.234313        43.0        50.0     121.063636      49.374243   \n",
       "2       0.847141       -35.0      -115.0    -116.173757    -114.653689   \n",
       "3       1.176985      -248.0      -240.0    -671.319754    -233.945596   \n",
       "4       0.971374      -272.0      -555.0    -410.351242    -416.185112   \n",
       "\n",
       "   TARGET_PC  \n",
       "0  -5.345246  \n",
       "1  -4.792366  \n",
       "2  -4.208450  \n",
       "3  -4.049879  \n",
       "4  -5.289798  \n",
       "\n",
       "[5 rows x 85 columns]"
      ]
     },
     "execution_count": 11,
     "metadata": {},
     "output_type": "execute_result"
    }
   ],
   "source": [
    "data=pd.read_pickle(\"dataframe/_PRUEBA_df_filtered_20220115_112153.pkl\")\n",
    "data.reset_index(inplace=True)\n",
    "data.drop(['index'], inplace=True, axis=1)\n",
    "print(data.shape)\n",
    "data.head()"
   ]
  },
  {
   "cell_type": "code",
   "execution_count": 12,
   "metadata": {},
   "outputs": [
    {
     "name": "stdout",
     "output_type": "stream",
     "text": [
      "85\n",
      "['__time_to_tca', 'MISS_DISTANCE', 'RELATIVE_SPEED', 'RELATIVE_POSITION_R', 'RELATIVE_POSITION_T', 'RELATIVE_POSITION_N', 'RELATIVE_VELOCITY_R', 'RELATIVE_VELOCITY_T', 'RELATIVE_VELOCITY_N', 'COLLISSION_PROBABILITY', 'OBJECT1_CR_R', 'OBJECT1_CT_T', 'OBJECT1_CN_N', 'OBJECT1_CRDOT_RDOT', 'OBJECT1_CTDOT_TDOT', 'OBJECT1_CNDOT_NDOT', 'OBJECT1_RECOMMENDED_OD_SPAN', 'OBJECT1_ACTUAL_OD_SPAN', 'OBJECT1_OBS_AVAILABLE', 'OBJECT1_OBS_USED', 'OBJECT1_RESIDUALS_ACCEPTED', 'OBJECT1_WEIGHTED_RMS', 'OBJECT1_SEDR', 'OBJECT1_CD_AREA_OVER_MASS', 'OBJECT1_CR_AREA_OVER_MASS', 'OBJECT1_APOGEE_ALTITUDE', 'OBJECT1_PERIGEE_ALTITUDE', 'OBJECT1_INCLINATION', 'OBJECT2_CR_R', 'OBJECT2_CT_T', 'OBJECT2_CN_N', 'OBJECT2_CRDOT_RDOT', 'OBJECT2_CTDOT_TDOT', 'OBJECT2_CNDOT_NDOT', 'OBJECT2_RECOMMENDED_OD_SPAN', 'OBJECT2_ACTUAL_OD_SPAN', 'OBJECT2_OBS_AVAILABLE', 'OBJECT2_OBS_USED', 'OBJECT2_RESIDUALS_ACCEPTED', 'OBJECT2_WEIGHTED_RMS', 'OBJECT2_SEDR', 'OBJECT2_CD_AREA_OVER_MASS', 'OBJECT2_CR_AREA_OVER_MASS', 'OBJECT2_APOGEE_ALTITUDE', 'OBJECT2_PERIGEE_ALTITUDE', 'OBJECT2_INCLINATION', 'OBJECT1_CORR_CT_R', 'OBJECT1_CORR_CN_R', 'OBJECT1_CORR_CN_T', 'OBJECT1_CORR_CRDOT_R', 'OBJECT1_CORR_CRDOT_T', 'OBJECT1_CORR_CRDOT_N', 'OBJECT1_CORR_CTDOT_R', 'OBJECT1_CORR_CTDOT_T', 'OBJECT1_CORR_CTDOT_N', 'OBJECT1_CORR_CTDOT_RDOT', 'OBJECT1_CORR_CNDOT_R', 'OBJECT1_CORR_CNDOT_T', 'OBJECT1_CORR_CNDOT_N', 'OBJECT1_CORR_CNDOT_RDOT', 'OBJECT1_CORR_CNDOT_TDOT', 'OBJECT2_CORR_CT_R', 'OBJECT2_CORR_CN_R', 'OBJECT2_CORR_CN_T', 'OBJECT2_CORR_CRDOT_R', 'OBJECT2_CORR_CRDOT_T', 'OBJECT2_CORR_CRDOT_N', 'OBJECT2_CORR_CTDOT_R', 'OBJECT2_CORR_CTDOT_T', 'OBJECT2_CORR_CTDOT_N', 'OBJECT2_CORR_CTDOT_RDOT', 'OBJECT2_CORR_CNDOT_R', 'OBJECT2_CORR_CNDOT_T', 'OBJECT2_CORR_CNDOT_N', 'OBJECT2_CORR_CNDOT_RDOT', 'OBJECT2_CORR_CNDOT_TDOT', 'PC_trend_1', 'PC_trend_3', 'PC_gradient_1', 'PC_gradient_3', 'MD_trend_1', 'MD_trend_3', 'MD_gradient_1', 'MD_gradient_3', 'TARGET_PC']\n"
     ]
    }
   ],
   "source": [
    "print(len(data.columns))\n",
    "print(list(data.columns))\n",
    "lista_final=list(data.columns)"
   ]
  },
  {
   "cell_type": "code",
   "execution_count": 13,
   "metadata": {},
   "outputs": [
    {
     "name": "stdout",
     "output_type": "stream",
     "text": [
      "77\n",
      "['__time_to_tca', 'event_id', 'MISS_DISTANCE', 'RELATIVE_SPEED', 'RELATIVE_POSITION_R', 'RELATIVE_POSITION_T', 'RELATIVE_POSITION_N', 'RELATIVE_VELOCITY_R', 'RELATIVE_VELOCITY_T', 'RELATIVE_VELOCITY_N', 'COLLISSION_PROBABILITY', 'OBJECT1_CR_R', 'OBJECT1_CT_T', 'OBJECT1_CN_N', 'OBJECT1_CRDOT_RDOT', 'OBJECT1_CTDOT_TDOT', 'OBJECT1_CNDOT_NDOT', 'OBJECT1_RECOMMENDED_OD_SPAN', 'OBJECT1_ACTUAL_OD_SPAN', 'OBJECT1_OBS_AVAILABLE', 'OBJECT1_OBS_USED', 'OBJECT1_RESIDUALS_ACCEPTED', 'OBJECT1_WEIGHTED_RMS', 'OBJECT1_SEDR', 'OBJECT1_CD_AREA_OVER_MASS', 'OBJECT1_CR_AREA_OVER_MASS', 'OBJECT1_APOGEE_ALTITUDE', 'OBJECT1_PERIGEE_ALTITUDE', 'OBJECT1_INCLINATION', 'OBJECT2_CR_R', 'OBJECT2_CT_T', 'OBJECT2_CN_N', 'OBJECT2_CRDOT_RDOT', 'OBJECT2_CTDOT_TDOT', 'OBJECT2_CNDOT_NDOT', 'OBJECT2_RECOMMENDED_OD_SPAN', 'OBJECT2_ACTUAL_OD_SPAN', 'OBJECT2_OBS_AVAILABLE', 'OBJECT2_OBS_USED', 'OBJECT2_RESIDUALS_ACCEPTED', 'OBJECT2_WEIGHTED_RMS', 'OBJECT2_SEDR', 'OBJECT2_CD_AREA_OVER_MASS', 'OBJECT2_CR_AREA_OVER_MASS', 'OBJECT2_APOGEE_ALTITUDE', 'OBJECT2_PERIGEE_ALTITUDE', 'OBJECT2_INCLINATION', 'OBJECT1_CORR_CT_R', 'OBJECT1_CORR_CN_R', 'OBJECT1_CORR_CN_T', 'OBJECT1_CORR_CRDOT_R', 'OBJECT1_CORR_CRDOT_T', 'OBJECT1_CORR_CRDOT_N', 'OBJECT1_CORR_CTDOT_R', 'OBJECT1_CORR_CTDOT_T', 'OBJECT1_CORR_CTDOT_N', 'OBJECT1_CORR_CTDOT_RDOT', 'OBJECT1_CORR_CNDOT_R', 'OBJECT1_CORR_CNDOT_T', 'OBJECT1_CORR_CNDOT_N', 'OBJECT1_CORR_CNDOT_RDOT', 'OBJECT1_CORR_CNDOT_TDOT', 'OBJECT2_CORR_CT_R', 'OBJECT2_CORR_CN_R', 'OBJECT2_CORR_CN_T', 'OBJECT2_CORR_CRDOT_R', 'OBJECT2_CORR_CRDOT_T', 'OBJECT2_CORR_CRDOT_N', 'OBJECT2_CORR_CTDOT_R', 'OBJECT2_CORR_CTDOT_T', 'OBJECT2_CORR_CTDOT_N', 'OBJECT2_CORR_CTDOT_RDOT', 'OBJECT2_CORR_CNDOT_R', 'OBJECT2_CORR_CNDOT_T', 'OBJECT2_CORR_CNDOT_N', 'OBJECT2_CORR_CNDOT_RDOT', 'OBJECT2_CORR_CNDOT_TDOT']\n"
     ]
    }
   ],
   "source": [
    "print(len(antes_de_FE.columns))\n",
    "print(list(antes_de_FE.columns))\n",
    "lista_antes=list(antes_de_FE.columns)"
   ]
  },
  {
   "cell_type": "code",
   "execution_count": 14,
   "metadata": {},
   "outputs": [
    {
     "name": "stdout",
     "output_type": "stream",
     "text": [
      "10\n",
      "['event_id', 'PC_trend_1', 'PC_trend_3', 'PC_gradient_1', 'PC_gradient_3', 'MD_trend_1', 'MD_trend_3', 'MD_gradient_1', 'MD_gradient_3', 'TARGET_PC']\n"
     ]
    }
   ],
   "source": [
    "list1=lista_antes\n",
    "list2=lista_final\n",
    "res = [x for x in list1 + list2 if x not in list1 or x not in list2]\n",
    "\n",
    "print(len(res))\n",
    "print(res)"
   ]
  },
  {
   "cell_type": "code",
   "execution_count": 15,
   "metadata": {},
   "outputs": [
    {
     "name": "stdout",
     "output_type": "stream",
     "text": [
      "68\n",
      "['__time_to_tca', 'OBJECT1_CORR_CT_R', 'OBJECT1_CORR_CN_R', 'OBJECT1_CORR_CN_T', 'OBJECT1_CORR_CRDOT_R', 'OBJECT1_CORR_CRDOT_T', 'OBJECT1_CORR_CRDOT_N', 'OBJECT1_CORR_CTDOT_R', 'OBJECT1_CORR_CTDOT_T', 'OBJECT1_CORR_CTDOT_N', 'OBJECT1_CORR_CTDOT_RDOT', 'OBJECT1_CORR_CNDOT_R', 'OBJECT1_CORR_CNDOT_T', 'OBJECT1_CORR_CNDOT_N', 'OBJECT1_CORR_CNDOT_RDOT', 'OBJECT1_CORR_CNDOT_TDOT', 'OBJECT2_CORR_CT_R', 'OBJECT2_CORR_CN_R', 'OBJECT2_CORR_CN_T', 'OBJECT2_CORR_CRDOT_R', 'OBJECT2_CORR_CRDOT_T', 'OBJECT2_CORR_CRDOT_N', 'OBJECT2_CORR_CTDOT_R', 'OBJECT2_CORR_CTDOT_T', 'OBJECT2_CORR_CTDOT_N', 'OBJECT2_CORR_CTDOT_RDOT', 'OBJECT2_CORR_CNDOT_R', 'OBJECT2_CORR_CNDOT_T', 'OBJECT2_CORR_CNDOT_N', 'OBJECT2_CORR_CNDOT_RDOT', 'OBJECT2_CORR_CNDOT_TDOT', 'TCA', 'CREATION_DATE', 'OBJECT1_CT_R', 'OBJECT1_CN_R', 'OBJECT1_CN_T', 'OBJECT1_CRDOT_R', 'OBJECT1_CRDOT_T', 'OBJECT1_CRDOT_N', 'OBJECT1_CTDOT_R', 'OBJECT1_CTDOT_T', 'OBJECT1_CTDOT_N', 'OBJECT1_CTDOT_RDOT', 'OBJECT1_CNDOT_R', 'OBJECT1_CNDOT_T', 'OBJECT1_CNDOT_N', 'OBJECT1_CNDOT_RDOT', 'OBJECT1_CNDOT_TDOT', 'OBJECT1_TIME_LASTOB_START', 'OBJECT1_TIME_LASTOB_END', 'OBJECT2_CT_R', 'OBJECT2_CN_R', 'OBJECT2_CN_T', 'OBJECT2_CRDOT_R', 'OBJECT2_CRDOT_T', 'OBJECT2_CRDOT_N', 'OBJECT2_CTDOT_R', 'OBJECT2_CTDOT_T', 'OBJECT2_CTDOT_N', 'OBJECT2_CTDOT_RDOT', 'OBJECT2_CNDOT_R', 'OBJECT2_CNDOT_T', 'OBJECT2_CNDOT_N', 'OBJECT2_CNDOT_RDOT', 'OBJECT2_CNDOT_TDOT', 'OBJECT2_OBJECT_TYPE', 'OBJECT2_TIME_LASTOB_START', 'OBJECT2_TIME_LASTOB_END']\n"
     ]
    }
   ],
   "source": [
    "list0=list(standard_df.columns)\n",
    "res = [x for x in list1 + list0 if x not in list1 or x not in list0]\n",
    "\n",
    "print(len(res))\n",
    "print(res)"
   ]
  },
  {
   "cell_type": "code",
   "execution_count": 16,
   "metadata": {},
   "outputs": [
    {
     "name": "stdout",
     "output_type": "stream",
     "text": [
      "37\n",
      "['TCA', 'CREATION_DATE', 'OBJECT1_CT_R', 'OBJECT1_CN_R', 'OBJECT1_CN_T', 'OBJECT1_CRDOT_R', 'OBJECT1_CRDOT_T', 'OBJECT1_CRDOT_N', 'OBJECT1_CTDOT_R', 'OBJECT1_CTDOT_T', 'OBJECT1_CTDOT_N', 'OBJECT1_CTDOT_RDOT', 'OBJECT1_CNDOT_R', 'OBJECT1_CNDOT_T', 'OBJECT1_CNDOT_N', 'OBJECT1_CNDOT_RDOT', 'OBJECT1_CNDOT_TDOT', 'OBJECT1_TIME_LASTOB_START', 'OBJECT1_TIME_LASTOB_END', 'OBJECT2_CT_R', 'OBJECT2_CN_R', 'OBJECT2_CN_T', 'OBJECT2_CRDOT_R', 'OBJECT2_CRDOT_T', 'OBJECT2_CRDOT_N', 'OBJECT2_CTDOT_R', 'OBJECT2_CTDOT_T', 'OBJECT2_CTDOT_N', 'OBJECT2_CTDOT_RDOT', 'OBJECT2_CNDOT_R', 'OBJECT2_CNDOT_T', 'OBJECT2_CNDOT_N', 'OBJECT2_CNDOT_RDOT', 'OBJECT2_CNDOT_TDOT', 'OBJECT2_OBJECT_TYPE', 'OBJECT2_TIME_LASTOB_START', 'OBJECT2_TIME_LASTOB_END']\n"
     ]
    }
   ],
   "source": [
    "res = [x for x in list0 if x not in list1]\n",
    "print(len(res))\n",
    "print(res)"
   ]
  },
  {
   "cell_type": "code",
   "execution_count": 18,
   "metadata": {},
   "outputs": [],
   "source": [
    "diff01=['TCA', 'CREATION_DATE', 'OBJECT1_TIME_LASTOB_START', 'OBJECT1_TIME_LASTOB_END', 'OBJECT2_OBJECT_TYPE', 'OBJECT2_TIME_LASTOB_START', 'OBJECT2_TIME_LASTOB_END']"
   ]
  },
  {
   "cell_type": "code",
   "execution_count": 19,
   "metadata": {},
   "outputs": [
    {
     "data": {
      "text/plain": [
       "7"
      ]
     },
     "execution_count": 19,
     "metadata": {},
     "output_type": "execute_result"
    }
   ],
   "source": [
    "len(diff01)"
   ]
  },
  {
   "cell_type": "code",
   "execution_count": 17,
   "metadata": {},
   "outputs": [
    {
     "name": "stdout",
     "output_type": "stream",
     "text": [
      "31\n",
      "['__time_to_tca', 'OBJECT1_CORR_CT_R', 'OBJECT1_CORR_CN_R', 'OBJECT1_CORR_CN_T', 'OBJECT1_CORR_CRDOT_R', 'OBJECT1_CORR_CRDOT_T', 'OBJECT1_CORR_CRDOT_N', 'OBJECT1_CORR_CTDOT_R', 'OBJECT1_CORR_CTDOT_T', 'OBJECT1_CORR_CTDOT_N', 'OBJECT1_CORR_CTDOT_RDOT', 'OBJECT1_CORR_CNDOT_R', 'OBJECT1_CORR_CNDOT_T', 'OBJECT1_CORR_CNDOT_N', 'OBJECT1_CORR_CNDOT_RDOT', 'OBJECT1_CORR_CNDOT_TDOT', 'OBJECT2_CORR_CT_R', 'OBJECT2_CORR_CN_R', 'OBJECT2_CORR_CN_T', 'OBJECT2_CORR_CRDOT_R', 'OBJECT2_CORR_CRDOT_T', 'OBJECT2_CORR_CRDOT_N', 'OBJECT2_CORR_CTDOT_R', 'OBJECT2_CORR_CTDOT_T', 'OBJECT2_CORR_CTDOT_N', 'OBJECT2_CORR_CTDOT_RDOT', 'OBJECT2_CORR_CNDOT_R', 'OBJECT2_CORR_CNDOT_T', 'OBJECT2_CORR_CNDOT_N', 'OBJECT2_CORR_CNDOT_RDOT', 'OBJECT2_CORR_CNDOT_TDOT']\n"
     ]
    }
   ],
   "source": [
    "res = [x for x in list1 if x not in list0]\n",
    "print(len(res))\n",
    "print(res)"
   ]
  },
  {
   "cell_type": "code",
   "execution_count": null,
   "metadata": {},
   "outputs": [],
   "source": []
  }
 ],
 "metadata": {
  "interpreter": {
   "hash": "e3f0306f65ef94eb1724025cbafa0368c3a6fe3ff428a97c0fe1d1daabf31713"
  },
  "kernelspec": {
   "display_name": "Python 3.9.7 (conda)",
   "language": "python",
   "name": "python3"
  },
  "language_info": {
   "codemirror_mode": {
    "name": "ipython",
    "version": 3
   },
   "file_extension": ".py",
   "mimetype": "text/x-python",
   "name": "python",
   "nbconvert_exporter": "python",
   "pygments_lexer": "ipython3",
   "version": "3.9.7"
  },
  "orig_nbformat": 4
 },
 "nbformat": 4,
 "nbformat_minor": 2
}
