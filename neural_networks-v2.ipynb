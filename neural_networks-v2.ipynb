{
 "cells": [
  {
   "cell_type": "code",
   "execution_count": 1,
   "source": [
    "import pandas as pd\n",
    "import numpy as np\n",
    "from keras.models import Sequential\n",
    "from keras.layers import Dense\n",
    "from keras.wrappers.scikit_learn import KerasRegressor\n",
    "from sklearn.model_selection import cross_val_score\n",
    "from sklearn.model_selection import KFold\n",
    "from sklearn.preprocessing import StandardScaler\n",
    "from sklearn.pipeline import Pipeline\n",
    "\n",
    "from sklearn.model_selection import train_test_split\n",
    "from sklearn.metrics import r2_score, mean_squared_log_error, mean_squared_error,mean_absolute_error\n",
    "\n"
   ],
   "outputs": [
    {
     "output_type": "stream",
     "name": "stderr",
     "text": [
      "2021-11-29 23:51:47.009886: W tensorflow/stream_executor/platform/default/dso_loader.cc:64] Could not load dynamic library 'libcudart.so.11.0'; dlerror: libcudart.so.11.0: cannot open shared object file: No such file or directory\n",
      "2021-11-29 23:51:47.009921: I tensorflow/stream_executor/cuda/cudart_stub.cc:29] Ignore above cudart dlerror if you do not have a GPU set up on your machine.\n"
     ]
    }
   ],
   "metadata": {}
  },
  {
   "cell_type": "code",
   "execution_count": 2,
   "source": [
    "data=pd.read_pickle(\"./dataframe/df_only_risky_events.pkl\")\n",
    "data.reset_index(inplace=True)\n",
    "data.drop(['index'], inplace=True, axis=1)"
   ],
   "outputs": [],
   "metadata": {}
  },
  {
   "cell_type": "code",
   "execution_count": 3,
   "source": [
    "train, test = train_test_split(data, test_size=0.30, random_state=42)\n",
    "print(\"Train dataframe dimension {} x {}\".format(train.shape[0],train.shape[1]))\n",
    "print(\"Test dataframe dimension {} x {}\".format(test.shape[0],test.shape[1]))\n",
    "Y_train = train[\"COLLISSION_PROBABILITY\"].values\n",
    "X_train= train.drop([\"COLLISSION_PROBABILITY\"], axis=1).values\n",
    "Y_test = test[\"COLLISSION_PROBABILITY\"].values\n",
    "X_test= test.drop([\"COLLISSION_PROBABILITY\"], axis=1).values"
   ],
   "outputs": [
    {
     "output_type": "stream",
     "name": "stdout",
     "text": [
      "Train dataframe dimension 190 x 86\n",
      "Test dataframe dimension 82 x 86\n"
     ]
    }
   ],
   "metadata": {}
  },
  {
   "cell_type": "code",
   "execution_count": 4,
   "source": [
    "# Y = df[\"COLLISSION_PROBABILITY\"]\n",
    "# X = df.drop([\"COLLISSION_PROBABILITY\"], axis=1)"
   ],
   "outputs": [],
   "metadata": {}
  },
  {
   "cell_type": "code",
   "execution_count": 5,
   "source": [
    "ncol=X_train.shape[1]"
   ],
   "outputs": [],
   "metadata": {}
  },
  {
   "cell_type": "code",
   "execution_count": 6,
   "source": [
    "Y_train"
   ],
   "outputs": [
    {
     "output_type": "execute_result",
     "data": {
      "text/plain": [
       "array([-5.98842956, -4.67366414, -5.63059859, -5.52013689, -5.48958905,\n",
       "       -4.50362395, -5.1258082 , -5.23336411, -5.32066297, -5.18615225,\n",
       "       -5.14014148, -5.37273658, -5.13353543, -5.33282733, -4.76776648,\n",
       "       -3.91399629, -4.50182734, -5.45642858, -5.54622314, -5.99139983,\n",
       "       -5.02844585, -5.49295413, -5.91721463, -5.34275287, -5.55658054,\n",
       "       -4.97469413, -5.97798426, -4.71264623, -5.72607322, -5.2772016 ,\n",
       "       -5.68507994, -5.62874737, -5.54136215, -3.26672247, -4.74738966,\n",
       "       -5.14660602, -5.85886391, -5.1820382 , -4.59670785, -5.8291518 ,\n",
       "       -4.59739476, -5.51427857, -5.89109687, -5.81673016, -4.56415563,\n",
       "       -3.34065436, -4.97839728, -4.72607322, -5.25391096, -4.40993877,\n",
       "       -5.98213228, -5.01786451, -5.95703093, -4.69378949, -5.90343756,\n",
       "       -5.6256183 , -5.96018945, -4.88472241, -5.52520118, -5.99396205,\n",
       "       -5.83003183, -3.41839163, -5.80079352, -5.42596873, -5.04378353,\n",
       "       -5.6181632 , -5.01999663, -4.80548566, -4.40760115, -5.69831905,\n",
       "       -5.4847887 , -5.43297363, -3.55658054, -5.91901295, -5.34804393,\n",
       "       -4.71041105, -5.48399377, -2.64955814, -5.50045037, -4.55005901,\n",
       "       -5.10220802, -5.9423339 , -5.2657604 , -5.99697053, -5.54546002,\n",
       "       -4.84345085, -5.99439055, -5.99267905, -5.8827287 , -5.66534523,\n",
       "       -4.39631445, -5.9314431 , -4.45234834, -4.91328434, -5.21495504,\n",
       "       -5.45395113, -4.31921139, -5.49866682, -5.88605665, -4.90727936,\n",
       "       -5.43818334, -5.60015329, -4.39361863, -4.29843201, -5.006035  ,\n",
       "       -4.20010832, -4.38216125, -5.40904676, -5.29559207, -5.92372374,\n",
       "       -4.02223068, -5.60275542, -5.29140915, -5.50598463, -2.05507339,\n",
       "       -5.80161787, -4.80910828, -5.28141528, -3.71197446, -5.51470456,\n",
       "       -5.44490555, -4.40993877, -5.99225222, -4.39040559, -5.0776379 ,\n",
       "       -4.93479387, -5.77910775, -3.70421306, -5.99097426, -5.85201468,\n",
       "       -5.66655273, -5.50141379, -4.67243674, -4.26392236, -5.18970026,\n",
       "       -4.01502287, -4.1501508 , -3.88941029, -3.34669099, -4.41907502,\n",
       "       -5.43062609, -5.08365135, -3.51173138, -5.17489859, -4.07134815,\n",
       "       -5.11272037, -5.65227978, -5.42899033, -5.46029676, -5.04474532,\n",
       "       -4.47912362, -4.56447415, -5.80161787, -4.41016206, -5.61852391,\n",
       "       -5.32919772, -5.57560845, -5.28692967, -3.5015516 , -5.99310629,\n",
       "       -5.74521031, -5.63959595, -5.5543958 , -4.51769823, -5.44021303,\n",
       "       -4.19887081, -4.58435902, -5.05183164, -2.87031011, -4.5178413 ,\n",
       "       -5.07634158, -5.12575018, -5.4024145 , -5.14435972, -5.31993657,\n",
       "       -5.01502287, -5.6413039 , -5.11793106, -5.81107152, -5.42864061,\n",
       "       -4.74304185, -5.65286522, -5.51272018, -5.83893161, -3.58603003,\n",
       "       -5.28827711, -4.39447948, -5.80271944, -5.8467951 , -5.42969061])"
      ]
     },
     "metadata": {},
     "execution_count": 6
    }
   ],
   "metadata": {}
  },
  {
   "cell_type": "code",
   "execution_count": 7,
   "source": [
    "# create model\n",
    "model = Sequential()\n",
    "model.add(Dense(ncol/2, input_dim=ncol, kernel_initializer='normal', activation='relu'))\n",
    "model.add(Dense(ncol/2, activation= \"relu\"))\n",
    "model.add(Dense(1, kernel_initializer='normal'))\n",
    "# Compile model\n",
    "model.compile(loss='mean_squared_error', optimizer='adam',metrics=[\"mean_squared_error\"])\n"
   ],
   "outputs": [
    {
     "output_type": "stream",
     "name": "stderr",
     "text": [
      "2021-11-29 23:51:49.595113: W tensorflow/stream_executor/platform/default/dso_loader.cc:64] Could not load dynamic library 'libcuda.so.1'; dlerror: libcuda.so.1: cannot open shared object file: No such file or directory\n",
      "2021-11-29 23:51:49.595156: W tensorflow/stream_executor/cuda/cuda_driver.cc:269] failed call to cuInit: UNKNOWN ERROR (303)\n",
      "2021-11-29 23:51:49.595187: I tensorflow/stream_executor/cuda/cuda_diagnostics.cc:156] kernel driver does not appear to be running on this host (acer): /proc/driver/nvidia/version does not exist\n"
     ]
    }
   ],
   "metadata": {}
  },
  {
   "cell_type": "code",
   "execution_count": 8,
   "source": [
    "model.fit(X_train, Y_train, epochs=500,verbose=0)"
   ],
   "outputs": [
    {
     "output_type": "execute_result",
     "data": {
      "text/plain": [
       "<keras.callbacks.History at 0x7fa53001d640>"
      ]
     },
     "metadata": {},
     "execution_count": 8
    }
   ],
   "metadata": {}
  },
  {
   "cell_type": "code",
   "execution_count": 9,
   "source": [
    "pred_train= model.predict(X_train)\n",
    "print(pred_train.shape)\n",
    "print(np.sqrt(mean_squared_error(Y_train,pred_train)))\n"
   ],
   "outputs": [
    {
     "output_type": "stream",
     "name": "stdout",
     "text": [
      "(190, 1)\n",
      "385.76981675009455\n"
     ]
    }
   ],
   "metadata": {}
  },
  {
   "cell_type": "code",
   "execution_count": 13,
   "source": [
    "# REGRESION MODEL METRICS\n",
    "print(\"The r2 of prediction is:\", r2_score(Y_train, pred_train))\n",
    "print(\"The MSE of prediction is:\", mean_squared_error(Y_train, pred_train, squared=True))\n",
    "print(\n",
    "        \"The RMSE of prediction is:\", mean_squared_error(Y_train, pred_train, squared=False)\n",
    "    )\n",
    "print(\"The MAE of prediction is:\", mean_absolute_error(Y_train, pred_train))"
   ],
   "outputs": [
    {
     "output_type": "stream",
     "name": "stdout",
     "text": [
      "The r2 of prediction is: -279293.1334032968\n",
      "The MSE of prediction is: 148818.35151540153\n",
      "The RMSE of prediction is: 385.76981675009455\n",
      "The MAE of prediction is: 161.67957297253167\n"
     ]
    }
   ],
   "metadata": {}
  },
  {
   "cell_type": "code",
   "execution_count": 10,
   "source": [
    "pred_train"
   ],
   "outputs": [
    {
     "output_type": "execute_result",
     "data": {
      "text/plain": [
       "array([[-4.03005295e+01],\n",
       "       [ 2.59033279e+01],\n",
       "       [ 1.68400955e+01],\n",
       "       [ 2.56226807e+02],\n",
       "       [ 8.34546661e+00],\n",
       "       [-1.37733154e+02],\n",
       "       [-3.06462646e+02],\n",
       "       [ 5.63961182e+02],\n",
       "       [-7.47331467e+01],\n",
       "       [-3.59577560e+01],\n",
       "       [-3.94582443e+01],\n",
       "       [ 1.92798657e+03],\n",
       "       [-5.53039474e+01],\n",
       "       [ 1.22290790e+00],\n",
       "       [ 6.58176422e+00],\n",
       "       [ 8.59337616e+00],\n",
       "       [-1.37975830e+02],\n",
       "       [ 3.30850906e+01],\n",
       "       [-4.72204514e+01],\n",
       "       [-5.92484131e+02],\n",
       "       [-2.17634201e+01],\n",
       "       [-1.16245874e+03],\n",
       "       [ 9.41062748e-01],\n",
       "       [ 2.17448657e+03],\n",
       "       [-2.55388107e+01],\n",
       "       [ 4.08142822e+02],\n",
       "       [-1.14293694e+02],\n",
       "       [-2.41707635e+00],\n",
       "       [-7.32321701e+01],\n",
       "       [-8.11815643e+00],\n",
       "       [-3.43776779e+01],\n",
       "       [-7.61013428e+02],\n",
       "       [-2.26169357e+01],\n",
       "       [ 1.10326374e+00],\n",
       "       [-1.82518349e+01],\n",
       "       [-4.04660568e+01],\n",
       "       [-1.40493896e+02],\n",
       "       [ 7.62886810e+00],\n",
       "       [-2.96010666e+01],\n",
       "       [-5.42087326e+01],\n",
       "       [-2.54201531e+00],\n",
       "       [ 6.36640701e+01],\n",
       "       [ 2.45588455e+01],\n",
       "       [-5.07006836e+00],\n",
       "       [ 5.10295486e+01],\n",
       "       [-4.01403427e+00],\n",
       "       [-4.27009732e-01],\n",
       "       [ 5.81304359e+00],\n",
       "       [-6.30773193e+02],\n",
       "       [-1.14097404e+02],\n",
       "       [ 4.88918213e+02],\n",
       "       [-3.17311478e+01],\n",
       "       [-1.50066605e+01],\n",
       "       [-1.61262661e-01],\n",
       "       [ 4.76001740e+00],\n",
       "       [-8.48013428e+02],\n",
       "       [-6.52341553e+02],\n",
       "       [-2.53424149e+01],\n",
       "       [-2.31208420e+01],\n",
       "       [-5.97559326e+02],\n",
       "       [-5.19704514e+01],\n",
       "       [-8.02280197e+01],\n",
       "       [-4.81195908e+01],\n",
       "       [-1.52388428e+02],\n",
       "       [ 2.07194901e+01],\n",
       "       [ 2.05271072e+01],\n",
       "       [-2.01384201e+01],\n",
       "       [-1.07392479e+02],\n",
       "       [-6.27506027e+01],\n",
       "       [ 6.94861603e+00],\n",
       "       [ 2.36863941e-01],\n",
       "       [-5.03879318e+01],\n",
       "       [ 2.85111594e+00],\n",
       "       [-8.79631221e-01],\n",
       "       [-7.47995529e+01],\n",
       "       [ 5.55767632e+00],\n",
       "       [-1.46049881e+01],\n",
       "       [ 8.54846954e+00],\n",
       "       [ 7.23120880e+00],\n",
       "       [ 5.10129471e+01],\n",
       "       [ 1.28020096e+01],\n",
       "       [ 3.84504471e+01],\n",
       "       [-4.09638428e+02],\n",
       "       [-1.09269943e+01],\n",
       "       [-1.14568108e+02],\n",
       "       [ 1.53634109e+01],\n",
       "       [-6.53167725e+02],\n",
       "       [-1.31279053e+02],\n",
       "       [ 3.42124100e+01],\n",
       "       [ 5.91428299e+01],\n",
       "       [-5.62730217e+00],\n",
       "       [-4.78394318e+00],\n",
       "       [-3.08763146e+00],\n",
       "       [-4.93235016e+00],\n",
       "       [ 1.37174072e+02],\n",
       "       [ 2.54614997e+00],\n",
       "       [-5.77194748e+01],\n",
       "       [ 7.53760529e+00],\n",
       "       [ 3.09888428e+02],\n",
       "       [-2.64977951e+01],\n",
       "       [ 3.41017090e+02],\n",
       "       [ 2.33969092e+00],\n",
       "       [ 4.05147171e+01],\n",
       "       [-5.80246506e+01],\n",
       "       [ 8.21818924e+01],\n",
       "       [ 7.59865799e+01],\n",
       "       [-3.24521240e+02],\n",
       "       [ 9.94247513e+01],\n",
       "       [-1.67908490e+00],\n",
       "       [ 3.69914627e+01],\n",
       "       [ 1.03275986e+01],\n",
       "       [-5.52459240e+00],\n",
       "       [ 4.13486572e+02],\n",
       "       [-4.51576614e+00],\n",
       "       [ 1.46567764e+01],\n",
       "       [-2.42357659e+00],\n",
       "       [-2.65900955e+01],\n",
       "       [-6.23806396e+02],\n",
       "       [ 1.31960068e+01],\n",
       "       [ 5.16115799e+01],\n",
       "       [-2.68270187e+01],\n",
       "       [-1.14088127e+02],\n",
       "       [ 3.85461502e+01],\n",
       "       [ 4.48072891e+01],\n",
       "       [ 1.21486893e+01],\n",
       "       [ 6.35140991e+00],\n",
       "       [-1.36326343e+03],\n",
       "       [ 3.01315384e+01],\n",
       "       [-7.82399826e+01],\n",
       "       [ 6.96276932e+01],\n",
       "       [ 5.86115799e+01],\n",
       "       [ 5.25803299e+01],\n",
       "       [ 1.63272781e+01],\n",
       "       [ 2.45075202e+00],\n",
       "       [ 2.37961555e+00],\n",
       "       [-4.08480148e+01],\n",
       "       [ 3.82759833e+00],\n",
       "       [-1.17355127e+01],\n",
       "       [-2.72491479e+00],\n",
       "       [-6.30046310e+01],\n",
       "       [-1.65622803e+02],\n",
       "       [ 3.11969733e+00],\n",
       "       [ 1.22964851e+02],\n",
       "       [ 1.04485855e+01],\n",
       "       [-3.16428146e+01],\n",
       "       [ 5.15861572e+02],\n",
       "       [-9.17734528e+00],\n",
       "       [-1.65013428e+02],\n",
       "       [ 2.34595466e+00],\n",
       "       [-3.96525803e+01],\n",
       "       [-2.78857636e+00],\n",
       "       [-2.84306564e+01],\n",
       "       [-1.51732647e+00],\n",
       "       [-1.14143791e+02],\n",
       "       [ 1.34919360e+03],\n",
       "       [ 2.17848657e+03],\n",
       "       [ 1.34959985e+03],\n",
       "       [ 4.14486572e+02],\n",
       "       [-2.77144775e+02],\n",
       "       [-1.21257248e+01],\n",
       "       [ 3.06754837e+01],\n",
       "       [-5.88386726e+00],\n",
       "       [-2.67950928e+02],\n",
       "       [ 8.86845947e+02],\n",
       "       [ 3.41019043e+02],\n",
       "       [ 7.64865799e+01],\n",
       "       [ 4.10246658e+01],\n",
       "       [-3.86343408e+00],\n",
       "       [-1.77831802e+01],\n",
       "       [ 8.87531494e+02],\n",
       "       [ 1.31076736e+01],\n",
       "       [ 2.23420486e+01],\n",
       "       [ 7.72650909e+00],\n",
       "       [ 4.43557205e+01],\n",
       "       [-8.34838104e+00],\n",
       "       [ 3.76138382e+01],\n",
       "       [ 2.39812088e+01],\n",
       "       [ 3.48786139e+00],\n",
       "       [ 3.12026611e+02],\n",
       "       [-1.51587646e+02],\n",
       "       [ 4.40041580e+01],\n",
       "       [-7.73181076e+01],\n",
       "       [ 6.76697540e+00],\n",
       "       [-1.16401821e-01],\n",
       "       [ 1.88571854e+01],\n",
       "       [ 4.14486572e+02],\n",
       "       [-5.87698555e+00],\n",
       "       [-1.71654522e+00],\n",
       "       [-8.59115779e-01],\n",
       "       [-2.83420334e+01]], dtype=float32)"
      ]
     },
     "metadata": {},
     "execution_count": 10
    }
   ],
   "metadata": {}
  },
  {
   "cell_type": "code",
   "execution_count": 11,
   "source": [
    "pred= model.predict(X_test)\n"
   ],
   "outputs": [
    {
     "output_type": "stream",
     "name": "stdout",
     "text": [
      "1961.732922204319\n"
     ]
    }
   ],
   "metadata": {}
  },
  {
   "cell_type": "code",
   "execution_count": 12,
   "source": [
    "# REGRESION MODEL METRICS\n",
    "print(\"The r2 of prediction is:\", r2_score(Y_test, pred))\n",
    "print(\"The MSE of prediction is:\", mean_squared_error(Y_test, pred, squared=True))\n",
    "print(\n",
    "        \"The RMSE of prediction is:\", mean_squared_error(Y_test, pred, squared=False)\n",
    "    )\n",
    "print(\"The MAE of prediction is:\", mean_absolute_error(Y_test, pred))"
   ],
   "outputs": [
    {
     "output_type": "stream",
     "name": "stdout",
     "text": [
      "The r2 of prediction is: -6968659.230150548\n",
      "The MSE of prediction is: 3848396.0580602973\n",
      "The RMSE of prediction is: 1961.732922204319\n",
      "The MAE of prediction is: 441.31397210948757\n"
     ]
    }
   ],
   "metadata": {}
  },
  {
   "cell_type": "code",
   "execution_count": null,
   "source": [],
   "outputs": [],
   "metadata": {}
  }
 ],
 "metadata": {
  "orig_nbformat": 4,
  "language_info": {
   "name": "python",
   "version": "3.9.7",
   "mimetype": "text/x-python",
   "codemirror_mode": {
    "name": "ipython",
    "version": 3
   },
   "pygments_lexer": "ipython3",
   "nbconvert_exporter": "python",
   "file_extension": ".py"
  },
  "kernelspec": {
   "name": "python3",
   "display_name": "Python 3.9.7 64-bit (conda)"
  },
  "interpreter": {
   "hash": "6a229a7624aaca0bb64305d3a84f8aa11ea5a7132c8c99f127f8b64a260fdc5c"
  }
 },
 "nbformat": 4,
 "nbformat_minor": 2
}