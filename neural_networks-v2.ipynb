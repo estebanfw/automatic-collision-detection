{
 "cells": [
  {
   "cell_type": "code",
   "execution_count": 1,
   "source": [
    "import pandas as pd\n",
    "import numpy as np\n",
    "from keras.models import Sequential\n",
    "from keras.layers import Dense\n",
    "from keras.wrappers.scikit_learn import KerasRegressor\n",
    "from sklearn.model_selection import cross_val_score\n",
    "from sklearn.model_selection import KFold\n",
    "from sklearn.preprocessing import StandardScaler\n",
    "from sklearn.pipeline import Pipeline\n",
    "\n",
    "from sklearn.model_selection import train_test_split\n",
    "from sklearn.metrics import r2_score, mean_squared_log_error, mean_squared_error,mean_absolute_error\n",
    "\n"
   ],
   "outputs": [
    {
     "output_type": "stream",
     "name": "stderr",
     "text": [
      "2021-11-30 12:56:21.842202: W tensorflow/stream_executor/platform/default/dso_loader.cc:64] Could not load dynamic library 'libcudart.so.11.0'; dlerror: libcudart.so.11.0: cannot open shared object file: No such file or directory\n",
      "2021-11-30 12:56:21.842245: I tensorflow/stream_executor/cuda/cudart_stub.cc:29] Ignore above cudart dlerror if you do not have a GPU set up on your machine.\n"
     ]
    }
   ],
   "metadata": {}
  },
  {
   "cell_type": "code",
   "execution_count": 2,
   "source": [
    "data=pd.read_pickle(\"./dataframe/df_only_risky_events.pkl\")\n",
    "data.reset_index(inplace=True)\n",
    "data.drop(['index'], inplace=True, axis=1)"
   ],
   "outputs": [],
   "metadata": {}
  },
  {
   "cell_type": "code",
   "execution_count": 3,
   "source": [
    "train, test = train_test_split(data, test_size=0.30, random_state=42)\n",
    "print(\"Train dataframe dimension {} x {}\".format(train.shape[0],train.shape[1]))\n",
    "print(\"Test dataframe dimension {} x {}\".format(test.shape[0],test.shape[1]))\n",
    "Y_train = train[\"COLLISSION_PROBABILITY\"].values\n",
    "X_train= train.drop([\"COLLISSION_PROBABILITY\"], axis=1).values\n",
    "Y_test = test[\"COLLISSION_PROBABILITY\"].values\n",
    "X_test= test.drop([\"COLLISSION_PROBABILITY\"], axis=1).values"
   ],
   "outputs": [
    {
     "output_type": "stream",
     "name": "stdout",
     "text": [
      "Train dataframe dimension 190 x 86\n",
      "Test dataframe dimension 82 x 86\n"
     ]
    }
   ],
   "metadata": {}
  },
  {
   "cell_type": "code",
   "execution_count": 4,
   "source": [
    "ncol=X_train.shape[1]"
   ],
   "outputs": [],
   "metadata": {}
  },
  {
   "cell_type": "code",
   "execution_count": 5,
   "source": [
    "Y_train"
   ],
   "outputs": [
    {
     "output_type": "execute_result",
     "data": {
      "text/plain": [
       "array([-5.98842956, -4.67366414, -5.63059859, -5.52013689, -5.48958905,\n",
       "       -4.50362395, -5.1258082 , -5.23336411, -5.32066297, -5.18615225,\n",
       "       -5.14014148, -5.37273658, -5.13353543, -5.33282733, -4.76776648,\n",
       "       -3.91399629, -4.50182734, -5.45642858, -5.54622314, -5.99139983,\n",
       "       -5.02844585, -5.49295413, -5.91721463, -5.34275287, -5.55658054,\n",
       "       -4.97469413, -5.97798426, -4.71264623, -5.72607322, -5.2772016 ,\n",
       "       -5.68507994, -5.62874737, -5.54136215, -3.26672247, -4.74738966,\n",
       "       -5.14660602, -5.85886391, -5.1820382 , -4.59670785, -5.8291518 ,\n",
       "       -4.59739476, -5.51427857, -5.89109687, -5.81673016, -4.56415563,\n",
       "       -3.34065436, -4.97839728, -4.72607322, -5.25391096, -4.40993877,\n",
       "       -5.98213228, -5.01786451, -5.95703093, -4.69378949, -5.90343756,\n",
       "       -5.6256183 , -5.96018945, -4.88472241, -5.52520118, -5.99396205,\n",
       "       -5.83003183, -3.41839163, -5.80079352, -5.42596873, -5.04378353,\n",
       "       -5.6181632 , -5.01999663, -4.80548566, -4.40760115, -5.69831905,\n",
       "       -5.4847887 , -5.43297363, -3.55658054, -5.91901295, -5.34804393,\n",
       "       -4.71041105, -5.48399377, -2.64955814, -5.50045037, -4.55005901,\n",
       "       -5.10220802, -5.9423339 , -5.2657604 , -5.99697053, -5.54546002,\n",
       "       -4.84345085, -5.99439055, -5.99267905, -5.8827287 , -5.66534523,\n",
       "       -4.39631445, -5.9314431 , -4.45234834, -4.91328434, -5.21495504,\n",
       "       -5.45395113, -4.31921139, -5.49866682, -5.88605665, -4.90727936,\n",
       "       -5.43818334, -5.60015329, -4.39361863, -4.29843201, -5.006035  ,\n",
       "       -4.20010832, -4.38216125, -5.40904676, -5.29559207, -5.92372374,\n",
       "       -4.02223068, -5.60275542, -5.29140915, -5.50598463, -2.05507339,\n",
       "       -5.80161787, -4.80910828, -5.28141528, -3.71197446, -5.51470456,\n",
       "       -5.44490555, -4.40993877, -5.99225222, -4.39040559, -5.0776379 ,\n",
       "       -4.93479387, -5.77910775, -3.70421306, -5.99097426, -5.85201468,\n",
       "       -5.66655273, -5.50141379, -4.67243674, -4.26392236, -5.18970026,\n",
       "       -4.01502287, -4.1501508 , -3.88941029, -3.34669099, -4.41907502,\n",
       "       -5.43062609, -5.08365135, -3.51173138, -5.17489859, -4.07134815,\n",
       "       -5.11272037, -5.65227978, -5.42899033, -5.46029676, -5.04474532,\n",
       "       -4.47912362, -4.56447415, -5.80161787, -4.41016206, -5.61852391,\n",
       "       -5.32919772, -5.57560845, -5.28692967, -3.5015516 , -5.99310629,\n",
       "       -5.74521031, -5.63959595, -5.5543958 , -4.51769823, -5.44021303,\n",
       "       -4.19887081, -4.58435902, -5.05183164, -2.87031011, -4.5178413 ,\n",
       "       -5.07634158, -5.12575018, -5.4024145 , -5.14435972, -5.31993657,\n",
       "       -5.01502287, -5.6413039 , -5.11793106, -5.81107152, -5.42864061,\n",
       "       -4.74304185, -5.65286522, -5.51272018, -5.83893161, -3.58603003,\n",
       "       -5.28827711, -4.39447948, -5.80271944, -5.8467951 , -5.42969061])"
      ]
     },
     "metadata": {},
     "execution_count": 5
    }
   ],
   "metadata": {}
  },
  {
   "cell_type": "code",
   "execution_count": 6,
   "source": [
    "# create model\n",
    "model = Sequential()\n",
    "model.add(Dense(int(ncol/2), input_dim=ncol, kernel_initializer='normal', activation='relu'))\n",
    "model.add(Dense(int(ncol/2), activation= \"relu\"))\n",
    "model.add(Dense(1, kernel_initializer='normal'))\n",
    "# Compile model\n",
    "model.compile(loss='mean_squared_error', optimizer='adam',metrics=[\"mean_squared_error\"])\n"
   ],
   "outputs": [
    {
     "output_type": "stream",
     "name": "stderr",
     "text": [
      "2021-11-30 12:56:25.315185: W tensorflow/stream_executor/platform/default/dso_loader.cc:64] Could not load dynamic library 'libcuda.so.1'; dlerror: libcuda.so.1: cannot open shared object file: No such file or directory\n",
      "2021-11-30 12:56:25.315237: W tensorflow/stream_executor/cuda/cuda_driver.cc:269] failed call to cuInit: UNKNOWN ERROR (303)\n",
      "2021-11-30 12:56:25.315270: I tensorflow/stream_executor/cuda/cuda_diagnostics.cc:156] kernel driver does not appear to be running on this host (acer): /proc/driver/nvidia/version does not exist\n"
     ]
    }
   ],
   "metadata": {}
  },
  {
   "cell_type": "code",
   "execution_count": 7,
   "source": [
    "model.fit(X_train, Y_train, epochs=3000,verbose=0)"
   ],
   "outputs": [
    {
     "output_type": "execute_result",
     "data": {
      "text/plain": [
       "<keras.callbacks.History at 0x7f20a05e6040>"
      ]
     },
     "metadata": {},
     "execution_count": 7
    }
   ],
   "metadata": {}
  },
  {
   "cell_type": "code",
   "execution_count": 8,
   "source": [
    "pred_train= model.predict(X_train)\n",
    "print(pred_train.shape)\n",
    "print(np.sqrt(mean_squared_error(Y_train,pred_train)))\n"
   ],
   "outputs": [
    {
     "output_type": "stream",
     "name": "stdout",
     "text": [
      "(190, 1)\n",
      "107.84075734752547\n"
     ]
    }
   ],
   "metadata": {}
  },
  {
   "cell_type": "code",
   "execution_count": 9,
   "source": [
    "# REGRESION MODEL METRICS\n",
    "print(\"The r2 of prediction is:\", r2_score(Y_train, pred_train))\n",
    "print(\"The MSE of prediction is:\", mean_squared_error(Y_train, pred_train, squared=True))\n",
    "print(\"The RMSE of prediction is:\", mean_squared_error(Y_train, pred_train, squared=False))\n",
    "print(\"The MAE of prediction is:\", mean_absolute_error(Y_train, pred_train))"
   ],
   "outputs": [
    {
     "output_type": "stream",
     "name": "stdout",
     "text": [
      "The r2 of prediction is: -21824.8508107444\n",
      "The MSE of prediction is: 11629.628945287868\n",
      "The RMSE of prediction is: 107.84075734752547\n",
      "The MAE of prediction is: 35.227406109738055\n"
     ]
    }
   ],
   "metadata": {}
  },
  {
   "cell_type": "code",
   "execution_count": 10,
   "source": [
    "pred_train"
   ],
   "outputs": [
    {
     "output_type": "execute_result",
     "data": {
      "text/plain": [
       "array([[ 5.88099480e+00],\n",
       "       [-4.54364014e+00],\n",
       "       [ 1.86577392e+00],\n",
       "       [ 1.02868481e+01],\n",
       "       [ 8.20955038e-01],\n",
       "       [-3.17457795e+00],\n",
       "       [-4.76074409e+00],\n",
       "       [ 1.07856960e+01],\n",
       "       [ 4.56003380e+00],\n",
       "       [-1.59820595e+01],\n",
       "       [ 5.67013359e+00],\n",
       "       [ 5.18607849e+02],\n",
       "       [ 2.65222716e+00],\n",
       "       [ 5.15710258e+00],\n",
       "       [-1.83451721e+02],\n",
       "       [-1.19688123e-01],\n",
       "       [-3.14902711e+00],\n",
       "       [-5.84305525e-01],\n",
       "       [ 7.63445854e+00],\n",
       "       [-2.47850895e+01],\n",
       "       [ 3.80126305e+01],\n",
       "       [-4.62843056e+01],\n",
       "       [ 2.44272709e+01],\n",
       "       [ 4.90588318e+02],\n",
       "       [ 9.22706413e+00],\n",
       "       [ 2.22493877e+01],\n",
       "       [ 6.05578423e+00],\n",
       "       [ 5.42034054e+00],\n",
       "       [ 5.67413139e+00],\n",
       "       [ 5.21541786e+00],\n",
       "       [ 5.27044487e+00],\n",
       "       [ 7.82514099e+02],\n",
       "       [ 9.05499077e+00],\n",
       "       [ 7.03937674e+00],\n",
       "       [ 3.54314399e+00],\n",
       "       [ 5.69864845e+00],\n",
       "       [-4.14767647e+00],\n",
       "       [-1.10128193e+01],\n",
       "       [ 3.60600448e+00],\n",
       "       [ 7.25311089e+00],\n",
       "       [-1.91612339e+01],\n",
       "       [ 3.69153380e+00],\n",
       "       [ 3.91795135e+00],\n",
       "       [ 9.98014641e+00],\n",
       "       [ 6.54652214e+00],\n",
       "       [ 1.25646758e+00],\n",
       "       [ 4.78822851e+00],\n",
       "       [-3.96444778e+01],\n",
       "       [-1.01407036e+02],\n",
       "       [-2.91498399e+00],\n",
       "       [ 8.88358879e+00],\n",
       "       [ 8.96165848e-01],\n",
       "       [ 4.64139843e+00],\n",
       "       [ 1.40797091e+00],\n",
       "       [ 2.77898955e+00],\n",
       "       [ 7.73865662e+02],\n",
       "       [-2.09673634e+01],\n",
       "       [ 3.11639577e-01],\n",
       "       [ 8.93806267e+00],\n",
       "       [-2.50168934e+01],\n",
       "       [ 7.32391167e+00],\n",
       "       [ 1.68737960e+00],\n",
       "       [ 1.25945950e+00],\n",
       "       [-1.15765595e+00],\n",
       "       [ 3.32235122e+00],\n",
       "       [ 2.05344176e+00],\n",
       "       [ 3.81356773e+01],\n",
       "       [ 1.41077728e+02],\n",
       "       [-1.48067206e-01],\n",
       "       [ 5.71070433e-01],\n",
       "       [-2.59277153e+01],\n",
       "       [-1.26747346e+00],\n",
       "       [ 3.40598464e+00],\n",
       "       [ 9.03730154e-01],\n",
       "       [ 4.57433128e+00],\n",
       "       [-3.94829254e+01],\n",
       "       [ 5.54291821e+00],\n",
       "       [ 1.26073875e+01],\n",
       "       [ 8.31870794e-01],\n",
       "       [ 6.55001640e+00],\n",
       "       [ 6.04291725e+00],\n",
       "       [ 2.97372222e+00],\n",
       "       [ 4.49115562e+01],\n",
       "       [ 6.59861450e+01],\n",
       "       [ 1.08928204e+01],\n",
       "       [-3.00338960e+00],\n",
       "       [-2.09268818e+01],\n",
       "       [ 5.22411919e+00],\n",
       "       [ 4.10608482e+00],\n",
       "       [ 3.25709801e+01],\n",
       "       [-3.62732148e+00],\n",
       "       [ 2.49795365e+00],\n",
       "       [-1.26408482e+01],\n",
       "       [ 9.50450706e+00],\n",
       "       [ 3.40800133e+01],\n",
       "       [ 5.16401482e+00],\n",
       "       [ 2.30301070e+00],\n",
       "       [ 8.23999166e-01],\n",
       "       [ 1.08960209e+01],\n",
       "       [ 3.09979033e+00],\n",
       "       [ 1.02512074e+01],\n",
       "       [-2.45808544e+01],\n",
       "       [-6.01666908e+01],\n",
       "       [ 2.30208373e+00],\n",
       "       [ 5.45977640e+00],\n",
       "       [ 3.06268902e+01],\n",
       "       [-1.39181538e+01],\n",
       "       [ 2.51980567e+00],\n",
       "       [ 1.96888715e-01],\n",
       "       [ 3.00761962e+00],\n",
       "       [-1.88906193e-02],\n",
       "       [-7.36059761e+00],\n",
       "       [ 1.19413513e+02],\n",
       "       [-2.94341106e+01],\n",
       "       [ 5.10851526e+00],\n",
       "       [ 6.42767143e+00],\n",
       "       [-9.27902460e-01],\n",
       "       [-1.01493546e+02],\n",
       "       [ 4.75079119e-02],\n",
       "       [ 6.55502319e+01],\n",
       "       [ 1.29371715e+00],\n",
       "       [-2.89168382e+00],\n",
       "       [ 3.00324798e+00],\n",
       "       [-6.06592216e+01],\n",
       "       [ 6.02038002e+00],\n",
       "       [ 3.95056701e+00],\n",
       "       [ 3.57269073e+00],\n",
       "       [ 3.67590761e+00],\n",
       "       [ 2.34833355e+01],\n",
       "       [ 1.41193590e+01],\n",
       "       [ 3.25997887e+01],\n",
       "       [ 2.79696636e+01],\n",
       "       [-4.78421879e+00],\n",
       "       [ 8.22336769e+00],\n",
       "       [ 5.42789078e+00],\n",
       "       [ 6.41062498e+00],\n",
       "       [ 2.05373478e+01],\n",
       "       [-3.65698051e+01],\n",
       "       [ 1.89392638e+00],\n",
       "       [-2.23808020e-01],\n",
       "       [ 1.43563824e+01],\n",
       "       [ 5.41778803e+00],\n",
       "       [-6.08850718e-01],\n",
       "       [-8.54344368e+00],\n",
       "       [ 2.09654021e+00],\n",
       "       [ 1.42178162e+02],\n",
       "       [ 1.50548592e+01],\n",
       "       [ 1.43656597e+01],\n",
       "       [ 5.79617119e+00],\n",
       "       [ 5.64212990e+00],\n",
       "       [-1.18549595e+01],\n",
       "       [ 4.49510765e+00],\n",
       "       [ 6.43719292e+00],\n",
       "       [-2.89077210e+00],\n",
       "       [ 1.95870953e+01],\n",
       "       [ 4.90990662e+02],\n",
       "       [ 1.92836590e+01],\n",
       "       [ 1.19486755e+02],\n",
       "       [-6.83249855e+00],\n",
       "       [ 6.60106735e+01],\n",
       "       [ 4.14455080e+00],\n",
       "       [-6.26649666e+00],\n",
       "       [ 5.08729820e+01],\n",
       "       [ 7.68155813e-01],\n",
       "       [ 1.03037434e+01],\n",
       "       [ 3.06469097e+01],\n",
       "       [-2.11703706e+00],\n",
       "       [-1.38415155e+01],\n",
       "       [-2.18692875e+01],\n",
       "       [ 8.47440481e-01],\n",
       "       [ 6.09597969e+00],\n",
       "       [ 1.05861187e+01],\n",
       "       [ 4.83546638e+00],\n",
       "       [ 1.16437664e+01],\n",
       "       [ 5.21101952e+00],\n",
       "       [ 9.64662790e-01],\n",
       "       [ 1.51732898e+00],\n",
       "       [ 5.43842745e+00],\n",
       "       [ 1.09492550e+01],\n",
       "       [-1.10425019e+00],\n",
       "       [-8.62528086e-01],\n",
       "       [ 5.38189507e+00],\n",
       "       [ 8.38515043e-01],\n",
       "       [ 5.93323021e+01],\n",
       "       [ 6.91100216e+00],\n",
       "       [ 1.19459412e+02],\n",
       "       [-5.50063515e+00],\n",
       "       [ 6.43200493e+00],\n",
       "       [ 5.91012535e+01],\n",
       "       [ 1.22768760e+00]], dtype=float32)"
      ]
     },
     "metadata": {},
     "execution_count": 10
    }
   ],
   "metadata": {}
  },
  {
   "cell_type": "code",
   "execution_count": 11,
   "source": [
    "pred= model.predict(X_test)\n"
   ],
   "outputs": [],
   "metadata": {}
  },
  {
   "cell_type": "code",
   "execution_count": 12,
   "source": [
    "pred"
   ],
   "outputs": [
    {
     "output_type": "execute_result",
     "data": {
      "text/plain": [
       "array([[ 6.5559368e+00],\n",
       "       [ 5.4674206e+00],\n",
       "       [ 2.5926939e+01],\n",
       "       [ 3.8504007e+00],\n",
       "       [-2.5524680e+02],\n",
       "       [-2.0997332e+01],\n",
       "       [ 5.1777972e+02],\n",
       "       [ 9.7676754e+00],\n",
       "       [ 7.2873516e+00],\n",
       "       [ 1.4443541e+01],\n",
       "       [-4.7983418e+00],\n",
       "       [ 6.4270844e+01],\n",
       "       [ 4.2069759e+01],\n",
       "       [-6.0468403e+01],\n",
       "       [-8.3864155e+00],\n",
       "       [ 2.7115419e+00],\n",
       "       [ 4.3885189e+01],\n",
       "       [-4.0421936e-01],\n",
       "       [ 1.2605102e+00],\n",
       "       [-1.4710352e-01],\n",
       "       [ 1.0987151e+00],\n",
       "       [ 3.7052191e+02],\n",
       "       [ 3.0639097e+01],\n",
       "       [ 1.3975708e+00],\n",
       "       [ 3.4134457e+01],\n",
       "       [ 5.6605158e+00],\n",
       "       [ 8.4063157e-02],\n",
       "       [ 1.4115875e+01],\n",
       "       [-4.6317326e+01],\n",
       "       [ 4.1666946e+00],\n",
       "       [ 2.5140182e+02],\n",
       "       [-1.6832184e+02],\n",
       "       [-5.8071003e+00],\n",
       "       [ 5.2979916e+01],\n",
       "       [ 4.9895515e+00],\n",
       "       [ 3.6831071e+00],\n",
       "       [ 5.8232662e+01],\n",
       "       [ 3.5881307e+00],\n",
       "       [ 5.8332394e+01],\n",
       "       [ 5.8482479e+01],\n",
       "       [ 1.9590025e+01],\n",
       "       [ 1.9628634e+00],\n",
       "       [ 3.2559750e+01],\n",
       "       [-7.2519898e-01],\n",
       "       [-3.1744940e+00],\n",
       "       [ 5.7902813e+00],\n",
       "       [ 3.5042219e+00],\n",
       "       [ 6.6166351e+01],\n",
       "       [-4.5551825e+00],\n",
       "       [ 4.6471629e+00],\n",
       "       [ 2.3620946e+00],\n",
       "       [ 1.0934454e+01],\n",
       "       [-3.6286938e+01],\n",
       "       [ 5.8851147e+00],\n",
       "       [ 5.3394451e+00],\n",
       "       [ 3.9374101e+00],\n",
       "       [-6.1277106e+02],\n",
       "       [-2.4775774e+01],\n",
       "       [ 1.4126898e+01],\n",
       "       [ 7.1800339e-01],\n",
       "       [-5.4997849e-01],\n",
       "       [ 2.2232603e+01],\n",
       "       [ 1.2372504e+02],\n",
       "       [ 2.1392990e+01],\n",
       "       [-4.5709385e+01],\n",
       "       [ 3.6097734e+00],\n",
       "       [ 1.4183441e+02],\n",
       "       [ 5.3220150e+01],\n",
       "       [-4.7897663e+00],\n",
       "       [ 3.4864404e+00],\n",
       "       [-6.4857697e-01],\n",
       "       [-1.1419394e+00],\n",
       "       [ 2.8309610e+00],\n",
       "       [ 1.0251516e+01],\n",
       "       [ 6.8641949e+00],\n",
       "       [-5.6926942e-01],\n",
       "       [-5.9160099e+00],\n",
       "       [ 3.8079525e+01],\n",
       "       [ 2.0763681e+00],\n",
       "       [ 2.3668573e+00],\n",
       "       [ 2.6290853e+00],\n",
       "       [ 4.5866909e+00]], dtype=float32)"
      ]
     },
     "metadata": {},
     "execution_count": 12
    }
   ],
   "metadata": {}
  },
  {
   "cell_type": "code",
   "execution_count": 13,
   "source": [
    "# REGRESION MODEL METRICS\n",
    "print(\"The r2 of prediction is:\", r2_score(Y_test, pred))\n",
    "print(\"The MSE of prediction is:\", mean_squared_error(Y_test, pred, squared=True))\n",
    "print(\"The RMSE of prediction is:\", mean_squared_error(Y_test, pred, squared=False))\n",
    "print(\"The MAE of prediction is:\", mean_absolute_error(Y_test, pred))"
   ],
   "outputs": [
    {
     "output_type": "stream",
     "name": "stdout",
     "text": [
      "The r2 of prediction is: -22811.698511195966\n",
      "The MSE of prediction is: 12598.16035288435\n",
      "The RMSE of prediction is: 112.24152686454488\n",
      "The MAE of prediction is: 47.243598732977\n"
     ]
    }
   ],
   "metadata": {}
  },
  {
   "cell_type": "code",
   "execution_count": null,
   "source": [],
   "outputs": [],
   "metadata": {}
  }
 ],
 "metadata": {
  "orig_nbformat": 4,
  "language_info": {
   "name": "python",
   "version": "3.9.7",
   "mimetype": "text/x-python",
   "codemirror_mode": {
    "name": "ipython",
    "version": 3
   },
   "pygments_lexer": "ipython3",
   "nbconvert_exporter": "python",
   "file_extension": ".py"
  },
  "kernelspec": {
   "name": "python3",
   "display_name": "Python 3.9.7 64-bit (conda)"
  },
  "interpreter": {
   "hash": "6a229a7624aaca0bb64305d3a84f8aa11ea5a7132c8c99f127f8b64a260fdc5c"
  }
 },
 "nbformat": 4,
 "nbformat_minor": 2
}