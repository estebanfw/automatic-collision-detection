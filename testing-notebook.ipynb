{
    "cells": [
        {
            "cell_type": "code",
            "execution_count": 1,
            "source": [
                "import pandas as pd\n",
                "import datetime as dt\n",
                "#from datetime import datetime, timedelta\n",
                "import numpy as np\n",
                "import os\n",
                "pd.set_option('display.max_rows', 100)\n",
                "pd.set_option('display.max_columns', 1000)\n",
                "pd.set_option('display.width', 1000)"
            ],
            "outputs": [],
            "metadata": {}
        },
        {
            "cell_type": "code",
            "execution_count": 2,
            "source": [
                "from preparing_data import *"
            ],
            "outputs": [],
            "metadata": {}
        },
        {
            "cell_type": "code",
            "execution_count": 3,
            "source": [
                "df=pd.read_csv(\"/home/esteban/Documents/ITBA/Collision-avoidance/train_data.csv\")"
            ],
            "outputs": [],
            "metadata": {}
        },
        {
            "cell_type": "code",
            "execution_count": 4,
            "source": [
                "cdm=convertKelvinDatasetToCDMFormat(df)"
            ],
            "outputs": [],
            "metadata": {}
        },
        {
            "cell_type": "code",
            "execution_count": 5,
            "source": [
                "type(cdm)"
            ],
            "outputs": [
                {
                    "output_type": "execute_result",
                    "data": {
                        "text/plain": [
                            "pandas.core.frame.DataFrame"
                        ]
                    },
                    "metadata": {},
                    "execution_count": 5
                }
            ],
            "metadata": {}
        },
        {
            "cell_type": "code",
            "execution_count": 6,
            "source": [
                "cdm.head()"
            ],
            "outputs": [
                {
                    "output_type": "execute_result",
                    "data": {
                        "text/plain": [
                            "   event_id                         TCA               CREATION_DATE  MISS_DISTANCE  RELATIVE_SPEED  RELATIVE_POSITION_R  RELATIVE_POSITION_T  RELATIVE_POSITION_N  RELATIVE_VELOCITY_R  RELATIVE_VELOCITY_T  RELATIVE_VELOCITY_N  COLLISSION_PROBABILITY  OBJECT1_CR_R  OBJECT1_CT_R  OBJECT1_CT_T  OBJECT1_CN_R  OBJECT1_CN_T  OBJECT1_CN_N  OBJECT1_CRDOT_R  OBJECT1_CRDOT_T  OBJECT1_CRDOT_N  OBJECT1_CRDOT_RDOT  OBJECT1_CTDOT_R  OBJECT1_CTDOT_T  OBJECT1_CTDOT_N  OBJECT1_CTDOT_RDOT  OBJECT1_CTDOT_TDOT  OBJECT1_CNDOT_R  OBJECT1_CNDOT_T  OBJECT1_CNDOT_N  OBJECT1_CNDOT_RDOT  OBJECT1_CNDOT_TDOT  OBJECT1_CNDOT_NDOT  OBJECT1_RECOMMENDED_OD_SPAN  OBJECT1_ACTUAL_OD_SPAN  OBJECT1_OBS_AVAILABLE  OBJECT1_OBS_USED  OBJECT1_RESIDUALS_ACCEPTED  OBJECT1_WEIGHTED_RMS  OBJECT1_SEDR   OBJECT1_TIME_LASTOB_START     OBJECT1_TIME_LASTOB_END  OBJECT1_CD_AREA_OVER_MASS  OBJECT1_CR_AREA_OVER_MASS  OBJECT1_APOGEE_ALTITUDE  OBJECT1_PERIGEE_ALTITUDE  OBJECT1_INCLINATION  OBJECT2_CR_R  OBJECT2_CT_R  OBJECT2_CT_T  \\\n",
                            "0         0  2021-08-03T12:44:49.550531  2021-08-01T23:08:38.174940        14923.0         13792.0                453.8               5976.6             -13666.8                 -7.2             -12637.0              -5525.9            6.238000e-11     16.466810   -222.242200    18938.4700      2.112694     10.002140      3.173451         0.235719       -20.271280        -0.010106            0.021712        -0.016291         0.120850        -0.002307           -0.000127            0.000017         0.002069        -0.000637         0.002828        9.316645e-07           -0.000002            0.000009                         3.78                    3.78                    459               458                        98.9                 1.265      0.000051  2021-07-31T23:08:38.174940  2021-07-31T23:08:38.174940                   0.013826                   0.007173               646.745439                590.818294            97.806412      71140.79   -11961160.0  2.955756e+09   \n",
                            "1         0  2021-08-03T12:44:49.550531  2021-08-02T07:46:02.102921        14544.0         13792.0                474.3               5821.2             -13319.8                 -7.0             -12637.0              -5525.9            4.408000e-11     12.438180    -14.462720     3143.8580      1.888744      6.113387      3.243452         0.014658        -3.339774        -0.005643            0.003561        -0.013159        -0.006237        -0.002043            0.000008            0.000014         0.001859         0.000255         0.002964       -9.040335e-07           -0.000002            0.000009                         3.79                    3.79                    456               455                        98.5                 1.270      0.000060  2021-08-01T07:46:02.102921  2021-08-01T07:46:02.102921                   0.013487                   0.009139               646.743506                590.823004            97.806420      68744.55   -11602080.0  2.924870e+09   \n",
                            "2         0  2021-08-03T12:44:49.550531  2021-08-02T13:53:40.088930        14475.0         13792.0                474.6               5796.2             -13256.1                 -7.0             -12637.0              -5525.9            4.512000e-11     11.303290    -13.770550     1406.0960      1.869411      2.986285      3.319464         0.014133        -1.466564        -0.002452            0.001541        -0.011983         0.004550        -0.002010           -0.000004            0.000013         0.001234         0.002184         0.003131       -2.763477e-06           -0.000001            0.000009                         3.79                    3.80                    456               455                        98.5                 1.257      0.000060  2021-08-01T13:53:40.088930  2021-08-01T13:53:40.088930                   0.013357                   0.007057               646.745607                590.821499            97.806418      68469.38   -11555830.0  2.918959e+09   \n",
                            "3         0  2021-08-03T12:44:49.550531  2021-08-02T22:50:06.108962        14579.0         13792.0                472.7               5838.9             -13350.7                 -7.0             -12637.0              -5525.9            4.594000e-11      9.460428      1.476252      494.3005      2.380359      6.398545      3.337079        -0.002177        -0.486124        -0.006046            0.000487        -0.010132        -0.004355        -0.002573            0.000005            0.000011         0.002047         0.002541         0.002919       -3.218169e-06           -0.000002            0.000009                         3.86                    3.86                    443               442                        98.4                 1.254      0.000065  2021-08-01T22:50:06.108962  2021-08-01T22:50:06.108962                   0.013490                   0.005480               646.747747                590.818806            97.806423      68518.15   -11579220.0  2.927633e+09   \n",
                            "4         0  2021-08-03T12:44:49.550531  2021-08-03T06:33:35.099897        14510.0         13792.0                478.7               5811.1             -13288.0                 -7.0             -12637.0              -5525.9            4.062000e-11     11.506860     22.836610      259.5581      2.697022      7.789963      3.834921        -0.023793        -0.238784        -0.007174            0.000227        -0.012445        -0.025475        -0.002916            0.000027            0.000013         0.002441         0.006156         0.003427       -6.967915e-06           -0.000003            0.000010                         3.86                    3.86                    440               439                        98.8                 1.340      0.000068  2021-08-02T06:33:35.099897  2021-08-02T06:33:35.099897                   0.013906                   0.007339               646.745868                590.821024            97.806426      67978.79   -11501960.0  2.922881e+09   \n",
                            "\n",
                            "   OBJECT2_CN_R  OBJECT2_CN_T  OBJECT2_CN_N  OBJECT2_CRDOT_R  OBJECT2_CRDOT_T  OBJECT2_CRDOT_N  OBJECT2_CRDOT_RDOT  OBJECT2_CTDOT_R  OBJECT2_CTDOT_T  OBJECT2_CTDOT_N  OBJECT2_CTDOT_RDOT  OBJECT2_CTDOT_TDOT  OBJECT2_CNDOT_R  OBJECT2_CNDOT_T  OBJECT2_CNDOT_N  OBJECT2_CNDOT_RDOT  OBJECT2_CNDOT_TDOT  OBJECT2_CNDOT_NDOT OBJECT2_OBJECT_TYPE  OBJECT2_RECOMMENDED_OD_SPAN  OBJECT2_ACTUAL_OD_SPAN  OBJECT2_OBS_AVAILABLE  OBJECT2_OBS_USED  OBJECT2_RESIDUALS_ACCEPTED  OBJECT2_WEIGHTED_RMS  OBJECT2_SEDR   OBJECT2_TIME_LASTOB_START     OBJECT2_TIME_LASTOB_END  OBJECT2_CD_AREA_OVER_MASS  OBJECT2_CR_AREA_OVER_MASS  OBJECT2_APOGEE_ALTITUDE  OBJECT2_PERIGEE_ALTITUDE  OBJECT2_INCLINATION  \n",
                            "0      5892.756     -6527.382      2172.732         12825.89       -3168066.0         9.684347            3395.637        -32.26525         1974.096        -6.264112           -2.121810            0.027239         25.75459         4131.123         13.00946           -4.434362           -0.042638            0.149353             UNKNOWN                        15.85                   15.85                   15.0              15.0                       100.0                  2.36      0.001406  2021-02-02T23:08:38.174940  2021-02-02T23:08:38.174940                   0.348701                   0.126607               650.497251                606.443389            74.045735  \n",
                            "1      5897.834     -9017.284      2171.175         12440.93       -3134938.0        12.353930            3360.105        -31.40935         1801.103        -6.261605           -1.936377            0.027022         26.23543         4089.899         12.99737           -4.390144           -0.042872            0.149300             UNKNOWN                        15.85                   15.85                   15.0              15.0                       100.0                  2.36      0.001406  2021-02-03T07:46:02.102921  2021-02-03T07:46:02.102921                   0.348701                   0.126607               650.513314                606.454793            74.045736  \n",
                            "2      5898.712     -9418.883      2170.885         12391.31       -3128591.0        12.784440            3353.290        -31.35453         1790.982        -6.261342           -1.925522            0.027012         26.29610         4082.309         12.99521           -4.381993           -0.042886            0.149290             UNKNOWN                        15.85                   15.85                   15.0              15.0                       100.0                  2.36      0.001406  2021-02-03T13:53:40.088930  2021-02-03T13:53:40.088930                   0.348701                   0.126607               650.515082                606.457965            74.045737  \n",
                            "3      5899.596     -9478.934      2171.335         12416.45       -3137905.0        12.848840            3363.293        -31.31480         1782.820        -6.262032           -1.916786            0.026997         26.26511         4093.782         12.99755           -4.394314           -0.042897            0.149305             UNKNOWN                        15.85                   15.85                   15.0              15.0                       100.0                  2.36      0.001406  2021-02-03T22:50:06.108962  2021-02-03T22:50:06.108962                   0.348701                   0.126607               650.515635                606.456229            74.045736  \n",
                            "4      5901.675    -10279.960      2171.066         12333.62       -3132807.0        13.707520            3357.822        -31.12955         1745.518        -6.261718           -1.876801            0.026952         26.36951         4087.192         12.99492           -4.387243           -0.042947            0.149296             UNKNOWN                        15.85                   15.85                   15.0              15.0                       100.0                  2.36      0.001406  2021-02-04T06:33:35.099897  2021-02-04T06:33:35.099897                   0.348701                   0.126607               650.519613                606.459678            74.045736  "
                        ],
                        "text/html": [
                            "<div>\n",
                            "<style scoped>\n",
                            "    .dataframe tbody tr th:only-of-type {\n",
                            "        vertical-align: middle;\n",
                            "    }\n",
                            "\n",
                            "    .dataframe tbody tr th {\n",
                            "        vertical-align: top;\n",
                            "    }\n",
                            "\n",
                            "    .dataframe thead th {\n",
                            "        text-align: right;\n",
                            "    }\n",
                            "</style>\n",
                            "<table border=\"1\" class=\"dataframe\">\n",
                            "  <thead>\n",
                            "    <tr style=\"text-align: right;\">\n",
                            "      <th></th>\n",
                            "      <th>event_id</th>\n",
                            "      <th>TCA</th>\n",
                            "      <th>CREATION_DATE</th>\n",
                            "      <th>MISS_DISTANCE</th>\n",
                            "      <th>RELATIVE_SPEED</th>\n",
                            "      <th>RELATIVE_POSITION_R</th>\n",
                            "      <th>RELATIVE_POSITION_T</th>\n",
                            "      <th>RELATIVE_POSITION_N</th>\n",
                            "      <th>RELATIVE_VELOCITY_R</th>\n",
                            "      <th>RELATIVE_VELOCITY_T</th>\n",
                            "      <th>RELATIVE_VELOCITY_N</th>\n",
                            "      <th>COLLISSION_PROBABILITY</th>\n",
                            "      <th>OBJECT1_CR_R</th>\n",
                            "      <th>OBJECT1_CT_R</th>\n",
                            "      <th>OBJECT1_CT_T</th>\n",
                            "      <th>OBJECT1_CN_R</th>\n",
                            "      <th>OBJECT1_CN_T</th>\n",
                            "      <th>OBJECT1_CN_N</th>\n",
                            "      <th>OBJECT1_CRDOT_R</th>\n",
                            "      <th>OBJECT1_CRDOT_T</th>\n",
                            "      <th>OBJECT1_CRDOT_N</th>\n",
                            "      <th>OBJECT1_CRDOT_RDOT</th>\n",
                            "      <th>OBJECT1_CTDOT_R</th>\n",
                            "      <th>OBJECT1_CTDOT_T</th>\n",
                            "      <th>OBJECT1_CTDOT_N</th>\n",
                            "      <th>OBJECT1_CTDOT_RDOT</th>\n",
                            "      <th>OBJECT1_CTDOT_TDOT</th>\n",
                            "      <th>OBJECT1_CNDOT_R</th>\n",
                            "      <th>OBJECT1_CNDOT_T</th>\n",
                            "      <th>OBJECT1_CNDOT_N</th>\n",
                            "      <th>OBJECT1_CNDOT_RDOT</th>\n",
                            "      <th>OBJECT1_CNDOT_TDOT</th>\n",
                            "      <th>OBJECT1_CNDOT_NDOT</th>\n",
                            "      <th>OBJECT1_RECOMMENDED_OD_SPAN</th>\n",
                            "      <th>OBJECT1_ACTUAL_OD_SPAN</th>\n",
                            "      <th>OBJECT1_OBS_AVAILABLE</th>\n",
                            "      <th>OBJECT1_OBS_USED</th>\n",
                            "      <th>OBJECT1_RESIDUALS_ACCEPTED</th>\n",
                            "      <th>OBJECT1_WEIGHTED_RMS</th>\n",
                            "      <th>OBJECT1_SEDR</th>\n",
                            "      <th>OBJECT1_TIME_LASTOB_START</th>\n",
                            "      <th>OBJECT1_TIME_LASTOB_END</th>\n",
                            "      <th>OBJECT1_CD_AREA_OVER_MASS</th>\n",
                            "      <th>OBJECT1_CR_AREA_OVER_MASS</th>\n",
                            "      <th>OBJECT1_APOGEE_ALTITUDE</th>\n",
                            "      <th>OBJECT1_PERIGEE_ALTITUDE</th>\n",
                            "      <th>OBJECT1_INCLINATION</th>\n",
                            "      <th>OBJECT2_CR_R</th>\n",
                            "      <th>OBJECT2_CT_R</th>\n",
                            "      <th>OBJECT2_CT_T</th>\n",
                            "      <th>OBJECT2_CN_R</th>\n",
                            "      <th>OBJECT2_CN_T</th>\n",
                            "      <th>OBJECT2_CN_N</th>\n",
                            "      <th>OBJECT2_CRDOT_R</th>\n",
                            "      <th>OBJECT2_CRDOT_T</th>\n",
                            "      <th>OBJECT2_CRDOT_N</th>\n",
                            "      <th>OBJECT2_CRDOT_RDOT</th>\n",
                            "      <th>OBJECT2_CTDOT_R</th>\n",
                            "      <th>OBJECT2_CTDOT_T</th>\n",
                            "      <th>OBJECT2_CTDOT_N</th>\n",
                            "      <th>OBJECT2_CTDOT_RDOT</th>\n",
                            "      <th>OBJECT2_CTDOT_TDOT</th>\n",
                            "      <th>OBJECT2_CNDOT_R</th>\n",
                            "      <th>OBJECT2_CNDOT_T</th>\n",
                            "      <th>OBJECT2_CNDOT_N</th>\n",
                            "      <th>OBJECT2_CNDOT_RDOT</th>\n",
                            "      <th>OBJECT2_CNDOT_TDOT</th>\n",
                            "      <th>OBJECT2_CNDOT_NDOT</th>\n",
                            "      <th>OBJECT2_OBJECT_TYPE</th>\n",
                            "      <th>OBJECT2_RECOMMENDED_OD_SPAN</th>\n",
                            "      <th>OBJECT2_ACTUAL_OD_SPAN</th>\n",
                            "      <th>OBJECT2_OBS_AVAILABLE</th>\n",
                            "      <th>OBJECT2_OBS_USED</th>\n",
                            "      <th>OBJECT2_RESIDUALS_ACCEPTED</th>\n",
                            "      <th>OBJECT2_WEIGHTED_RMS</th>\n",
                            "      <th>OBJECT2_SEDR</th>\n",
                            "      <th>OBJECT2_TIME_LASTOB_START</th>\n",
                            "      <th>OBJECT2_TIME_LASTOB_END</th>\n",
                            "      <th>OBJECT2_CD_AREA_OVER_MASS</th>\n",
                            "      <th>OBJECT2_CR_AREA_OVER_MASS</th>\n",
                            "      <th>OBJECT2_APOGEE_ALTITUDE</th>\n",
                            "      <th>OBJECT2_PERIGEE_ALTITUDE</th>\n",
                            "      <th>OBJECT2_INCLINATION</th>\n",
                            "    </tr>\n",
                            "  </thead>\n",
                            "  <tbody>\n",
                            "    <tr>\n",
                            "      <th>0</th>\n",
                            "      <td>0</td>\n",
                            "      <td>2021-08-03T12:44:49.550531</td>\n",
                            "      <td>2021-08-01T23:08:38.174940</td>\n",
                            "      <td>14923.0</td>\n",
                            "      <td>13792.0</td>\n",
                            "      <td>453.8</td>\n",
                            "      <td>5976.6</td>\n",
                            "      <td>-13666.8</td>\n",
                            "      <td>-7.2</td>\n",
                            "      <td>-12637.0</td>\n",
                            "      <td>-5525.9</td>\n",
                            "      <td>6.238000e-11</td>\n",
                            "      <td>16.466810</td>\n",
                            "      <td>-222.242200</td>\n",
                            "      <td>18938.4700</td>\n",
                            "      <td>2.112694</td>\n",
                            "      <td>10.002140</td>\n",
                            "      <td>3.173451</td>\n",
                            "      <td>0.235719</td>\n",
                            "      <td>-20.271280</td>\n",
                            "      <td>-0.010106</td>\n",
                            "      <td>0.021712</td>\n",
                            "      <td>-0.016291</td>\n",
                            "      <td>0.120850</td>\n",
                            "      <td>-0.002307</td>\n",
                            "      <td>-0.000127</td>\n",
                            "      <td>0.000017</td>\n",
                            "      <td>0.002069</td>\n",
                            "      <td>-0.000637</td>\n",
                            "      <td>0.002828</td>\n",
                            "      <td>9.316645e-07</td>\n",
                            "      <td>-0.000002</td>\n",
                            "      <td>0.000009</td>\n",
                            "      <td>3.78</td>\n",
                            "      <td>3.78</td>\n",
                            "      <td>459</td>\n",
                            "      <td>458</td>\n",
                            "      <td>98.9</td>\n",
                            "      <td>1.265</td>\n",
                            "      <td>0.000051</td>\n",
                            "      <td>2021-07-31T23:08:38.174940</td>\n",
                            "      <td>2021-07-31T23:08:38.174940</td>\n",
                            "      <td>0.013826</td>\n",
                            "      <td>0.007173</td>\n",
                            "      <td>646.745439</td>\n",
                            "      <td>590.818294</td>\n",
                            "      <td>97.806412</td>\n",
                            "      <td>71140.79</td>\n",
                            "      <td>-11961160.0</td>\n",
                            "      <td>2.955756e+09</td>\n",
                            "      <td>5892.756</td>\n",
                            "      <td>-6527.382</td>\n",
                            "      <td>2172.732</td>\n",
                            "      <td>12825.89</td>\n",
                            "      <td>-3168066.0</td>\n",
                            "      <td>9.684347</td>\n",
                            "      <td>3395.637</td>\n",
                            "      <td>-32.26525</td>\n",
                            "      <td>1974.096</td>\n",
                            "      <td>-6.264112</td>\n",
                            "      <td>-2.121810</td>\n",
                            "      <td>0.027239</td>\n",
                            "      <td>25.75459</td>\n",
                            "      <td>4131.123</td>\n",
                            "      <td>13.00946</td>\n",
                            "      <td>-4.434362</td>\n",
                            "      <td>-0.042638</td>\n",
                            "      <td>0.149353</td>\n",
                            "      <td>UNKNOWN</td>\n",
                            "      <td>15.85</td>\n",
                            "      <td>15.85</td>\n",
                            "      <td>15.0</td>\n",
                            "      <td>15.0</td>\n",
                            "      <td>100.0</td>\n",
                            "      <td>2.36</td>\n",
                            "      <td>0.001406</td>\n",
                            "      <td>2021-02-02T23:08:38.174940</td>\n",
                            "      <td>2021-02-02T23:08:38.174940</td>\n",
                            "      <td>0.348701</td>\n",
                            "      <td>0.126607</td>\n",
                            "      <td>650.497251</td>\n",
                            "      <td>606.443389</td>\n",
                            "      <td>74.045735</td>\n",
                            "    </tr>\n",
                            "    <tr>\n",
                            "      <th>1</th>\n",
                            "      <td>0</td>\n",
                            "      <td>2021-08-03T12:44:49.550531</td>\n",
                            "      <td>2021-08-02T07:46:02.102921</td>\n",
                            "      <td>14544.0</td>\n",
                            "      <td>13792.0</td>\n",
                            "      <td>474.3</td>\n",
                            "      <td>5821.2</td>\n",
                            "      <td>-13319.8</td>\n",
                            "      <td>-7.0</td>\n",
                            "      <td>-12637.0</td>\n",
                            "      <td>-5525.9</td>\n",
                            "      <td>4.408000e-11</td>\n",
                            "      <td>12.438180</td>\n",
                            "      <td>-14.462720</td>\n",
                            "      <td>3143.8580</td>\n",
                            "      <td>1.888744</td>\n",
                            "      <td>6.113387</td>\n",
                            "      <td>3.243452</td>\n",
                            "      <td>0.014658</td>\n",
                            "      <td>-3.339774</td>\n",
                            "      <td>-0.005643</td>\n",
                            "      <td>0.003561</td>\n",
                            "      <td>-0.013159</td>\n",
                            "      <td>-0.006237</td>\n",
                            "      <td>-0.002043</td>\n",
                            "      <td>0.000008</td>\n",
                            "      <td>0.000014</td>\n",
                            "      <td>0.001859</td>\n",
                            "      <td>0.000255</td>\n",
                            "      <td>0.002964</td>\n",
                            "      <td>-9.040335e-07</td>\n",
                            "      <td>-0.000002</td>\n",
                            "      <td>0.000009</td>\n",
                            "      <td>3.79</td>\n",
                            "      <td>3.79</td>\n",
                            "      <td>456</td>\n",
                            "      <td>455</td>\n",
                            "      <td>98.5</td>\n",
                            "      <td>1.270</td>\n",
                            "      <td>0.000060</td>\n",
                            "      <td>2021-08-01T07:46:02.102921</td>\n",
                            "      <td>2021-08-01T07:46:02.102921</td>\n",
                            "      <td>0.013487</td>\n",
                            "      <td>0.009139</td>\n",
                            "      <td>646.743506</td>\n",
                            "      <td>590.823004</td>\n",
                            "      <td>97.806420</td>\n",
                            "      <td>68744.55</td>\n",
                            "      <td>-11602080.0</td>\n",
                            "      <td>2.924870e+09</td>\n",
                            "      <td>5897.834</td>\n",
                            "      <td>-9017.284</td>\n",
                            "      <td>2171.175</td>\n",
                            "      <td>12440.93</td>\n",
                            "      <td>-3134938.0</td>\n",
                            "      <td>12.353930</td>\n",
                            "      <td>3360.105</td>\n",
                            "      <td>-31.40935</td>\n",
                            "      <td>1801.103</td>\n",
                            "      <td>-6.261605</td>\n",
                            "      <td>-1.936377</td>\n",
                            "      <td>0.027022</td>\n",
                            "      <td>26.23543</td>\n",
                            "      <td>4089.899</td>\n",
                            "      <td>12.99737</td>\n",
                            "      <td>-4.390144</td>\n",
                            "      <td>-0.042872</td>\n",
                            "      <td>0.149300</td>\n",
                            "      <td>UNKNOWN</td>\n",
                            "      <td>15.85</td>\n",
                            "      <td>15.85</td>\n",
                            "      <td>15.0</td>\n",
                            "      <td>15.0</td>\n",
                            "      <td>100.0</td>\n",
                            "      <td>2.36</td>\n",
                            "      <td>0.001406</td>\n",
                            "      <td>2021-02-03T07:46:02.102921</td>\n",
                            "      <td>2021-02-03T07:46:02.102921</td>\n",
                            "      <td>0.348701</td>\n",
                            "      <td>0.126607</td>\n",
                            "      <td>650.513314</td>\n",
                            "      <td>606.454793</td>\n",
                            "      <td>74.045736</td>\n",
                            "    </tr>\n",
                            "    <tr>\n",
                            "      <th>2</th>\n",
                            "      <td>0</td>\n",
                            "      <td>2021-08-03T12:44:49.550531</td>\n",
                            "      <td>2021-08-02T13:53:40.088930</td>\n",
                            "      <td>14475.0</td>\n",
                            "      <td>13792.0</td>\n",
                            "      <td>474.6</td>\n",
                            "      <td>5796.2</td>\n",
                            "      <td>-13256.1</td>\n",
                            "      <td>-7.0</td>\n",
                            "      <td>-12637.0</td>\n",
                            "      <td>-5525.9</td>\n",
                            "      <td>4.512000e-11</td>\n",
                            "      <td>11.303290</td>\n",
                            "      <td>-13.770550</td>\n",
                            "      <td>1406.0960</td>\n",
                            "      <td>1.869411</td>\n",
                            "      <td>2.986285</td>\n",
                            "      <td>3.319464</td>\n",
                            "      <td>0.014133</td>\n",
                            "      <td>-1.466564</td>\n",
                            "      <td>-0.002452</td>\n",
                            "      <td>0.001541</td>\n",
                            "      <td>-0.011983</td>\n",
                            "      <td>0.004550</td>\n",
                            "      <td>-0.002010</td>\n",
                            "      <td>-0.000004</td>\n",
                            "      <td>0.000013</td>\n",
                            "      <td>0.001234</td>\n",
                            "      <td>0.002184</td>\n",
                            "      <td>0.003131</td>\n",
                            "      <td>-2.763477e-06</td>\n",
                            "      <td>-0.000001</td>\n",
                            "      <td>0.000009</td>\n",
                            "      <td>3.79</td>\n",
                            "      <td>3.80</td>\n",
                            "      <td>456</td>\n",
                            "      <td>455</td>\n",
                            "      <td>98.5</td>\n",
                            "      <td>1.257</td>\n",
                            "      <td>0.000060</td>\n",
                            "      <td>2021-08-01T13:53:40.088930</td>\n",
                            "      <td>2021-08-01T13:53:40.088930</td>\n",
                            "      <td>0.013357</td>\n",
                            "      <td>0.007057</td>\n",
                            "      <td>646.745607</td>\n",
                            "      <td>590.821499</td>\n",
                            "      <td>97.806418</td>\n",
                            "      <td>68469.38</td>\n",
                            "      <td>-11555830.0</td>\n",
                            "      <td>2.918959e+09</td>\n",
                            "      <td>5898.712</td>\n",
                            "      <td>-9418.883</td>\n",
                            "      <td>2170.885</td>\n",
                            "      <td>12391.31</td>\n",
                            "      <td>-3128591.0</td>\n",
                            "      <td>12.784440</td>\n",
                            "      <td>3353.290</td>\n",
                            "      <td>-31.35453</td>\n",
                            "      <td>1790.982</td>\n",
                            "      <td>-6.261342</td>\n",
                            "      <td>-1.925522</td>\n",
                            "      <td>0.027012</td>\n",
                            "      <td>26.29610</td>\n",
                            "      <td>4082.309</td>\n",
                            "      <td>12.99521</td>\n",
                            "      <td>-4.381993</td>\n",
                            "      <td>-0.042886</td>\n",
                            "      <td>0.149290</td>\n",
                            "      <td>UNKNOWN</td>\n",
                            "      <td>15.85</td>\n",
                            "      <td>15.85</td>\n",
                            "      <td>15.0</td>\n",
                            "      <td>15.0</td>\n",
                            "      <td>100.0</td>\n",
                            "      <td>2.36</td>\n",
                            "      <td>0.001406</td>\n",
                            "      <td>2021-02-03T13:53:40.088930</td>\n",
                            "      <td>2021-02-03T13:53:40.088930</td>\n",
                            "      <td>0.348701</td>\n",
                            "      <td>0.126607</td>\n",
                            "      <td>650.515082</td>\n",
                            "      <td>606.457965</td>\n",
                            "      <td>74.045737</td>\n",
                            "    </tr>\n",
                            "    <tr>\n",
                            "      <th>3</th>\n",
                            "      <td>0</td>\n",
                            "      <td>2021-08-03T12:44:49.550531</td>\n",
                            "      <td>2021-08-02T22:50:06.108962</td>\n",
                            "      <td>14579.0</td>\n",
                            "      <td>13792.0</td>\n",
                            "      <td>472.7</td>\n",
                            "      <td>5838.9</td>\n",
                            "      <td>-13350.7</td>\n",
                            "      <td>-7.0</td>\n",
                            "      <td>-12637.0</td>\n",
                            "      <td>-5525.9</td>\n",
                            "      <td>4.594000e-11</td>\n",
                            "      <td>9.460428</td>\n",
                            "      <td>1.476252</td>\n",
                            "      <td>494.3005</td>\n",
                            "      <td>2.380359</td>\n",
                            "      <td>6.398545</td>\n",
                            "      <td>3.337079</td>\n",
                            "      <td>-0.002177</td>\n",
                            "      <td>-0.486124</td>\n",
                            "      <td>-0.006046</td>\n",
                            "      <td>0.000487</td>\n",
                            "      <td>-0.010132</td>\n",
                            "      <td>-0.004355</td>\n",
                            "      <td>-0.002573</td>\n",
                            "      <td>0.000005</td>\n",
                            "      <td>0.000011</td>\n",
                            "      <td>0.002047</td>\n",
                            "      <td>0.002541</td>\n",
                            "      <td>0.002919</td>\n",
                            "      <td>-3.218169e-06</td>\n",
                            "      <td>-0.000002</td>\n",
                            "      <td>0.000009</td>\n",
                            "      <td>3.86</td>\n",
                            "      <td>3.86</td>\n",
                            "      <td>443</td>\n",
                            "      <td>442</td>\n",
                            "      <td>98.4</td>\n",
                            "      <td>1.254</td>\n",
                            "      <td>0.000065</td>\n",
                            "      <td>2021-08-01T22:50:06.108962</td>\n",
                            "      <td>2021-08-01T22:50:06.108962</td>\n",
                            "      <td>0.013490</td>\n",
                            "      <td>0.005480</td>\n",
                            "      <td>646.747747</td>\n",
                            "      <td>590.818806</td>\n",
                            "      <td>97.806423</td>\n",
                            "      <td>68518.15</td>\n",
                            "      <td>-11579220.0</td>\n",
                            "      <td>2.927633e+09</td>\n",
                            "      <td>5899.596</td>\n",
                            "      <td>-9478.934</td>\n",
                            "      <td>2171.335</td>\n",
                            "      <td>12416.45</td>\n",
                            "      <td>-3137905.0</td>\n",
                            "      <td>12.848840</td>\n",
                            "      <td>3363.293</td>\n",
                            "      <td>-31.31480</td>\n",
                            "      <td>1782.820</td>\n",
                            "      <td>-6.262032</td>\n",
                            "      <td>-1.916786</td>\n",
                            "      <td>0.026997</td>\n",
                            "      <td>26.26511</td>\n",
                            "      <td>4093.782</td>\n",
                            "      <td>12.99755</td>\n",
                            "      <td>-4.394314</td>\n",
                            "      <td>-0.042897</td>\n",
                            "      <td>0.149305</td>\n",
                            "      <td>UNKNOWN</td>\n",
                            "      <td>15.85</td>\n",
                            "      <td>15.85</td>\n",
                            "      <td>15.0</td>\n",
                            "      <td>15.0</td>\n",
                            "      <td>100.0</td>\n",
                            "      <td>2.36</td>\n",
                            "      <td>0.001406</td>\n",
                            "      <td>2021-02-03T22:50:06.108962</td>\n",
                            "      <td>2021-02-03T22:50:06.108962</td>\n",
                            "      <td>0.348701</td>\n",
                            "      <td>0.126607</td>\n",
                            "      <td>650.515635</td>\n",
                            "      <td>606.456229</td>\n",
                            "      <td>74.045736</td>\n",
                            "    </tr>\n",
                            "    <tr>\n",
                            "      <th>4</th>\n",
                            "      <td>0</td>\n",
                            "      <td>2021-08-03T12:44:49.550531</td>\n",
                            "      <td>2021-08-03T06:33:35.099897</td>\n",
                            "      <td>14510.0</td>\n",
                            "      <td>13792.0</td>\n",
                            "      <td>478.7</td>\n",
                            "      <td>5811.1</td>\n",
                            "      <td>-13288.0</td>\n",
                            "      <td>-7.0</td>\n",
                            "      <td>-12637.0</td>\n",
                            "      <td>-5525.9</td>\n",
                            "      <td>4.062000e-11</td>\n",
                            "      <td>11.506860</td>\n",
                            "      <td>22.836610</td>\n",
                            "      <td>259.5581</td>\n",
                            "      <td>2.697022</td>\n",
                            "      <td>7.789963</td>\n",
                            "      <td>3.834921</td>\n",
                            "      <td>-0.023793</td>\n",
                            "      <td>-0.238784</td>\n",
                            "      <td>-0.007174</td>\n",
                            "      <td>0.000227</td>\n",
                            "      <td>-0.012445</td>\n",
                            "      <td>-0.025475</td>\n",
                            "      <td>-0.002916</td>\n",
                            "      <td>0.000027</td>\n",
                            "      <td>0.000013</td>\n",
                            "      <td>0.002441</td>\n",
                            "      <td>0.006156</td>\n",
                            "      <td>0.003427</td>\n",
                            "      <td>-6.967915e-06</td>\n",
                            "      <td>-0.000003</td>\n",
                            "      <td>0.000010</td>\n",
                            "      <td>3.86</td>\n",
                            "      <td>3.86</td>\n",
                            "      <td>440</td>\n",
                            "      <td>439</td>\n",
                            "      <td>98.8</td>\n",
                            "      <td>1.340</td>\n",
                            "      <td>0.000068</td>\n",
                            "      <td>2021-08-02T06:33:35.099897</td>\n",
                            "      <td>2021-08-02T06:33:35.099897</td>\n",
                            "      <td>0.013906</td>\n",
                            "      <td>0.007339</td>\n",
                            "      <td>646.745868</td>\n",
                            "      <td>590.821024</td>\n",
                            "      <td>97.806426</td>\n",
                            "      <td>67978.79</td>\n",
                            "      <td>-11501960.0</td>\n",
                            "      <td>2.922881e+09</td>\n",
                            "      <td>5901.675</td>\n",
                            "      <td>-10279.960</td>\n",
                            "      <td>2171.066</td>\n",
                            "      <td>12333.62</td>\n",
                            "      <td>-3132807.0</td>\n",
                            "      <td>13.707520</td>\n",
                            "      <td>3357.822</td>\n",
                            "      <td>-31.12955</td>\n",
                            "      <td>1745.518</td>\n",
                            "      <td>-6.261718</td>\n",
                            "      <td>-1.876801</td>\n",
                            "      <td>0.026952</td>\n",
                            "      <td>26.36951</td>\n",
                            "      <td>4087.192</td>\n",
                            "      <td>12.99492</td>\n",
                            "      <td>-4.387243</td>\n",
                            "      <td>-0.042947</td>\n",
                            "      <td>0.149296</td>\n",
                            "      <td>UNKNOWN</td>\n",
                            "      <td>15.85</td>\n",
                            "      <td>15.85</td>\n",
                            "      <td>15.0</td>\n",
                            "      <td>15.0</td>\n",
                            "      <td>100.0</td>\n",
                            "      <td>2.36</td>\n",
                            "      <td>0.001406</td>\n",
                            "      <td>2021-02-04T06:33:35.099897</td>\n",
                            "      <td>2021-02-04T06:33:35.099897</td>\n",
                            "      <td>0.348701</td>\n",
                            "      <td>0.126607</td>\n",
                            "      <td>650.519613</td>\n",
                            "      <td>606.459678</td>\n",
                            "      <td>74.045736</td>\n",
                            "    </tr>\n",
                            "  </tbody>\n",
                            "</table>\n",
                            "</div>"
                        ]
                    },
                    "metadata": {},
                    "execution_count": 6
                }
            ],
            "metadata": {}
        },
        {
            "cell_type": "code",
            "execution_count": 7,
            "source": [
                "cdm.shape"
            ],
            "outputs": [
                {
                    "output_type": "execute_result",
                    "data": {
                        "text/plain": [
                            "(162634, 83)"
                        ]
                    },
                    "metadata": {},
                    "execution_count": 7
                }
            ],
            "metadata": {}
        },
        {
            "cell_type": "code",
            "execution_count": 8,
            "source": [
                "#Delete nulls\n",
                "cdm.dropna(subset = [\"OBJECT2_TIME_LASTOB_START\"], inplace=True)"
            ],
            "outputs": [],
            "metadata": {}
        },
        {
            "cell_type": "code",
            "execution_count": 9,
            "source": [
                "cdm.shape"
            ],
            "outputs": [
                {
                    "output_type": "execute_result",
                    "data": {
                        "text/plain": [
                            "(162623, 83)"
                        ]
                    },
                    "metadata": {},
                    "execution_count": 9
                }
            ],
            "metadata": {}
        },
        {
            "cell_type": "code",
            "execution_count": 15,
            "source": [
                "cdm.OBJECT1_TIME_LASTOB_START.value_counts()"
            ],
            "outputs": [
                {
                    "output_type": "execute_result",
                    "data": {
                        "text/plain": [
                            "2021-07-27T13:31:46.617900    2\n",
                            "2021-07-31T08:28:24.145922    2\n",
                            "2021-07-30T13:43:03.674911    2\n",
                            "2021-07-27T06:12:21.370966    2\n",
                            "2021-08-01T13:18:15.250966    2\n",
                            "                             ..\n",
                            "2021-08-02T01:18:42.493922    1\n",
                            "2021-07-28T21:30:43.420937    1\n",
                            "2021-07-28T00:05:12.689935    1\n",
                            "2021-07-29T04:41:59.366959    1\n",
                            "2021-08-02T06:30:30.589932    1\n",
                            "Name: OBJECT1_TIME_LASTOB_START, Length: 162458, dtype: int64"
                        ]
                    },
                    "metadata": {},
                    "execution_count": 15
                }
            ],
            "metadata": {}
        },
        {
            "cell_type": "code",
            "execution_count": 16,
            "source": [
                "cdm=convertTimestringToTimedate(cdm)"
            ],
            "outputs": [],
            "metadata": {}
        },
        {
            "cell_type": "code",
            "execution_count": 17,
            "source": [
                "cdm=convertTimedateToDaysRange(cdm)"
            ],
            "outputs": [],
            "metadata": {}
        },
        {
            "cell_type": "code",
            "execution_count": 23,
            "source": [
                "cdm.OBJECT1_TIME_LASTOB_START.value_counts()"
            ],
            "outputs": [
                {
                    "output_type": "execute_result",
                    "data": {
                        "text/plain": [
                            "1.0      162495\n",
                            "2.0         103\n",
                            "180.0        25\n",
                            "Name: OBJECT1_TIME_LASTOB_START, dtype: int64"
                        ]
                    },
                    "metadata": {},
                    "execution_count": 23
                }
            ],
            "metadata": {}
        },
        {
            "cell_type": "code",
            "execution_count": 28,
            "source": [
                "df.t_time_lastob_start.value_counts()"
            ],
            "outputs": [
                {
                    "output_type": "execute_result",
                    "data": {
                        "text/plain": [
                            "1.0      162506\n",
                            "2.0         103\n",
                            "180.0        25\n",
                            "Name: t_time_lastob_start, dtype: int64"
                        ]
                    },
                    "metadata": {},
                    "execution_count": 28
                }
            ],
            "metadata": {}
        },
        {
            "cell_type": "code",
            "execution_count": 32,
            "source": [
                "cdm.OBJECT1_TIME_LASTOB_END.value_counts()"
            ],
            "outputs": [
                {
                    "output_type": "execute_result",
                    "data": {
                        "text/plain": [
                            "1.0      162495\n",
                            "2.0         103\n",
                            "180.0        25\n",
                            "Name: OBJECT1_TIME_LASTOB_END, dtype: int64"
                        ]
                    },
                    "metadata": {},
                    "execution_count": 32
                }
            ],
            "metadata": {}
        },
        {
            "cell_type": "code",
            "execution_count": 33,
            "source": [
                "df.t_time_lastob_end.value_counts()"
            ],
            "outputs": [
                {
                    "output_type": "execute_result",
                    "data": {
                        "text/plain": [
                            "0.0    162506\n",
                            "1.0       103\n",
                            "2.0        25\n",
                            "Name: t_time_lastob_end, dtype: int64"
                        ]
                    },
                    "metadata": {},
                    "execution_count": 33
                }
            ],
            "metadata": {}
        },
        {
            "cell_type": "code",
            "execution_count": 34,
            "source": [
                "cdm.OBJECT2_TIME_LASTOB_START.value_counts()"
            ],
            "outputs": [
                {
                    "output_type": "execute_result",
                    "data": {
                        "text/plain": [
                            "1.0      102159\n",
                            "180.0     35429\n",
                            "2.0       25035\n",
                            "Name: OBJECT2_TIME_LASTOB_START, dtype: int64"
                        ]
                    },
                    "metadata": {},
                    "execution_count": 34
                }
            ],
            "metadata": {}
        },
        {
            "cell_type": "code",
            "execution_count": 35,
            "source": [
                "df.c_time_lastob_start.value_counts()"
            ],
            "outputs": [
                {
                    "output_type": "execute_result",
                    "data": {
                        "text/plain": [
                            "1.0      102159\n",
                            "180.0     35429\n",
                            "2.0       25035\n",
                            "Name: c_time_lastob_start, dtype: int64"
                        ]
                    },
                    "metadata": {},
                    "execution_count": 35
                }
            ],
            "metadata": {}
        },
        {
            "cell_type": "code",
            "execution_count": 36,
            "source": [
                "cdm.OBJECT2_TIME_LASTOB_END.value_counts()"
            ],
            "outputs": [
                {
                    "output_type": "execute_result",
                    "data": {
                        "text/plain": [
                            "1.0      102159\n",
                            "180.0     35429\n",
                            "2.0       25035\n",
                            "Name: OBJECT2_TIME_LASTOB_END, dtype: int64"
                        ]
                    },
                    "metadata": {},
                    "execution_count": 36
                }
            ],
            "metadata": {}
        },
        {
            "cell_type": "code",
            "execution_count": 27,
            "source": [
                "df.c_time_lastob_end.value_counts()"
            ],
            "outputs": [
                {
                    "output_type": "execute_result",
                    "data": {
                        "text/plain": [
                            "0.0    162506\n",
                            "1.0       103\n",
                            "2.0        25\n",
                            "Name: t_time_lastob_end, dtype: int64"
                        ]
                    },
                    "metadata": {},
                    "execution_count": 27
                }
            ],
            "metadata": {}
        },
        {
            "cell_type": "code",
            "execution_count": null,
            "source": [
                "cdm=convertPCto10logaritmicscale(cdm)"
            ],
            "outputs": [],
            "metadata": {}
        },
        {
            "cell_type": "code",
            "execution_count": null,
            "source": [
                "cdm.head()"
            ],
            "outputs": [],
            "metadata": {}
        },
        {
            "cell_type": "code",
            "execution_count": null,
            "source": [
                "cdm.shape"
            ],
            "outputs": [],
            "metadata": {}
        },
        {
            "cell_type": "code",
            "execution_count": null,
            "source": [
                "cdm.dropna(inplace=True)"
            ],
            "outputs": [],
            "metadata": {}
        },
        {
            "cell_type": "code",
            "execution_count": null,
            "source": [
                "cdm.shape"
            ],
            "outputs": [],
            "metadata": {}
        },
        {
            "cell_type": "code",
            "execution_count": null,
            "source": [
                "numeric_cols=cdm.select_dtypes(exclude='number')\n",
                "cdm.drop(numeric_cols, axis=1, inplace=True)"
            ],
            "outputs": [],
            "metadata": {}
        },
        {
            "cell_type": "code",
            "execution_count": null,
            "source": [
                "cdm.shape"
            ],
            "outputs": [],
            "metadata": {}
        },
        {
            "cell_type": "code",
            "execution_count": null,
            "source": [
                "#cdm.isna().sum()"
            ],
            "outputs": [],
            "metadata": {}
        },
        {
            "cell_type": "code",
            "execution_count": null,
            "source": [
                "cdm=addCorrelationColumns(cdm)\n",
                "cdm.head()"
            ],
            "outputs": [],
            "metadata": {}
        },
        {
            "cell_type": "code",
            "execution_count": null,
            "source": [
                "cdm.iloc[0,9]"
            ],
            "outputs": [],
            "metadata": {}
        },
        {
            "cell_type": "code",
            "execution_count": null,
            "source": [
                "data=CreateSingleRowEventDataFrame(cdm,100,20)"
            ],
            "outputs": [],
            "metadata": {}
        },
        {
            "cell_type": "code",
            "execution_count": null,
            "source": [
                "data.shape"
            ],
            "outputs": [],
            "metadata": {}
        },
        {
            "cell_type": "code",
            "execution_count": null,
            "source": [
                "#print(data.isna().sum().to_list())"
            ],
            "outputs": [],
            "metadata": {}
        },
        {
            "cell_type": "code",
            "execution_count": null,
            "source": [
                "##new_df=cdm.select_dtypes(include=np.number)"
            ],
            "outputs": [],
            "metadata": {}
        },
        {
            "cell_type": "code",
            "execution_count": null,
            "source": [
                "#import math\n",
                "#import numpy as np\n",
                "#import pandas as pd\n",
                "#import matplotlib.pyplot as plt\n",
                "#%matplotlib inline\n",
                "#import seaborn as sns\n",
                "#from scipy.stats import norm\n",
                "import lightgbm as lgb\n",
                "from sklearn.model_selection import train_test_split\n",
                "from sklearn.metrics import mean_squared_log_error\n",
                "from sklearn import preprocessing\n",
                "from sklearn.preprocessing import StandardScaler, PolynomialFeatures\n",
                "from sklearn.model_selection import cross_val_score, cross_val_predict\n",
                "from sklearn.impute import SimpleImputer\n",
                "#import os\n",
                "#print(os.listdir(\"../input\"))\n"
            ],
            "outputs": [],
            "metadata": {}
        },
        {
            "cell_type": "code",
            "execution_count": null,
            "source": [
                "#numeric_cols = data.select_dtypes(exclude='number')\n",
                "#data.drop(numeric_cols, axis=1, inplace=True)"
            ],
            "outputs": [],
            "metadata": {}
        },
        {
            "cell_type": "code",
            "execution_count": null,
            "source": [
                "data.shape"
            ],
            "outputs": [],
            "metadata": {}
        },
        {
            "cell_type": "code",
            "execution_count": null,
            "source": [
                "data.head()"
            ],
            "outputs": [],
            "metadata": {}
        },
        {
            "cell_type": "code",
            "execution_count": null,
            "source": [
                "train, test = train_test_split(data, test_size=0.20, random_state=42)"
            ],
            "outputs": [],
            "metadata": {}
        },
        {
            "cell_type": "code",
            "execution_count": null,
            "source": [
                "train.shape"
            ],
            "outputs": [],
            "metadata": {}
        },
        {
            "cell_type": "code",
            "execution_count": null,
            "source": [
                "test.shape"
            ],
            "outputs": [],
            "metadata": {}
        },
        {
            "cell_type": "code",
            "execution_count": null,
            "source": [
                "train.COLLISSION_PROBABILITY_TARGET"
            ],
            "outputs": [],
            "metadata": {}
        },
        {
            "cell_type": "code",
            "execution_count": null,
            "source": [
                "Y_train = train[\"COLLISSION_PROBABILITY_TARGET\"]\n",
                "X_train= train.drop([\"COLLISSION_PROBABILITY_TARGET\"], axis=1)"
            ],
            "outputs": [],
            "metadata": {}
        },
        {
            "cell_type": "code",
            "execution_count": null,
            "source": [
                "Y_test = test[\"COLLISSION_PROBABILITY_TARGET\"]\n",
                "X_test= test.drop([\"COLLISSION_PROBABILITY_TARGET\"], axis=1)"
            ],
            "outputs": [],
            "metadata": {}
        },
        {
            "cell_type": "code",
            "execution_count": null,
            "source": [
                "hyper_params = {\n",
                "    'task': 'train',\n",
                "    'boosting_type': 'gbdt',\n",
                "    'objective': 'regression',\n",
                "    'metric': ['l2', 'auc'],\n",
                "    'learning_rate': 0.005,\n",
                "    'feature_fraction': 0.9,\n",
                "    'bagging_fraction': 0.7,\n",
                "    'bagging_freq': 10,\n",
                "    'verbose': 0,\n",
                "    \"max_depth\": 8,\n",
                "    \"num_leaves\": 128,  \n",
                "    \"max_bin\": 512,\n",
                "    \"num_iterations\": 100000,\n",
                "    \"n_estimators\": 1000\n",
                "}"
            ],
            "outputs": [],
            "metadata": {}
        },
        {
            "cell_type": "code",
            "execution_count": null,
            "source": [
                "gbm = lgb.LGBMRegressor(**hyper_params)"
            ],
            "outputs": [],
            "metadata": {}
        },
        {
            "cell_type": "code",
            "execution_count": null,
            "source": [
                "gbm.fit(X_train, Y_train,\n",
                "        eval_set=[(X_test, Y_test)],\n",
                "        eval_metric='l1',\n",
                "        early_stopping_rounds=1000)\n"
            ],
            "outputs": [],
            "metadata": {}
        },
        {
            "cell_type": "code",
            "execution_count": null,
            "source": [
                "Y_pred = gbm.predict(X_train, num_iteration=gbm.best_iteration_)"
            ],
            "outputs": [],
            "metadata": {}
        },
        {
            "cell_type": "code",
            "execution_count": null,
            "source": [
                "type(Y_pred)"
            ],
            "outputs": [],
            "metadata": {}
        },
        {
            "cell_type": "code",
            "execution_count": null,
            "source": [
                "print('The rmse of prediction is:', round(mean_squared_log_error(-Y_pred, -Y_train) ** 0.5, 5))"
            ],
            "outputs": [],
            "metadata": {}
        }
    ],
    "metadata": {
        "orig_nbformat": 4,
        "language_info": {
            "name": "python",
            "version": "3.7.6",
            "mimetype": "text/x-python",
            "codemirror_mode": {
                "name": "ipython",
                "version": 3
            },
            "pygments_lexer": "ipython3",
            "nbconvert_exporter": "python",
            "file_extension": ".py"
        },
        "kernelspec": {
            "name": "python3",
            "display_name": "Python 3.7.6 64-bit ('base': conda)"
        },
        "interpreter": {
            "hash": "2e85db0d6cccfdde710fbbd04098e00f256a22b321d8c0df509f8fabaad6d9ac"
        }
    },
    "nbformat": 4,
    "nbformat_minor": 2
}